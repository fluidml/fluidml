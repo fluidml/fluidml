{
 "cells": [
  {
   "cell_type": "markdown",
   "metadata": {
    "pycharm": {
     "name": "#%% md\n"
    }
   },
   "source": [
    "<img src=\"https://raw.githubusercontent.com/fluidml/fluidml/main/logo/fluid_ml_logo.png\" width=\"400px\"/>"
   ]
  },
  {
   "cell_type": "markdown",
   "metadata": {
    "pycharm": {
     "name": "#%% md\n"
    }
   },
   "source": [
    "# **Text Classification using FluidML and Sklearn**\n",
    "In this notebook, we'll go over some basics of FluidML and implement a complete ML pipeline that performs text classification.\n",
    "Like any other ML pipeline, this usually consists of several tasks:\n",
    "- **Dataset fetching** - Downloads and parses the dataset for text classification\n",
    "- **Dataset pre-processing** - Pre-processes the raw dataset\n",
    "- **Featurization** - Converts the raw sentences to numerical vectors\n",
    "- **Training a classifier** - Trains a logistic regression model\n",
    "- **Evaluation of classifier** - Evaluates the trained model on train/test splits\n",
    "\n",
    "With FluidML, all of these steps are naturally implemented as individual tasks which register their dependencies and are chained together to a task graph. This graph is then executed in parallel by FluidML and all results are returned at the end."
   ]
  },
  {
   "cell_type": "markdown",
   "metadata": {
    "pycharm": {
     "name": "#%% md\n"
    }
   },
   "source": [
    "## **Setup**\n",
    "\n",
    "To run this example, make sure to install FluidML with the additional example requirements."
   ]
  },
  {
   "cell_type": "code",
   "execution_count": null,
   "metadata": {
    "pycharm": {
     "name": "#%%\n"
    }
   },
   "outputs": [],
   "source": [
    "!pip install fluidml[examples]"
   ]
  },
  {
   "cell_type": "markdown",
   "metadata": {
    "pycharm": {
     "name": "#%% md\n"
    }
   },
   "source": [
    "**Note 1**: Due to the limitation of multiprocessing and jupyter, we have to import our defined tasks and some helper classes from a separate script. Hence, our task definitions are located in `sklearn_text_classification.py`, which not only implements the tasks but also the entire functionality of this example. So the interested reader can also go ahead and execute the just mentioned script. In order to still make this notebook self-explanatory, we provide Markdown code snippets of the individual task implementations at the place where we would have defined the task."
   ]
  },
  {
   "cell_type": "code",
   "execution_count": 1,
   "metadata": {
    "collapsed": false,
    "jupyter": {
     "outputs_hidden": false
    },
    "pycharm": {
     "name": "#%%\n"
    }
   },
   "outputs": [],
   "source": [
    "from fluidml import Task, Flow, TaskSpec\n",
    "\n",
    "from sklearn_text_classification import DatasetFetchTask, PreProcessTask, TFIDFFeaturizeTask, GloveFeaturizeTask, TrainTask, EvaluateTask, ModelSelectionTask\n",
    "from rich import print"
   ]
  },
  {
   "cell_type": "markdown",
   "metadata": {
    "pycharm": {
     "name": "#%% md\n"
    }
   },
   "source": [
    "**Note 2**: If you want to use FluidML's logging capability, please configure a logger using Python's `logging` API. For convenience, we provide a simple utility function which configures a visually appealing logger (using a specific handler from the `rich` library)."
   ]
  },
  {
   "cell_type": "code",
   "execution_count": 2,
   "metadata": {
    "collapsed": false,
    "jupyter": {
     "outputs_hidden": false
    },
    "pycharm": {
     "name": "#%%\n"
    }
   },
   "outputs": [],
   "source": [
    "from fluidml.logging import configure_logging\n",
    "configure_logging(level='INFO')"
   ]
  },
  {
   "cell_type": "markdown",
   "metadata": {
    "pycharm": {
     "name": "#%% md\n"
    }
   },
   "source": [
    "## **Task Definitions**"
   ]
  },
  {
   "cell_type": "markdown",
   "metadata": {
    "pycharm": {
     "name": "#%% md\n"
    }
   },
   "source": [
    "### **1. Dataset Fetching**\n",
    "\n",
    "Let's use HuggingFace's [datasets](https://huggingface.co/datasets) repository to quick get access to a text classification dataset. Specifically, we will use [TREC](https://huggingface.co/datasets/trec) which is a question classification dataset containing ~ 5k labeled questions in training set and ~500 questions in test set. The dataset contains two types of labels: fine and coarse. For simplicity, let's go ahead with coarse, with unique 6 labels.\n",
    "\n",
    "We can implement this dataset collection as a separate task on its own by inheriting from FluidML's Task class. It just has to implement a run() method and publish its results. \n",
    "For simplicity, we can implement this task to publish a nested dictionary. On the outer level, we have different splits and in each split, we will have list of sentences and labels.\n",
    "\n",
    "**Note:** This task publishes a 'raw dataset' as specified in `self.save(dataset_splits, \"raw_dataset\")`. Only the items saved in such a manner can be passed to the downstream tasks.\n",
    "\n",
    "Here is the complete implementation of DatasetFetchTask:\n",
    "\n",
    "\n",
    "```python\n",
    "from datasets import load_dataset\n",
    "\n",
    "\n",
    "class DatasetFetchTask(Task):\n",
    "    def __init__(self):\n",
    "        super().__init__()\n",
    "\n",
    "    @staticmethod\n",
    "    def _get_split(dataset, split):\n",
    "        if split == \"test\":\n",
    "            return dataset[split]\n",
    "        elif split in [\"train\", \"val\"]:\n",
    "            splitted = list(dataset[\"train\"])\n",
    "            split_index = int(0.7 * len(splitted))\n",
    "            return splitted[:split_index] if split == \"train\" else splitted[split_index:]\n",
    "\n",
    "    @staticmethod\n",
    "    def _get_sentences_and_labels(dataset) -> Tuple[List[str], List[str]]:\n",
    "        sentences = []\n",
    "        labels = []\n",
    "        for item in dataset:\n",
    "            sentences.append(item[\"text\"])\n",
    "            label = item[\"coarse_label\"] if \"coarse_label\" in item else item[\"label-coarse\"]\n",
    "            labels.append(label)\n",
    "        return sentences, labels\n",
    "\n",
    "    def run(self):\n",
    "        dataset = load_dataset(\"trec\")\n",
    "        splits = [\"train\", \"val\", \"test\"]\n",
    "        dataset_splits = {}\n",
    "        for split in splits:\n",
    "            dataset_split = DatasetFetchTask._get_split(dataset, split)\n",
    "            sentences, labels = DatasetFetchTask._get_sentences_and_labels(dataset_split)\n",
    "            split_results = {\"sentences\": sentences, \"labels\": labels}\n",
    "            dataset_splits[split] = split_results\n",
    "        self.save(dataset_splits, \"raw_dataset\")\n",
    "\n",
    "```"
   ]
  },
  {
   "cell_type": "markdown",
   "metadata": {
    "pycharm": {
     "name": "#%% md\n"
    }
   },
   "source": [
    "### **2. Dataset Pre-processing:**\n",
    "Now that we have our raw datasets prepared, next, we can apply some pre-processing to clean them up a bit, such as *removing punctuations*, *removing digits* and *making lower case* etc. \n",
    "We will implement this logic into a PreProcessTask. Additionally, this task takes a list of pre-processing steps as parameters.\n",
    "\n",
    "**Note**, this task assumes that the raw dataset is available to it as arguments of run() method. This will be automatically passed by FluidML. \n",
    "Later, when we create the PreProcess Task, we just have to connect the DatasetFetchTask as a predecessor. More on this later, when we model the flow/pipeline.\n",
    "\n",
    "Therefore, PreProcessTask just has to implement its own logic and save the pre-processed sentences. In this way, we can implement the tasks individually (**separation of concerns**)\n",
    "\n",
    "Here is the complete implementation of PreProcessTask:\n",
    "\n",
    "```python\n",
    "import string\n",
    "import re\n",
    "\n",
    "\n",
    "class PreProcessTask(Task):\n",
    "    def __init__(self, pre_processing_steps: List[str]):\n",
    "        super().__init__()\n",
    "        self._pre_processing_steps = pre_processing_steps\n",
    "\n",
    "    def _pre_process(self, text: Dict) -> str:\n",
    "        pre_processed_text = text\n",
    "        for step in self._pre_processing_steps:\n",
    "            if step == \"lower_case\":\n",
    "                pre_processed_text = pre_processed_text.lower()\n",
    "            if step == \"remove_punct\":\n",
    "                pre_processed_text = pre_processed_text.translate(str.maketrans(\"\", \"\", string.punctuation))\n",
    "            if step == \"remove_digits\":\n",
    "                pre_processed_text = re.sub(r\"\\d+\", \"<num>\", pre_processed_text)\n",
    "        return pre_processed_text\n",
    "\n",
    "    def run(self, raw_dataset: Dict):\n",
    "        pre_processed_splits = {}\n",
    "        for split in [\"train\", \"val\", \"test\"]:\n",
    "            pre_processed_sentences = [self._pre_process(sentence) for sentence in raw_dataset[split][\"sentences\"]]\n",
    "            pre_processed_splits[split] = {\"sentences\": pre_processed_sentences}\n",
    "        self.save(pre_processed_splits, \"pre_processed_dataset\")\n",
    "```"
   ]
  },
  {
   "cell_type": "markdown",
   "metadata": {
    "pycharm": {
     "name": "#%% md\n"
    }
   },
   "source": [
    "### **3. Featurization:**\n",
    "\n",
    "Our datasets are prepared and sentences are pre-processed, so now we can convert these to numerical vectors which can be then fed to classifiers. To this end, we would like to implement two featurizers, namely a TFIDF featurizer and a glove featurizer. They can be implemented as two independent tasks which take preprocessed sentences and save vectorized sentences.\n",
    "\n",
    "You may have guessed the pattern already, this task expects pre_processed dataset, which was produced by PreProcessTask. \n",
    "\n",
    "```python\n",
    "from sklearn.feature_extraction.text import TfidfVectorizer\n",
    "from flair.data import Sentence\n",
    "from flair.embeddings import WordEmbeddings, DocumentPoolEmbeddings\n",
    "\n",
    "class TFIDFFeaturizeTask(Task):\n",
    "    def __init__(self, min_df: int, max_features: int):\n",
    "        super().__init__()\n",
    "        self._min_df = min_df\n",
    "        self._max_features = max_features\n",
    "\n",
    "    def run(self, pre_processed_dataset: Dict):\n",
    "        tfidf_model = TfidfVectorizer(min_df=self._min_df, max_features=self._max_features)\n",
    "        tfidf_model.fit(pre_processed_dataset[\"train\"][\"sentences\"])\n",
    "        featurized_splits = {}\n",
    "        for split in [\"train\", \"val\", \"test\"]:\n",
    "            tfidf_vectors = tfidf_model.transform(pre_processed_dataset[split][\"sentences\"]).toarray()\n",
    "            featurized_splits[split] = {\"vectors\": tfidf_vectors}\n",
    "        self.save(featurized_splits, \"tfidf_featurized_dataset\")\n",
    "\n",
    "\n",
    "class GloveFeaturizeTask(Task):\n",
    "    def __init__(self):\n",
    "        super().__init__()\n",
    "\n",
    "    def run(self, pre_processed_dataset: Dict):\n",
    "        featurized_splits = {}\n",
    "        for split in [\"train\", \"val\", \"test\"]:\n",
    "            sentences = [Sentence(sent) for sent in pre_processed_dataset[split][\"sentences\"]]\n",
    "            embedder = DocumentPoolEmbeddings([WordEmbeddings(\"glove\")])\n",
    "            embedder.embed(sentences)\n",
    "            glove_vectors = [sent.embedding.cpu().numpy() for sent in sentences]\n",
    "            glove_vectors = np.array(glove_vectors).reshape(len(glove_vectors), -1)\n",
    "            featurized_splits[split] = {\"vectors\": glove_vectors}\n",
    "        self.save(featurized_splits, \"glove_featurized_dataset\")\n",
    "```"
   ]
  },
  {
   "cell_type": "markdown",
   "metadata": {
    "pycharm": {
     "name": "#%% md\n"
    }
   },
   "source": [
    "### **4. Training a classifier**\n",
    "\n",
    "We are all set to train a simple classifier. For this tutorial, let's stick with a simple logistic regression model from Sklearn.\n",
    "For the inputs, we can stack the glove and tfidf vectors (obtained from featurization task results) and for the targets, we can just use the labels from the raw dataset. In the end, this task returns a trained SKlearn classifier.\n",
    "\n",
    "**Note:** You are not limited just to Sklearn. You can train any kind of model using your favorite library (PyTorch, TensorFlow, Keras, PyTorch Lightning, etc) \n",
    "\n",
    "```python\n",
    "\n",
    "from sklearn.linear_model import LogisticRegression\n",
    "\n",
    "class TrainTask(Task):\n",
    "    def __init__(self, max_iter: int, balanced: str):\n",
    "        super().__init__()\n",
    "        self._max_iter = max_iter\n",
    "        self._class_weight = \"balanced\" if balanced else None\n",
    "\n",
    "    def run(self, raw_dataset: Dict, tfidf_featurized_dataset: Dict, glove_featurized_dataset: Dict):\n",
    "        model = LogisticRegression(max_iter=self._max_iter, class_weight=self._class_weight)\n",
    "        stacked_vectors = np.hstack(\n",
    "            (tfidf_featurized_dataset[\"train\"][\"vectors\"], glove_featurized_dataset[\"train\"][\"vectors\"])\n",
    "        )\n",
    "        model.fit(stacked_vectors, raw_dataset[\"train\"][\"labels\"])\n",
    "        self.save(model, \"trained_model\")\n",
    "```"
   ]
  },
  {
   "cell_type": "markdown",
   "metadata": {
    "pycharm": {
     "name": "#%% md\n"
    }
   },
   "source": [
    "### **5. Evaluation of classifier**\n",
    "\n",
    "Now, that we have trained a classifier, it is time to evaluate this classifier on all of the dataset splits. This task is straightforward, we will get the featurized dataset splits and the trained model from the results. \n",
    "At the end, EvaluateTask saves a nested dictionary containing classification reports for each of train, val and test splits.\n",
    "\n",
    "\n",
    "```python\n",
    "from sklearn.metrics import classification_report\n",
    "\n",
    "class EvaluateTask(Task):\n",
    "    def __init__(self):\n",
    "        super().__init__()\n",
    "\n",
    "    def run(\n",
    "        self,\n",
    "        raw_dataset: Dict,\n",
    "        tfidf_featurized_dataset: Dict,\n",
    "        glove_featurized_dataset: Dict,\n",
    "        trained_model: LogisticRegression,\n",
    "    ):\n",
    "        evaluation_results = {}\n",
    "        for split in [\"train\", \"val\", \"test\"]:\n",
    "            stacked_vectors = np.hstack(\n",
    "                (tfidf_featurized_dataset[split][\"vectors\"], glove_featurized_dataset[split][\"vectors\"])\n",
    "            )\n",
    "            predictions = trained_model.predict(stacked_vectors)\n",
    "            report = classification_report(raw_dataset[split][\"labels\"], predictions, output_dict=True)\n",
    "            evaluation_results[split] = {\"classification_report\": report}\n",
    "        self.save(evaluation_results, \"evaluation_results\")\n",
    "```"
   ]
  },
  {
   "cell_type": "markdown",
   "metadata": {
    "pycharm": {
     "name": "#%% md\n"
    }
   },
   "source": [
    "## **Create and Run the Pipeline/Task-Graph via FluidML**\n",
    "\n",
    "So far, we have looked into implementing our individual pipeline steps using FluidML's Task class and it was very straightforward.\n",
    "You might be wondering, how to put these tasks together and make them work together as a single pipeline?\n",
    "\n",
    "Thanks to FluidML's TaskSpec API, you can connect these tasks like Lego blocks :)\n",
    "\n",
    "### **1. Instantiate Task Specifications**\n",
    "TaskSpec is a simple wrapper that allows to specify task details task arguments which will be used during instantiation of the task.\n",
    "Let's go ahead and create specs for all our tasks.\n",
    "\n",
    "**Note 2:** We need to pass the `reduce=True` parameter to the ModelSelection task, so that it will get access to *all* previous evaluation results. So, it *reduces* the task graph."
   ]
  },
  {
   "cell_type": "code",
   "execution_count": 3,
   "metadata": {
    "collapsed": false,
    "jupyter": {
     "outputs_hidden": false
    },
    "pycharm": {
     "name": "#%%\n"
    }
   },
   "outputs": [],
   "source": [
    "# create all task specs\n",
    "dataset_fetch_task = TaskSpec(task=DatasetFetchTask)\n",
    "pre_process_task = TaskSpec(task=PreProcessTask, config={\"pre_processing_steps\": [\"lower_case\", \"remove_punct\"]})\n",
    "featurize_task_1 = TaskSpec(task=GloveFeaturizeTask)\n",
    "featurize_task_2 = TaskSpec(task=TFIDFFeaturizeTask, config={\"min_df\": 5, \"max_features\": 2000})\n",
    "train_task = TaskSpec(task=TrainTask, config={\"max_iter\": 50, \"balanced\": True})\n",
    "evaluate_task = TaskSpec(task=EvaluateTask)"
   ]
  },
  {
   "cell_type": "markdown",
   "metadata": {
    "pycharm": {
     "name": "#%% md\n"
    }
   },
   "source": [
    "### **2. Registering Task Dependencies**\n",
    "More importantly, TaskSpec also provides `requires()` method to specify predecessor tasks which need to be executed before that particular task.\n",
    "\n",
    "For instance, in our example, we would need DatasetFetchTask to be finished before we start to run PreProcessTask. Similarly,\n",
    "PreProcessTask is required for both FeaturizeTasks.\n",
    "\n",
    "Using these task dependencies, FluidML creates a task graph and schedules the tasks considering the dependencies.\n",
    "Not just that, it automatically collects the results from predecessor tasks and makes it available to `run()` method.\n"
   ]
  },
  {
   "cell_type": "code",
   "execution_count": 4,
   "metadata": {
    "collapsed": false,
    "jupyter": {
     "outputs_hidden": false
    },
    "pycharm": {
     "name": "#%%\n"
    }
   },
   "outputs": [],
   "source": [
    "# dependencies between tasks\n",
    "pre_process_task.requires(dataset_fetch_task)\n",
    "featurize_task_1.requires(pre_process_task)\n",
    "featurize_task_2.requires(pre_process_task)\n",
    "train_task.requires([dataset_fetch_task, featurize_task_1, featurize_task_2])\n",
    "evaluate_task.requires([dataset_fetch_task, featurize_task_1, featurize_task_2, train_task])"
   ]
  },
  {
   "cell_type": "markdown",
   "metadata": {
    "pycharm": {
     "name": "#%% md\n"
    }
   },
   "source": [
    "### **3. Creating a Final list of Task Specs**\n",
    "We can just hold all these tasks in a list which we will pass it to FluidML."
   ]
  },
  {
   "cell_type": "code",
   "execution_count": 5,
   "metadata": {
    "collapsed": false,
    "jupyter": {
     "outputs_hidden": false
    },
    "pycharm": {
     "name": "#%%\n"
    }
   },
   "outputs": [],
   "source": [
    "# all task specs\n",
    "tasks = [\n",
    "    dataset_fetch_task,\n",
    "    pre_process_task,\n",
    "    featurize_task_1,\n",
    "    featurize_task_2,\n",
    "    train_task,\n",
    "    evaluate_task,\n",
    "]"
   ]
  },
  {
   "cell_type": "markdown",
   "metadata": {
    "pycharm": {
     "name": "#%% md\n"
    }
   },
   "source": [
    "### **4. Run the Pipeline/Task-Graph using Swarm & Flow**\n",
    "\n",
    "All that is left is to create the `Flow` object, which will handle executing the created task graph in parallel and builds the user defined task specifier graph and the expanded task graph. The latter two can be easily accessed as attributes and visualized using our console rendering utility function. Finally, we execute the expanded task graph by calling `flow.run()`\n"
   ]
  },
  {
   "cell_type": "code",
   "execution_count": 6,
   "metadata": {
    "collapsed": false,
    "jupyter": {
     "outputs_hidden": false
    },
    "pycharm": {
     "name": "#%%\n"
    }
   },
   "outputs": [
    {
     "data": {
      "text/html": [
       "<pre style=\"white-space:pre;overflow-x:auto;line-height:normal;font-family:Menlo,'DejaVu Sans Mono',consolas,'Courier New',monospace\"><span style=\"color: #7fbfbf; text-decoration-color: #7fbfbf\">[03/06/23 21:55:22] </span><span style=\"color: #000080; text-decoration-color: #000080\">INFO    </span> MainProcess  Execute run <span style=\"color: #008000; text-decoration-color: #008000\">\"nautical-raise\"</span> using multiprocessing \n",
       "<span style=\"color: #7fbfbf; text-decoration-color: #7fbfbf\">                    </span>         with <span style=\"color: #008080; text-decoration-color: #008080; font-weight: bold\">2</span> workers                                                  \n",
       "</pre>\n"
      ],
      "text/plain": [
       "\u001B[2;36m[03/06/23 21:55:22]\u001B[0m\u001B[2;36m \u001B[0m\u001B[34mINFO    \u001B[0m MainProcess  Execute run \u001B[32m\"nautical-raise\"\u001B[0m using multiprocessing \n",
       "\u001B[2;36m                    \u001B[0m         with \u001B[1;36m2\u001B[0m workers                                                  \n"
      ]
     },
     "metadata": {},
     "output_type": "display_data"
    },
    {
     "data": {
      "text/html": [
       "<pre style=\"white-space:pre;overflow-x:auto;line-height:normal;font-family:Menlo,'DejaVu Sans Mono',consolas,'Courier New',monospace\"><span style=\"color: #7fbfbf; text-decoration-color: #7fbfbf\">[03/06/23 21:55:25] </span><span style=\"color: #000080; text-decoration-color: #000080\">INFO    </span> Dolphin-<span style=\"color: #008080; text-decoration-color: #008080; font-weight: bold\">2</span>    Started task <span style=\"color: #008000; text-decoration-color: #008000\">\"DatasetFetchTask\"</span>                    \n",
       "</pre>\n"
      ],
      "text/plain": [
       "\u001B[2;36m[03/06/23 21:55:25]\u001B[0m\u001B[2;36m \u001B[0m\u001B[34mINFO    \u001B[0m Dolphin-\u001B[1;36m2\u001B[0m    Started task \u001B[32m\"DatasetFetchTask\"\u001B[0m                    \n"
      ]
     },
     "metadata": {},
     "output_type": "display_data"
    },
    {
     "data": {
      "text/html": [
       "<pre style=\"white-space:pre;overflow-x:auto;line-height:normal;font-family:Menlo,'DejaVu Sans Mono',consolas,'Courier New',monospace\"><span style=\"color: #7fbfbf; text-decoration-color: #7fbfbf\">[03/06/23 21:55:26] </span><span style=\"color: #000080; text-decoration-color: #000080\">INFO    </span> Dolphin-<span style=\"color: #008080; text-decoration-color: #008080; font-weight: bold\">2</span>    Finished task <span style=\"color: #008000; text-decoration-color: #008000\">\"DatasetFetchTask\"</span> <span style=\"font-weight: bold\">[</span><span style=\"color: #008080; text-decoration-color: #008080; font-weight: bold\">1</span>/<span style=\"color: #008080; text-decoration-color: #008080; font-weight: bold\">6</span> - <span style=\"color: #008080; text-decoration-color: #008080; font-weight: bold\">17</span>%<span style=\"font-weight: bold\">]</span>       \n",
       "</pre>\n"
      ],
      "text/plain": [
       "\u001B[2;36m[03/06/23 21:55:26]\u001B[0m\u001B[2;36m \u001B[0m\u001B[34mINFO    \u001B[0m Dolphin-\u001B[1;36m2\u001B[0m    Finished task \u001B[32m\"DatasetFetchTask\"\u001B[0m \u001B[1m[\u001B[0m\u001B[1;36m1\u001B[0m/\u001B[1;36m6\u001B[0m - \u001B[1;36m17\u001B[0m%\u001B[1m]\u001B[0m       \n"
      ]
     },
     "metadata": {},
     "output_type": "display_data"
    },
    {
     "data": {
      "text/html": [
       "<pre style=\"white-space:pre;overflow-x:auto;line-height:normal;font-family:Menlo,'DejaVu Sans Mono',consolas,'Courier New',monospace\"><span style=\"color: #7fbfbf; text-decoration-color: #7fbfbf\">[03/06/23 21:55:26] </span><span style=\"color: #000080; text-decoration-color: #000080\">INFO    </span> Dolphin-<span style=\"color: #008080; text-decoration-color: #008080; font-weight: bold\">1</span>    Started task <span style=\"color: #008000; text-decoration-color: #008000\">\"PreProcessTask\"</span>                      \n",
       "</pre>\n"
      ],
      "text/plain": [
       "\u001B[2;36m[03/06/23 21:55:26]\u001B[0m\u001B[2;36m \u001B[0m\u001B[34mINFO    \u001B[0m Dolphin-\u001B[1;36m1\u001B[0m    Started task \u001B[32m\"PreProcessTask\"\u001B[0m                      \n"
      ]
     },
     "metadata": {},
     "output_type": "display_data"
    },
    {
     "data": {
      "text/html": [
       "<pre style=\"white-space:pre;overflow-x:auto;line-height:normal;font-family:Menlo,'DejaVu Sans Mono',consolas,'Courier New',monospace\"><span style=\"color: #7fbfbf; text-decoration-color: #7fbfbf\">[03/06/23 21:55:26] </span><span style=\"color: #000080; text-decoration-color: #000080\">INFO    </span> Dolphin-<span style=\"color: #008080; text-decoration-color: #008080; font-weight: bold\">1</span>    Finished task <span style=\"color: #008000; text-decoration-color: #008000\">\"PreProcessTask\"</span> <span style=\"font-weight: bold\">[</span><span style=\"color: #008080; text-decoration-color: #008080; font-weight: bold\">2</span>/<span style=\"color: #008080; text-decoration-color: #008080; font-weight: bold\">6</span> - <span style=\"color: #008080; text-decoration-color: #008080; font-weight: bold\">33</span>%<span style=\"font-weight: bold\">]</span>         \n",
       "</pre>\n"
      ],
      "text/plain": [
       "\u001B[2;36m[03/06/23 21:55:26]\u001B[0m\u001B[2;36m \u001B[0m\u001B[34mINFO    \u001B[0m Dolphin-\u001B[1;36m1\u001B[0m    Finished task \u001B[32m\"PreProcessTask\"\u001B[0m \u001B[1m[\u001B[0m\u001B[1;36m2\u001B[0m/\u001B[1;36m6\u001B[0m - \u001B[1;36m33\u001B[0m%\u001B[1m]\u001B[0m         \n"
      ]
     },
     "metadata": {},
     "output_type": "display_data"
    },
    {
     "data": {
      "text/html": [
       "<pre style=\"white-space:pre;overflow-x:auto;line-height:normal;font-family:Menlo,'DejaVu Sans Mono',consolas,'Courier New',monospace\"><span style=\"color: #7fbfbf; text-decoration-color: #7fbfbf\">[03/06/23 21:55:26] </span><span style=\"color: #000080; text-decoration-color: #000080\">INFO    </span> Dolphin-<span style=\"color: #008080; text-decoration-color: #008080; font-weight: bold\">1</span>    Started task <span style=\"color: #008000; text-decoration-color: #008000\">\"TFIDFFeaturizeTask\"</span>                  \n",
       "</pre>\n"
      ],
      "text/plain": [
       "\u001B[2;36m[03/06/23 21:55:26]\u001B[0m\u001B[2;36m \u001B[0m\u001B[34mINFO    \u001B[0m Dolphin-\u001B[1;36m1\u001B[0m    Started task \u001B[32m\"TFIDFFeaturizeTask\"\u001B[0m                  \n"
      ]
     },
     "metadata": {},
     "output_type": "display_data"
    },
    {
     "data": {
      "text/html": [
       "<pre style=\"white-space:pre;overflow-x:auto;line-height:normal;font-family:Menlo,'DejaVu Sans Mono',consolas,'Courier New',monospace\"><span style=\"color: #7fbfbf; text-decoration-color: #7fbfbf\">[03/06/23 21:55:26] </span><span style=\"color: #000080; text-decoration-color: #000080\">INFO    </span> Dolphin-<span style=\"color: #008080; text-decoration-color: #008080; font-weight: bold\">2</span>    Started task <span style=\"color: #008000; text-decoration-color: #008000\">\"GloveFeaturizeTask\"</span>                  \n",
       "</pre>\n"
      ],
      "text/plain": [
       "\u001B[2;36m[03/06/23 21:55:26]\u001B[0m\u001B[2;36m \u001B[0m\u001B[34mINFO    \u001B[0m Dolphin-\u001B[1;36m2\u001B[0m    Started task \u001B[32m\"GloveFeaturizeTask\"\u001B[0m                  \n"
      ]
     },
     "metadata": {},
     "output_type": "display_data"
    },
    {
     "data": {
      "text/html": [
       "<pre style=\"white-space:pre;overflow-x:auto;line-height:normal;font-family:Menlo,'DejaVu Sans Mono',consolas,'Courier New',monospace\"><span style=\"color: #7fbfbf; text-decoration-color: #7fbfbf\">[03/06/23 21:55:27] </span><span style=\"color: #000080; text-decoration-color: #000080\">INFO    </span> Dolphin-<span style=\"color: #008080; text-decoration-color: #008080; font-weight: bold\">2</span>    loading Word2VecKeyedVectors object from           \n",
       "<span style=\"color: #7fbfbf; text-decoration-color: #7fbfbf\">                    </span>         <span style=\"color: #800080; text-decoration-color: #800080\">/root/.flair/embeddings/</span><span style=\"color: #ff00ff; text-decoration-color: #ff00ff\">glove.gensim</span>                            \n",
       "</pre>\n"
      ],
      "text/plain": [
       "\u001B[2;36m[03/06/23 21:55:27]\u001B[0m\u001B[2;36m \u001B[0m\u001B[34mINFO    \u001B[0m Dolphin-\u001B[1;36m2\u001B[0m    loading Word2VecKeyedVectors object from           \n",
       "\u001B[2;36m                    \u001B[0m         \u001B[35m/root/.flair/embeddings/\u001B[0m\u001B[95mglove.gensim\u001B[0m                            \n"
      ]
     },
     "metadata": {},
     "output_type": "display_data"
    },
    {
     "data": {
      "text/html": [
       "<pre style=\"white-space:pre;overflow-x:auto;line-height:normal;font-family:Menlo,'DejaVu Sans Mono',consolas,'Courier New',monospace\"><span style=\"color: #7fbfbf; text-decoration-color: #7fbfbf\">[03/06/23 21:55:27] </span><span style=\"color: #000080; text-decoration-color: #000080\">INFO    </span> Dolphin-<span style=\"color: #008080; text-decoration-color: #008080; font-weight: bold\">1</span>    Finished task <span style=\"color: #008000; text-decoration-color: #008000\">\"TFIDFFeaturizeTask\"</span> <span style=\"font-weight: bold\">[</span><span style=\"color: #008080; text-decoration-color: #008080; font-weight: bold\">3</span>/<span style=\"color: #008080; text-decoration-color: #008080; font-weight: bold\">6</span> - <span style=\"color: #008080; text-decoration-color: #008080; font-weight: bold\">50</span>%<span style=\"font-weight: bold\">]</span>     \n",
       "</pre>\n"
      ],
      "text/plain": [
       "\u001B[2;36m[03/06/23 21:55:27]\u001B[0m\u001B[2;36m \u001B[0m\u001B[34mINFO    \u001B[0m Dolphin-\u001B[1;36m1\u001B[0m    Finished task \u001B[32m\"TFIDFFeaturizeTask\"\u001B[0m \u001B[1m[\u001B[0m\u001B[1;36m3\u001B[0m/\u001B[1;36m6\u001B[0m - \u001B[1;36m50\u001B[0m%\u001B[1m]\u001B[0m     \n"
      ]
     },
     "metadata": {},
     "output_type": "display_data"
    },
    {
     "data": {
      "text/html": [
       "<pre style=\"white-space:pre;overflow-x:auto;line-height:normal;font-family:Menlo,'DejaVu Sans Mono',consolas,'Courier New',monospace\"><span style=\"color: #7fbfbf; text-decoration-color: #7fbfbf\">[03/06/23 21:55:28] </span><span style=\"color: #000080; text-decoration-color: #000080\">INFO    </span> Dolphin-<span style=\"color: #008080; text-decoration-color: #008080; font-weight: bold\">2</span>    loading vectors from                               \n",
       "<span style=\"color: #7fbfbf; text-decoration-color: #7fbfbf\">                    </span>         <span style=\"color: #800080; text-decoration-color: #800080\">/root/.flair/embeddings/</span><span style=\"color: #ff00ff; text-decoration-color: #ff00ff\">glove.gensim.vectors.npy</span> with <span style=\"color: #808000; text-decoration-color: #808000\">mmap</span>=<span style=\"color: #800080; text-decoration-color: #800080; font-style: italic\">None</span> \n",
       "</pre>\n"
      ],
      "text/plain": [
       "\u001B[2;36m[03/06/23 21:55:28]\u001B[0m\u001B[2;36m \u001B[0m\u001B[34mINFO    \u001B[0m Dolphin-\u001B[1;36m2\u001B[0m    loading vectors from                               \n",
       "\u001B[2;36m                    \u001B[0m         \u001B[35m/root/.flair/embeddings/\u001B[0m\u001B[95mglove.gensim.vectors.npy\u001B[0m with \u001B[33mmmap\u001B[0m=\u001B[3;35mNone\u001B[0m \n"
      ]
     },
     "metadata": {},
     "output_type": "display_data"
    },
    {
     "data": {
      "text/html": [
       "<pre style=\"white-space:pre;overflow-x:auto;line-height:normal;font-family:Menlo,'DejaVu Sans Mono',consolas,'Courier New',monospace\"><span style=\"color: #7fbfbf; text-decoration-color: #7fbfbf\">[03/06/23 21:55:28] </span><span style=\"color: #000080; text-decoration-color: #000080\">INFO    </span> Dolphin-<span style=\"color: #008080; text-decoration-color: #008080; font-weight: bold\">2</span>    setting ignored attribute vectors_norm to <span style=\"color: #800080; text-decoration-color: #800080; font-style: italic\">None</span>     \n",
       "</pre>\n"
      ],
      "text/plain": [
       "\u001B[2;36m[03/06/23 21:55:28]\u001B[0m\u001B[2;36m \u001B[0m\u001B[34mINFO    \u001B[0m Dolphin-\u001B[1;36m2\u001B[0m    setting ignored attribute vectors_norm to \u001B[3;35mNone\u001B[0m     \n"
      ]
     },
     "metadata": {},
     "output_type": "display_data"
    },
    {
     "data": {
      "text/html": [
       "<pre style=\"white-space:pre;overflow-x:auto;line-height:normal;font-family:Menlo,'DejaVu Sans Mono',consolas,'Courier New',monospace\"><span style=\"color: #7fbfbf; text-decoration-color: #7fbfbf\">[03/06/23 21:55:28] </span><span style=\"color: #000080; text-decoration-color: #000080\">INFO    </span> Dolphin-<span style=\"color: #008080; text-decoration-color: #008080; font-weight: bold\">2</span>    loaded <span style=\"color: #800080; text-decoration-color: #800080\">/root/.flair/embeddings/</span><span style=\"color: #ff00ff; text-decoration-color: #ff00ff\">glove.gensim</span>        \n",
       "</pre>\n"
      ],
      "text/plain": [
       "\u001B[2;36m[03/06/23 21:55:28]\u001B[0m\u001B[2;36m \u001B[0m\u001B[34mINFO    \u001B[0m Dolphin-\u001B[1;36m2\u001B[0m    loaded \u001B[35m/root/.flair/embeddings/\u001B[0m\u001B[95mglove.gensim\u001B[0m        \n"
      ]
     },
     "metadata": {},
     "output_type": "display_data"
    },
    {
     "data": {
      "text/html": [
       "<pre style=\"white-space:pre;overflow-x:auto;line-height:normal;font-family:Menlo,'DejaVu Sans Mono',consolas,'Courier New',monospace\"><span style=\"color: #7fbfbf; text-decoration-color: #7fbfbf\">[03/06/23 21:56:00] </span><span style=\"color: #000080; text-decoration-color: #000080\">INFO    </span> Dolphin-<span style=\"color: #008080; text-decoration-color: #008080; font-weight: bold\">2</span>    loading Word2VecKeyedVectors object from           \n",
       "<span style=\"color: #7fbfbf; text-decoration-color: #7fbfbf\">                    </span>         <span style=\"color: #800080; text-decoration-color: #800080\">/root/.flair/embeddings/</span><span style=\"color: #ff00ff; text-decoration-color: #ff00ff\">glove.gensim</span>                            \n",
       "</pre>\n"
      ],
      "text/plain": [
       "\u001B[2;36m[03/06/23 21:56:00]\u001B[0m\u001B[2;36m \u001B[0m\u001B[34mINFO    \u001B[0m Dolphin-\u001B[1;36m2\u001B[0m    loading Word2VecKeyedVectors object from           \n",
       "\u001B[2;36m                    \u001B[0m         \u001B[35m/root/.flair/embeddings/\u001B[0m\u001B[95mglove.gensim\u001B[0m                            \n"
      ]
     },
     "metadata": {},
     "output_type": "display_data"
    },
    {
     "data": {
      "text/html": [
       "<pre style=\"white-space:pre;overflow-x:auto;line-height:normal;font-family:Menlo,'DejaVu Sans Mono',consolas,'Courier New',monospace\"><span style=\"color: #7fbfbf; text-decoration-color: #7fbfbf\">[03/06/23 21:56:01] </span><span style=\"color: #000080; text-decoration-color: #000080\">INFO    </span> Dolphin-<span style=\"color: #008080; text-decoration-color: #008080; font-weight: bold\">2</span>    loading vectors from                               \n",
       "<span style=\"color: #7fbfbf; text-decoration-color: #7fbfbf\">                    </span>         <span style=\"color: #800080; text-decoration-color: #800080\">/root/.flair/embeddings/</span><span style=\"color: #ff00ff; text-decoration-color: #ff00ff\">glove.gensim.vectors.npy</span> with <span style=\"color: #808000; text-decoration-color: #808000\">mmap</span>=<span style=\"color: #800080; text-decoration-color: #800080; font-style: italic\">None</span> \n",
       "</pre>\n"
      ],
      "text/plain": [
       "\u001B[2;36m[03/06/23 21:56:01]\u001B[0m\u001B[2;36m \u001B[0m\u001B[34mINFO    \u001B[0m Dolphin-\u001B[1;36m2\u001B[0m    loading vectors from                               \n",
       "\u001B[2;36m                    \u001B[0m         \u001B[35m/root/.flair/embeddings/\u001B[0m\u001B[95mglove.gensim.vectors.npy\u001B[0m with \u001B[33mmmap\u001B[0m=\u001B[3;35mNone\u001B[0m \n"
      ]
     },
     "metadata": {},
     "output_type": "display_data"
    },
    {
     "data": {
      "text/html": [
       "<pre style=\"white-space:pre;overflow-x:auto;line-height:normal;font-family:Menlo,'DejaVu Sans Mono',consolas,'Courier New',monospace\"><span style=\"color: #7fbfbf; text-decoration-color: #7fbfbf\">[03/06/23 21:56:01] </span><span style=\"color: #000080; text-decoration-color: #000080\">INFO    </span> Dolphin-<span style=\"color: #008080; text-decoration-color: #008080; font-weight: bold\">2</span>    setting ignored attribute vectors_norm to <span style=\"color: #800080; text-decoration-color: #800080; font-style: italic\">None</span>     \n",
       "</pre>\n"
      ],
      "text/plain": [
       "\u001B[2;36m[03/06/23 21:56:01]\u001B[0m\u001B[2;36m \u001B[0m\u001B[34mINFO    \u001B[0m Dolphin-\u001B[1;36m2\u001B[0m    setting ignored attribute vectors_norm to \u001B[3;35mNone\u001B[0m     \n"
      ]
     },
     "metadata": {},
     "output_type": "display_data"
    },
    {
     "data": {
      "text/html": [
       "<pre style=\"white-space:pre;overflow-x:auto;line-height:normal;font-family:Menlo,'DejaVu Sans Mono',consolas,'Courier New',monospace\"><span style=\"color: #7fbfbf; text-decoration-color: #7fbfbf\">[03/06/23 21:56:01] </span><span style=\"color: #000080; text-decoration-color: #000080\">INFO    </span> Dolphin-<span style=\"color: #008080; text-decoration-color: #008080; font-weight: bold\">2</span>    loaded <span style=\"color: #800080; text-decoration-color: #800080\">/root/.flair/embeddings/</span><span style=\"color: #ff00ff; text-decoration-color: #ff00ff\">glove.gensim</span>        \n",
       "</pre>\n"
      ],
      "text/plain": [
       "\u001B[2;36m[03/06/23 21:56:01]\u001B[0m\u001B[2;36m \u001B[0m\u001B[34mINFO    \u001B[0m Dolphin-\u001B[1;36m2\u001B[0m    loaded \u001B[35m/root/.flair/embeddings/\u001B[0m\u001B[95mglove.gensim\u001B[0m        \n"
      ]
     },
     "metadata": {},
     "output_type": "display_data"
    },
    {
     "data": {
      "text/html": [
       "<pre style=\"white-space:pre;overflow-x:auto;line-height:normal;font-family:Menlo,'DejaVu Sans Mono',consolas,'Courier New',monospace\"><span style=\"color: #7fbfbf; text-decoration-color: #7fbfbf\">[03/06/23 21:56:12] </span><span style=\"color: #000080; text-decoration-color: #000080\">INFO    </span> Dolphin-<span style=\"color: #008080; text-decoration-color: #008080; font-weight: bold\">2</span>    loading Word2VecKeyedVectors object from           \n",
       "<span style=\"color: #7fbfbf; text-decoration-color: #7fbfbf\">                    </span>         <span style=\"color: #800080; text-decoration-color: #800080\">/root/.flair/embeddings/</span><span style=\"color: #ff00ff; text-decoration-color: #ff00ff\">glove.gensim</span>                            \n",
       "</pre>\n"
      ],
      "text/plain": [
       "\u001B[2;36m[03/06/23 21:56:12]\u001B[0m\u001B[2;36m \u001B[0m\u001B[34mINFO    \u001B[0m Dolphin-\u001B[1;36m2\u001B[0m    loading Word2VecKeyedVectors object from           \n",
       "\u001B[2;36m                    \u001B[0m         \u001B[35m/root/.flair/embeddings/\u001B[0m\u001B[95mglove.gensim\u001B[0m                            \n"
      ]
     },
     "metadata": {},
     "output_type": "display_data"
    },
    {
     "data": {
      "text/html": [
       "<pre style=\"white-space:pre;overflow-x:auto;line-height:normal;font-family:Menlo,'DejaVu Sans Mono',consolas,'Courier New',monospace\"><span style=\"color: #7fbfbf; text-decoration-color: #7fbfbf\">[03/06/23 21:56:13] </span><span style=\"color: #000080; text-decoration-color: #000080\">INFO    </span> Dolphin-<span style=\"color: #008080; text-decoration-color: #008080; font-weight: bold\">2</span>    loading vectors from                               \n",
       "<span style=\"color: #7fbfbf; text-decoration-color: #7fbfbf\">                    </span>         <span style=\"color: #800080; text-decoration-color: #800080\">/root/.flair/embeddings/</span><span style=\"color: #ff00ff; text-decoration-color: #ff00ff\">glove.gensim.vectors.npy</span> with <span style=\"color: #808000; text-decoration-color: #808000\">mmap</span>=<span style=\"color: #800080; text-decoration-color: #800080; font-style: italic\">None</span> \n",
       "</pre>\n"
      ],
      "text/plain": [
       "\u001B[2;36m[03/06/23 21:56:13]\u001B[0m\u001B[2;36m \u001B[0m\u001B[34mINFO    \u001B[0m Dolphin-\u001B[1;36m2\u001B[0m    loading vectors from                               \n",
       "\u001B[2;36m                    \u001B[0m         \u001B[35m/root/.flair/embeddings/\u001B[0m\u001B[95mglove.gensim.vectors.npy\u001B[0m with \u001B[33mmmap\u001B[0m=\u001B[3;35mNone\u001B[0m \n"
      ]
     },
     "metadata": {},
     "output_type": "display_data"
    },
    {
     "data": {
      "text/html": [
       "<pre style=\"white-space:pre;overflow-x:auto;line-height:normal;font-family:Menlo,'DejaVu Sans Mono',consolas,'Courier New',monospace\"><span style=\"color: #7fbfbf; text-decoration-color: #7fbfbf\">[03/06/23 21:56:13] </span><span style=\"color: #000080; text-decoration-color: #000080\">INFO    </span> Dolphin-<span style=\"color: #008080; text-decoration-color: #008080; font-weight: bold\">2</span>    setting ignored attribute vectors_norm to <span style=\"color: #800080; text-decoration-color: #800080; font-style: italic\">None</span>     \n",
       "</pre>\n"
      ],
      "text/plain": [
       "\u001B[2;36m[03/06/23 21:56:13]\u001B[0m\u001B[2;36m \u001B[0m\u001B[34mINFO    \u001B[0m Dolphin-\u001B[1;36m2\u001B[0m    setting ignored attribute vectors_norm to \u001B[3;35mNone\u001B[0m     \n"
      ]
     },
     "metadata": {},
     "output_type": "display_data"
    },
    {
     "data": {
      "text/html": [
       "<pre style=\"white-space:pre;overflow-x:auto;line-height:normal;font-family:Menlo,'DejaVu Sans Mono',consolas,'Courier New',monospace\"><span style=\"color: #7fbfbf; text-decoration-color: #7fbfbf\">[03/06/23 21:56:13] </span><span style=\"color: #000080; text-decoration-color: #000080\">INFO    </span> Dolphin-<span style=\"color: #008080; text-decoration-color: #008080; font-weight: bold\">2</span>    loaded <span style=\"color: #800080; text-decoration-color: #800080\">/root/.flair/embeddings/</span><span style=\"color: #ff00ff; text-decoration-color: #ff00ff\">glove.gensim</span>        \n",
       "</pre>\n"
      ],
      "text/plain": [
       "\u001B[2;36m[03/06/23 21:56:13]\u001B[0m\u001B[2;36m \u001B[0m\u001B[34mINFO    \u001B[0m Dolphin-\u001B[1;36m2\u001B[0m    loaded \u001B[35m/root/.flair/embeddings/\u001B[0m\u001B[95mglove.gensim\u001B[0m        \n"
      ]
     },
     "metadata": {},
     "output_type": "display_data"
    },
    {
     "data": {
      "text/html": [
       "<pre style=\"white-space:pre;overflow-x:auto;line-height:normal;font-family:Menlo,'DejaVu Sans Mono',consolas,'Courier New',monospace\"><span style=\"color: #7fbfbf; text-decoration-color: #7fbfbf\">[03/06/23 21:56:16] </span><span style=\"color: #000080; text-decoration-color: #000080\">INFO    </span> Dolphin-<span style=\"color: #008080; text-decoration-color: #008080; font-weight: bold\">2</span>    Finished task <span style=\"color: #008000; text-decoration-color: #008000\">\"GloveFeaturizeTask\"</span> <span style=\"font-weight: bold\">[</span><span style=\"color: #008080; text-decoration-color: #008080; font-weight: bold\">4</span>/<span style=\"color: #008080; text-decoration-color: #008080; font-weight: bold\">6</span> - <span style=\"color: #008080; text-decoration-color: #008080; font-weight: bold\">67</span>%<span style=\"font-weight: bold\">]</span>     \n",
       "</pre>\n"
      ],
      "text/plain": [
       "\u001B[2;36m[03/06/23 21:56:16]\u001B[0m\u001B[2;36m \u001B[0m\u001B[34mINFO    \u001B[0m Dolphin-\u001B[1;36m2\u001B[0m    Finished task \u001B[32m\"GloveFeaturizeTask\"\u001B[0m \u001B[1m[\u001B[0m\u001B[1;36m4\u001B[0m/\u001B[1;36m6\u001B[0m - \u001B[1;36m67\u001B[0m%\u001B[1m]\u001B[0m     \n"
      ]
     },
     "metadata": {},
     "output_type": "display_data"
    },
    {
     "data": {
      "text/html": [
       "<pre style=\"white-space:pre;overflow-x:auto;line-height:normal;font-family:Menlo,'DejaVu Sans Mono',consolas,'Courier New',monospace\"><span style=\"color: #7fbfbf; text-decoration-color: #7fbfbf\">[03/06/23 21:56:17] </span><span style=\"color: #000080; text-decoration-color: #000080\">INFO    </span> Dolphin-<span style=\"color: #008080; text-decoration-color: #008080; font-weight: bold\">1</span>    Started task <span style=\"color: #008000; text-decoration-color: #008000\">\"TrainTask\"</span>                           \n",
       "</pre>\n"
      ],
      "text/plain": [
       "\u001B[2;36m[03/06/23 21:56:17]\u001B[0m\u001B[2;36m \u001B[0m\u001B[34mINFO    \u001B[0m Dolphin-\u001B[1;36m1\u001B[0m    Started task \u001B[32m\"TrainTask\"\u001B[0m                           \n"
      ]
     },
     "metadata": {},
     "output_type": "display_data"
    },
    {
     "name": "stdout",
     "output_type": "stream",
     "text": [
      "ConvergenceWarning: lbfgs failed to converge (status=1):\n",
      "STOP: TOTAL NO. of ITERATIONS REACHED LIMIT.\n",
      "\n",
      "Increase the number of iterations (max_iter) or scale the data as shown in:\n",
      "    https://scikit-learn.org/stable/modules/preprocessing.html\n",
      "Please also refer to the documentation for alternative solver options:\n",
      "    https://scikit-learn.org/stable/modules/linear_model.html#logistic-regression\n"
     ]
    },
    {
     "data": {
      "text/html": [
       "<pre style=\"white-space:pre;overflow-x:auto;line-height:normal;font-family:Menlo,'DejaVu Sans Mono',consolas,'Courier New',monospace\"><span style=\"color: #7fbfbf; text-decoration-color: #7fbfbf\">[03/06/23 21:56:18] </span><span style=\"color: #000080; text-decoration-color: #000080\">INFO    </span> Dolphin-<span style=\"color: #008080; text-decoration-color: #008080; font-weight: bold\">1</span>    Finished task <span style=\"color: #008000; text-decoration-color: #008000\">\"TrainTask\"</span> <span style=\"font-weight: bold\">[</span><span style=\"color: #008080; text-decoration-color: #008080; font-weight: bold\">5</span>/<span style=\"color: #008080; text-decoration-color: #008080; font-weight: bold\">6</span> - <span style=\"color: #008080; text-decoration-color: #008080; font-weight: bold\">83</span>%<span style=\"font-weight: bold\">]</span>              \n",
       "</pre>\n"
      ],
      "text/plain": [
       "\u001B[2;36m[03/06/23 21:56:18]\u001B[0m\u001B[2;36m \u001B[0m\u001B[34mINFO    \u001B[0m Dolphin-\u001B[1;36m1\u001B[0m    Finished task \u001B[32m\"TrainTask\"\u001B[0m \u001B[1m[\u001B[0m\u001B[1;36m5\u001B[0m/\u001B[1;36m6\u001B[0m - \u001B[1;36m83\u001B[0m%\u001B[1m]\u001B[0m              \n"
      ]
     },
     "metadata": {},
     "output_type": "display_data"
    },
    {
     "data": {
      "text/html": [
       "<pre style=\"white-space:pre;overflow-x:auto;line-height:normal;font-family:Menlo,'DejaVu Sans Mono',consolas,'Courier New',monospace\"><span style=\"color: #7fbfbf; text-decoration-color: #7fbfbf\">[03/06/23 21:56:19] </span><span style=\"color: #000080; text-decoration-color: #000080\">INFO    </span> Dolphin-<span style=\"color: #008080; text-decoration-color: #008080; font-weight: bold\">2</span>    Started task <span style=\"color: #008000; text-decoration-color: #008000\">\"EvaluateTask\"</span>                        \n",
       "</pre>\n"
      ],
      "text/plain": [
       "\u001B[2;36m[03/06/23 21:56:19]\u001B[0m\u001B[2;36m \u001B[0m\u001B[34mINFO    \u001B[0m Dolphin-\u001B[1;36m2\u001B[0m    Started task \u001B[32m\"EvaluateTask\"\u001B[0m                        \n"
      ]
     },
     "metadata": {},
     "output_type": "display_data"
    },
    {
     "data": {
      "text/html": [
       "<pre style=\"white-space:pre;overflow-x:auto;line-height:normal;font-family:Menlo,'DejaVu Sans Mono',consolas,'Courier New',monospace\"><span style=\"color: #7fbfbf; text-decoration-color: #7fbfbf\">[03/06/23 21:56:19] </span><span style=\"color: #000080; text-decoration-color: #000080\">INFO    </span> Dolphin-<span style=\"color: #008080; text-decoration-color: #008080; font-weight: bold\">2</span>    Finished task <span style=\"color: #008000; text-decoration-color: #008000\">\"EvaluateTask\"</span> <span style=\"font-weight: bold\">[</span><span style=\"color: #008080; text-decoration-color: #008080; font-weight: bold\">6</span>/<span style=\"color: #008080; text-decoration-color: #008080; font-weight: bold\">6</span> - <span style=\"color: #008080; text-decoration-color: #008080; font-weight: bold\">100</span>%<span style=\"font-weight: bold\">]</span>          \n",
       "</pre>\n"
      ],
      "text/plain": [
       "\u001B[2;36m[03/06/23 21:56:19]\u001B[0m\u001B[2;36m \u001B[0m\u001B[34mINFO    \u001B[0m Dolphin-\u001B[1;36m2\u001B[0m    Finished task \u001B[32m\"EvaluateTask\"\u001B[0m \u001B[1m[\u001B[0m\u001B[1;36m6\u001B[0m/\u001B[1;36m6\u001B[0m - \u001B[1;36m100\u001B[0m%\u001B[1m]\u001B[0m          \n"
      ]
     },
     "metadata": {},
     "output_type": "display_data"
    }
   ],
   "source": [
    "# create flow\n",
    "flow = Flow(tasks=tasks)\n",
    "# run the pipeline\n",
    "results = flow.run(project_name=\"sklearn_text_classification_example\")"
   ]
  },
  {
   "cell_type": "markdown",
   "metadata": {
    "pycharm": {
     "name": "#%% md\n"
    }
   },
   "source": [
    "### **5. Results**\n",
    "We can now go over the results and fetch a task's result using its name, which would give task results and task_config (up until that task in the graph)"
   ]
  },
  {
   "cell_type": "code",
   "execution_count": 7,
   "metadata": {
    "collapsed": false,
    "jupyter": {
     "outputs_hidden": false
    },
    "pycharm": {
     "name": "#%%\n"
    }
   },
   "outputs": [
    {
     "data": {
      "text/html": [
       "<pre style=\"white-space:pre;overflow-x:auto;line-height:normal;font-family:Menlo,'DejaVu Sans Mono',consolas,'Courier New',monospace\"><span style=\"font-weight: bold\">{</span><span style=\"color: #008000; text-decoration-color: #008000\">'DatasetFetchTask'</span>: <span style=\"font-weight: bold\">{}</span>, <span style=\"color: #008000; text-decoration-color: #008000\">'PreProcessTask'</span>: <span style=\"font-weight: bold\">{</span><span style=\"color: #008000; text-decoration-color: #008000\">'pre_processing_steps'</span>: <span style=\"font-weight: bold\">[</span><span style=\"color: #008000; text-decoration-color: #008000\">'lower_case'</span>, \n",
       "<span style=\"color: #008000; text-decoration-color: #008000\">'remove_punct'</span><span style=\"font-weight: bold\">]}</span>, <span style=\"color: #008000; text-decoration-color: #008000\">'GloveFeaturizeTask'</span>: <span style=\"font-weight: bold\">{}</span>, <span style=\"color: #008000; text-decoration-color: #008000\">'TFIDFFeaturizeTask'</span>: <span style=\"font-weight: bold\">{</span><span style=\"color: #008000; text-decoration-color: #008000\">'min_df'</span>: <span style=\"color: #008080; text-decoration-color: #008080; font-weight: bold\">5</span>, \n",
       "<span style=\"color: #008000; text-decoration-color: #008000\">'max_features'</span>: <span style=\"color: #008080; text-decoration-color: #008080; font-weight: bold\">2000</span><span style=\"font-weight: bold\">}</span>, <span style=\"color: #008000; text-decoration-color: #008000\">'TrainTask'</span>: <span style=\"font-weight: bold\">{</span><span style=\"color: #008000; text-decoration-color: #008000\">'max_iter'</span>: <span style=\"color: #008080; text-decoration-color: #008080; font-weight: bold\">50</span>, <span style=\"color: #008000; text-decoration-color: #008000\">'balanced'</span>: <span style=\"color: #00ff00; text-decoration-color: #00ff00; font-style: italic\">True</span><span style=\"font-weight: bold\">}</span>, <span style=\"color: #008000; text-decoration-color: #008000\">'EvaluateTask'</span>: <span style=\"font-weight: bold\">{}}</span>\n",
       "</pre>\n"
      ],
      "text/plain": [
       "\u001B[1m{\u001B[0m\u001B[32m'DatasetFetchTask'\u001B[0m: \u001B[1m{\u001B[0m\u001B[1m}\u001B[0m, \u001B[32m'PreProcessTask'\u001B[0m: \u001B[1m{\u001B[0m\u001B[32m'pre_processing_steps'\u001B[0m: \u001B[1m[\u001B[0m\u001B[32m'lower_case'\u001B[0m, \n",
       "\u001B[32m'remove_punct'\u001B[0m\u001B[1m]\u001B[0m\u001B[1m}\u001B[0m, \u001B[32m'GloveFeaturizeTask'\u001B[0m: \u001B[1m{\u001B[0m\u001B[1m}\u001B[0m, \u001B[32m'TFIDFFeaturizeTask'\u001B[0m: \u001B[1m{\u001B[0m\u001B[32m'min_df'\u001B[0m: \u001B[1;36m5\u001B[0m, \n",
       "\u001B[32m'max_features'\u001B[0m: \u001B[1;36m2000\u001B[0m\u001B[1m}\u001B[0m, \u001B[32m'TrainTask'\u001B[0m: \u001B[1m{\u001B[0m\u001B[32m'max_iter'\u001B[0m: \u001B[1;36m50\u001B[0m, \u001B[32m'balanced'\u001B[0m: \u001B[3;92mTrue\u001B[0m\u001B[1m}\u001B[0m, \u001B[32m'EvaluateTask'\u001B[0m: \u001B[1m{\u001B[0m\u001B[1m}\u001B[0m\u001B[1m}\u001B[0m\n"
      ]
     },
     "metadata": {},
     "output_type": "display_data"
    }
   ],
   "source": [
    "print(results[\"EvaluateTask\"][\"config\"])"
   ]
  },
  {
   "cell_type": "code",
   "execution_count": 8,
   "metadata": {
    "collapsed": false,
    "jupyter": {
     "outputs_hidden": false
    },
    "pycharm": {
     "name": "#%%\n"
    }
   },
   "outputs": [
    {
     "data": {
      "text/html": [
       "<pre style=\"white-space:pre;overflow-x:auto;line-height:normal;font-family:Menlo,'DejaVu Sans Mono',consolas,'Courier New',monospace\"><span style=\"font-weight: bold\">{</span>\n",
       "    <span style=\"color: #008000; text-decoration-color: #008000\">'classification_report'</span>: <span style=\"font-weight: bold\">{</span>\n",
       "        <span style=\"color: #008000; text-decoration-color: #008000\">'0'</span>: <span style=\"font-weight: bold\">{</span>\n",
       "            <span style=\"color: #008000; text-decoration-color: #008000\">'precision'</span>: <span style=\"color: #008080; text-decoration-color: #008080; font-weight: bold\">0.8592592592592593</span>,\n",
       "            <span style=\"color: #008000; text-decoration-color: #008000\">'recall'</span>: <span style=\"color: #008080; text-decoration-color: #008080; font-weight: bold\">0.8405797101449275</span>,\n",
       "            <span style=\"color: #008000; text-decoration-color: #008000\">'f1-score'</span>: <span style=\"color: #008080; text-decoration-color: #008080; font-weight: bold\">0.8498168498168497</span>,\n",
       "            <span style=\"color: #008000; text-decoration-color: #008000\">'support'</span>: <span style=\"color: #008080; text-decoration-color: #008080; font-weight: bold\">138</span>\n",
       "        <span style=\"font-weight: bold\">}</span>,\n",
       "        <span style=\"color: #008000; text-decoration-color: #008000\">'1'</span>: <span style=\"font-weight: bold\">{</span>\n",
       "            <span style=\"color: #008000; text-decoration-color: #008000\">'precision'</span>: <span style=\"color: #008080; text-decoration-color: #008080; font-weight: bold\">0.7945205479452054</span>,\n",
       "            <span style=\"color: #008000; text-decoration-color: #008000\">'recall'</span>: <span style=\"color: #008080; text-decoration-color: #008080; font-weight: bold\">0.6170212765957447</span>,\n",
       "            <span style=\"color: #008000; text-decoration-color: #008000\">'f1-score'</span>: <span style=\"color: #008080; text-decoration-color: #008080; font-weight: bold\">0.6946107784431137</span>,\n",
       "            <span style=\"color: #008000; text-decoration-color: #008000\">'support'</span>: <span style=\"color: #008080; text-decoration-color: #008080; font-weight: bold\">94</span>\n",
       "        <span style=\"font-weight: bold\">}</span>,\n",
       "        <span style=\"color: #008000; text-decoration-color: #008000\">'2'</span>: <span style=\"font-weight: bold\">{</span>\n",
       "            <span style=\"color: #008000; text-decoration-color: #008000\">'precision'</span>: <span style=\"color: #008080; text-decoration-color: #008080; font-weight: bold\">0.35</span>,\n",
       "            <span style=\"color: #008000; text-decoration-color: #008000\">'recall'</span>: <span style=\"color: #008080; text-decoration-color: #008080; font-weight: bold\">0.7777777777777778</span>,\n",
       "            <span style=\"color: #008000; text-decoration-color: #008000\">'f1-score'</span>: <span style=\"color: #008080; text-decoration-color: #008080; font-weight: bold\">0.48275862068965514</span>,\n",
       "            <span style=\"color: #008000; text-decoration-color: #008000\">'support'</span>: <span style=\"color: #008080; text-decoration-color: #008080; font-weight: bold\">9</span>\n",
       "        <span style=\"font-weight: bold\">}</span>,\n",
       "        <span style=\"color: #008000; text-decoration-color: #008000\">'3'</span>: <span style=\"font-weight: bold\">{</span>\n",
       "            <span style=\"color: #008000; text-decoration-color: #008000\">'precision'</span>: <span style=\"color: #008080; text-decoration-color: #008080; font-weight: bold\">0.8955223880597015</span>,\n",
       "            <span style=\"color: #008000; text-decoration-color: #008000\">'recall'</span>: <span style=\"color: #008080; text-decoration-color: #008080; font-weight: bold\">0.9230769230769231</span>,\n",
       "            <span style=\"color: #008000; text-decoration-color: #008000\">'f1-score'</span>: <span style=\"color: #008080; text-decoration-color: #008080; font-weight: bold\">0.9090909090909091</span>,\n",
       "            <span style=\"color: #008000; text-decoration-color: #008000\">'support'</span>: <span style=\"color: #008080; text-decoration-color: #008080; font-weight: bold\">65</span>\n",
       "        <span style=\"font-weight: bold\">}</span>,\n",
       "        <span style=\"color: #008000; text-decoration-color: #008000\">'4'</span>: <span style=\"font-weight: bold\">{</span>\n",
       "            <span style=\"color: #008000; text-decoration-color: #008000\">'precision'</span>: <span style=\"color: #008080; text-decoration-color: #008080; font-weight: bold\">0.9433962264150944</span>,\n",
       "            <span style=\"color: #008000; text-decoration-color: #008000\">'recall'</span>: <span style=\"color: #008080; text-decoration-color: #008080; font-weight: bold\">0.8849557522123894</span>,\n",
       "            <span style=\"color: #008000; text-decoration-color: #008000\">'f1-score'</span>: <span style=\"color: #008080; text-decoration-color: #008080; font-weight: bold\">0.91324200913242</span>,\n",
       "            <span style=\"color: #008000; text-decoration-color: #008000\">'support'</span>: <span style=\"color: #008080; text-decoration-color: #008080; font-weight: bold\">113</span>\n",
       "        <span style=\"font-weight: bold\">}</span>,\n",
       "        <span style=\"color: #008000; text-decoration-color: #008000\">'5'</span>: <span style=\"font-weight: bold\">{</span>\n",
       "            <span style=\"color: #008000; text-decoration-color: #008000\">'precision'</span>: <span style=\"color: #008080; text-decoration-color: #008080; font-weight: bold\">0.7878787878787878</span>,\n",
       "            <span style=\"color: #008000; text-decoration-color: #008000\">'recall'</span>: <span style=\"color: #008080; text-decoration-color: #008080; font-weight: bold\">0.9629629629629629</span>,\n",
       "            <span style=\"color: #008000; text-decoration-color: #008000\">'f1-score'</span>: <span style=\"color: #008080; text-decoration-color: #008080; font-weight: bold\">0.8666666666666665</span>,\n",
       "            <span style=\"color: #008000; text-decoration-color: #008000\">'support'</span>: <span style=\"color: #008080; text-decoration-color: #008080; font-weight: bold\">81</span>\n",
       "        <span style=\"font-weight: bold\">}</span>,\n",
       "        <span style=\"color: #008000; text-decoration-color: #008000\">'accuracy'</span>: <span style=\"color: #008080; text-decoration-color: #008080; font-weight: bold\">0.838</span>,\n",
       "        <span style=\"color: #008000; text-decoration-color: #008000\">'macro avg'</span>: <span style=\"font-weight: bold\">{</span>\n",
       "            <span style=\"color: #008000; text-decoration-color: #008000\">'precision'</span>: <span style=\"color: #008080; text-decoration-color: #008080; font-weight: bold\">0.7717628682596748</span>,\n",
       "            <span style=\"color: #008000; text-decoration-color: #008000\">'recall'</span>: <span style=\"color: #008080; text-decoration-color: #008080; font-weight: bold\">0.8343957337951209</span>,\n",
       "            <span style=\"color: #008000; text-decoration-color: #008000\">'f1-score'</span>: <span style=\"color: #008080; text-decoration-color: #008080; font-weight: bold\">0.7860309723066025</span>,\n",
       "            <span style=\"color: #008000; text-decoration-color: #008000\">'support'</span>: <span style=\"color: #008080; text-decoration-color: #008080; font-weight: bold\">500</span>\n",
       "        <span style=\"font-weight: bold\">}</span>,\n",
       "        <span style=\"color: #008000; text-decoration-color: #008000\">'weighted avg'</span>: <span style=\"font-weight: bold\">{</span>\n",
       "            <span style=\"color: #008000; text-decoration-color: #008000\">'precision'</span>: <span style=\"color: #008080; text-decoration-color: #008080; font-weight: bold\">0.8500872398231903</span>,\n",
       "            <span style=\"color: #008000; text-decoration-color: #008000\">'recall'</span>: <span style=\"color: #008080; text-decoration-color: #008080; font-weight: bold\">0.838</span>,\n",
       "            <span style=\"color: #008000; text-decoration-color: #008000\">'f1-score'</span>: <span style=\"color: #008080; text-decoration-color: #008080; font-weight: bold\">0.8388004443149147</span>,\n",
       "            <span style=\"color: #008000; text-decoration-color: #008000\">'support'</span>: <span style=\"color: #008080; text-decoration-color: #008080; font-weight: bold\">500</span>\n",
       "        <span style=\"font-weight: bold\">}</span>\n",
       "    <span style=\"font-weight: bold\">}</span>\n",
       "<span style=\"font-weight: bold\">}</span>\n",
       "</pre>\n"
      ],
      "text/plain": [
       "\u001B[1m{\u001B[0m\n",
       "    \u001B[32m'classification_report'\u001B[0m: \u001B[1m{\u001B[0m\n",
       "        \u001B[32m'0'\u001B[0m: \u001B[1m{\u001B[0m\n",
       "            \u001B[32m'precision'\u001B[0m: \u001B[1;36m0.8592592592592593\u001B[0m,\n",
       "            \u001B[32m'recall'\u001B[0m: \u001B[1;36m0.8405797101449275\u001B[0m,\n",
       "            \u001B[32m'f1-score'\u001B[0m: \u001B[1;36m0.8498168498168497\u001B[0m,\n",
       "            \u001B[32m'support'\u001B[0m: \u001B[1;36m138\u001B[0m\n",
       "        \u001B[1m}\u001B[0m,\n",
       "        \u001B[32m'1'\u001B[0m: \u001B[1m{\u001B[0m\n",
       "            \u001B[32m'precision'\u001B[0m: \u001B[1;36m0.7945205479452054\u001B[0m,\n",
       "            \u001B[32m'recall'\u001B[0m: \u001B[1;36m0.6170212765957447\u001B[0m,\n",
       "            \u001B[32m'f1-score'\u001B[0m: \u001B[1;36m0.6946107784431137\u001B[0m,\n",
       "            \u001B[32m'support'\u001B[0m: \u001B[1;36m94\u001B[0m\n",
       "        \u001B[1m}\u001B[0m,\n",
       "        \u001B[32m'2'\u001B[0m: \u001B[1m{\u001B[0m\n",
       "            \u001B[32m'precision'\u001B[0m: \u001B[1;36m0.35\u001B[0m,\n",
       "            \u001B[32m'recall'\u001B[0m: \u001B[1;36m0.7777777777777778\u001B[0m,\n",
       "            \u001B[32m'f1-score'\u001B[0m: \u001B[1;36m0.48275862068965514\u001B[0m,\n",
       "            \u001B[32m'support'\u001B[0m: \u001B[1;36m9\u001B[0m\n",
       "        \u001B[1m}\u001B[0m,\n",
       "        \u001B[32m'3'\u001B[0m: \u001B[1m{\u001B[0m\n",
       "            \u001B[32m'precision'\u001B[0m: \u001B[1;36m0.8955223880597015\u001B[0m,\n",
       "            \u001B[32m'recall'\u001B[0m: \u001B[1;36m0.9230769230769231\u001B[0m,\n",
       "            \u001B[32m'f1-score'\u001B[0m: \u001B[1;36m0.9090909090909091\u001B[0m,\n",
       "            \u001B[32m'support'\u001B[0m: \u001B[1;36m65\u001B[0m\n",
       "        \u001B[1m}\u001B[0m,\n",
       "        \u001B[32m'4'\u001B[0m: \u001B[1m{\u001B[0m\n",
       "            \u001B[32m'precision'\u001B[0m: \u001B[1;36m0.9433962264150944\u001B[0m,\n",
       "            \u001B[32m'recall'\u001B[0m: \u001B[1;36m0.8849557522123894\u001B[0m,\n",
       "            \u001B[32m'f1-score'\u001B[0m: \u001B[1;36m0.91324200913242\u001B[0m,\n",
       "            \u001B[32m'support'\u001B[0m: \u001B[1;36m113\u001B[0m\n",
       "        \u001B[1m}\u001B[0m,\n",
       "        \u001B[32m'5'\u001B[0m: \u001B[1m{\u001B[0m\n",
       "            \u001B[32m'precision'\u001B[0m: \u001B[1;36m0.7878787878787878\u001B[0m,\n",
       "            \u001B[32m'recall'\u001B[0m: \u001B[1;36m0.9629629629629629\u001B[0m,\n",
       "            \u001B[32m'f1-score'\u001B[0m: \u001B[1;36m0.8666666666666665\u001B[0m,\n",
       "            \u001B[32m'support'\u001B[0m: \u001B[1;36m81\u001B[0m\n",
       "        \u001B[1m}\u001B[0m,\n",
       "        \u001B[32m'accuracy'\u001B[0m: \u001B[1;36m0.838\u001B[0m,\n",
       "        \u001B[32m'macro avg'\u001B[0m: \u001B[1m{\u001B[0m\n",
       "            \u001B[32m'precision'\u001B[0m: \u001B[1;36m0.7717628682596748\u001B[0m,\n",
       "            \u001B[32m'recall'\u001B[0m: \u001B[1;36m0.8343957337951209\u001B[0m,\n",
       "            \u001B[32m'f1-score'\u001B[0m: \u001B[1;36m0.7860309723066025\u001B[0m,\n",
       "            \u001B[32m'support'\u001B[0m: \u001B[1;36m500\u001B[0m\n",
       "        \u001B[1m}\u001B[0m,\n",
       "        \u001B[32m'weighted avg'\u001B[0m: \u001B[1m{\u001B[0m\n",
       "            \u001B[32m'precision'\u001B[0m: \u001B[1;36m0.8500872398231903\u001B[0m,\n",
       "            \u001B[32m'recall'\u001B[0m: \u001B[1;36m0.838\u001B[0m,\n",
       "            \u001B[32m'f1-score'\u001B[0m: \u001B[1;36m0.8388004443149147\u001B[0m,\n",
       "            \u001B[32m'support'\u001B[0m: \u001B[1;36m500\u001B[0m\n",
       "        \u001B[1m}\u001B[0m\n",
       "    \u001B[1m}\u001B[0m\n",
       "\u001B[1m}\u001B[0m\n"
      ]
     },
     "metadata": {},
     "output_type": "display_data"
    }
   ],
   "source": [
    "print(results[\"EvaluateTask\"][\"results\"][\"evaluation_results\"][\"test\"])"
   ]
  },
  {
   "cell_type": "markdown",
   "metadata": {
    "pycharm": {
     "name": "#%% md\n"
    }
   },
   "source": [
    "## **Grid Search:**\n",
    "\n",
    "We can extend this pipeline and include grid search to find hyper-parameter tuning on the whole pipeline.\n",
    "To enable grid search on a particular task, we just have specify `expand` parameter with either `\"product\"` or `\"zip\"`.\n",
    "\n",
    "Depending on the selected grid search expansion method, Flow would expand this task into several task instances with provided combinations of `max_iter` and `balanced`. Namely, `expand=\"product\"` (default) will create 4 task instances for each explicit cross-product parameter combination. Alternatively, `expand=\"zip\"` expands the config parameters by zipping over the different parameter lists, creating 2 task instances for the above example with the combinations `[(50, True), (100, False)]`. When choosing `zip` one has to make sure that all parameter lists are of equal lengths. \n",
    "\n",
    "Any successor tasks (for instance, evaluate task) in the task graph will also be automatically extended. In our example, we have 8 evaluate tasks."
   ]
  },
  {
   "cell_type": "markdown",
   "metadata": {
    "pycharm": {
     "name": "#%% md\n"
    }
   },
   "source": [
    "### **Model Selection Task:**\n",
    "\n",
    "Ok that's nice. We have now several evaluation tasks and once we run this task graph through Flow, we will have several evaluation tasks and their results.\n",
    "We can implement a model selection task, which consolidates these results and fetches the best config for the pipeline.\n",
    "\n",
    "```python\n",
    "class ModelSelectionTask(Task):\n",
    "    def __init__(self):\n",
    "        super().__init__()\n",
    "\n",
    "    def run(self, evaluation_results: List[Sweep]):\n",
    "        sorted_results = sorted(\n",
    "            evaluation_results,\n",
    "            key=lambda model_result: model_result.value[\"val\"][\"classification_report\"][\"macro avg\"][\"f1-score\"],\n",
    "            reverse=True,\n",
    "        )\n",
    "        self.save(sorted_results[0].config, \"best_config\")\n",
    "        self.save(sorted_results[0].value, \"best_performance\")\n",
    "```\n",
    "\n",
    "\n",
    "**Note:** Now, we can attach the EvaluationTask as a predecessor to ModelSelectionTask. However, if we do it naively, we would end up with 4 model selection tasks since we have 4 evaluation tasks.\n",
    "So, we just have to specify `reduce=True` so only one instance of model selection task is created and all of the evaluation tasks are attached as parents to it.\n",
    "\n",
    "```python\n",
    "model_selection_task = TaskSpec(task=ModelSelectionTask, reduce=True)\n",
    "model_selection_task.requires(evaluate_task)\n",
    "```\n",
    "Finally, putting all of these together:"
   ]
  },
  {
   "cell_type": "code",
   "execution_count": 9,
   "metadata": {
    "collapsed": false,
    "jupyter": {
     "outputs_hidden": false
    },
    "pycharm": {
     "name": "#%%\n"
    }
   },
   "outputs": [],
   "source": [
    "# create all task specs\n",
    "dataset_fetch_task = TaskSpec(task=DatasetFetchTask)\n",
    "pre_process_task = TaskSpec(task=PreProcessTask, config={\"pre_processing_steps\": [\"lower_case\", \"remove_punct\"]})\n",
    "featurize_task_1 = TaskSpec(task=GloveFeaturizeTask)\n",
    "featurize_task_2 = TaskSpec(\n",
    "    task=TFIDFFeaturizeTask, config={\"min_df\": 5, \"max_features\": [1000, 2000]}, expand=\"product\"\n",
    ")\n",
    "train_task = TaskSpec(task=TrainTask, config={\"max_iter\": [50, 100], \"balanced\": [True, False]}, expand=\"product\")\n",
    "evaluate_task = TaskSpec(task=EvaluateTask)\n",
    "model_selection_task = TaskSpec(task=ModelSelectionTask, reduce=True)"
   ]
  },
  {
   "cell_type": "code",
   "execution_count": 10,
   "metadata": {
    "collapsed": false,
    "jupyter": {
     "outputs_hidden": false
    },
    "pycharm": {
     "name": "#%%\n"
    }
   },
   "outputs": [],
   "source": [
    "# dependencies between tasks\n",
    "pre_process_task.requires(dataset_fetch_task)\n",
    "featurize_task_1.requires(pre_process_task)\n",
    "featurize_task_2.requires(pre_process_task)\n",
    "train_task.requires(dataset_fetch_task, featurize_task_1, featurize_task_2)\n",
    "evaluate_task.requires(dataset_fetch_task, featurize_task_1, featurize_task_2, train_task)\n",
    "model_selection_task.requires(evaluate_task)"
   ]
  },
  {
   "cell_type": "code",
   "execution_count": 11,
   "metadata": {
    "collapsed": false,
    "jupyter": {
     "outputs_hidden": false
    },
    "pycharm": {
     "name": "#%%\n"
    }
   },
   "outputs": [
    {
     "data": {
      "text/html": [
       "<pre style=\"white-space:pre;overflow-x:auto;line-height:normal;font-family:Menlo,'DejaVu Sans Mono',consolas,'Courier New',monospace\"><span style=\"color: #7fbfbf; text-decoration-color: #7fbfbf\">[03/06/23 21:56:48] </span><span style=\"color: #000080; text-decoration-color: #000080\">INFO    </span> MainProcess  Execute run <span style=\"color: #008000; text-decoration-color: #008000\">\"discrete-pizza\"</span> using multiprocessing \n",
       "<span style=\"color: #7fbfbf; text-decoration-color: #7fbfbf\">                    </span>         with <span style=\"color: #008080; text-decoration-color: #008080; font-weight: bold\">8</span> workers                                                  \n",
       "</pre>\n"
      ],
      "text/plain": [
       "\u001B[2;36m[03/06/23 21:56:48]\u001B[0m\u001B[2;36m \u001B[0m\u001B[34mINFO    \u001B[0m MainProcess  Execute run \u001B[32m\"discrete-pizza\"\u001B[0m using multiprocessing \n",
       "\u001B[2;36m                    \u001B[0m         with \u001B[1;36m8\u001B[0m workers                                                  \n"
      ]
     },
     "metadata": {},
     "output_type": "display_data"
    },
    {
     "data": {
      "text/html": [
       "<pre style=\"white-space:pre;overflow-x:auto;line-height:normal;font-family:Menlo,'DejaVu Sans Mono',consolas,'Courier New',monospace\"><span style=\"color: #7fbfbf; text-decoration-color: #7fbfbf\">[03/06/23 21:56:50] </span><span style=\"color: #000080; text-decoration-color: #000080\">INFO    </span> Dolphin-<span style=\"color: #008080; text-decoration-color: #008080; font-weight: bold\">4</span>    Started task <span style=\"color: #008000; text-decoration-color: #008000\">\"DatasetFetchTask\"</span>                    \n",
       "</pre>\n"
      ],
      "text/plain": [
       "\u001B[2;36m[03/06/23 21:56:50]\u001B[0m\u001B[2;36m \u001B[0m\u001B[34mINFO    \u001B[0m Dolphin-\u001B[1;36m4\u001B[0m    Started task \u001B[32m\"DatasetFetchTask\"\u001B[0m                    \n"
      ]
     },
     "metadata": {},
     "output_type": "display_data"
    },
    {
     "data": {
      "text/html": [
       "<pre style=\"white-space:pre;overflow-x:auto;line-height:normal;font-family:Menlo,'DejaVu Sans Mono',consolas,'Courier New',monospace\"><span style=\"color: #7fbfbf; text-decoration-color: #7fbfbf\">[03/06/23 21:56:51] </span><span style=\"color: #000080; text-decoration-color: #000080\">INFO    </span> Dolphin-<span style=\"color: #008080; text-decoration-color: #008080; font-weight: bold\">4</span>    Finished task <span style=\"color: #008000; text-decoration-color: #008000\">\"DatasetFetchTask\"</span> <span style=\"font-weight: bold\">[</span><span style=\"color: #008080; text-decoration-color: #008080; font-weight: bold\">1</span>/<span style=\"color: #008080; text-decoration-color: #008080; font-weight: bold\">22</span> - <span style=\"color: #008080; text-decoration-color: #008080; font-weight: bold\">5</span>%<span style=\"font-weight: bold\">]</span>       \n",
       "</pre>\n"
      ],
      "text/plain": [
       "\u001B[2;36m[03/06/23 21:56:51]\u001B[0m\u001B[2;36m \u001B[0m\u001B[34mINFO    \u001B[0m Dolphin-\u001B[1;36m4\u001B[0m    Finished task \u001B[32m\"DatasetFetchTask\"\u001B[0m \u001B[1m[\u001B[0m\u001B[1;36m1\u001B[0m/\u001B[1;36m22\u001B[0m - \u001B[1;36m5\u001B[0m%\u001B[1m]\u001B[0m       \n"
      ]
     },
     "metadata": {},
     "output_type": "display_data"
    },
    {
     "data": {
      "text/html": [
       "<pre style=\"white-space:pre;overflow-x:auto;line-height:normal;font-family:Menlo,'DejaVu Sans Mono',consolas,'Courier New',monospace\"><span style=\"color: #7fbfbf; text-decoration-color: #7fbfbf\">[03/06/23 21:56:51] </span><span style=\"color: #000080; text-decoration-color: #000080\">INFO    </span> Dolphin-<span style=\"color: #008080; text-decoration-color: #008080; font-weight: bold\">6</span>    Started task <span style=\"color: #008000; text-decoration-color: #008000\">\"PreProcessTask\"</span>                      \n",
       "</pre>\n"
      ],
      "text/plain": [
       "\u001B[2;36m[03/06/23 21:56:51]\u001B[0m\u001B[2;36m \u001B[0m\u001B[34mINFO    \u001B[0m Dolphin-\u001B[1;36m6\u001B[0m    Started task \u001B[32m\"PreProcessTask\"\u001B[0m                      \n"
      ]
     },
     "metadata": {},
     "output_type": "display_data"
    },
    {
     "data": {
      "text/html": [
       "<pre style=\"white-space:pre;overflow-x:auto;line-height:normal;font-family:Menlo,'DejaVu Sans Mono',consolas,'Courier New',monospace\"><span style=\"color: #7fbfbf; text-decoration-color: #7fbfbf\">[03/06/23 21:56:51] </span><span style=\"color: #000080; text-decoration-color: #000080\">INFO    </span> Dolphin-<span style=\"color: #008080; text-decoration-color: #008080; font-weight: bold\">6</span>    Finished task <span style=\"color: #008000; text-decoration-color: #008000\">\"PreProcessTask\"</span> <span style=\"font-weight: bold\">[</span><span style=\"color: #008080; text-decoration-color: #008080; font-weight: bold\">2</span>/<span style=\"color: #008080; text-decoration-color: #008080; font-weight: bold\">22</span> - <span style=\"color: #008080; text-decoration-color: #008080; font-weight: bold\">9</span>%<span style=\"font-weight: bold\">]</span>         \n",
       "</pre>\n"
      ],
      "text/plain": [
       "\u001B[2;36m[03/06/23 21:56:51]\u001B[0m\u001B[2;36m \u001B[0m\u001B[34mINFO    \u001B[0m Dolphin-\u001B[1;36m6\u001B[0m    Finished task \u001B[32m\"PreProcessTask\"\u001B[0m \u001B[1m[\u001B[0m\u001B[1;36m2\u001B[0m/\u001B[1;36m22\u001B[0m - \u001B[1;36m9\u001B[0m%\u001B[1m]\u001B[0m         \n"
      ]
     },
     "metadata": {},
     "output_type": "display_data"
    },
    {
     "data": {
      "text/html": [
       "<pre style=\"white-space:pre;overflow-x:auto;line-height:normal;font-family:Menlo,'DejaVu Sans Mono',consolas,'Courier New',monospace\"><span style=\"color: #7fbfbf; text-decoration-color: #7fbfbf\">[03/06/23 21:56:52] </span><span style=\"color: #000080; text-decoration-color: #000080\">INFO    </span> Dolphin-<span style=\"color: #008080; text-decoration-color: #008080; font-weight: bold\">8</span>    Started task <span style=\"color: #008000; text-decoration-color: #008000\">\"TFIDFFeaturizeTask-1\"</span>                \n",
       "</pre>\n"
      ],
      "text/plain": [
       "\u001B[2;36m[03/06/23 21:56:52]\u001B[0m\u001B[2;36m \u001B[0m\u001B[34mINFO    \u001B[0m Dolphin-\u001B[1;36m8\u001B[0m    Started task \u001B[32m\"TFIDFFeaturizeTask-1\"\u001B[0m                \n"
      ]
     },
     "metadata": {},
     "output_type": "display_data"
    },
    {
     "data": {
      "text/html": [
       "<pre style=\"white-space:pre;overflow-x:auto;line-height:normal;font-family:Menlo,'DejaVu Sans Mono',consolas,'Courier New',monospace\"><span style=\"color: #7fbfbf; text-decoration-color: #7fbfbf\">[03/06/23 21:56:52] </span><span style=\"color: #000080; text-decoration-color: #000080\">INFO    </span> Dolphin-<span style=\"color: #008080; text-decoration-color: #008080; font-weight: bold\">5</span>    Started task <span style=\"color: #008000; text-decoration-color: #008000\">\"TFIDFFeaturizeTask-2\"</span>                \n",
       "</pre>\n"
      ],
      "text/plain": [
       "\u001B[2;36m[03/06/23 21:56:52]\u001B[0m\u001B[2;36m \u001B[0m\u001B[34mINFO    \u001B[0m Dolphin-\u001B[1;36m5\u001B[0m    Started task \u001B[32m\"TFIDFFeaturizeTask-2\"\u001B[0m                \n"
      ]
     },
     "metadata": {},
     "output_type": "display_data"
    },
    {
     "data": {
      "text/html": [
       "<pre style=\"white-space:pre;overflow-x:auto;line-height:normal;font-family:Menlo,'DejaVu Sans Mono',consolas,'Courier New',monospace\"><span style=\"color: #7fbfbf; text-decoration-color: #7fbfbf\">[03/06/23 21:56:52] </span><span style=\"color: #000080; text-decoration-color: #000080\">INFO    </span> Dolphin-<span style=\"color: #008080; text-decoration-color: #008080; font-weight: bold\">7</span>    Started task <span style=\"color: #008000; text-decoration-color: #008000\">\"GloveFeaturizeTask\"</span>                  \n",
       "</pre>\n"
      ],
      "text/plain": [
       "\u001B[2;36m[03/06/23 21:56:52]\u001B[0m\u001B[2;36m \u001B[0m\u001B[34mINFO    \u001B[0m Dolphin-\u001B[1;36m7\u001B[0m    Started task \u001B[32m\"GloveFeaturizeTask\"\u001B[0m                  \n"
      ]
     },
     "metadata": {},
     "output_type": "display_data"
    },
    {
     "data": {
      "text/html": [
       "<pre style=\"white-space:pre;overflow-x:auto;line-height:normal;font-family:Menlo,'DejaVu Sans Mono',consolas,'Courier New',monospace\"><span style=\"color: #7fbfbf; text-decoration-color: #7fbfbf\">[03/06/23 21:56:52] </span><span style=\"color: #000080; text-decoration-color: #000080\">INFO    </span> Dolphin-<span style=\"color: #008080; text-decoration-color: #008080; font-weight: bold\">7</span>    loading Word2VecKeyedVectors object from           \n",
       "<span style=\"color: #7fbfbf; text-decoration-color: #7fbfbf\">                    </span>         <span style=\"color: #800080; text-decoration-color: #800080\">/root/.flair/embeddings/</span><span style=\"color: #ff00ff; text-decoration-color: #ff00ff\">glove.gensim</span>                            \n",
       "</pre>\n"
      ],
      "text/plain": [
       "\u001B[2;36m[03/06/23 21:56:52]\u001B[0m\u001B[2;36m \u001B[0m\u001B[34mINFO    \u001B[0m Dolphin-\u001B[1;36m7\u001B[0m    loading Word2VecKeyedVectors object from           \n",
       "\u001B[2;36m                    \u001B[0m         \u001B[35m/root/.flair/embeddings/\u001B[0m\u001B[95mglove.gensim\u001B[0m                            \n"
      ]
     },
     "metadata": {},
     "output_type": "display_data"
    },
    {
     "data": {
      "text/html": [
       "<pre style=\"white-space:pre;overflow-x:auto;line-height:normal;font-family:Menlo,'DejaVu Sans Mono',consolas,'Courier New',monospace\"><span style=\"color: #7fbfbf; text-decoration-color: #7fbfbf\">[03/06/23 21:56:53] </span><span style=\"color: #000080; text-decoration-color: #000080\">INFO    </span> Dolphin-<span style=\"color: #008080; text-decoration-color: #008080; font-weight: bold\">7</span>    loading vectors from                               \n",
       "<span style=\"color: #7fbfbf; text-decoration-color: #7fbfbf\">                    </span>         <span style=\"color: #800080; text-decoration-color: #800080\">/root/.flair/embeddings/</span><span style=\"color: #ff00ff; text-decoration-color: #ff00ff\">glove.gensim.vectors.npy</span> with <span style=\"color: #808000; text-decoration-color: #808000\">mmap</span>=<span style=\"color: #800080; text-decoration-color: #800080; font-style: italic\">None</span> \n",
       "</pre>\n"
      ],
      "text/plain": [
       "\u001B[2;36m[03/06/23 21:56:53]\u001B[0m\u001B[2;36m \u001B[0m\u001B[34mINFO    \u001B[0m Dolphin-\u001B[1;36m7\u001B[0m    loading vectors from                               \n",
       "\u001B[2;36m                    \u001B[0m         \u001B[35m/root/.flair/embeddings/\u001B[0m\u001B[95mglove.gensim.vectors.npy\u001B[0m with \u001B[33mmmap\u001B[0m=\u001B[3;35mNone\u001B[0m \n"
      ]
     },
     "metadata": {},
     "output_type": "display_data"
    },
    {
     "data": {
      "text/html": [
       "<pre style=\"white-space:pre;overflow-x:auto;line-height:normal;font-family:Menlo,'DejaVu Sans Mono',consolas,'Courier New',monospace\"><span style=\"color: #7fbfbf; text-decoration-color: #7fbfbf\">[03/06/23 21:56:53] </span><span style=\"color: #000080; text-decoration-color: #000080\">INFO    </span> Dolphin-<span style=\"color: #008080; text-decoration-color: #008080; font-weight: bold\">7</span>    setting ignored attribute vectors_norm to <span style=\"color: #800080; text-decoration-color: #800080; font-style: italic\">None</span>     \n",
       "</pre>\n"
      ],
      "text/plain": [
       "\u001B[2;36m[03/06/23 21:56:53]\u001B[0m\u001B[2;36m \u001B[0m\u001B[34mINFO    \u001B[0m Dolphin-\u001B[1;36m7\u001B[0m    setting ignored attribute vectors_norm to \u001B[3;35mNone\u001B[0m     \n"
      ]
     },
     "metadata": {},
     "output_type": "display_data"
    },
    {
     "data": {
      "text/html": [
       "<pre style=\"white-space:pre;overflow-x:auto;line-height:normal;font-family:Menlo,'DejaVu Sans Mono',consolas,'Courier New',monospace\"><span style=\"color: #7fbfbf; text-decoration-color: #7fbfbf\">[03/06/23 21:56:53] </span><span style=\"color: #000080; text-decoration-color: #000080\">INFO    </span> Dolphin-<span style=\"color: #008080; text-decoration-color: #008080; font-weight: bold\">7</span>    loaded <span style=\"color: #800080; text-decoration-color: #800080\">/root/.flair/embeddings/</span><span style=\"color: #ff00ff; text-decoration-color: #ff00ff\">glove.gensim</span>        \n",
       "</pre>\n"
      ],
      "text/plain": [
       "\u001B[2;36m[03/06/23 21:56:53]\u001B[0m\u001B[2;36m \u001B[0m\u001B[34mINFO    \u001B[0m Dolphin-\u001B[1;36m7\u001B[0m    loaded \u001B[35m/root/.flair/embeddings/\u001B[0m\u001B[95mglove.gensim\u001B[0m        \n"
      ]
     },
     "metadata": {},
     "output_type": "display_data"
    },
    {
     "data": {
      "text/html": [
       "<pre style=\"white-space:pre;overflow-x:auto;line-height:normal;font-family:Menlo,'DejaVu Sans Mono',consolas,'Courier New',monospace\"><span style=\"color: #7fbfbf; text-decoration-color: #7fbfbf\">[03/06/23 21:56:54] </span><span style=\"color: #000080; text-decoration-color: #000080\">INFO    </span> Dolphin-<span style=\"color: #008080; text-decoration-color: #008080; font-weight: bold\">5</span>    Finished task <span style=\"color: #008000; text-decoration-color: #008000\">\"TFIDFFeaturizeTask-2\"</span> <span style=\"font-weight: bold\">[</span><span style=\"color: #008080; text-decoration-color: #008080; font-weight: bold\">3</span>/<span style=\"color: #008080; text-decoration-color: #008080; font-weight: bold\">22</span> - <span style=\"color: #008080; text-decoration-color: #008080; font-weight: bold\">14</span>%<span style=\"font-weight: bold\">]</span>  \n",
       "</pre>\n"
      ],
      "text/plain": [
       "\u001B[2;36m[03/06/23 21:56:54]\u001B[0m\u001B[2;36m \u001B[0m\u001B[34mINFO    \u001B[0m Dolphin-\u001B[1;36m5\u001B[0m    Finished task \u001B[32m\"TFIDFFeaturizeTask-2\"\u001B[0m \u001B[1m[\u001B[0m\u001B[1;36m3\u001B[0m/\u001B[1;36m22\u001B[0m - \u001B[1;36m14\u001B[0m%\u001B[1m]\u001B[0m  \n"
      ]
     },
     "metadata": {},
     "output_type": "display_data"
    },
    {
     "data": {
      "text/html": [
       "<pre style=\"white-space:pre;overflow-x:auto;line-height:normal;font-family:Menlo,'DejaVu Sans Mono',consolas,'Courier New',monospace\"><span style=\"color: #7fbfbf; text-decoration-color: #7fbfbf\">[03/06/23 21:56:55] </span><span style=\"color: #000080; text-decoration-color: #000080\">INFO    </span> Dolphin-<span style=\"color: #008080; text-decoration-color: #008080; font-weight: bold\">8</span>    Finished task <span style=\"color: #008000; text-decoration-color: #008000\">\"TFIDFFeaturizeTask-1\"</span> <span style=\"font-weight: bold\">[</span><span style=\"color: #008080; text-decoration-color: #008080; font-weight: bold\">4</span>/<span style=\"color: #008080; text-decoration-color: #008080; font-weight: bold\">22</span> - <span style=\"color: #008080; text-decoration-color: #008080; font-weight: bold\">18</span>%<span style=\"font-weight: bold\">]</span>  \n",
       "</pre>\n"
      ],
      "text/plain": [
       "\u001B[2;36m[03/06/23 21:56:55]\u001B[0m\u001B[2;36m \u001B[0m\u001B[34mINFO    \u001B[0m Dolphin-\u001B[1;36m8\u001B[0m    Finished task \u001B[32m\"TFIDFFeaturizeTask-1\"\u001B[0m \u001B[1m[\u001B[0m\u001B[1;36m4\u001B[0m/\u001B[1;36m22\u001B[0m - \u001B[1;36m18\u001B[0m%\u001B[1m]\u001B[0m  \n"
      ]
     },
     "metadata": {},
     "output_type": "display_data"
    },
    {
     "data": {
      "text/html": [
       "<pre style=\"white-space:pre;overflow-x:auto;line-height:normal;font-family:Menlo,'DejaVu Sans Mono',consolas,'Courier New',monospace\"><span style=\"color: #7fbfbf; text-decoration-color: #7fbfbf\">[03/06/23 21:57:32] </span><span style=\"color: #000080; text-decoration-color: #000080\">INFO    </span> Dolphin-<span style=\"color: #008080; text-decoration-color: #008080; font-weight: bold\">7</span>    loading Word2VecKeyedVectors object from           \n",
       "<span style=\"color: #7fbfbf; text-decoration-color: #7fbfbf\">                    </span>         <span style=\"color: #800080; text-decoration-color: #800080\">/root/.flair/embeddings/</span><span style=\"color: #ff00ff; text-decoration-color: #ff00ff\">glove.gensim</span>                            \n",
       "</pre>\n"
      ],
      "text/plain": [
       "\u001B[2;36m[03/06/23 21:57:32]\u001B[0m\u001B[2;36m \u001B[0m\u001B[34mINFO    \u001B[0m Dolphin-\u001B[1;36m7\u001B[0m    loading Word2VecKeyedVectors object from           \n",
       "\u001B[2;36m                    \u001B[0m         \u001B[35m/root/.flair/embeddings/\u001B[0m\u001B[95mglove.gensim\u001B[0m                            \n"
      ]
     },
     "metadata": {},
     "output_type": "display_data"
    },
    {
     "data": {
      "text/html": [
       "<pre style=\"white-space:pre;overflow-x:auto;line-height:normal;font-family:Menlo,'DejaVu Sans Mono',consolas,'Courier New',monospace\"><span style=\"color: #7fbfbf; text-decoration-color: #7fbfbf\">[03/06/23 21:57:33] </span><span style=\"color: #000080; text-decoration-color: #000080\">INFO    </span> Dolphin-<span style=\"color: #008080; text-decoration-color: #008080; font-weight: bold\">7</span>    loading vectors from                               \n",
       "<span style=\"color: #7fbfbf; text-decoration-color: #7fbfbf\">                    </span>         <span style=\"color: #800080; text-decoration-color: #800080\">/root/.flair/embeddings/</span><span style=\"color: #ff00ff; text-decoration-color: #ff00ff\">glove.gensim.vectors.npy</span> with <span style=\"color: #808000; text-decoration-color: #808000\">mmap</span>=<span style=\"color: #800080; text-decoration-color: #800080; font-style: italic\">None</span> \n",
       "</pre>\n"
      ],
      "text/plain": [
       "\u001B[2;36m[03/06/23 21:57:33]\u001B[0m\u001B[2;36m \u001B[0m\u001B[34mINFO    \u001B[0m Dolphin-\u001B[1;36m7\u001B[0m    loading vectors from                               \n",
       "\u001B[2;36m                    \u001B[0m         \u001B[35m/root/.flair/embeddings/\u001B[0m\u001B[95mglove.gensim.vectors.npy\u001B[0m with \u001B[33mmmap\u001B[0m=\u001B[3;35mNone\u001B[0m \n"
      ]
     },
     "metadata": {},
     "output_type": "display_data"
    },
    {
     "data": {
      "text/html": [
       "<pre style=\"white-space:pre;overflow-x:auto;line-height:normal;font-family:Menlo,'DejaVu Sans Mono',consolas,'Courier New',monospace\"><span style=\"color: #7fbfbf; text-decoration-color: #7fbfbf\">[03/06/23 21:57:33] </span><span style=\"color: #000080; text-decoration-color: #000080\">INFO    </span> Dolphin-<span style=\"color: #008080; text-decoration-color: #008080; font-weight: bold\">7</span>    setting ignored attribute vectors_norm to <span style=\"color: #800080; text-decoration-color: #800080; font-style: italic\">None</span>     \n",
       "</pre>\n"
      ],
      "text/plain": [
       "\u001B[2;36m[03/06/23 21:57:33]\u001B[0m\u001B[2;36m \u001B[0m\u001B[34mINFO    \u001B[0m Dolphin-\u001B[1;36m7\u001B[0m    setting ignored attribute vectors_norm to \u001B[3;35mNone\u001B[0m     \n"
      ]
     },
     "metadata": {},
     "output_type": "display_data"
    },
    {
     "data": {
      "text/html": [
       "<pre style=\"white-space:pre;overflow-x:auto;line-height:normal;font-family:Menlo,'DejaVu Sans Mono',consolas,'Courier New',monospace\"><span style=\"color: #7fbfbf; text-decoration-color: #7fbfbf\">[03/06/23 21:57:33] </span><span style=\"color: #000080; text-decoration-color: #000080\">INFO    </span> Dolphin-<span style=\"color: #008080; text-decoration-color: #008080; font-weight: bold\">7</span>    loaded <span style=\"color: #800080; text-decoration-color: #800080\">/root/.flair/embeddings/</span><span style=\"color: #ff00ff; text-decoration-color: #ff00ff\">glove.gensim</span>        \n",
       "</pre>\n"
      ],
      "text/plain": [
       "\u001B[2;36m[03/06/23 21:57:33]\u001B[0m\u001B[2;36m \u001B[0m\u001B[34mINFO    \u001B[0m Dolphin-\u001B[1;36m7\u001B[0m    loaded \u001B[35m/root/.flair/embeddings/\u001B[0m\u001B[95mglove.gensim\u001B[0m        \n"
      ]
     },
     "metadata": {},
     "output_type": "display_data"
    },
    {
     "data": {
      "text/html": [
       "<pre style=\"white-space:pre;overflow-x:auto;line-height:normal;font-family:Menlo,'DejaVu Sans Mono',consolas,'Courier New',monospace\"><span style=\"color: #7fbfbf; text-decoration-color: #7fbfbf\">[03/06/23 21:57:52] </span><span style=\"color: #000080; text-decoration-color: #000080\">INFO    </span> Dolphin-<span style=\"color: #008080; text-decoration-color: #008080; font-weight: bold\">7</span>    loading Word2VecKeyedVectors object from           \n",
       "<span style=\"color: #7fbfbf; text-decoration-color: #7fbfbf\">                    </span>         <span style=\"color: #800080; text-decoration-color: #800080\">/root/.flair/embeddings/</span><span style=\"color: #ff00ff; text-decoration-color: #ff00ff\">glove.gensim</span>                            \n",
       "</pre>\n"
      ],
      "text/plain": [
       "\u001B[2;36m[03/06/23 21:57:52]\u001B[0m\u001B[2;36m \u001B[0m\u001B[34mINFO    \u001B[0m Dolphin-\u001B[1;36m7\u001B[0m    loading Word2VecKeyedVectors object from           \n",
       "\u001B[2;36m                    \u001B[0m         \u001B[35m/root/.flair/embeddings/\u001B[0m\u001B[95mglove.gensim\u001B[0m                            \n"
      ]
     },
     "metadata": {},
     "output_type": "display_data"
    },
    {
     "data": {
      "text/html": [
       "<pre style=\"white-space:pre;overflow-x:auto;line-height:normal;font-family:Menlo,'DejaVu Sans Mono',consolas,'Courier New',monospace\"><span style=\"color: #7fbfbf; text-decoration-color: #7fbfbf\">[03/06/23 21:57:53] </span><span style=\"color: #000080; text-decoration-color: #000080\">INFO    </span> Dolphin-<span style=\"color: #008080; text-decoration-color: #008080; font-weight: bold\">7</span>    loading vectors from                               \n",
       "<span style=\"color: #7fbfbf; text-decoration-color: #7fbfbf\">                    </span>         <span style=\"color: #800080; text-decoration-color: #800080\">/root/.flair/embeddings/</span><span style=\"color: #ff00ff; text-decoration-color: #ff00ff\">glove.gensim.vectors.npy</span> with <span style=\"color: #808000; text-decoration-color: #808000\">mmap</span>=<span style=\"color: #800080; text-decoration-color: #800080; font-style: italic\">None</span> \n",
       "</pre>\n"
      ],
      "text/plain": [
       "\u001B[2;36m[03/06/23 21:57:53]\u001B[0m\u001B[2;36m \u001B[0m\u001B[34mINFO    \u001B[0m Dolphin-\u001B[1;36m7\u001B[0m    loading vectors from                               \n",
       "\u001B[2;36m                    \u001B[0m         \u001B[35m/root/.flair/embeddings/\u001B[0m\u001B[95mglove.gensim.vectors.npy\u001B[0m with \u001B[33mmmap\u001B[0m=\u001B[3;35mNone\u001B[0m \n"
      ]
     },
     "metadata": {},
     "output_type": "display_data"
    },
    {
     "data": {
      "text/html": [
       "<pre style=\"white-space:pre;overflow-x:auto;line-height:normal;font-family:Menlo,'DejaVu Sans Mono',consolas,'Courier New',monospace\"><span style=\"color: #7fbfbf; text-decoration-color: #7fbfbf\">[03/06/23 21:57:53] </span><span style=\"color: #000080; text-decoration-color: #000080\">INFO    </span> Dolphin-<span style=\"color: #008080; text-decoration-color: #008080; font-weight: bold\">7</span>    setting ignored attribute vectors_norm to <span style=\"color: #800080; text-decoration-color: #800080; font-style: italic\">None</span>     \n",
       "</pre>\n"
      ],
      "text/plain": [
       "\u001B[2;36m[03/06/23 21:57:53]\u001B[0m\u001B[2;36m \u001B[0m\u001B[34mINFO    \u001B[0m Dolphin-\u001B[1;36m7\u001B[0m    setting ignored attribute vectors_norm to \u001B[3;35mNone\u001B[0m     \n"
      ]
     },
     "metadata": {},
     "output_type": "display_data"
    },
    {
     "data": {
      "text/html": [
       "<pre style=\"white-space:pre;overflow-x:auto;line-height:normal;font-family:Menlo,'DejaVu Sans Mono',consolas,'Courier New',monospace\"><span style=\"color: #7fbfbf; text-decoration-color: #7fbfbf\">[03/06/23 21:57:53] </span><span style=\"color: #000080; text-decoration-color: #000080\">INFO    </span> Dolphin-<span style=\"color: #008080; text-decoration-color: #008080; font-weight: bold\">7</span>    loaded <span style=\"color: #800080; text-decoration-color: #800080\">/root/.flair/embeddings/</span><span style=\"color: #ff00ff; text-decoration-color: #ff00ff\">glove.gensim</span>        \n",
       "</pre>\n"
      ],
      "text/plain": [
       "\u001B[2;36m[03/06/23 21:57:53]\u001B[0m\u001B[2;36m \u001B[0m\u001B[34mINFO    \u001B[0m Dolphin-\u001B[1;36m7\u001B[0m    loaded \u001B[35m/root/.flair/embeddings/\u001B[0m\u001B[95mglove.gensim\u001B[0m        \n"
      ]
     },
     "metadata": {},
     "output_type": "display_data"
    },
    {
     "data": {
      "text/html": [
       "<pre style=\"white-space:pre;overflow-x:auto;line-height:normal;font-family:Menlo,'DejaVu Sans Mono',consolas,'Courier New',monospace\"><span style=\"color: #7fbfbf; text-decoration-color: #7fbfbf\">[03/06/23 21:58:00] </span><span style=\"color: #000080; text-decoration-color: #000080\">INFO    </span> Dolphin-<span style=\"color: #008080; text-decoration-color: #008080; font-weight: bold\">7</span>    Finished task <span style=\"color: #008000; text-decoration-color: #008000\">\"GloveFeaturizeTask\"</span> <span style=\"font-weight: bold\">[</span><span style=\"color: #008080; text-decoration-color: #008080; font-weight: bold\">5</span>/<span style=\"color: #008080; text-decoration-color: #008080; font-weight: bold\">22</span> - <span style=\"color: #008080; text-decoration-color: #008080; font-weight: bold\">23</span>%<span style=\"font-weight: bold\">]</span>    \n",
       "</pre>\n"
      ],
      "text/plain": [
       "\u001B[2;36m[03/06/23 21:58:00]\u001B[0m\u001B[2;36m \u001B[0m\u001B[34mINFO    \u001B[0m Dolphin-\u001B[1;36m7\u001B[0m    Finished task \u001B[32m\"GloveFeaturizeTask\"\u001B[0m \u001B[1m[\u001B[0m\u001B[1;36m5\u001B[0m/\u001B[1;36m22\u001B[0m - \u001B[1;36m23\u001B[0m%\u001B[1m]\u001B[0m    \n"
      ]
     },
     "metadata": {},
     "output_type": "display_data"
    },
    {
     "data": {
      "text/html": [
       "<pre style=\"white-space:pre;overflow-x:auto;line-height:normal;font-family:Menlo,'DejaVu Sans Mono',consolas,'Courier New',monospace\"><span style=\"color: #7fbfbf; text-decoration-color: #7fbfbf\">[03/06/23 21:58:09] </span><span style=\"color: #000080; text-decoration-color: #000080\">INFO    </span> Dolphin-<span style=\"color: #008080; text-decoration-color: #008080; font-weight: bold\">4</span>    Started task <span style=\"color: #008000; text-decoration-color: #008000\">\"TrainTask-2\"</span>                         \n",
       "</pre>\n"
      ],
      "text/plain": [
       "\u001B[2;36m[03/06/23 21:58:09]\u001B[0m\u001B[2;36m \u001B[0m\u001B[34mINFO    \u001B[0m Dolphin-\u001B[1;36m4\u001B[0m    Started task \u001B[32m\"TrainTask-2\"\u001B[0m                         \n"
      ]
     },
     "metadata": {},
     "output_type": "display_data"
    },
    {
     "data": {
      "text/html": [
       "<pre style=\"white-space:pre;overflow-x:auto;line-height:normal;font-family:Menlo,'DejaVu Sans Mono',consolas,'Courier New',monospace\"><span style=\"color: #7fbfbf; text-decoration-color: #7fbfbf\">[03/06/23 21:58:10] </span><span style=\"color: #000080; text-decoration-color: #000080\">INFO    </span> Dolphin-<span style=\"color: #008080; text-decoration-color: #008080; font-weight: bold\">6</span>    Started task <span style=\"color: #008000; text-decoration-color: #008000\">\"TrainTask-5\"</span>                         \n",
       "</pre>\n"
      ],
      "text/plain": [
       "\u001B[2;36m[03/06/23 21:58:10]\u001B[0m\u001B[2;36m \u001B[0m\u001B[34mINFO    \u001B[0m Dolphin-\u001B[1;36m6\u001B[0m    Started task \u001B[32m\"TrainTask-5\"\u001B[0m                         \n"
      ]
     },
     "metadata": {},
     "output_type": "display_data"
    },
    {
     "name": "stdout",
     "output_type": "stream",
     "text": [
      "ConvergenceWarning: lbfgs failed to converge (status=1):\n",
      "STOP: TOTAL NO. of ITERATIONS REACHED LIMIT.\n",
      "\n",
      "Increase the number of iterations (max_iter) or scale the data as shown in:\n",
      "    https://scikit-learn.org/stable/modules/preprocessing.html\n",
      "Please also refer to the documentation for alternative solver options:\n",
      "    https://scikit-learn.org/stable/modules/linear_model.html#logistic-regression\n"
     ]
    },
    {
     "data": {
      "text/html": [
       "<pre style=\"white-space:pre;overflow-x:auto;line-height:normal;font-family:Menlo,'DejaVu Sans Mono',consolas,'Courier New',monospace\"><span style=\"color: #7fbfbf; text-decoration-color: #7fbfbf\">[03/06/23 21:58:11] </span><span style=\"color: #000080; text-decoration-color: #000080\">INFO    </span> Dolphin-<span style=\"color: #008080; text-decoration-color: #008080; font-weight: bold\">5</span>    Started task <span style=\"color: #008000; text-decoration-color: #008000\">\"TrainTask-1\"</span>                         \n",
       "</pre>\n"
      ],
      "text/plain": [
       "\u001B[2;36m[03/06/23 21:58:11]\u001B[0m\u001B[2;36m \u001B[0m\u001B[34mINFO    \u001B[0m Dolphin-\u001B[1;36m5\u001B[0m    Started task \u001B[32m\"TrainTask-1\"\u001B[0m                         \n"
      ]
     },
     "metadata": {},
     "output_type": "display_data"
    },
    {
     "data": {
      "text/html": [
       "<pre style=\"white-space:pre;overflow-x:auto;line-height:normal;font-family:Menlo,'DejaVu Sans Mono',consolas,'Courier New',monospace\"><span style=\"color: #7fbfbf; text-decoration-color: #7fbfbf\">[03/06/23 21:58:11] </span><span style=\"color: #000080; text-decoration-color: #000080\">INFO    </span> Dolphin-<span style=\"color: #008080; text-decoration-color: #008080; font-weight: bold\">2</span>    Started task <span style=\"color: #008000; text-decoration-color: #008000\">\"TrainTask-6\"</span>                         \n",
       "</pre>\n"
      ],
      "text/plain": [
       "\u001B[2;36m[03/06/23 21:58:11]\u001B[0m\u001B[2;36m \u001B[0m\u001B[34mINFO    \u001B[0m Dolphin-\u001B[1;36m2\u001B[0m    Started task \u001B[32m\"TrainTask-6\"\u001B[0m                         \n"
      ]
     },
     "metadata": {},
     "output_type": "display_data"
    },
    {
     "name": "stdout",
     "output_type": "stream",
     "text": [
      "ConvergenceWarning: lbfgs failed to converge (status=1):\n",
      "STOP: TOTAL NO. of ITERATIONS REACHED LIMIT.\n",
      "\n",
      "Increase the number of iterations (max_iter) or scale the data as shown in:\n",
      "    https://scikit-learn.org/stable/modules/preprocessing.html\n",
      "Please also refer to the documentation for alternative solver options:\n",
      "    https://scikit-learn.org/stable/modules/linear_model.html#logistic-regression\n",
      "ConvergenceWarning: lbfgs failed to converge (status=1):\n",
      "STOP: TOTAL NO. of ITERATIONS REACHED LIMIT.\n",
      "\n",
      "Increase the number of iterations (max_iter) or scale the data as shown in:\n",
      "    https://scikit-learn.org/stable/modules/preprocessing.html\n",
      "Please also refer to the documentation for alternative solver options:\n",
      "    https://scikit-learn.org/stable/modules/linear_model.html#logistic-regression\n",
      "ConvergenceWarning: lbfgs failed to converge (status=1):\n",
      "STOP: TOTAL NO. of ITERATIONS REACHED LIMIT.\n",
      "\n",
      "Increase the number of iterations (max_iter) or scale the data as shown in:\n",
      "    https://scikit-learn.org/stable/modules/preprocessing.html\n",
      "Please also refer to the documentation for alternative solver options:\n",
      "    https://scikit-learn.org/stable/modules/linear_model.html#logistic-regression\n"
     ]
    },
    {
     "data": {
      "text/html": [
       "<pre style=\"white-space:pre;overflow-x:auto;line-height:normal;font-family:Menlo,'DejaVu Sans Mono',consolas,'Courier New',monospace\"><span style=\"color: #7fbfbf; text-decoration-color: #7fbfbf\">[03/06/23 21:58:12] </span><span style=\"color: #000080; text-decoration-color: #000080\">INFO    </span> Dolphin-<span style=\"color: #008080; text-decoration-color: #008080; font-weight: bold\">3</span>    Started task <span style=\"color: #008000; text-decoration-color: #008000\">\"TrainTask-3\"</span>                         \n",
       "</pre>\n"
      ],
      "text/plain": [
       "\u001B[2;36m[03/06/23 21:58:12]\u001B[0m\u001B[2;36m \u001B[0m\u001B[34mINFO    \u001B[0m Dolphin-\u001B[1;36m3\u001B[0m    Started task \u001B[32m\"TrainTask-3\"\u001B[0m                         \n"
      ]
     },
     "metadata": {},
     "output_type": "display_data"
    },
    {
     "data": {
      "text/html": [
       "<pre style=\"white-space:pre;overflow-x:auto;line-height:normal;font-family:Menlo,'DejaVu Sans Mono',consolas,'Courier New',monospace\"><span style=\"color: #7fbfbf; text-decoration-color: #7fbfbf\">[03/06/23 21:58:13] </span><span style=\"color: #000080; text-decoration-color: #000080\">INFO    </span> Dolphin-<span style=\"color: #008080; text-decoration-color: #008080; font-weight: bold\">1</span>    Started task <span style=\"color: #008000; text-decoration-color: #008000\">\"TrainTask-8\"</span>                         \n",
       "</pre>\n"
      ],
      "text/plain": [
       "\u001B[2;36m[03/06/23 21:58:13]\u001B[0m\u001B[2;36m \u001B[0m\u001B[34mINFO    \u001B[0m Dolphin-\u001B[1;36m1\u001B[0m    Started task \u001B[32m\"TrainTask-8\"\u001B[0m                         \n"
      ]
     },
     "metadata": {},
     "output_type": "display_data"
    },
    {
     "data": {
      "text/html": [
       "<pre style=\"white-space:pre;overflow-x:auto;line-height:normal;font-family:Menlo,'DejaVu Sans Mono',consolas,'Courier New',monospace\"><span style=\"color: #7fbfbf; text-decoration-color: #7fbfbf\">[03/06/23 21:58:13] </span><span style=\"color: #000080; text-decoration-color: #000080\">INFO    </span> Dolphin-<span style=\"color: #008080; text-decoration-color: #008080; font-weight: bold\">8</span>    Started task <span style=\"color: #008000; text-decoration-color: #008000\">\"TrainTask-4\"</span>                         \n",
       "</pre>\n"
      ],
      "text/plain": [
       "\u001B[2;36m[03/06/23 21:58:13]\u001B[0m\u001B[2;36m \u001B[0m\u001B[34mINFO    \u001B[0m Dolphin-\u001B[1;36m8\u001B[0m    Started task \u001B[32m\"TrainTask-4\"\u001B[0m                         \n"
      ]
     },
     "metadata": {},
     "output_type": "display_data"
    },
    {
     "data": {
      "text/html": [
       "<pre style=\"white-space:pre;overflow-x:auto;line-height:normal;font-family:Menlo,'DejaVu Sans Mono',consolas,'Courier New',monospace\"><span style=\"color: #7fbfbf; text-decoration-color: #7fbfbf\">[03/06/23 21:58:14] </span><span style=\"color: #000080; text-decoration-color: #000080\">INFO    </span> Dolphin-<span style=\"color: #008080; text-decoration-color: #008080; font-weight: bold\">4</span>    Finished task <span style=\"color: #008000; text-decoration-color: #008000\">\"TrainTask-2\"</span> <span style=\"font-weight: bold\">[</span><span style=\"color: #008080; text-decoration-color: #008080; font-weight: bold\">6</span>/<span style=\"color: #008080; text-decoration-color: #008080; font-weight: bold\">22</span> - <span style=\"color: #008080; text-decoration-color: #008080; font-weight: bold\">27</span>%<span style=\"font-weight: bold\">]</span>           \n",
       "</pre>\n"
      ],
      "text/plain": [
       "\u001B[2;36m[03/06/23 21:58:14]\u001B[0m\u001B[2;36m \u001B[0m\u001B[34mINFO    \u001B[0m Dolphin-\u001B[1;36m4\u001B[0m    Finished task \u001B[32m\"TrainTask-2\"\u001B[0m \u001B[1m[\u001B[0m\u001B[1;36m6\u001B[0m/\u001B[1;36m22\u001B[0m - \u001B[1;36m27\u001B[0m%\u001B[1m]\u001B[0m           \n"
      ]
     },
     "metadata": {},
     "output_type": "display_data"
    },
    {
     "data": {
      "text/html": [
       "<pre style=\"white-space:pre;overflow-x:auto;line-height:normal;font-family:Menlo,'DejaVu Sans Mono',consolas,'Courier New',monospace\"><span style=\"color: #7fbfbf; text-decoration-color: #7fbfbf\">[03/06/23 21:58:14] </span><span style=\"color: #000080; text-decoration-color: #000080\">INFO    </span> Dolphin-<span style=\"color: #008080; text-decoration-color: #008080; font-weight: bold\">6</span>    Finished task <span style=\"color: #008000; text-decoration-color: #008000\">\"TrainTask-5\"</span> <span style=\"font-weight: bold\">[</span><span style=\"color: #008080; text-decoration-color: #008080; font-weight: bold\">7</span>/<span style=\"color: #008080; text-decoration-color: #008080; font-weight: bold\">22</span> - <span style=\"color: #008080; text-decoration-color: #008080; font-weight: bold\">32</span>%<span style=\"font-weight: bold\">]</span>           \n",
       "</pre>\n"
      ],
      "text/plain": [
       "\u001B[2;36m[03/06/23 21:58:14]\u001B[0m\u001B[2;36m \u001B[0m\u001B[34mINFO    \u001B[0m Dolphin-\u001B[1;36m6\u001B[0m    Finished task \u001B[32m\"TrainTask-5\"\u001B[0m \u001B[1m[\u001B[0m\u001B[1;36m7\u001B[0m/\u001B[1;36m22\u001B[0m - \u001B[1;36m32\u001B[0m%\u001B[1m]\u001B[0m           \n"
      ]
     },
     "metadata": {},
     "output_type": "display_data"
    },
    {
     "data": {
      "text/html": [
       "<pre style=\"white-space:pre;overflow-x:auto;line-height:normal;font-family:Menlo,'DejaVu Sans Mono',consolas,'Courier New',monospace\"><span style=\"color: #7fbfbf; text-decoration-color: #7fbfbf\">[03/06/23 21:58:14] </span><span style=\"color: #000080; text-decoration-color: #000080\">INFO    </span> Dolphin-<span style=\"color: #008080; text-decoration-color: #008080; font-weight: bold\">5</span>    Finished task <span style=\"color: #008000; text-decoration-color: #008000\">\"TrainTask-1\"</span> <span style=\"font-weight: bold\">[</span><span style=\"color: #008080; text-decoration-color: #008080; font-weight: bold\">8</span>/<span style=\"color: #008080; text-decoration-color: #008080; font-weight: bold\">22</span> - <span style=\"color: #008080; text-decoration-color: #008080; font-weight: bold\">36</span>%<span style=\"font-weight: bold\">]</span>           \n",
       "</pre>\n"
      ],
      "text/plain": [
       "\u001B[2;36m[03/06/23 21:58:14]\u001B[0m\u001B[2;36m \u001B[0m\u001B[34mINFO    \u001B[0m Dolphin-\u001B[1;36m5\u001B[0m    Finished task \u001B[32m\"TrainTask-1\"\u001B[0m \u001B[1m[\u001B[0m\u001B[1;36m8\u001B[0m/\u001B[1;36m22\u001B[0m - \u001B[1;36m36\u001B[0m%\u001B[1m]\u001B[0m           \n"
      ]
     },
     "metadata": {},
     "output_type": "display_data"
    },
    {
     "data": {
      "text/html": [
       "<pre style=\"white-space:pre;overflow-x:auto;line-height:normal;font-family:Menlo,'DejaVu Sans Mono',consolas,'Courier New',monospace\"><span style=\"color: #7fbfbf; text-decoration-color: #7fbfbf\">[03/06/23 21:58:14] </span><span style=\"color: #000080; text-decoration-color: #000080\">INFO    </span> Dolphin-<span style=\"color: #008080; text-decoration-color: #008080; font-weight: bold\">2</span>    Finished task <span style=\"color: #008000; text-decoration-color: #008000\">\"TrainTask-6\"</span> <span style=\"font-weight: bold\">[</span><span style=\"color: #008080; text-decoration-color: #008080; font-weight: bold\">9</span>/<span style=\"color: #008080; text-decoration-color: #008080; font-weight: bold\">22</span> - <span style=\"color: #008080; text-decoration-color: #008080; font-weight: bold\">41</span>%<span style=\"font-weight: bold\">]</span>           \n",
       "</pre>\n"
      ],
      "text/plain": [
       "\u001B[2;36m[03/06/23 21:58:14]\u001B[0m\u001B[2;36m \u001B[0m\u001B[34mINFO    \u001B[0m Dolphin-\u001B[1;36m2\u001B[0m    Finished task \u001B[32m\"TrainTask-6\"\u001B[0m \u001B[1m[\u001B[0m\u001B[1;36m9\u001B[0m/\u001B[1;36m22\u001B[0m - \u001B[1;36m41\u001B[0m%\u001B[1m]\u001B[0m           \n"
      ]
     },
     "metadata": {},
     "output_type": "display_data"
    },
    {
     "data": {
      "text/html": [
       "<pre style=\"white-space:pre;overflow-x:auto;line-height:normal;font-family:Menlo,'DejaVu Sans Mono',consolas,'Courier New',monospace\"><span style=\"color: #7fbfbf; text-decoration-color: #7fbfbf\">[03/06/23 21:58:14] </span><span style=\"color: #000080; text-decoration-color: #000080\">INFO    </span> Dolphin-<span style=\"color: #008080; text-decoration-color: #008080; font-weight: bold\">7</span>    Started task <span style=\"color: #008000; text-decoration-color: #008000\">\"TrainTask-7\"</span>                         \n",
       "</pre>\n"
      ],
      "text/plain": [
       "\u001B[2;36m[03/06/23 21:58:14]\u001B[0m\u001B[2;36m \u001B[0m\u001B[34mINFO    \u001B[0m Dolphin-\u001B[1;36m7\u001B[0m    Started task \u001B[32m\"TrainTask-7\"\u001B[0m                         \n"
      ]
     },
     "metadata": {},
     "output_type": "display_data"
    },
    {
     "name": "stdout",
     "output_type": "stream",
     "text": [
      "ConvergenceWarning: lbfgs failed to converge (status=1):\n",
      "STOP: TOTAL NO. of ITERATIONS REACHED LIMIT.\n",
      "\n",
      "Increase the number of iterations (max_iter) or scale the data as shown in:\n",
      "    https://scikit-learn.org/stable/modules/preprocessing.html\n",
      "Please also refer to the documentation for alternative solver options:\n",
      "    https://scikit-learn.org/stable/modules/linear_model.html#logistic-regression\n",
      "ConvergenceWarning: lbfgs failed to converge (status=1):\n",
      "STOP: TOTAL NO. of ITERATIONS REACHED LIMIT.\n",
      "\n",
      "Increase the number of iterations (max_iter) or scale the data as shown in:\n",
      "    https://scikit-learn.org/stable/modules/preprocessing.html\n",
      "Please also refer to the documentation for alternative solver options:\n",
      "    https://scikit-learn.org/stable/modules/linear_model.html#logistic-regression\n",
      "ConvergenceWarning: lbfgs failed to converge (status=1):\n",
      "STOP: TOTAL NO. of ITERATIONS REACHED LIMIT.\n",
      "\n",
      "Increase the number of iterations (max_iter) or scale the data as shown in:\n",
      "    https://scikit-learn.org/stable/modules/preprocessing.html\n",
      "Please also refer to the documentation for alternative solver options:\n",
      "    https://scikit-learn.org/stable/modules/linear_model.html#logistic-regression\n",
      "ConvergenceWarning: lbfgs failed to converge (status=1):\n",
      "STOP: TOTAL NO. of ITERATIONS REACHED LIMIT.\n",
      "\n",
      "Increase the number of iterations (max_iter) or scale the data as shown in:\n",
      "    https://scikit-learn.org/stable/modules/preprocessing.html\n",
      "Please also refer to the documentation for alternative solver options:\n",
      "    https://scikit-learn.org/stable/modules/linear_model.html#logistic-regression\n"
     ]
    },
    {
     "data": {
      "text/html": [
       "<pre style=\"white-space:pre;overflow-x:auto;line-height:normal;font-family:Menlo,'DejaVu Sans Mono',consolas,'Courier New',monospace\"><span style=\"color: #7fbfbf; text-decoration-color: #7fbfbf\">[03/06/23 21:58:21] </span><span style=\"color: #000080; text-decoration-color: #000080\">INFO    </span> Dolphin-<span style=\"color: #008080; text-decoration-color: #008080; font-weight: bold\">3</span>    Finished task <span style=\"color: #008000; text-decoration-color: #008000\">\"TrainTask-3\"</span> <span style=\"font-weight: bold\">[</span><span style=\"color: #008080; text-decoration-color: #008080; font-weight: bold\">10</span>/<span style=\"color: #008080; text-decoration-color: #008080; font-weight: bold\">22</span> - <span style=\"color: #008080; text-decoration-color: #008080; font-weight: bold\">45</span>%<span style=\"font-weight: bold\">]</span>          \n",
       "</pre>\n"
      ],
      "text/plain": [
       "\u001B[2;36m[03/06/23 21:58:21]\u001B[0m\u001B[2;36m \u001B[0m\u001B[34mINFO    \u001B[0m Dolphin-\u001B[1;36m3\u001B[0m    Finished task \u001B[32m\"TrainTask-3\"\u001B[0m \u001B[1m[\u001B[0m\u001B[1;36m10\u001B[0m/\u001B[1;36m22\u001B[0m - \u001B[1;36m45\u001B[0m%\u001B[1m]\u001B[0m          \n"
      ]
     },
     "metadata": {},
     "output_type": "display_data"
    },
    {
     "data": {
      "text/html": [
       "<pre style=\"white-space:pre;overflow-x:auto;line-height:normal;font-family:Menlo,'DejaVu Sans Mono',consolas,'Courier New',monospace\"><span style=\"color: #7fbfbf; text-decoration-color: #7fbfbf\">[03/06/23 21:58:21] </span><span style=\"color: #000080; text-decoration-color: #000080\">INFO    </span> Dolphin-<span style=\"color: #008080; text-decoration-color: #008080; font-weight: bold\">7</span>    Finished task <span style=\"color: #008000; text-decoration-color: #008000\">\"TrainTask-7\"</span> <span style=\"font-weight: bold\">[</span><span style=\"color: #008080; text-decoration-color: #008080; font-weight: bold\">11</span>/<span style=\"color: #008080; text-decoration-color: #008080; font-weight: bold\">22</span> - <span style=\"color: #008080; text-decoration-color: #008080; font-weight: bold\">50</span>%<span style=\"font-weight: bold\">]</span>          \n",
       "</pre>\n"
      ],
      "text/plain": [
       "\u001B[2;36m[03/06/23 21:58:21]\u001B[0m\u001B[2;36m \u001B[0m\u001B[34mINFO    \u001B[0m Dolphin-\u001B[1;36m7\u001B[0m    Finished task \u001B[32m\"TrainTask-7\"\u001B[0m \u001B[1m[\u001B[0m\u001B[1;36m11\u001B[0m/\u001B[1;36m22\u001B[0m - \u001B[1;36m50\u001B[0m%\u001B[1m]\u001B[0m          \n"
      ]
     },
     "metadata": {},
     "output_type": "display_data"
    },
    {
     "data": {
      "text/html": [
       "<pre style=\"white-space:pre;overflow-x:auto;line-height:normal;font-family:Menlo,'DejaVu Sans Mono',consolas,'Courier New',monospace\"><span style=\"color: #7fbfbf; text-decoration-color: #7fbfbf\">[03/06/23 21:58:21] </span><span style=\"color: #000080; text-decoration-color: #000080\">INFO    </span> Dolphin-<span style=\"color: #008080; text-decoration-color: #008080; font-weight: bold\">1</span>    Finished task <span style=\"color: #008000; text-decoration-color: #008000\">\"TrainTask-8\"</span> <span style=\"font-weight: bold\">[</span><span style=\"color: #008080; text-decoration-color: #008080; font-weight: bold\">12</span>/<span style=\"color: #008080; text-decoration-color: #008080; font-weight: bold\">22</span> - <span style=\"color: #008080; text-decoration-color: #008080; font-weight: bold\">55</span>%<span style=\"font-weight: bold\">]</span>          \n",
       "</pre>\n"
      ],
      "text/plain": [
       "\u001B[2;36m[03/06/23 21:58:21]\u001B[0m\u001B[2;36m \u001B[0m\u001B[34mINFO    \u001B[0m Dolphin-\u001B[1;36m1\u001B[0m    Finished task \u001B[32m\"TrainTask-8\"\u001B[0m \u001B[1m[\u001B[0m\u001B[1;36m12\u001B[0m/\u001B[1;36m22\u001B[0m - \u001B[1;36m55\u001B[0m%\u001B[1m]\u001B[0m          \n"
      ]
     },
     "metadata": {},
     "output_type": "display_data"
    },
    {
     "data": {
      "text/html": [
       "<pre style=\"white-space:pre;overflow-x:auto;line-height:normal;font-family:Menlo,'DejaVu Sans Mono',consolas,'Courier New',monospace\"><span style=\"color: #7fbfbf; text-decoration-color: #7fbfbf\">[03/06/23 21:58:22] </span><span style=\"color: #000080; text-decoration-color: #000080\">INFO    </span> Dolphin-<span style=\"color: #008080; text-decoration-color: #008080; font-weight: bold\">8</span>    Finished task <span style=\"color: #008000; text-decoration-color: #008000\">\"TrainTask-4\"</span> <span style=\"font-weight: bold\">[</span><span style=\"color: #008080; text-decoration-color: #008080; font-weight: bold\">13</span>/<span style=\"color: #008080; text-decoration-color: #008080; font-weight: bold\">22</span> - <span style=\"color: #008080; text-decoration-color: #008080; font-weight: bold\">59</span>%<span style=\"font-weight: bold\">]</span>          \n",
       "</pre>\n"
      ],
      "text/plain": [
       "\u001B[2;36m[03/06/23 21:58:22]\u001B[0m\u001B[2;36m \u001B[0m\u001B[34mINFO    \u001B[0m Dolphin-\u001B[1;36m8\u001B[0m    Finished task \u001B[32m\"TrainTask-4\"\u001B[0m \u001B[1m[\u001B[0m\u001B[1;36m13\u001B[0m/\u001B[1;36m22\u001B[0m - \u001B[1;36m59\u001B[0m%\u001B[1m]\u001B[0m          \n"
      ]
     },
     "metadata": {},
     "output_type": "display_data"
    },
    {
     "data": {
      "text/html": [
       "<pre style=\"white-space:pre;overflow-x:auto;line-height:normal;font-family:Menlo,'DejaVu Sans Mono',consolas,'Courier New',monospace\"><span style=\"color: #7fbfbf; text-decoration-color: #7fbfbf\">[03/06/23 21:58:22] </span><span style=\"color: #000080; text-decoration-color: #000080\">INFO    </span> Dolphin-<span style=\"color: #008080; text-decoration-color: #008080; font-weight: bold\">4</span>    Started task <span style=\"color: #008000; text-decoration-color: #008000\">\"EvaluateTask-5\"</span>                      \n",
       "</pre>\n"
      ],
      "text/plain": [
       "\u001B[2;36m[03/06/23 21:58:22]\u001B[0m\u001B[2;36m \u001B[0m\u001B[34mINFO    \u001B[0m Dolphin-\u001B[1;36m4\u001B[0m    Started task \u001B[32m\"EvaluateTask-5\"\u001B[0m                      \n"
      ]
     },
     "metadata": {},
     "output_type": "display_data"
    },
    {
     "data": {
      "text/html": [
       "<pre style=\"white-space:pre;overflow-x:auto;line-height:normal;font-family:Menlo,'DejaVu Sans Mono',consolas,'Courier New',monospace\"><span style=\"color: #7fbfbf; text-decoration-color: #7fbfbf\">[03/06/23 21:58:22] </span><span style=\"color: #000080; text-decoration-color: #000080\">INFO    </span> Dolphin-<span style=\"color: #008080; text-decoration-color: #008080; font-weight: bold\">6</span>    Started task <span style=\"color: #008000; text-decoration-color: #008000\">\"EvaluateTask-2\"</span>                      \n",
       "</pre>\n"
      ],
      "text/plain": [
       "\u001B[2;36m[03/06/23 21:58:22]\u001B[0m\u001B[2;36m \u001B[0m\u001B[34mINFO    \u001B[0m Dolphin-\u001B[1;36m6\u001B[0m    Started task \u001B[32m\"EvaluateTask-2\"\u001B[0m                      \n"
      ]
     },
     "metadata": {},
     "output_type": "display_data"
    },
    {
     "data": {
      "text/html": [
       "<pre style=\"white-space:pre;overflow-x:auto;line-height:normal;font-family:Menlo,'DejaVu Sans Mono',consolas,'Courier New',monospace\"><span style=\"color: #7fbfbf; text-decoration-color: #7fbfbf\">[03/06/23 21:58:23] </span><span style=\"color: #000080; text-decoration-color: #000080\">INFO    </span> Dolphin-<span style=\"color: #008080; text-decoration-color: #008080; font-weight: bold\">2</span>    Started task <span style=\"color: #008000; text-decoration-color: #008000\">\"EvaluateTask-1\"</span>                      \n",
       "</pre>\n"
      ],
      "text/plain": [
       "\u001B[2;36m[03/06/23 21:58:23]\u001B[0m\u001B[2;36m \u001B[0m\u001B[34mINFO    \u001B[0m Dolphin-\u001B[1;36m2\u001B[0m    Started task \u001B[32m\"EvaluateTask-1\"\u001B[0m                      \n"
      ]
     },
     "metadata": {},
     "output_type": "display_data"
    },
    {
     "data": {
      "text/html": [
       "<pre style=\"white-space:pre;overflow-x:auto;line-height:normal;font-family:Menlo,'DejaVu Sans Mono',consolas,'Courier New',monospace\"><span style=\"color: #7fbfbf; text-decoration-color: #7fbfbf\">[03/06/23 21:58:23] </span><span style=\"color: #000080; text-decoration-color: #000080\">INFO    </span> Dolphin-<span style=\"color: #008080; text-decoration-color: #008080; font-weight: bold\">5</span>    Started task <span style=\"color: #008000; text-decoration-color: #008000\">\"EvaluateTask-6\"</span>                      \n",
       "</pre>\n"
      ],
      "text/plain": [
       "\u001B[2;36m[03/06/23 21:58:23]\u001B[0m\u001B[2;36m \u001B[0m\u001B[34mINFO    \u001B[0m Dolphin-\u001B[1;36m5\u001B[0m    Started task \u001B[32m\"EvaluateTask-6\"\u001B[0m                      \n"
      ]
     },
     "metadata": {},
     "output_type": "display_data"
    },
    {
     "data": {
      "text/html": [
       "<pre style=\"white-space:pre;overflow-x:auto;line-height:normal;font-family:Menlo,'DejaVu Sans Mono',consolas,'Courier New',monospace\"><span style=\"color: #7fbfbf; text-decoration-color: #7fbfbf\">[03/06/23 21:58:23] </span><span style=\"color: #000080; text-decoration-color: #000080\">INFO    </span> Dolphin-<span style=\"color: #008080; text-decoration-color: #008080; font-weight: bold\">4</span>    Finished task <span style=\"color: #008000; text-decoration-color: #008000\">\"EvaluateTask-5\"</span> <span style=\"font-weight: bold\">[</span><span style=\"color: #008080; text-decoration-color: #008080; font-weight: bold\">14</span>/<span style=\"color: #008080; text-decoration-color: #008080; font-weight: bold\">22</span> - <span style=\"color: #008080; text-decoration-color: #008080; font-weight: bold\">64</span>%<span style=\"font-weight: bold\">]</span>       \n",
       "</pre>\n"
      ],
      "text/plain": [
       "\u001B[2;36m[03/06/23 21:58:23]\u001B[0m\u001B[2;36m \u001B[0m\u001B[34mINFO    \u001B[0m Dolphin-\u001B[1;36m4\u001B[0m    Finished task \u001B[32m\"EvaluateTask-5\"\u001B[0m \u001B[1m[\u001B[0m\u001B[1;36m14\u001B[0m/\u001B[1;36m22\u001B[0m - \u001B[1;36m64\u001B[0m%\u001B[1m]\u001B[0m       \n"
      ]
     },
     "metadata": {},
     "output_type": "display_data"
    },
    {
     "data": {
      "text/html": [
       "<pre style=\"white-space:pre;overflow-x:auto;line-height:normal;font-family:Menlo,'DejaVu Sans Mono',consolas,'Courier New',monospace\"><span style=\"color: #7fbfbf; text-decoration-color: #7fbfbf\">[03/06/23 21:58:23] </span><span style=\"color: #000080; text-decoration-color: #000080\">INFO    </span> Dolphin-<span style=\"color: #008080; text-decoration-color: #008080; font-weight: bold\">6</span>    Finished task <span style=\"color: #008000; text-decoration-color: #008000\">\"EvaluateTask-2\"</span> <span style=\"font-weight: bold\">[</span><span style=\"color: #008080; text-decoration-color: #008080; font-weight: bold\">15</span>/<span style=\"color: #008080; text-decoration-color: #008080; font-weight: bold\">22</span> - <span style=\"color: #008080; text-decoration-color: #008080; font-weight: bold\">68</span>%<span style=\"font-weight: bold\">]</span>       \n",
       "</pre>\n"
      ],
      "text/plain": [
       "\u001B[2;36m[03/06/23 21:58:23]\u001B[0m\u001B[2;36m \u001B[0m\u001B[34mINFO    \u001B[0m Dolphin-\u001B[1;36m6\u001B[0m    Finished task \u001B[32m\"EvaluateTask-2\"\u001B[0m \u001B[1m[\u001B[0m\u001B[1;36m15\u001B[0m/\u001B[1;36m22\u001B[0m - \u001B[1;36m68\u001B[0m%\u001B[1m]\u001B[0m       \n"
      ]
     },
     "metadata": {},
     "output_type": "display_data"
    },
    {
     "data": {
      "text/html": [
       "<pre style=\"white-space:pre;overflow-x:auto;line-height:normal;font-family:Menlo,'DejaVu Sans Mono',consolas,'Courier New',monospace\"><span style=\"color: #7fbfbf; text-decoration-color: #7fbfbf\">[03/06/23 21:58:23] </span><span style=\"color: #000080; text-decoration-color: #000080\">INFO    </span> Dolphin-<span style=\"color: #008080; text-decoration-color: #008080; font-weight: bold\">2</span>    Finished task <span style=\"color: #008000; text-decoration-color: #008000\">\"EvaluateTask-1\"</span> <span style=\"font-weight: bold\">[</span><span style=\"color: #008080; text-decoration-color: #008080; font-weight: bold\">16</span>/<span style=\"color: #008080; text-decoration-color: #008080; font-weight: bold\">22</span> - <span style=\"color: #008080; text-decoration-color: #008080; font-weight: bold\">73</span>%<span style=\"font-weight: bold\">]</span>       \n",
       "</pre>\n"
      ],
      "text/plain": [
       "\u001B[2;36m[03/06/23 21:58:23]\u001B[0m\u001B[2;36m \u001B[0m\u001B[34mINFO    \u001B[0m Dolphin-\u001B[1;36m2\u001B[0m    Finished task \u001B[32m\"EvaluateTask-1\"\u001B[0m \u001B[1m[\u001B[0m\u001B[1;36m16\u001B[0m/\u001B[1;36m22\u001B[0m - \u001B[1;36m73\u001B[0m%\u001B[1m]\u001B[0m       \n"
      ]
     },
     "metadata": {},
     "output_type": "display_data"
    },
    {
     "data": {
      "text/html": [
       "<pre style=\"white-space:pre;overflow-x:auto;line-height:normal;font-family:Menlo,'DejaVu Sans Mono',consolas,'Courier New',monospace\"><span style=\"color: #7fbfbf; text-decoration-color: #7fbfbf\">[03/06/23 21:58:29] </span><span style=\"color: #000080; text-decoration-color: #000080\">INFO    </span> Dolphin-<span style=\"color: #008080; text-decoration-color: #008080; font-weight: bold\">5</span>    Finished task <span style=\"color: #008000; text-decoration-color: #008000\">\"EvaluateTask-6\"</span> <span style=\"font-weight: bold\">[</span><span style=\"color: #008080; text-decoration-color: #008080; font-weight: bold\">17</span>/<span style=\"color: #008080; text-decoration-color: #008080; font-weight: bold\">22</span> - <span style=\"color: #008080; text-decoration-color: #008080; font-weight: bold\">77</span>%<span style=\"font-weight: bold\">]</span>       \n",
       "</pre>\n"
      ],
      "text/plain": [
       "\u001B[2;36m[03/06/23 21:58:29]\u001B[0m\u001B[2;36m \u001B[0m\u001B[34mINFO    \u001B[0m Dolphin-\u001B[1;36m5\u001B[0m    Finished task \u001B[32m\"EvaluateTask-6\"\u001B[0m \u001B[1m[\u001B[0m\u001B[1;36m17\u001B[0m/\u001B[1;36m22\u001B[0m - \u001B[1;36m77\u001B[0m%\u001B[1m]\u001B[0m       \n"
      ]
     },
     "metadata": {},
     "output_type": "display_data"
    },
    {
     "data": {
      "text/html": [
       "<pre style=\"white-space:pre;overflow-x:auto;line-height:normal;font-family:Menlo,'DejaVu Sans Mono',consolas,'Courier New',monospace\"><span style=\"color: #7fbfbf; text-decoration-color: #7fbfbf\">[03/06/23 21:58:31] </span><span style=\"color: #000080; text-decoration-color: #000080\">INFO    </span> Dolphin-<span style=\"color: #008080; text-decoration-color: #008080; font-weight: bold\">8</span>    Started task <span style=\"color: #008000; text-decoration-color: #008000\">\"EvaluateTask-4\"</span>                      \n",
       "</pre>\n"
      ],
      "text/plain": [
       "\u001B[2;36m[03/06/23 21:58:31]\u001B[0m\u001B[2;36m \u001B[0m\u001B[34mINFO    \u001B[0m Dolphin-\u001B[1;36m8\u001B[0m    Started task \u001B[32m\"EvaluateTask-4\"\u001B[0m                      \n"
      ]
     },
     "metadata": {},
     "output_type": "display_data"
    },
    {
     "data": {
      "text/html": [
       "<pre style=\"white-space:pre;overflow-x:auto;line-height:normal;font-family:Menlo,'DejaVu Sans Mono',consolas,'Courier New',monospace\"><span style=\"color: #7fbfbf; text-decoration-color: #7fbfbf\">[03/06/23 21:58:31] </span><span style=\"color: #000080; text-decoration-color: #000080\">INFO    </span> Dolphin-<span style=\"color: #008080; text-decoration-color: #008080; font-weight: bold\">1</span>    Started task <span style=\"color: #008000; text-decoration-color: #008000\">\"EvaluateTask-8\"</span>                      \n",
       "</pre>\n"
      ],
      "text/plain": [
       "\u001B[2;36m[03/06/23 21:58:31]\u001B[0m\u001B[2;36m \u001B[0m\u001B[34mINFO    \u001B[0m Dolphin-\u001B[1;36m1\u001B[0m    Started task \u001B[32m\"EvaluateTask-8\"\u001B[0m                      \n"
      ]
     },
     "metadata": {},
     "output_type": "display_data"
    },
    {
     "data": {
      "text/html": [
       "<pre style=\"white-space:pre;overflow-x:auto;line-height:normal;font-family:Menlo,'DejaVu Sans Mono',consolas,'Courier New',monospace\"><span style=\"color: #7fbfbf; text-decoration-color: #7fbfbf\">[03/06/23 21:58:31] </span><span style=\"color: #000080; text-decoration-color: #000080\">INFO    </span> Dolphin-<span style=\"color: #008080; text-decoration-color: #008080; font-weight: bold\">7</span>    Started task <span style=\"color: #008000; text-decoration-color: #008000\">\"EvaluateTask-7\"</span>                      \n",
       "</pre>\n"
      ],
      "text/plain": [
       "\u001B[2;36m[03/06/23 21:58:31]\u001B[0m\u001B[2;36m \u001B[0m\u001B[34mINFO    \u001B[0m Dolphin-\u001B[1;36m7\u001B[0m    Started task \u001B[32m\"EvaluateTask-7\"\u001B[0m                      \n"
      ]
     },
     "metadata": {},
     "output_type": "display_data"
    },
    {
     "data": {
      "text/html": [
       "<pre style=\"white-space:pre;overflow-x:auto;line-height:normal;font-family:Menlo,'DejaVu Sans Mono',consolas,'Courier New',monospace\"><span style=\"color: #7fbfbf; text-decoration-color: #7fbfbf\">[03/06/23 21:58:31] </span><span style=\"color: #000080; text-decoration-color: #000080\">INFO    </span> Dolphin-<span style=\"color: #008080; text-decoration-color: #008080; font-weight: bold\">3</span>    Started task <span style=\"color: #008000; text-decoration-color: #008000\">\"EvaluateTask-3\"</span>                      \n",
       "</pre>\n"
      ],
      "text/plain": [
       "\u001B[2;36m[03/06/23 21:58:31]\u001B[0m\u001B[2;36m \u001B[0m\u001B[34mINFO    \u001B[0m Dolphin-\u001B[1;36m3\u001B[0m    Started task \u001B[32m\"EvaluateTask-3\"\u001B[0m                      \n"
      ]
     },
     "metadata": {},
     "output_type": "display_data"
    },
    {
     "data": {
      "text/html": [
       "<pre style=\"white-space:pre;overflow-x:auto;line-height:normal;font-family:Menlo,'DejaVu Sans Mono',consolas,'Courier New',monospace\"><span style=\"color: #7fbfbf; text-decoration-color: #7fbfbf\">[03/06/23 21:58:31] </span><span style=\"color: #000080; text-decoration-color: #000080\">INFO    </span> Dolphin-<span style=\"color: #008080; text-decoration-color: #008080; font-weight: bold\">8</span>    Finished task <span style=\"color: #008000; text-decoration-color: #008000\">\"EvaluateTask-4\"</span> <span style=\"font-weight: bold\">[</span><span style=\"color: #008080; text-decoration-color: #008080; font-weight: bold\">18</span>/<span style=\"color: #008080; text-decoration-color: #008080; font-weight: bold\">22</span> - <span style=\"color: #008080; text-decoration-color: #008080; font-weight: bold\">82</span>%<span style=\"font-weight: bold\">]</span>       \n",
       "</pre>\n"
      ],
      "text/plain": [
       "\u001B[2;36m[03/06/23 21:58:31]\u001B[0m\u001B[2;36m \u001B[0m\u001B[34mINFO    \u001B[0m Dolphin-\u001B[1;36m8\u001B[0m    Finished task \u001B[32m\"EvaluateTask-4\"\u001B[0m \u001B[1m[\u001B[0m\u001B[1;36m18\u001B[0m/\u001B[1;36m22\u001B[0m - \u001B[1;36m82\u001B[0m%\u001B[1m]\u001B[0m       \n"
      ]
     },
     "metadata": {},
     "output_type": "display_data"
    },
    {
     "data": {
      "text/html": [
       "<pre style=\"white-space:pre;overflow-x:auto;line-height:normal;font-family:Menlo,'DejaVu Sans Mono',consolas,'Courier New',monospace\"><span style=\"color: #7fbfbf; text-decoration-color: #7fbfbf\">[03/06/23 21:58:31] </span><span style=\"color: #000080; text-decoration-color: #000080\">INFO    </span> Dolphin-<span style=\"color: #008080; text-decoration-color: #008080; font-weight: bold\">3</span>    Finished task <span style=\"color: #008000; text-decoration-color: #008000\">\"EvaluateTask-3\"</span> <span style=\"font-weight: bold\">[</span><span style=\"color: #008080; text-decoration-color: #008080; font-weight: bold\">19</span>/<span style=\"color: #008080; text-decoration-color: #008080; font-weight: bold\">22</span> - <span style=\"color: #008080; text-decoration-color: #008080; font-weight: bold\">86</span>%<span style=\"font-weight: bold\">]</span>       \n",
       "</pre>\n"
      ],
      "text/plain": [
       "\u001B[2;36m[03/06/23 21:58:31]\u001B[0m\u001B[2;36m \u001B[0m\u001B[34mINFO    \u001B[0m Dolphin-\u001B[1;36m3\u001B[0m    Finished task \u001B[32m\"EvaluateTask-3\"\u001B[0m \u001B[1m[\u001B[0m\u001B[1;36m19\u001B[0m/\u001B[1;36m22\u001B[0m - \u001B[1;36m86\u001B[0m%\u001B[1m]\u001B[0m       \n"
      ]
     },
     "metadata": {},
     "output_type": "display_data"
    },
    {
     "data": {
      "text/html": [
       "<pre style=\"white-space:pre;overflow-x:auto;line-height:normal;font-family:Menlo,'DejaVu Sans Mono',consolas,'Courier New',monospace\"><span style=\"color: #7fbfbf; text-decoration-color: #7fbfbf\">[03/06/23 21:58:31] </span><span style=\"color: #000080; text-decoration-color: #000080\">INFO    </span> Dolphin-<span style=\"color: #008080; text-decoration-color: #008080; font-weight: bold\">7</span>    Finished task <span style=\"color: #008000; text-decoration-color: #008000\">\"EvaluateTask-7\"</span> <span style=\"font-weight: bold\">[</span><span style=\"color: #008080; text-decoration-color: #008080; font-weight: bold\">20</span>/<span style=\"color: #008080; text-decoration-color: #008080; font-weight: bold\">22</span> - <span style=\"color: #008080; text-decoration-color: #008080; font-weight: bold\">91</span>%<span style=\"font-weight: bold\">]</span>       \n",
       "</pre>\n"
      ],
      "text/plain": [
       "\u001B[2;36m[03/06/23 21:58:31]\u001B[0m\u001B[2;36m \u001B[0m\u001B[34mINFO    \u001B[0m Dolphin-\u001B[1;36m7\u001B[0m    Finished task \u001B[32m\"EvaluateTask-7\"\u001B[0m \u001B[1m[\u001B[0m\u001B[1;36m20\u001B[0m/\u001B[1;36m22\u001B[0m - \u001B[1;36m91\u001B[0m%\u001B[1m]\u001B[0m       \n"
      ]
     },
     "metadata": {},
     "output_type": "display_data"
    },
    {
     "data": {
      "text/html": [
       "<pre style=\"white-space:pre;overflow-x:auto;line-height:normal;font-family:Menlo,'DejaVu Sans Mono',consolas,'Courier New',monospace\"><span style=\"color: #7fbfbf; text-decoration-color: #7fbfbf\">[03/06/23 21:58:31] </span><span style=\"color: #000080; text-decoration-color: #000080\">INFO    </span> Dolphin-<span style=\"color: #008080; text-decoration-color: #008080; font-weight: bold\">1</span>    Finished task <span style=\"color: #008000; text-decoration-color: #008000\">\"EvaluateTask-8\"</span> <span style=\"font-weight: bold\">[</span><span style=\"color: #008080; text-decoration-color: #008080; font-weight: bold\">21</span>/<span style=\"color: #008080; text-decoration-color: #008080; font-weight: bold\">22</span> - <span style=\"color: #008080; text-decoration-color: #008080; font-weight: bold\">95</span>%<span style=\"font-weight: bold\">]</span>       \n",
       "</pre>\n"
      ],
      "text/plain": [
       "\u001B[2;36m[03/06/23 21:58:31]\u001B[0m\u001B[2;36m \u001B[0m\u001B[34mINFO    \u001B[0m Dolphin-\u001B[1;36m1\u001B[0m    Finished task \u001B[32m\"EvaluateTask-8\"\u001B[0m \u001B[1m[\u001B[0m\u001B[1;36m21\u001B[0m/\u001B[1;36m22\u001B[0m - \u001B[1;36m95\u001B[0m%\u001B[1m]\u001B[0m       \n"
      ]
     },
     "metadata": {},
     "output_type": "display_data"
    },
    {
     "data": {
      "text/html": [
       "<pre style=\"white-space:pre;overflow-x:auto;line-height:normal;font-family:Menlo,'DejaVu Sans Mono',consolas,'Courier New',monospace\"><span style=\"color: #7fbfbf; text-decoration-color: #7fbfbf\">[03/06/23 21:58:31] </span><span style=\"color: #000080; text-decoration-color: #000080\">INFO    </span> Dolphin-<span style=\"color: #008080; text-decoration-color: #008080; font-weight: bold\">5</span>    Started task <span style=\"color: #008000; text-decoration-color: #008000\">\"ModelSelectionTask\"</span>                  \n",
       "</pre>\n"
      ],
      "text/plain": [
       "\u001B[2;36m[03/06/23 21:58:31]\u001B[0m\u001B[2;36m \u001B[0m\u001B[34mINFO    \u001B[0m Dolphin-\u001B[1;36m5\u001B[0m    Started task \u001B[32m\"ModelSelectionTask\"\u001B[0m                  \n"
      ]
     },
     "metadata": {},
     "output_type": "display_data"
    },
    {
     "data": {
      "text/html": [
       "<pre style=\"white-space:pre;overflow-x:auto;line-height:normal;font-family:Menlo,'DejaVu Sans Mono',consolas,'Courier New',monospace\"><span style=\"color: #7fbfbf; text-decoration-color: #7fbfbf\">[03/06/23 21:58:31] </span><span style=\"color: #000080; text-decoration-color: #000080\">INFO    </span> Dolphin-<span style=\"color: #008080; text-decoration-color: #008080; font-weight: bold\">5</span>    Finished task <span style=\"color: #008000; text-decoration-color: #008000\">\"ModelSelectionTask\"</span> <span style=\"font-weight: bold\">[</span><span style=\"color: #008080; text-decoration-color: #008080; font-weight: bold\">22</span>/<span style=\"color: #008080; text-decoration-color: #008080; font-weight: bold\">22</span> - <span style=\"color: #008080; text-decoration-color: #008080; font-weight: bold\">100</span>%<span style=\"font-weight: bold\">]</span>  \n",
       "</pre>\n"
      ],
      "text/plain": [
       "\u001B[2;36m[03/06/23 21:58:31]\u001B[0m\u001B[2;36m \u001B[0m\u001B[34mINFO    \u001B[0m Dolphin-\u001B[1;36m5\u001B[0m    Finished task \u001B[32m\"ModelSelectionTask\"\u001B[0m \u001B[1m[\u001B[0m\u001B[1;36m22\u001B[0m/\u001B[1;36m22\u001B[0m - \u001B[1;36m100\u001B[0m%\u001B[1m]\u001B[0m  \n"
      ]
     },
     "metadata": {},
     "output_type": "display_data"
    }
   ],
   "source": [
    "# all tasks\n",
    "tasks = [dataset_fetch_task,\n",
    "         pre_process_task,\n",
    "         featurize_task_1, featurize_task_2,\n",
    "         train_task,\n",
    "         evaluate_task,\n",
    "         model_selection_task]\n",
    "\n",
    "flow = Flow(tasks=tasks)\n",
    "\n",
    "# run the pipeline\n",
    "results = flow.run(project_name=\"sklearn_text_classification_example\")"
   ]
  },
  {
   "cell_type": "markdown",
   "metadata": {
    "pycharm": {
     "name": "#%% md\n"
    }
   },
   "source": [
    "### **Choosing the best Config and best performance**"
   ]
  },
  {
   "cell_type": "code",
   "execution_count": 12,
   "metadata": {
    "collapsed": false,
    "jupyter": {
     "outputs_hidden": false
    },
    "pycharm": {
     "name": "#%%\n"
    }
   },
   "outputs": [
    {
     "data": {
      "text/html": [
       "<pre style=\"white-space:pre;overflow-x:auto;line-height:normal;font-family:Menlo,'DejaVu Sans Mono',consolas,'Courier New',monospace\"><span style=\"font-weight: bold\">{</span><span style=\"color: #008000; text-decoration-color: #008000\">'DatasetFetchTask'</span>: <span style=\"font-weight: bold\">{}</span>, <span style=\"color: #008000; text-decoration-color: #008000\">'PreProcessTask'</span>: <span style=\"font-weight: bold\">{</span><span style=\"color: #008000; text-decoration-color: #008000\">'pre_processing_steps'</span>: <span style=\"font-weight: bold\">[</span><span style=\"color: #008000; text-decoration-color: #008000\">'lower_case'</span>, \n",
       "<span style=\"color: #008000; text-decoration-color: #008000\">'remove_punct'</span><span style=\"font-weight: bold\">]}</span>, <span style=\"color: #008000; text-decoration-color: #008000\">'GloveFeaturizeTask'</span>: <span style=\"font-weight: bold\">{}</span>, <span style=\"color: #008000; text-decoration-color: #008000\">'TFIDFFeaturizeTask'</span>: <span style=\"font-weight: bold\">{</span><span style=\"color: #008000; text-decoration-color: #008000\">'min_df'</span>: <span style=\"color: #008080; text-decoration-color: #008080; font-weight: bold\">5</span>, \n",
       "<span style=\"color: #008000; text-decoration-color: #008000\">'max_features'</span>: <span style=\"color: #008080; text-decoration-color: #008080; font-weight: bold\">1000</span><span style=\"font-weight: bold\">}</span>, <span style=\"color: #008000; text-decoration-color: #008000\">'TrainTask'</span>: <span style=\"font-weight: bold\">{</span><span style=\"color: #008000; text-decoration-color: #008000\">'max_iter'</span>: <span style=\"color: #008080; text-decoration-color: #008080; font-weight: bold\">100</span>, <span style=\"color: #008000; text-decoration-color: #008000\">'balanced'</span>: <span style=\"color: #ff0000; text-decoration-color: #ff0000; font-style: italic\">False</span><span style=\"font-weight: bold\">}</span>, <span style=\"color: #008000; text-decoration-color: #008000\">'EvaluateTask'</span>: <span style=\"font-weight: bold\">{}}</span>\n",
       "</pre>\n"
      ],
      "text/plain": [
       "\u001B[1m{\u001B[0m\u001B[32m'DatasetFetchTask'\u001B[0m: \u001B[1m{\u001B[0m\u001B[1m}\u001B[0m, \u001B[32m'PreProcessTask'\u001B[0m: \u001B[1m{\u001B[0m\u001B[32m'pre_processing_steps'\u001B[0m: \u001B[1m[\u001B[0m\u001B[32m'lower_case'\u001B[0m, \n",
       "\u001B[32m'remove_punct'\u001B[0m\u001B[1m]\u001B[0m\u001B[1m}\u001B[0m, \u001B[32m'GloveFeaturizeTask'\u001B[0m: \u001B[1m{\u001B[0m\u001B[1m}\u001B[0m, \u001B[32m'TFIDFFeaturizeTask'\u001B[0m: \u001B[1m{\u001B[0m\u001B[32m'min_df'\u001B[0m: \u001B[1;36m5\u001B[0m, \n",
       "\u001B[32m'max_features'\u001B[0m: \u001B[1;36m1000\u001B[0m\u001B[1m}\u001B[0m, \u001B[32m'TrainTask'\u001B[0m: \u001B[1m{\u001B[0m\u001B[32m'max_iter'\u001B[0m: \u001B[1;36m100\u001B[0m, \u001B[32m'balanced'\u001B[0m: \u001B[3;91mFalse\u001B[0m\u001B[1m}\u001B[0m, \u001B[32m'EvaluateTask'\u001B[0m: \u001B[1m{\u001B[0m\u001B[1m}\u001B[0m\u001B[1m}\u001B[0m\n"
      ]
     },
     "metadata": {},
     "output_type": "display_data"
    },
    {
     "data": {
      "text/html": [
       "<pre style=\"white-space:pre;overflow-x:auto;line-height:normal;font-family:Menlo,'DejaVu Sans Mono',consolas,'Courier New',monospace\"><span style=\"font-weight: bold\">{</span>\n",
       "    <span style=\"color: #008000; text-decoration-color: #008000\">'classification_report'</span>: <span style=\"font-weight: bold\">{</span>\n",
       "        <span style=\"color: #008000; text-decoration-color: #008000\">'0'</span>: <span style=\"font-weight: bold\">{</span>\n",
       "            <span style=\"color: #008000; text-decoration-color: #008000\">'precision'</span>: <span style=\"color: #008080; text-decoration-color: #008080; font-weight: bold\">0.8552631578947368</span>,\n",
       "            <span style=\"color: #008000; text-decoration-color: #008000\">'recall'</span>: <span style=\"color: #008080; text-decoration-color: #008080; font-weight: bold\">0.9420289855072463</span>,\n",
       "            <span style=\"color: #008000; text-decoration-color: #008000\">'f1-score'</span>: <span style=\"color: #008080; text-decoration-color: #008080; font-weight: bold\">0.8965517241379309</span>,\n",
       "            <span style=\"color: #008000; text-decoration-color: #008000\">'support'</span>: <span style=\"color: #008080; text-decoration-color: #008080; font-weight: bold\">138</span>\n",
       "        <span style=\"font-weight: bold\">}</span>,\n",
       "        <span style=\"color: #008000; text-decoration-color: #008000\">'1'</span>: <span style=\"font-weight: bold\">{</span>\n",
       "            <span style=\"color: #008000; text-decoration-color: #008000\">'precision'</span>: <span style=\"color: #008080; text-decoration-color: #008080; font-weight: bold\">0.8292682926829268</span>,\n",
       "            <span style=\"color: #008000; text-decoration-color: #008000\">'recall'</span>: <span style=\"color: #008080; text-decoration-color: #008080; font-weight: bold\">0.723404255319149</span>,\n",
       "            <span style=\"color: #008000; text-decoration-color: #008000\">'f1-score'</span>: <span style=\"color: #008080; text-decoration-color: #008080; font-weight: bold\">0.7727272727272727</span>,\n",
       "            <span style=\"color: #008000; text-decoration-color: #008000\">'support'</span>: <span style=\"color: #008080; text-decoration-color: #008080; font-weight: bold\">94</span>\n",
       "        <span style=\"font-weight: bold\">}</span>,\n",
       "        <span style=\"color: #008000; text-decoration-color: #008000\">'2'</span>: <span style=\"font-weight: bold\">{</span>\n",
       "            <span style=\"color: #008000; text-decoration-color: #008000\">'precision'</span>: <span style=\"color: #008080; text-decoration-color: #008080; font-weight: bold\">1.0</span>,\n",
       "            <span style=\"color: #008000; text-decoration-color: #008000\">'recall'</span>: <span style=\"color: #008080; text-decoration-color: #008080; font-weight: bold\">0.7777777777777778</span>,\n",
       "            <span style=\"color: #008000; text-decoration-color: #008000\">'f1-score'</span>: <span style=\"color: #008080; text-decoration-color: #008080; font-weight: bold\">0.8750000000000001</span>,\n",
       "            <span style=\"color: #008000; text-decoration-color: #008000\">'support'</span>: <span style=\"color: #008080; text-decoration-color: #008080; font-weight: bold\">9</span>\n",
       "        <span style=\"font-weight: bold\">}</span>,\n",
       "        <span style=\"color: #008000; text-decoration-color: #008000\">'3'</span>: <span style=\"font-weight: bold\">{</span>\n",
       "            <span style=\"color: #008000; text-decoration-color: #008000\">'precision'</span>: <span style=\"color: #008080; text-decoration-color: #008080; font-weight: bold\">0.9104477611940298</span>,\n",
       "            <span style=\"color: #008000; text-decoration-color: #008000\">'recall'</span>: <span style=\"color: #008080; text-decoration-color: #008080; font-weight: bold\">0.9384615384615385</span>,\n",
       "            <span style=\"color: #008000; text-decoration-color: #008000\">'f1-score'</span>: <span style=\"color: #008080; text-decoration-color: #008080; font-weight: bold\">0.9242424242424243</span>,\n",
       "            <span style=\"color: #008000; text-decoration-color: #008000\">'support'</span>: <span style=\"color: #008080; text-decoration-color: #008080; font-weight: bold\">65</span>\n",
       "        <span style=\"font-weight: bold\">}</span>,\n",
       "        <span style=\"color: #008000; text-decoration-color: #008000\">'4'</span>: <span style=\"font-weight: bold\">{</span>\n",
       "            <span style=\"color: #008000; text-decoration-color: #008000\">'precision'</span>: <span style=\"color: #008080; text-decoration-color: #008080; font-weight: bold\">0.9696969696969697</span>,\n",
       "            <span style=\"color: #008000; text-decoration-color: #008000\">'recall'</span>: <span style=\"color: #008080; text-decoration-color: #008080; font-weight: bold\">0.8495575221238938</span>,\n",
       "            <span style=\"color: #008000; text-decoration-color: #008000\">'f1-score'</span>: <span style=\"color: #008080; text-decoration-color: #008080; font-weight: bold\">0.9056603773584906</span>,\n",
       "            <span style=\"color: #008000; text-decoration-color: #008000\">'support'</span>: <span style=\"color: #008080; text-decoration-color: #008080; font-weight: bold\">113</span>\n",
       "        <span style=\"font-weight: bold\">}</span>,\n",
       "        <span style=\"color: #008000; text-decoration-color: #008000\">'5'</span>: <span style=\"font-weight: bold\">{</span>\n",
       "            <span style=\"color: #008000; text-decoration-color: #008000\">'precision'</span>: <span style=\"color: #008080; text-decoration-color: #008080; font-weight: bold\">0.8172043010752689</span>,\n",
       "            <span style=\"color: #008000; text-decoration-color: #008000\">'recall'</span>: <span style=\"color: #008080; text-decoration-color: #008080; font-weight: bold\">0.9382716049382716</span>,\n",
       "            <span style=\"color: #008000; text-decoration-color: #008000\">'f1-score'</span>: <span style=\"color: #008080; text-decoration-color: #008080; font-weight: bold\">0.8735632183908048</span>,\n",
       "            <span style=\"color: #008000; text-decoration-color: #008000\">'support'</span>: <span style=\"color: #008080; text-decoration-color: #008080; font-weight: bold\">81</span>\n",
       "        <span style=\"font-weight: bold\">}</span>,\n",
       "        <span style=\"color: #008000; text-decoration-color: #008000\">'accuracy'</span>: <span style=\"color: #008080; text-decoration-color: #008080; font-weight: bold\">0.876</span>,\n",
       "        <span style=\"color: #008000; text-decoration-color: #008000\">'macro avg'</span>: <span style=\"font-weight: bold\">{</span>\n",
       "            <span style=\"color: #008000; text-decoration-color: #008000\">'precision'</span>: <span style=\"color: #008080; text-decoration-color: #008080; font-weight: bold\">0.8969800804239888</span>,\n",
       "            <span style=\"color: #008000; text-decoration-color: #008000\">'recall'</span>: <span style=\"color: #008080; text-decoration-color: #008080; font-weight: bold\">0.8615836140213129</span>,\n",
       "            <span style=\"color: #008000; text-decoration-color: #008000\">'f1-score'</span>: <span style=\"color: #008080; text-decoration-color: #008080; font-weight: bold\">0.8746241694761538</span>,\n",
       "            <span style=\"color: #008000; text-decoration-color: #008000\">'support'</span>: <span style=\"color: #008080; text-decoration-color: #008080; font-weight: bold\">500</span>\n",
       "        <span style=\"font-weight: bold\">}</span>,\n",
       "        <span style=\"color: #008000; text-decoration-color: #008000\">'weighted avg'</span>: <span style=\"font-weight: bold\">{</span>\n",
       "            <span style=\"color: #008000; text-decoration-color: #008000\">'precision'</span>: <span style=\"color: #008080; text-decoration-color: #008080; font-weight: bold\">0.8798518914842701</span>,\n",
       "            <span style=\"color: #008000; text-decoration-color: #008000\">'recall'</span>: <span style=\"color: #008080; text-decoration-color: #008080; font-weight: bold\">0.876</span>,\n",
       "            <span style=\"color: #008000; text-decoration-color: #008000\">'f1-score'</span>: <span style=\"color: #008080; text-decoration-color: #008080; font-weight: bold\">0.8748190049486405</span>,\n",
       "            <span style=\"color: #008000; text-decoration-color: #008000\">'support'</span>: <span style=\"color: #008080; text-decoration-color: #008080; font-weight: bold\">500</span>\n",
       "        <span style=\"font-weight: bold\">}</span>\n",
       "    <span style=\"font-weight: bold\">}</span>\n",
       "<span style=\"font-weight: bold\">}</span>\n",
       "</pre>\n"
      ],
      "text/plain": [
       "\u001B[1m{\u001B[0m\n",
       "    \u001B[32m'classification_report'\u001B[0m: \u001B[1m{\u001B[0m\n",
       "        \u001B[32m'0'\u001B[0m: \u001B[1m{\u001B[0m\n",
       "            \u001B[32m'precision'\u001B[0m: \u001B[1;36m0.8552631578947368\u001B[0m,\n",
       "            \u001B[32m'recall'\u001B[0m: \u001B[1;36m0.9420289855072463\u001B[0m,\n",
       "            \u001B[32m'f1-score'\u001B[0m: \u001B[1;36m0.8965517241379309\u001B[0m,\n",
       "            \u001B[32m'support'\u001B[0m: \u001B[1;36m138\u001B[0m\n",
       "        \u001B[1m}\u001B[0m,\n",
       "        \u001B[32m'1'\u001B[0m: \u001B[1m{\u001B[0m\n",
       "            \u001B[32m'precision'\u001B[0m: \u001B[1;36m0.8292682926829268\u001B[0m,\n",
       "            \u001B[32m'recall'\u001B[0m: \u001B[1;36m0.723404255319149\u001B[0m,\n",
       "            \u001B[32m'f1-score'\u001B[0m: \u001B[1;36m0.7727272727272727\u001B[0m,\n",
       "            \u001B[32m'support'\u001B[0m: \u001B[1;36m94\u001B[0m\n",
       "        \u001B[1m}\u001B[0m,\n",
       "        \u001B[32m'2'\u001B[0m: \u001B[1m{\u001B[0m\n",
       "            \u001B[32m'precision'\u001B[0m: \u001B[1;36m1.0\u001B[0m,\n",
       "            \u001B[32m'recall'\u001B[0m: \u001B[1;36m0.7777777777777778\u001B[0m,\n",
       "            \u001B[32m'f1-score'\u001B[0m: \u001B[1;36m0.8750000000000001\u001B[0m,\n",
       "            \u001B[32m'support'\u001B[0m: \u001B[1;36m9\u001B[0m\n",
       "        \u001B[1m}\u001B[0m,\n",
       "        \u001B[32m'3'\u001B[0m: \u001B[1m{\u001B[0m\n",
       "            \u001B[32m'precision'\u001B[0m: \u001B[1;36m0.9104477611940298\u001B[0m,\n",
       "            \u001B[32m'recall'\u001B[0m: \u001B[1;36m0.9384615384615385\u001B[0m,\n",
       "            \u001B[32m'f1-score'\u001B[0m: \u001B[1;36m0.9242424242424243\u001B[0m,\n",
       "            \u001B[32m'support'\u001B[0m: \u001B[1;36m65\u001B[0m\n",
       "        \u001B[1m}\u001B[0m,\n",
       "        \u001B[32m'4'\u001B[0m: \u001B[1m{\u001B[0m\n",
       "            \u001B[32m'precision'\u001B[0m: \u001B[1;36m0.9696969696969697\u001B[0m,\n",
       "            \u001B[32m'recall'\u001B[0m: \u001B[1;36m0.8495575221238938\u001B[0m,\n",
       "            \u001B[32m'f1-score'\u001B[0m: \u001B[1;36m0.9056603773584906\u001B[0m,\n",
       "            \u001B[32m'support'\u001B[0m: \u001B[1;36m113\u001B[0m\n",
       "        \u001B[1m}\u001B[0m,\n",
       "        \u001B[32m'5'\u001B[0m: \u001B[1m{\u001B[0m\n",
       "            \u001B[32m'precision'\u001B[0m: \u001B[1;36m0.8172043010752689\u001B[0m,\n",
       "            \u001B[32m'recall'\u001B[0m: \u001B[1;36m0.9382716049382716\u001B[0m,\n",
       "            \u001B[32m'f1-score'\u001B[0m: \u001B[1;36m0.8735632183908048\u001B[0m,\n",
       "            \u001B[32m'support'\u001B[0m: \u001B[1;36m81\u001B[0m\n",
       "        \u001B[1m}\u001B[0m,\n",
       "        \u001B[32m'accuracy'\u001B[0m: \u001B[1;36m0.876\u001B[0m,\n",
       "        \u001B[32m'macro avg'\u001B[0m: \u001B[1m{\u001B[0m\n",
       "            \u001B[32m'precision'\u001B[0m: \u001B[1;36m0.8969800804239888\u001B[0m,\n",
       "            \u001B[32m'recall'\u001B[0m: \u001B[1;36m0.8615836140213129\u001B[0m,\n",
       "            \u001B[32m'f1-score'\u001B[0m: \u001B[1;36m0.8746241694761538\u001B[0m,\n",
       "            \u001B[32m'support'\u001B[0m: \u001B[1;36m500\u001B[0m\n",
       "        \u001B[1m}\u001B[0m,\n",
       "        \u001B[32m'weighted avg'\u001B[0m: \u001B[1m{\u001B[0m\n",
       "            \u001B[32m'precision'\u001B[0m: \u001B[1;36m0.8798518914842701\u001B[0m,\n",
       "            \u001B[32m'recall'\u001B[0m: \u001B[1;36m0.876\u001B[0m,\n",
       "            \u001B[32m'f1-score'\u001B[0m: \u001B[1;36m0.8748190049486405\u001B[0m,\n",
       "            \u001B[32m'support'\u001B[0m: \u001B[1;36m500\u001B[0m\n",
       "        \u001B[1m}\u001B[0m\n",
       "    \u001B[1m}\u001B[0m\n",
       "\u001B[1m}\u001B[0m\n"
      ]
     },
     "metadata": {},
     "output_type": "display_data"
    }
   ],
   "source": [
    "print(results[\"ModelSelectionTask\"][0].results[\"best_config\"])\n",
    "print(results[\"ModelSelectionTask\"][0].results[\"best_performance\"][\"test\"])"
   ]
  },
  {
   "cell_type": "code",
   "execution_count": null,
   "metadata": {
    "pycharm": {
     "name": "#%%\n"
    }
   },
   "outputs": [],
   "source": []
  }
 ],
 "metadata": {
  "kernelspec": {
   "display_name": "Python 3",
   "language": "python",
   "name": "python3"
  },
  "language_info": {
   "codemirror_mode": {
    "name": "ipython",
    "version": 3
   },
   "file_extension": ".py",
   "mimetype": "text/x-python",
   "name": "python",
   "nbconvert_exporter": "python",
   "pygments_lexer": "ipython3",
   "version": "3.7.9"
  }
 },
 "nbformat": 4,
 "nbformat_minor": 4
}
