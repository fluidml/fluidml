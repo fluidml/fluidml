{
 "cells": [
  {
   "cell_type": "markdown",
   "metadata": {
    "pycharm": {
     "name": "#%% md\n"
    }
   },
   "source": [
    "<img src=\"https://raw.githubusercontent.com/fluidml/fluidml/main/logo/fluid_ml_logo.png\" width=\"400px\"/>"
   ]
  },
  {
   "cell_type": "markdown",
   "metadata": {
    "pycharm": {
     "name": "#%% md\n"
    }
   },
   "source": [
    "# Transformer based Sequence to Sequence Translation using FluidML\n",
    "In this notebook, we utilize FluidML to implement a complete ML pipeline that performs text translation from German to English.  \n",
    "Our translation pipeline consists of the following tasks:\n",
    "- **Dataset loading**: Downloads and parses the Multi30K dataset used for translation.\n",
    "- **Tokenizer training**: Trains and saves a Byte Pair Encoding (BPE) Tokenizer used for text encoding and decoding.\n",
    "- **Dataset encoding**: Encodes the dataset with the trained BPE Tokenizer.\n",
    "- **Model training**: Trains the Transformer based Sequence to Sequence Model.\n",
    "- **Model selection**: Selects from all trained model variations (different hyperparameter sweeps) the best performing one based on the validation set.\n",
    "- **Model evaluation**: Evaluates the best performing model on the test set by calculating the test loss and the bleu score.\n",
    "\n",
    "With FluidML, all of these steps are naturally implemented as individual tasks which register their dependencies and are chained together to a task graph. This graph is then executed in parallel by FluidML and all results are stored persistently in a local file store (see the Storage section for details)."
   ]
  },
  {
   "cell_type": "markdown",
   "metadata": {
    "pycharm": {
     "name": "#%% md\n"
    }
   },
   "source": [
    " "
   ]
  },
  {
   "cell_type": "markdown",
   "metadata": {
    "pycharm": {
     "name": "#%% md\n"
    }
   },
   "source": [
    "## Setup\n",
    "\n",
    "To run this example it makes sense to install FluidML with the additional example requirements (Of course you can also manually install all dependencies. Check `transformer_seq2seq_translation.py` for a complete list)."
   ]
  },
  {
   "cell_type": "code",
   "execution_count": null,
   "metadata": {
    "pycharm": {
     "name": "#%%\n"
    }
   },
   "outputs": [],
   "source": [
    "!pip install fluidml[examples]"
   ]
  },
  {
   "cell_type": "markdown",
   "metadata": {
    "pycharm": {
     "name": "#%% md\n"
    }
   },
   "source": [
    "**Note**: Due to the limitation of multiprocessing and jupyter, we have to import our defined tasks and some helper classes from a separate script. Hence, our task definitions are located in `transformer_seq2seq_translation.py`, which not only implements the tasks but also the entire functionality of this example. So the interested reader can also go ahead and execute the just mentioned script. In order to still make this notebook self-explanatory, we provide Markdown code snippets of the individual task implementations at the place where we would have defined the task."
   ]
  },
  {
   "cell_type": "code",
   "execution_count": 1,
   "metadata": {
    "collapsed": false,
    "jupyter": {
     "outputs_hidden": false
    },
    "pycharm": {
     "name": "#%%\n"
    }
   },
   "outputs": [],
   "source": [
    "# Python internal imports\n",
    "import multiprocessing\n",
    "import os\n",
    "from typing import List, Dict, Any, Optional, Tuple\n",
    "\n",
    "# External imports\n",
    "import torch\n",
    "\n",
    "# FluidML imports\n",
    "from fluidml import Flow, TaskSpec\n",
    "from fluidml.visualization import visualize_graph_in_console\n",
    "# Task imports, file store import and resource class import (see above note)\n",
    "from transformer_seq2seq_translation import DatasetLoading, TokenizerTraining, DatasetEncoding, Training, ModelSelection, Evaluation\n",
    "from transformer_seq2seq_translation import TaskResource, MyLocalFileStore"
   ]
  },
  {
   "cell_type": "markdown",
   "metadata": {
    "pycharm": {
     "name": "#%% md\n"
    }
   },
   "source": [
    "**Note 2**: If you want to use FluidML's logging capability, please configure a logger using Python's `logging` API. For convenience, we provide a simple utility function which configures a visually appealing logger (using a specific handler from the `rich` library)."
   ]
  },
  {
   "cell_type": "code",
   "execution_count": 2,
   "metadata": {
    "collapsed": false,
    "jupyter": {
     "outputs_hidden": false
    },
    "pycharm": {
     "name": "#%%\n"
    }
   },
   "outputs": [],
   "source": [
    "from fluidml.logging import configure_logging\n",
    "configure_logging(level='INFO')"
   ]
  },
  {
   "cell_type": "markdown",
   "metadata": {
    "pycharm": {
     "name": "#%% md\n"
    }
   },
   "source": [
    " "
   ]
  },
  {
   "cell_type": "markdown",
   "metadata": {
    "pycharm": {
     "name": "#%% md\n"
    }
   },
   "source": [
    "## Storage - Saving Objects with FluidML\n",
    "\n",
    "Before we start with the implementation of our translation pipeline, we take a brief look at FluidML's storage API.  \n",
    "Out of the box FluidML provides three different storage options, which share the same interface (the interested user can implement his own storage, as long as the storage class inherits from `fluidml.storage.base.ResultsStore` and implements all abstract methods):\n",
    "- **InMemoryStore**: If no store object is provided, this is internally the default. Every saved object is stored in an in-memory manager dictionary, which is shared across all tasks and processes. Once the entire pipeline is executed, the results dictionary is returned to the user and it is the user's responsibility to actually save the results e.g. to disc. This store is only recommended for quick prototyping and small result objects, since intermediate task results cannot be stored persistently and the memory might not be sufficient to hold all task results.\n",
    "- **LocalFileStore**: A persistent file store implementation that out of the box supports saving files as .json and .pickle. It can be easily extended by the user to support arbitrary file types and save options.\n",
    "- **MongoDBStore**: A persistent MongoDBStore implementation, which stores saved objects as binary strings via GridFS in a Mongo DB.\n",
    "\n",
    "In this example we utilize the `LocalFileStore` and extend it with our own custom saving types.  \n",
    "In order to save an object within a task, one simply calls\n",
    "```python\n",
    "self.save(obj=model_state_dict, name=\"best_model\", type_=\"torch\", sub_dir=\"models\")\n",
    "self.save(obj=some_dict, name=\"some_dict\", type_=\"json\")\n",
    "self.save(obj=some_serializable_obj, name=\"some_serializable_obj\", type_=\"pickle\", sub_dir=\"some/sub/dir\")\n",
    "```\n",
    "Below, we implement `MyLocalFileStore`, which inherits from `LocalFileStore` and extends it by adding save and load functions for torch models and tokenizer objects. \n",
    "We register new types to the `_type_registry` dictionary from `LocalFileStore` by providing a `TypeInfo` dataclass instance containing the type's save and load function and file extension.\n",
    "\n",
    "```python\n",
    "class MyLocalFileStore(LocalFileStore):\n",
    "    def __init__(self, base_dir: str):\n",
    "        super().__init__(base_dir=base_dir)\n",
    "\n",
    "        self._type_registry[\"torch\"] = TypeInfo(\n",
    "            save_fn=self._save_torch, load_fn=self._load_torch, extension=\"pt\", needs_path=True\n",
    "        )\n",
    "        self._type_registry[\"tokenizer\"] = TypeInfo(\n",
    "            save_fn=self._save_tokenizer, load_fn=self._load_tokenizer, extension=\"json\", needs_path=True\n",
    "        )\n",
    "\n",
    "    @staticmethod\n",
    "    def _save_torch(obj: Any, path: str):\n",
    "        torch.save(obj, f=path)\n",
    "\n",
    "    @staticmethod\n",
    "    def _load_torch(path: str) -> Any:\n",
    "        return torch.load(path)\n",
    "\n",
    "    @staticmethod\n",
    "    def _save_tokenizer(obj: Tokenizer, path: str):\n",
    "        obj.save(path=path)\n",
    "\n",
    "    @staticmethod\n",
    "    def _load_tokenizer(path: str) -> Tokenizer:\n",
    "        return Tokenizer.from_file(path)\n",
    "```"
   ]
  },
  {
   "cell_type": "markdown",
   "metadata": {
    "pycharm": {
     "name": "#%% md\n"
    }
   },
   "source": [
    " "
   ]
  },
  {
   "cell_type": "markdown",
   "metadata": {
    "pycharm": {
     "name": "#%% md\n"
    }
   },
   "source": [
    "## Task Definitions\n",
    "\n",
    "The following 6 sections describe our task definitions in detail."
   ]
  },
  {
   "cell_type": "markdown",
   "metadata": {
    "pycharm": {
     "name": "#%% md\n"
    }
   },
   "source": [
    "### 1. Dataset Loading\n",
    "\n",
    "For this example we use the [Multi30K](https://github.com/multi30k/dataset) translation dataset, considering only German and English. The dataset was published with a fixed split of 29,000 train, 1,000 validation and 1,000 test German-English text pairs.\n",
    "\n",
    "We implement this Task by creating a custom `DatasetLoading` class, which inherits from FluidML's `Task` class. To comply with our interface a custom task just has to implement a `run()` method, which FluidML will execute internally.\n",
    "\n",
    "Here is our complete implementation of DatasetLoading (imported above):\n",
    "\n",
    "\n",
    "```python\n",
    "import gzip\n",
    "import requests\n",
    "\n",
    "\n",
    "class DatasetLoading(Task):\n",
    "    def __init__(self, base_url: str, data_split_names: Dict[str, List]):\n",
    "        super().__init__()\n",
    "        self.base_url = base_url\n",
    "        self.data_split_names = data_split_names\n",
    "\n",
    "    @staticmethod\n",
    "    def download_and_extract_gz_from_url(url: str) -> List[str]:\n",
    "        # download gz compressed data\n",
    "        data_gz = requests.get(url=url)\n",
    "        # decompress downloaded gz data to bytes object\n",
    "        data_bytes = gzip.decompress(data_gz.content)\n",
    "        # decode bytes object to utf-8 encoded str and convert to list by splitting on new line chars\n",
    "        data = data_bytes.decode(\"utf-8\").splitlines()\n",
    "        return data\n",
    "\n",
    "    def run(self):\n",
    "        task_run_dir = self.get_store_context().run_dir\n",
    "        logger.info(f'Download and save raw dataset to \"{task_run_dir}\".')\n",
    "\n",
    "        for split_name, files in self.data_split_names.items():\n",
    "            dataset = {}\n",
    "            for file_name in files:\n",
    "                # create download url\n",
    "                url = self.base_url + file_name\n",
    "                language = file_name.split(\".\")[1]\n",
    "                # download and parse data\n",
    "                data = DatasetLoading.download_and_extract_gz_from_url(url=url)\n",
    "                dataset[language] = data\n",
    "            # save train-, valid- and test-data as json via local file store\n",
    "            self.save(obj=dataset, name=f\"{split_name}_data\", type_=\"json\")\n",
    "\n",
    "```"
   ]
  },
  {
   "cell_type": "markdown",
   "metadata": {
    "pycharm": {
     "name": "#%% md\n"
    }
   },
   "source": [
    " "
   ]
  },
  {
   "cell_type": "markdown",
   "metadata": {
    "pycharm": {
     "name": "#%% md\n"
    }
   },
   "source": [
    "### 2. Tokenizer Training\n",
    "\n",
    "We utilize Huggingface's [Tokenizers](https://github.com/huggingface/tokenizers) library to train a Byte Pair Encoding (BPE) tokenizer for the German and for the English sentences.\n",
    "\n",
    "\n",
    "```python\n",
    "from tokenizers.implementations import CharBPETokenizer\n",
    "from tokenizers.processors import TemplateProcessing\n",
    "\n",
    "\n",
    "class TokenizerTraining(Task):\n",
    "    def __init__(self, vocab_size: int, min_frequency: int):\n",
    "        super().__init__()\n",
    "        self.vocab_size = vocab_size\n",
    "        self.min_frequency = min_frequency\n",
    "\n",
    "    def train_tokenizer(self, data: List[str]):\n",
    "        # initialize and train a tokenizer\n",
    "        tokenizer = CharBPETokenizer()\n",
    "        tokenizer.train_from_iterator(\n",
    "            iterator=data,\n",
    "            vocab_size=self.vocab_size,\n",
    "            min_frequency=self.min_frequency,\n",
    "            special_tokens=[\"<unk>\", \"<bos>\", \"<eos>\", \"<pad>\"],\n",
    "            show_progress=True,\n",
    "        )\n",
    "\n",
    "        # add template rule to automatically add <bos> and <eos> to the encoding\n",
    "        tokenizer.post_processor = TemplateProcessing(\n",
    "            single=\"<bos> $A <eos>\",\n",
    "            pair=None,\n",
    "            special_tokens=[\n",
    "                (\"<bos>\", tokenizer.token_to_id(\"<bos>\")),\n",
    "                (\"<eos>\", tokenizer.token_to_id(\"<eos>\")),\n",
    "            ],\n",
    "        )\n",
    "        return tokenizer\n",
    "\n",
    "    def run(self, train_data: Dict[str, List[str]]):\n",
    "        task_run_dir = self.get_store_context().run_dir\n",
    "\n",
    "        # train german tokenizer\n",
    "        de_tokenizer = self.train_tokenizer(data=train_data[\"de\"])\n",
    "\n",
    "        # train english tokenizer\n",
    "        en_tokenizer = self.train_tokenizer(data=train_data[\"en\"])\n",
    "\n",
    "        # save tokenizers\n",
    "        logger.info(f'Save trained tokenizers to \"{task_run_dir}\".')\n",
    "        self.save(obj=de_tokenizer, name=\"de_tokenizer\", type_=\"tokenizer\")\n",
    "\n",
    "```"
   ]
  },
  {
   "cell_type": "markdown",
   "metadata": {
    "pycharm": {
     "name": "#%% md\n"
    }
   },
   "source": [
    " "
   ]
  },
  {
   "cell_type": "markdown",
   "metadata": {
    "pycharm": {
     "name": "#%% md\n"
    }
   },
   "source": [
    "### 3. Dataset Encoding\n",
    "\n",
    "We use the trained tokenizers for German and English to encode the previously saved datasets and save them as json files.  \n",
    "**Note**: FluidML automatically collects the required task inputs from the saved predecessor task results; in this case the datasets saved from `DatasetLoading` and the tokenizers trained in `TokenizerTraining`.\n",
    "\n",
    "\n",
    "```python\n",
    "class DatasetEncoding(Task):\n",
    "    def __init__(self):\n",
    "        super().__init__()\n",
    "\n",
    "    @staticmethod\n",
    "    def encode_data(\n",
    "        data: Dict[str, List[str]], src_tokenizer: Tokenizer, trg_tokenizer: Tokenizer\n",
    "    ) -> List[Tuple[List[int], List[int]]]:\n",
    "\n",
    "        src_encoded = src_tokenizer.encode_batch(data[\"de\"])\n",
    "        trg_encoded = trg_tokenizer.encode_batch(data[\"en\"])\n",
    "        return [(src.ids, trg.ids) for src, trg in zip(src_encoded, trg_encoded)]\n",
    "\n",
    "    def run(\n",
    "        self,\n",
    "        train_data: Dict[str, List[str]],\n",
    "        valid_data: Dict[str, List[str]],\n",
    "        test_data: Dict[str, List[str]],\n",
    "        de_tokenizer: Tokenizer,\n",
    "        en_tokenizer: Tokenizer,\n",
    "    ):\n",
    "        task_run_dir = self.get_store_context().run_dir\n",
    "\n",
    "        train_encoded = DatasetEncoding.encode_data(train_data, de_tokenizer, en_tokenizer)\n",
    "        valid_encoded = DatasetEncoding.encode_data(valid_data, de_tokenizer, en_tokenizer)\n",
    "        test_encoded = DatasetEncoding.encode_data(test_data, de_tokenizer, en_tokenizer)\n",
    "\n",
    "        logger.info(f'Save encoded dataset to \"{task_run_dir}\".')\n",
    "        self.save(obj=train_encoded, name=\"train_encoded\", type_=\"json\")\n",
    "        self.save(obj=valid_encoded, name=\"valid_encoded\", type_=\"json\")\n",
    "        self.save(obj=test_encoded, name=\"test_encoded\", type_=\"json\")\n",
    "\n",
    "```"
   ]
  },
  {
   "cell_type": "markdown",
   "metadata": {
    "pycharm": {
     "name": "#%% md\n"
    }
   },
   "source": [
    " "
   ]
  },
  {
   "cell_type": "markdown",
   "metadata": {
    "pycharm": {
     "name": "#%% md\n"
    }
   },
   "source": [
    "### 4. Model Training\n",
    "\n",
    "Our dataset is encoded using the trained BPE tokenizers, so the next step is to train the actual translation model. We utilize the well known transformer architecture first described in the [Attention is all you need](https://papers.nips.cc/paper/2017/file/3f5ee243547dee91fbd053c1c4a845aa-Paper.pdf) paper. Both, the encoder and decoder consist of several multi-head attention layers, which are the backbone of this architecture. Since this tutorial is about FluidML, we won't go into the implementational details of a transformer model. We refer the interested reader to [Ben Trevett's tutorial on transformers for translation](https://github.com/bentrevett/pytorch-seq2seq/blob/master/6%20-%20Attention%20is%20All%20You%20Need.ipynb). Also, the pytorch transformer implementation used in this example is taken from Ben's tutorial.\n",
    "\n",
    "**Note**: The custom pytorch dataset, `TranslationDataset`, and the batch collate callable, `BatchCollator`, implementations can be also found in the above mentioned script, `transformer_seq2seq_translation.py`, from where the task classes are imported. Due to its complexity the transformer model implementation is also imported in this notebook and can be found in the `transformer_model.py` script. The definition of the `set_seed()` function is also located in `transformer_seq2seq_translation.py`.\n",
    "\n",
    "You also might note that we use `self.resource.device` in our training task without explicitly defining it in the `__init__()` method. When initializing FluidML's main classes `Flow` and `Swarm`, the user can optionally provide a list of resources that will be made available to all tasks and processes. In a machine learning context such resources could be but are not limited to cuda devices (see this example). Below we will go through how to define and provide the list of resources to `Flow` and how the resources will be automatically distributed to tasks.\n",
    "\n",
    "\n",
    "```python\n",
    "from datetime import datetime\n",
    "\n",
    "import torch\n",
    "from torch.utils.data import Dataset, DataLoader\n",
    "from tqdm import tqdm\n",
    "\n",
    "\n",
    "class Training(Task):\n",
    "    def __init__(\n",
    "        self,\n",
    "        hid_dim: int,\n",
    "        enc_layers: int,\n",
    "        dec_layers: int,\n",
    "        enc_heads: int,\n",
    "        dec_heads: int,\n",
    "        enc_pf_dim: int,\n",
    "        dec_pf_dim: int,\n",
    "        enc_dropout: float,\n",
    "        dec_dropout: float,\n",
    "        learning_rate: float,\n",
    "        clip_grad: float,\n",
    "        train_batch_size: int,\n",
    "        valid_batch_size: int,\n",
    "        num_epochs: int,\n",
    "        seed: int,\n",
    "    ):\n",
    "        super().__init__()\n",
    "\n",
    "        # transformer model parameters\n",
    "        self.hid_dim = hid_dim\n",
    "        self.enc_layers = enc_layers\n",
    "        self.dec_layers = dec_layers\n",
    "        self.enc_heads = enc_heads\n",
    "        self.dec_heads = dec_heads\n",
    "        self.enc_pf_dim = enc_pf_dim\n",
    "        self.dec_pf_dim = dec_pf_dim\n",
    "        self.enc_dropout = enc_dropout\n",
    "        self.dec_dropout = dec_dropout\n",
    "\n",
    "        # optimizer parameters\n",
    "        self.learning_rate = learning_rate\n",
    "        self.clip_grad = clip_grad\n",
    "\n",
    "        # dataloader and training loop parameters\n",
    "        self.train_batch_size = train_batch_size\n",
    "        self.valid_batch_size = valid_batch_size\n",
    "        self.num_epochs = num_epochs\n",
    "        self.seed = seed\n",
    "\n",
    "    def _init_training(self, input_dim: int, output_dim: int, src_pad_idx: int, trg_pad_idx: int):\n",
    "        \"\"\"Initialize all training components.\"\"\"\n",
    "\n",
    "        # initialize the encoder and decoder block\n",
    "        enc = Encoder(\n",
    "            input_dim,\n",
    "            self.hid_dim,\n",
    "            self.enc_layers,\n",
    "            self.enc_heads,\n",
    "            self.enc_pf_dim,\n",
    "            self.enc_dropout,\n",
    "            self.resource.device,\n",
    "        )\n",
    "\n",
    "        dec = Decoder(\n",
    "            output_dim,\n",
    "            self.hid_dim,\n",
    "            self.dec_layers,\n",
    "            self.dec_heads,\n",
    "            self.dec_pf_dim,\n",
    "            self.dec_dropout,\n",
    "            self.resource.device,\n",
    "        )\n",
    "\n",
    "        # initialize the full transformer sequence to sequence model\n",
    "        model = Seq2SeqTransformer(enc, dec, src_pad_idx, trg_pad_idx, self.resource.device).to(self.resource.device)\n",
    "\n",
    "        # initialize the optimizer\n",
    "        optimizer = torch.optim.Adam(model.parameters(), lr=self.learning_rate)\n",
    "\n",
    "        # initialize the loss criterion\n",
    "        criterion = nn.CrossEntropyLoss(ignore_index=trg_pad_idx)\n",
    "        return model, optimizer, criterion\n",
    "\n",
    "    def _train_epoch(self, model, iterator, optimizer, criterion):\n",
    "        \"\"\"Train loop to iterate over batches\"\"\"\n",
    "        model.train()\n",
    "\n",
    "        epoch_loss = 0\n",
    "\n",
    "        for i, (src, trg) in enumerate(iterator):\n",
    "\n",
    "            optimizer.zero_grad()\n",
    "\n",
    "            output, _ = model(src, trg[:, :-1])\n",
    "            output_dim = output.shape[-1]\n",
    "            output = output.contiguous().view(-1, output_dim)  # [batch size * trg len - 1, output dim]\n",
    "            trg = trg[:, 1:].contiguous().view(-1)  # [batch size * trg len - 1]\n",
    "\n",
    "            loss = criterion(output, trg)\n",
    "            loss.backward()\n",
    "\n",
    "            torch.nn.utils.clip_grad_norm_(model.parameters(), self.clip_grad)\n",
    "\n",
    "            optimizer.step()\n",
    "            epoch_loss += loss.item()\n",
    "        return epoch_loss / len(iterator)\n",
    "\n",
    "    @staticmethod\n",
    "    def validate_epoch(model, iterator, criterion):\n",
    "        \"\"\"Validation loop to iterate over batches\"\"\"\n",
    "        model.eval()\n",
    "\n",
    "        epoch_loss = 0\n",
    "\n",
    "        with torch.no_grad():\n",
    "            for src, trg in iterator:\n",
    "\n",
    "                output, _ = model(src, trg[:, :-1])\n",
    "                output_dim = output.shape[-1]\n",
    "                output = output.contiguous().view(-1, output_dim)  # [batch size * trg len - 1, output dim]\n",
    "                trg = trg[:, 1:].contiguous().view(-1)  # [batch size * trg len - 1]\n",
    "\n",
    "                loss = criterion(output, trg)\n",
    "                epoch_loss += loss.item()\n",
    "        return epoch_loss / len(iterator)\n",
    "\n",
    "    def _train(self, model, train_iterator, valid_iterator, optimizer, criterion):\n",
    "        \"\"\"Train loop.\"\"\"\n",
    "        task_run_dir = self.get_store_context().run_dir\n",
    "        model_dir = os.path.join(task_run_dir, \"models\")\n",
    "        logger.info(f'Save model checkpoints to \"{model_dir}\".')\n",
    "\n",
    "        best_valid_loss = float(\"inf\")\n",
    "        best_model = None\n",
    "\n",
    "        for epoch in range(self.num_epochs):\n",
    "\n",
    "            start_time = datetime.now()\n",
    "            train_loss = self._train_epoch(model, train_iterator, optimizer, criterion)\n",
    "            valid_loss = Training.validate_epoch(model, valid_iterator, criterion)\n",
    "            end_time = datetime.now()\n",
    "\n",
    "            # if the current validation loss is below the previous best, update the best loss and\n",
    "            # save the new best model.\n",
    "            if valid_loss < best_valid_loss:\n",
    "                best_valid_loss = valid_loss\n",
    "                best_model = model.state_dict()\n",
    "                self.save(obj=best_model, name=\"best_model\", type_=\"torch\")\n",
    "                self.save(obj={\"epoch\": epoch, \"valid_loss\": best_valid_loss}, name=\"best_model_metric\", type_=\"json\")\n",
    "\n",
    "            logger.info(\n",
    "                f\"\\nEpoch: {epoch + 1:02} | Time: {end_time - start_time}\\n\"\n",
    "                f\"\\tTrain Loss: {train_loss:.3f} | Train PPL: {math.exp(train_loss):7.3f}\\n\"\n",
    "                f\"\\t Val. Loss: {valid_loss:.3f} |  Val. PPL: {math.exp(valid_loss):7.3f}\"\n",
    "            )\n",
    "\n",
    "        assert best_model is not None\n",
    "        return best_model, best_valid_loss\n",
    "\n",
    "    def run(\n",
    "        self,\n",
    "        train_encoded: List[Tuple[List[int], List[int]]],\n",
    "        valid_encoded: List[Tuple[List[int], List[int]]],\n",
    "        de_tokenizer: Tokenizer,\n",
    "        en_tokenizer: Tokenizer,\n",
    "    ):\n",
    "        set_seed(self.seed)\n",
    "\n",
    "        # instantiate the collate fn for the dataloader\n",
    "        batch_collator = BatchCollator(\n",
    "            de_pad_idx=de_tokenizer.token_to_id(\"<pad>\"),\n",
    "            en_pad_idx=en_tokenizer.token_to_id(\"<pad>\"),\n",
    "            device=self.resource.device,\n",
    "        )\n",
    "\n",
    "        # instantiate train and validation datasets using a pytorch's Dataset class\n",
    "        train_dataset = TranslationDataset(data=train_encoded)\n",
    "        valid_dataset = TranslationDataset(data=valid_encoded)\n",
    "\n",
    "        # instantiate train and validation dataloader\n",
    "        train_iterator = DataLoader(\n",
    "            train_dataset, batch_size=self.train_batch_size, shuffle=True, collate_fn=batch_collator\n",
    "        )\n",
    "        valid_iterator = DataLoader(\n",
    "            valid_dataset, batch_size=self.valid_batch_size, shuffle=False, collate_fn=batch_collator\n",
    "        )\n",
    "\n",
    "        input_dim = de_tokenizer.get_vocab_size()\n",
    "        output_dim = en_tokenizer.get_vocab_size()\n",
    "        src_pad_idx = de_tokenizer.token_to_id(\"<pad>\")\n",
    "        trg_pad_idx = en_tokenizer.token_to_id(\"<pad>\")\n",
    "\n",
    "        # instantiate all training components\n",
    "        model, optimizer, criterion = self._init_training(\n",
    "            input_dim=input_dim, output_dim=output_dim, src_pad_idx=src_pad_idx, trg_pad_idx=trg_pad_idx\n",
    "        )\n",
    "\n",
    "        # train the model on the training set and evaluate after every epoch on the validation set\n",
    "        self._train(\n",
    "            model=model,\n",
    "            train_iterator=train_iterator,\n",
    "            valid_iterator=valid_iterator,\n",
    "            optimizer=optimizer,\n",
    "            criterion=criterion,\n",
    "        )\n",
    "\n",
    "```"
   ]
  },
  {
   "cell_type": "markdown",
   "metadata": {
    "pycharm": {
     "name": "#%% md\n"
    }
   },
   "source": [
    " "
   ]
  },
  {
   "cell_type": "markdown",
   "metadata": {
    "pycharm": {
     "name": "#%% md\n"
    }
   },
   "source": [
    "### 5. Model Selection\n",
    "\n",
    "We have not yet talked about grid search and training several models with different hyperparameter combinations in parallel. FluidML provides a simple interface to allow just that, which we will describe further below when instantiating our tasks. For now let's assume that the previous tasks might have been executed multiple times with a set of different parameter combinations yielding several trained model variations.\n",
    "\n",
    "This task is a so called `reduce=True` task (will be used when instantiating the task), which means that it collects the results from all predecessor variations in order to compare and select the best performing variation. In this example it selects the best model variation based on the validation loss performance. \n",
    "\n",
    "**Note**: The `run` method of a reduce task loads the defined predecessor results as `List[Sweep]` objects. In this example `best_model_metric` is a `List[Sweep]` which holds the respective value and config of all expanded training runs. A `Sweep` object is a simple `dataclass` with 2 attributes, `value` and `config`.\n",
    "\n",
    "\n",
    "```python\n",
    "class ModelSelection(Task):\n",
    "    def __init__(self):\n",
    "        super().__init__()\n",
    "\n",
    "    @staticmethod\n",
    "    def _select_best_model_from_sweeps(best_model_metric: List[Sweep]) -> Dict:\n",
    "        config = None\n",
    "        best_valid_loss = float(\"inf\")\n",
    "        for sweep in best_model_metric:\n",
    "            if sweep.value[\"valid_loss\"] <= best_valid_loss:\n",
    "                best_valid_loss = sweep.value[\"valid_loss\"]\n",
    "                config = sweep.config\n",
    "        return config\n",
    "\n",
    "    def run(self, best_model_metric: List[Sweep]):\n",
    "        task_run_dir = self.get_store_context().run_dir\n",
    "\n",
    "        # select the best run config by comparing model performances from different parameter sweeps\n",
    "        # on the validation set\n",
    "        best_run_config = self._select_best_model_from_sweeps(best_model_metric=best_model_metric)\n",
    "\n",
    "        logger.info(f'Save best run config to \"{task_run_dir}\".')\n",
    "        self.save(obj=best_run_config, name=\"best_run_config\", type_=\"json\")\n",
    "\n",
    "```"
   ]
  },
  {
   "cell_type": "markdown",
   "metadata": {
    "pycharm": {
     "name": "#%% md\n"
    }
   },
   "source": [
    " "
   ]
  },
  {
   "cell_type": "markdown",
   "metadata": {
    "pycharm": {
     "name": "#%% md\n"
    }
   },
   "source": [
    "### 6. Model Evaluation\n",
    "\n",
    "This is the final task in our pipeline. It expects the previously determined `best_run_config` dictionary as input, loads the corresponding best model and tokenizers and evaluates said model on the test dataset.  \n",
    "First, we calculate the test set loss and perplexity. Second, we calculate the test set bleu score, since this is the standard metric of evaluating machine translation models.\n",
    "\n",
    "\n",
    "\n",
    "```python\n",
    "class Evaluation(Task):\n",
    "    def __init__(self, test_batch_size: int, seed: int):\n",
    "        super().__init__()\n",
    "\n",
    "        self.batch_size = test_batch_size\n",
    "        self.seed = seed\n",
    "\n",
    "    def _init_model(\n",
    "        self, train_config: Dict, input_dim: int, output_dim: int, src_pad_idx: int, trg_pad_idx: int\n",
    "    ) -> nn.Module:\n",
    "        \"\"\"Initialize the model and its components.\"\"\"\n",
    "\n",
    "        enc = Encoder(\n",
    "            input_dim,\n",
    "            train_config[\"hid_dim\"],\n",
    "            train_config[\"enc_layers\"],\n",
    "            train_config[\"enc_heads\"],\n",
    "            train_config[\"enc_pf_dim\"],\n",
    "            train_config[\"enc_dropout\"],\n",
    "            self.resource.device,\n",
    "        )\n",
    "\n",
    "        dec = Decoder(\n",
    "            output_dim,\n",
    "            train_config[\"hid_dim\"],\n",
    "            train_config[\"dec_layers\"],\n",
    "            train_config[\"dec_heads\"],\n",
    "            train_config[\"dec_pf_dim\"],\n",
    "            train_config[\"dec_dropout\"],\n",
    "            self.resource.device,\n",
    "        )\n",
    "\n",
    "        model = Seq2SeqTransformer(enc, dec, src_pad_idx, trg_pad_idx, self.resource.device).to(self.resource.device)\n",
    "        return model\n",
    "\n",
    "    def translate_sentence(self, src_encoded, bos_idx, eos_idx, model, max_len=50):\n",
    "        \"\"\"Translate an encoded sentence.\"\"\"\n",
    "\n",
    "        model.eval()\n",
    "\n",
    "        src_tensor = torch.LongTensor(src_encoded).unsqueeze(0).to(self.resource.device)\n",
    "        src_mask = model.make_src_mask(src_tensor)\n",
    "\n",
    "        with torch.no_grad():\n",
    "            enc_src = model.encoder(src_tensor, src_mask)\n",
    "\n",
    "        trg_indices = [bos_idx]\n",
    "        for i in range(max_len):\n",
    "            trg_tensor = torch.LongTensor(trg_indices).unsqueeze(0).to(self.resource.device)\n",
    "            trg_mask = model.make_trg_mask(trg_tensor)\n",
    "            with torch.no_grad():\n",
    "                output, attention = model.decoder(trg_tensor, enc_src, trg_mask, src_mask)\n",
    "            pred_token = output.argmax(2)[:, -1].item()\n",
    "            trg_indices.append(pred_token)\n",
    "            if pred_token == eos_idx:\n",
    "                break\n",
    "\n",
    "        return trg_indices[1:]\n",
    "\n",
    "    def calculate_bleu(self, data_encoded, en_tokenizer, model, max_len=50):\n",
    "        \"\"\"Calculate the bleu score on the test set.\"\"\"\n",
    "\n",
    "        trgs = []\n",
    "        pred_trgs = []\n",
    "        bos_idx = en_tokenizer.token_to_id(\"<bos>\")\n",
    "        eos_idx = en_tokenizer.token_to_id(\"<eos>\")\n",
    "\n",
    "        worker_name = multiprocessing.current_process().name\n",
    "        with tqdm(\n",
    "            desc=f\"{worker_name} - Calculating BLEU\",\n",
    "            total=len(data_encoded),\n",
    "            unit=\"sample\",\n",
    "            ascii=False,\n",
    "        ) as progress_bar:\n",
    "            for src, trg in data_encoded:\n",
    "\n",
    "                pred_trg = self.translate_sentence(src, bos_idx, eos_idx, model, max_len)\n",
    "\n",
    "                # cut off <eos> token\n",
    "                pred_trg = pred_trg[:-1]\n",
    "\n",
    "                pred_trg_decoded = en_tokenizer.decode(pred_trg)\n",
    "                pred_trgs.append(pred_trg_decoded.split())\n",
    "\n",
    "                trg_decoded = en_tokenizer.decode(trg)\n",
    "                trgs.append([trg_decoded.split()])\n",
    "                progress_bar.update()\n",
    "\n",
    "        return bleu_score(pred_trgs, trgs)\n",
    "\n",
    "    def run(self, best_run_config: Dict):\n",
    "        set_seed(self.seed)\n",
    "\n",
    "        # load the best model, test-data and the tokenizers based on the previously selected best run config\n",
    "        model_state_dict = self.load(name=\"best_model\", task_name=\"Training\", task_unique_config=best_run_config)\n",
    "        test_encoded = self.load(name=\"test_encoded\", task_name=\"DatasetEncoding\", task_unique_config=best_run_config)\n",
    "        de_tokenizer = self.load(name=\"de_tokenizer\", task_name=\"TokenizerTraining\", task_unique_config=best_run_config)\n",
    "        en_tokenizer = self.load(name=\"en_tokenizer\", task_name=\"TokenizerTraining\", task_unique_config=best_run_config)\n",
    "\n",
    "        # instantiate the batch collator\n",
    "        batch_collator = BatchCollator(\n",
    "            de_pad_idx=de_tokenizer.token_to_id(\"<pad>\"),\n",
    "            en_pad_idx=en_tokenizer.token_to_id(\"<pad>\"),\n",
    "            device=self.resource.device,\n",
    "        )\n",
    "\n",
    "        # instantiate the test dataset\n",
    "        test_dataset = TranslationDataset(data=test_encoded)\n",
    "\n",
    "        # instantiate the test dataloader\n",
    "        test_iterator = DataLoader(test_dataset, batch_size=self.batch_size, shuffle=False, collate_fn=batch_collator)\n",
    "\n",
    "        input_dim = de_tokenizer.get_vocab_size()\n",
    "        output_dim = en_tokenizer.get_vocab_size()\n",
    "        src_pad_idx = de_tokenizer.token_to_id(\"<pad>\")\n",
    "        trg_pad_idx = en_tokenizer.token_to_id(\"<pad>\")\n",
    "\n",
    "        # instantiate the transformer model\n",
    "        model = self._init_model(\n",
    "            train_config=best_run_config[\"Training\"],\n",
    "            input_dim=input_dim,\n",
    "            output_dim=output_dim,\n",
    "            src_pad_idx=src_pad_idx,\n",
    "            trg_pad_idx=src_pad_idx,\n",
    "        )\n",
    "        model.load_state_dict(model_state_dict)\n",
    "\n",
    "        # instantiate the loss criterion\n",
    "        criterion = nn.CrossEntropyLoss(ignore_index=trg_pad_idx)\n",
    "\n",
    "        # evaluate the model on the test set -> calculate the test set loss and perplexity\n",
    "        test_loss = Training.validate_epoch(model=model, iterator=test_iterator, criterion=criterion)\n",
    "        logger.info(f\"| Test Loss: {test_loss:.3f} | Test PPL: {math.exp(test_loss):7.3f} |\")\n",
    "\n",
    "        # calculate the model's bleu score on the test set\n",
    "        bleu = self.calculate_bleu(test_encoded, en_tokenizer, model)\n",
    "        logger.info(f\"BLEU score = {bleu * 100:.2f}\")\n",
    "\n",
    "```"
   ]
  },
  {
   "cell_type": "markdown",
   "metadata": {
    "pycharm": {
     "name": "#%% md\n"
    }
   },
   "source": [
    " "
   ]
  },
  {
   "cell_type": "markdown",
   "metadata": {
    "pycharm": {
     "name": "#%% md\n"
    }
   },
   "source": [
    "## Create and Run the Pipeline/Task-Graph via FluidML\n",
    "\n",
    "So far, we have looked into implementing our individual pipeline steps using FluidML's Task class and it was very straightforward.\n",
    "You might be wondering, how to put these tasks together and make them work together as a single pipeline?\n",
    "\n",
    "Thanks to FluidML's TaskSpec API, you can connect these tasks like Lego blocks :)"
   ]
  },
  {
   "cell_type": "markdown",
   "metadata": {
    "pycharm": {
     "name": "#%% md\n"
    }
   },
   "source": [
    " "
   ]
  },
  {
   "cell_type": "markdown",
   "metadata": {
    "pycharm": {
     "name": "#%% md\n"
    }
   },
   "source": [
    "### 1. Instantiate Task Specs\n",
    "`TaskSpec` is a simple wrapper class that allows specification of task details and task arguments which will be used during instantiation of the task.\n",
    "Let's go ahead and create specs for all our tasks.\n",
    "\n",
    "**Note 1**: If you want to do a grid search on a specific task, e.g. `TokenizerTraining` and `Training`, you should set the `expand` parameter either to `\"product\"` or `\"zip\"`. For a task where no hyperparameter tuning or grid search is required, `expand` should be set to `None` or simply not declared.\n",
    "\n",
    "Below we define for each task the necessary parameter dictionary which we feed into the task spec class.  \n",
    "\n",
    "**Note 2**: All parameters of a `TaskSpec` with the `expand` parameter set to `\"product\"` or `\"zip\"`, that are stored in a list, will be automatically expanded by `Flow` depending on the selected grid search expansion method. Namely, `expand=\"product\"` (default) will create different task instances for each explicit cross-product parameter combination. For example, considering the `Training` task, internally flow will instantiate 4 train tasks with the cross product combinations of different `train_batch_size` and `learning_rate`. Alternatively, `expand=\"zip\"` expands the config parameters by zipping over the different parameter lists. For example, `config = {\"learning_rate\": [0.1, 0.01, 0.001], \"batch_size\": [64, 128, 256]}` would expand to three distinct configs with the respective learning rates and batch sizes of `(0.1, 64), (0.01, 128), (0.001, 256)`. When choosing `\"zip\"` one has to make sure that all parameter lists are of equal lengths.\n",
    "\n",
    "**Note 3**: If you have to provide a parameter to a `TaskSpec` with the `expand` parameter set to `\"product\"` or `\"zip\"`, which is of type `List` and it should not get expanded, you have to wrap it again in a second list. E.g. `layer_dimensions: [[64, 128, 64]]`.\n",
    "\n",
    "**Note 4**: The `ModelSelection` task is a so called `reduce=True` task, which means it receives the combined input of all expanded direct predecessor tasks (in this case 4 train tasks)."
   ]
  },
  {
   "cell_type": "code",
   "execution_count": 3,
   "metadata": {
    "collapsed": false,
    "jupyter": {
     "outputs_hidden": false
    },
    "pycharm": {
     "name": "#%%\n"
    }
   },
   "outputs": [],
   "source": [
    "# create all task specs\n",
    "seed = 1234\n",
    "dataset_loading_params = {\n",
    "        \"base_url\": \"https://raw.githubusercontent.com/multi30k/dataset/\" \"master/data/task1/raw/\",\n",
    "        \"data_split_names\": {\n",
    "            \"train\": [\"train.de.gz\", \"train.en.gz\"],\n",
    "            \"valid\": [\"val.de.gz\", \"val.en.gz\"],\n",
    "            \"test\": [\"test_2016_flickr.de.gz\", \"test_2016_flickr.en.gz\"],\n",
    "        },\n",
    "    }\n",
    "\n",
    "tokenizer_training_params = {\"vocab_size\": 30000, \"min_frequency\": 2}\n",
    "\n",
    "training_params = {\n",
    "    \"hid_dim\": 256,\n",
    "    \"enc_layers\": 3,\n",
    "    \"dec_layers\": 3,\n",
    "    \"enc_heads\": 8,\n",
    "    \"dec_heads\": 8,\n",
    "    \"enc_pf_dim\": 512,\n",
    "    \"dec_pf_dim\": 512,\n",
    "    \"enc_dropout\": 0.1,\n",
    "    \"dec_dropout\": 0.1,\n",
    "    \"learning_rate\": [0.0005, 0.001],\n",
    "    \"clip_grad\": 1.0,\n",
    "    \"train_batch_size\": [128, 256],\n",
    "    \"valid_batch_size\": 128,\n",
    "    \"num_epochs\": 10,\n",
    "    \"seed\": seed,\n",
    "}\n",
    "\n",
    "evaluation_params = {\"test_batch_size\": 128, \"seed\": seed}\n",
    "\n",
    "# create all task specs\n",
    "dataset_loading = TaskSpec(task=DatasetLoading, config=dataset_loading_params)\n",
    "tokenizer_training = TaskSpec(task=TokenizerTraining, config=tokenizer_training_params)\n",
    "dataset_encoding = TaskSpec(task=DatasetEncoding)\n",
    "training = TaskSpec(task=Training, config=training_params, expand=\"product\")\n",
    "model_selection = TaskSpec(task=ModelSelection, reduce=True)\n",
    "evaluate = TaskSpec(task=Evaluation, config=evaluation_params)"
   ]
  },
  {
   "cell_type": "markdown",
   "metadata": {
    "pycharm": {
     "name": "#%% md\n"
    }
   },
   "source": [
    "  "
   ]
  },
  {
   "cell_type": "markdown",
   "metadata": {
    "pycharm": {
     "name": "#%% md\n"
    }
   },
   "source": [
    "### 2. Registering all Task Dependencies\n",
    "After having instantiated all task specs, we utilize the `requires()` method to register dependencies between tasks.\n",
    "\n",
    "Using these task dependencies, FluidML's `Flow` class properly expands all `GridTaskSpecs` and creates a task graph. Next, FluidML's `Swarm` class internally schedules and performs the parallel task executions considering the registered dependencies."
   ]
  },
  {
   "cell_type": "code",
   "execution_count": 4,
   "metadata": {
    "collapsed": false,
    "jupyter": {
     "outputs_hidden": false
    },
    "pycharm": {
     "name": "#%%\n"
    }
   },
   "outputs": [],
   "source": [
    "# register dependencies between tasks\n",
    "\n",
    "tokenizer_training.requires(dataset_loading)\n",
    "dataset_encoding.requires(tokenizer_training, dataset_loading)\n",
    "training.requires(dataset_encoding, tokenizer_training)\n",
    "model_selection.requires(training)\n",
    "evaluate.requires(model_selection)"
   ]
  },
  {
   "cell_type": "markdown",
   "metadata": {
    "pycharm": {
     "name": "#%% md\n"
    }
   },
   "source": [
    " "
   ]
  },
  {
   "cell_type": "markdown",
   "metadata": {
    "pycharm": {
     "name": "#%% md\n"
    }
   },
   "source": [
    "### 3. Creating the List of Task Spec Instances\n",
    "We pack all these task specs in a list which gets passed to FluidML. `Flow` internally creates the task instances."
   ]
  },
  {
   "cell_type": "code",
   "execution_count": 5,
   "metadata": {
    "collapsed": false,
    "jupyter": {
     "outputs_hidden": false
    },
    "pycharm": {
     "name": "#%%\n"
    }
   },
   "outputs": [],
   "source": [
    "# all tasks\n",
    "tasks = [\n",
    "    dataset_loading,\n",
    "    tokenizer_training,\n",
    "    dataset_encoding,\n",
    "    training,\n",
    "    model_selection,\n",
    "    evaluate,\n",
    "]"
   ]
  },
  {
   "cell_type": "markdown",
   "metadata": {
    "pycharm": {
     "name": "#%% md\n"
    }
   },
   "source": [
    " "
   ]
  },
  {
   "cell_type": "markdown",
   "metadata": {
    "pycharm": {
     "name": "#%% md\n"
    }
   },
   "source": [
    "### 4. Setting all Meta Parameters"
   ]
  },
  {
   "cell_type": "code",
   "execution_count": 6,
   "metadata": {
    "collapsed": false,
    "jupyter": {
     "outputs_hidden": false
    },
    "pycharm": {
     "name": "#%%\n"
    }
   },
   "outputs": [],
   "source": [
    "# dynamically get the directory of this script\n",
    "current_dir = os.path.abspath('')\n",
    "\n",
    "# define the base directory where all our task results will be stored in a structured way using LocalFileStore\n",
    "base_dir = os.path.join(current_dir, 'seq2seq_experiments')\n",
    "\n",
    "# select the number of workers (processes used to execute tasks in parallel)\n",
    "num_workers = 4\n",
    " \n",
    "# set force to \n",
    "#  1) 'all' if all tasks in the pipeline have to be force-executed.\n",
    "#  2) None if already existing tasks are skipped so that results can be loaded from the store.\n",
    "#  3) a task name (eg. \"PreProcessTask\") or list of task names (eg. [\"PreProcessTask1\", \"PreProcessTask2])\n",
    "#     Additionally, each task name can have the suffix '+' to re-run also its successors (eg. \"PreProcessTask+\")\n",
    "force = None\n",
    "\n",
    "# try to use cuda GPU's if available\n",
    "use_cuda = True\n",
    "\n",
    "# define which GPU's should be used\n",
    "cuda_ids = [0]"
   ]
  },
  {
   "cell_type": "markdown",
   "metadata": {
    "pycharm": {
     "name": "#%% md\n"
    }
   },
   "source": [
    " "
   ]
  },
  {
   "cell_type": "markdown",
   "metadata": {
    "pycharm": {
     "name": "#%% md\n"
    }
   },
   "source": [
    "### 5. Define and instantiate Resources to share across all Tasks\n",
    "\n",
    "We mentioned already during the `Training` task that FluidML enables the user to conveniently share resources across all tasks instead of providing them explicitely to each task individually.  \n",
    "The user achieves this by creating his own Resource dataclass or any other resource, like a list of available GPUs. In the dataclass used here we define all resources, in our case only the cuda device, which we make available to all tasks through the `self.resource` attribute.\n",
    "\n",
    "```python\n",
    "@dataclass\n",
    "class TaskResource():\n",
    "    device: str\n",
    "```"
   ]
  },
  {
   "cell_type": "markdown",
   "metadata": {
    "pycharm": {
     "name": "#%% md\n"
    }
   },
   "source": [
    "Further, we utilize a little helper function to distribute our available cuda devices euqally across the number of defined workers.  \n",
    "E.g. let's assume we selected `num_workers = 4` and we have access to two GPU's, the below function would return the following balanced list of devices:\n",
    "\n",
    "```python\n",
    "print(devices)\n",
    "-> ['cuda:0', 'cuda:1', 'cuda:0', 'cuda:1']\n",
    "```"
   ]
  },
  {
   "cell_type": "code",
   "execution_count": 7,
   "metadata": {
    "collapsed": false,
    "jupyter": {
     "outputs_hidden": false
    },
    "pycharm": {
     "name": "#%%\n"
    }
   },
   "outputs": [],
   "source": [
    "def get_balanced_devices(\n",
    "    count: Optional[int] = None, use_cuda: bool = True, cuda_ids: Optional[List[int]] = None\n",
    ") -> List[str]:\n",
    "    count = count if count is not None else multiprocessing.cpu_count()\n",
    "    if use_cuda and torch.cuda.is_available():\n",
    "        if cuda_ids is not None:\n",
    "            devices = [f\"cuda:{id_}\" for id_ in cuda_ids]\n",
    "        else:\n",
    "            devices = [f\"cuda:{id_}\" for id_ in range(torch.cuda.device_count())]\n",
    "    else:\n",
    "        devices = [\"cpu\"]\n",
    "    factor = int(count / len(devices))\n",
    "    remainder = count % len(devices)\n",
    "    devices = devices * factor + devices[:remainder]\n",
    "    return devices\n",
    "\n",
    "devices = get_balanced_devices(count=num_workers, use_cuda=use_cuda, cuda_ids=cuda_ids)"
   ]
  },
  {
   "cell_type": "markdown",
   "metadata": {
    "pycharm": {
     "name": "#%% md\n"
    }
   },
   "source": [
    "Finally, we create our list of resource objects which we will feed to the `Flow` class during instantiation.\n",
    "**Note**: `len(resources) == num_workers`"
   ]
  },
  {
   "cell_type": "code",
   "execution_count": 8,
   "metadata": {
    "collapsed": false,
    "jupyter": {
     "outputs_hidden": false
    },
    "pycharm": {
     "name": "#%%\n"
    }
   },
   "outputs": [],
   "source": [
    "# create list of resources\n",
    "resources = [TaskResource(device=devices[i]) for i in range(num_workers)]"
   ]
  },
  {
   "cell_type": "markdown",
   "metadata": {
    "pycharm": {
     "name": "#%% md\n"
    }
   },
   "source": [
    " "
   ]
  },
  {
   "cell_type": "markdown",
   "metadata": {
    "pycharm": {
     "name": "#%% md\n"
    }
   },
   "source": [
    "### 6. Instantiate the previously defined File Store"
   ]
  },
  {
   "cell_type": "code",
   "execution_count": 9,
   "metadata": {
    "collapsed": false,
    "jupyter": {
     "outputs_hidden": false
    },
    "pycharm": {
     "name": "#%%\n"
    }
   },
   "outputs": [],
   "source": [
    "# create local file storage used for versioning\n",
    "results_store = MyLocalFileStore(base_dir=base_dir)"
   ]
  },
  {
   "cell_type": "markdown",
   "metadata": {
    "pycharm": {
     "name": "#%% md\n"
    }
   },
   "source": [
    " "
   ]
  },
  {
   "cell_type": "markdown",
   "metadata": {
    "pycharm": {
     "name": "#%% md\n"
    }
   },
   "source": [
    "### 7. Run the Pipeline/Task-Graph\n",
    "\n",
    "All that is left is to create the `Flow` object, which will handle executing the created task graph in parallel and builds the user defined task specifier graph and the expanded task graph. The latter two can be easily accessed as attributes and visualized using our console rendering utility function. Finally, we execute the expanded task graph by calling `flow.run()`\n",
    "\n",
    "All saved task results will be availabe in the previously selected output directory (if not changed: `seq2seq_experiments`).  \n",
    "Feel free to play around with different hyperparameter combinations to improve your model's translation performance."
   ]
  },
  {
   "cell_type": "code",
   "execution_count": 10,
   "metadata": {
    "collapsed": false,
    "jupyter": {
     "outputs_hidden": false
    },
    "pycharm": {
     "name": "#%%\n"
    }
   },
   "outputs": [
    {
     "data": {
      "text/html": [
       "<pre style=\"white-space:pre;overflow-x:auto;line-height:normal;font-family:Menlo,'DejaVu Sans Mono',consolas,'Courier New',monospace\"><span style=\"color: #7fbfbf; text-decoration-color: #7fbfbf\">[03/06/23 21:53:59] </span><span style=\"color: #800000; text-decoration-color: #800000\">WARNING </span> MainProcess  Console does not support paging. Defaulting to     \n",
       "<span style=\"color: #7fbfbf; text-decoration-color: #7fbfbf\">                    </span>         print graph.                                                    \n",
       "</pre>\n"
      ],
      "text/plain": [
       "\u001b[2;36m[03/06/23 21:53:59]\u001b[0m\u001b[2;36m \u001b[0m\u001b[31mWARNING \u001b[0m MainProcess  Console does not support paging. Defaulting to     \n",
       "\u001b[2;36m                    \u001b[0m         print graph.                                                    \n"
      ]
     },
     "metadata": {},
     "output_type": "display_data"
    },
    {
     "name": "stdout",
     "output_type": "stream",
     "text": [
      "task spec graph\n",
      "                 ╭────────────────╮                   \n",
      "                 │ DatasetLoading │                   \n",
      "                 ╰────────────────╯                   \n",
      "                  ··             ···                  \n",
      "               ···                  ···               \n",
      "             ··                        ··             \n",
      "╭───────────────────╮                    ··           \n",
      "│ TokenizerTraining │                     ·           \n",
      "╰───────────────────╯···                  ·           \n",
      "          ·             ······            ·           \n",
      "          ·                   ·····       ·           \n",
      "          ·                        ···    ·           \n",
      "          ··                    ╭─────────────────╮   \n",
      "            ···                 │ DatasetEncoding │   \n",
      "               ···              ╰─────────────────╯   \n",
      "                  ··             ···                  \n",
      "                    ···        ··                     \n",
      "                       ··    ··                       \n",
      "                    ╭──────────╮                      \n",
      "                    │ Training │                      \n",
      "                    ╰──────────╯                      \n",
      "                          ·                           \n",
      "                          ·                           \n",
      "                          ·                           \n",
      "                 ╭────────────────╮                   \n",
      "                 │ ModelSelection │                   \n",
      "                 ╰────────────────╯                   \n",
      "                          ·                           \n",
      "                          ·                           \n",
      "                          ·                           \n",
      "                   ╭────────────╮                     \n",
      "                   │ Evaluation │                     \n",
      "                   ╰────────────╯                     \n"
     ]
    },
    {
     "data": {
      "text/html": [
       "<pre style=\"white-space:pre;overflow-x:auto;line-height:normal;font-family:Menlo,'DejaVu Sans Mono',consolas,'Courier New',monospace\"><span style=\"color: #7fbfbf; text-decoration-color: #7fbfbf\">[03/06/23 21:53:59] </span><span style=\"color: #800000; text-decoration-color: #800000\">WARNING </span> MainProcess  Console does not support paging. Defaulting to     \n",
       "<span style=\"color: #7fbfbf; text-decoration-color: #7fbfbf\">                    </span>         print graph.                                                    \n",
       "</pre>\n"
      ],
      "text/plain": [
       "\u001b[2;36m[03/06/23 21:53:59]\u001b[0m\u001b[2;36m \u001b[0m\u001b[31mWARNING \u001b[0m MainProcess  Console does not support paging. Defaulting to     \n",
       "\u001b[2;36m                    \u001b[0m         print graph.                                                    \n"
      ]
     },
     "metadata": {},
     "output_type": "display_data"
    },
    {
     "name": "stdout",
     "output_type": "stream",
     "text": [
      "task graph\n",
      "                                                        ╭────────────────╮                                                           \n",
      "                                                        │ DatasetLoading │                                                           \n",
      "                                                        ╰────────────────╯·                                                          \n",
      "                                                           ···             ····                                                      \n",
      "                                                          ·                    ···                                                   \n",
      "                                                       ···                        ····                                               \n",
      "                                                      ·                               ····                                           \n",
      "                                                    ··                                    ····                                       \n",
      "                                       ╭───────────────────╮                                  ··                                     \n",
      "                                       │ TokenizerTraining │····                          ····                                       \n",
      "                                     ··╰───────────────────╯·············             ····                                           \n",
      "                               ······       ··         ···       ······  ·············                                               \n",
      "                          ·····           ··              ·            ·····   ··· ·········                                         \n",
      "                     ·····              ··                 ···             ·······          ·········                                \n",
      "               ······                 ··                      ·        ····       ······             ··········                      \n",
      "          ·····                     ··                         ··    ··                 ······                 ·········             \n",
      "       ···                         ·                    ╭─────────────────╮                   ···                       ·····        \n",
      "       ·                            ··                 ·│ DatasetEncoding │··                 ··                            ·        \n",
      "       ·                              ··        ······· ╰─────────────────╯  ·······        ··                              ·        \n",
      "       ·                                ········           ···        ···           ········                                ·        \n",
      "       ·                         ·······  ··              ·              ·              ··  ·······                         ·        \n",
      "       ·                 ········           ··         ···                ···         ··           ········                 ·        \n",
      "       ·          ·······                     ··      ·                      ·      ··                     ·······          ·        \n",
      "       ·      ····                              ·   ··                        ··   ·                              ····      ·        \n",
      "╭────────────╮                             ╭────────────╮                 ╭────────────╮                             ╭────────────╮  \n",
      "│ Training-4 │····                         │ Training-1 │                 │ Training-3 │                          ···│ Training-2 │  \n",
      "╰────────────╯    ·······                  ╰────────────╯                 ╰────────────╯                   ·······   ╰────────────╯  \n",
      "                         ········                      ···                ···                      ········                          \n",
      "                                 ·······                  ·              ·                  ·······                                  \n",
      "                                        ········           ···        ···           ········                                         \n",
      "                                                ·······       ·      ·       ·······                                                 \n",
      "                                                       ····    ··  ··    ····                                                        \n",
      "                                                        ╭────────────────╮                                                           \n",
      "                                                        │ ModelSelection │                                                           \n",
      "                                                        ╰────────────────╯                                                           \n",
      "                                                                  ·                                                                  \n",
      "                                                                  ·                                                                  \n",
      "                                                                  ·                                                                  \n",
      "                                                                  ·                                                                  \n",
      "                                                                  ·                                                                  \n",
      "                                                          ╭────────────╮                                                             \n",
      "                                                          │ Evaluation │                                                             \n",
      "                                                          ╰────────────╯                                                             \n"
     ]
    },
    {
     "data": {
      "text/html": [
       "<pre style=\"white-space:pre;overflow-x:auto;line-height:normal;font-family:Menlo,'DejaVu Sans Mono',consolas,'Courier New',monospace\"><span style=\"color: #7fbfbf; text-decoration-color: #7fbfbf\">[03/06/23 21:54:00] </span><span style=\"color: #000080; text-decoration-color: #000080\">INFO    </span> MainProcess  Execute run <span style=\"color: #008000; text-decoration-color: #008000\">\"immaculate-jacket\"</span> using              \n",
       "<span style=\"color: #7fbfbf; text-decoration-color: #7fbfbf\">                    </span>         multiprocessing with <span style=\"color: #008080; text-decoration-color: #008080; font-weight: bold\">4</span> workers                                  \n",
       "</pre>\n"
      ],
      "text/plain": [
       "\u001b[2;36m[03/06/23 21:54:00]\u001b[0m\u001b[2;36m \u001b[0m\u001b[34mINFO    \u001b[0m MainProcess  Execute run \u001b[32m\"immaculate-jacket\"\u001b[0m using              \n",
       "\u001b[2;36m                    \u001b[0m         multiprocessing with \u001b[1;36m4\u001b[0m workers                                  \n"
      ]
     },
     "metadata": {},
     "output_type": "display_data"
    },
    {
     "data": {
      "text/html": [
       "<pre style=\"white-space:pre;overflow-x:auto;line-height:normal;font-family:Menlo,'DejaVu Sans Mono',consolas,'Courier New',monospace\"><span style=\"color: #7fbfbf; text-decoration-color: #7fbfbf\">[03/06/23 21:54:02] </span><span style=\"color: #000080; text-decoration-color: #000080\">INFO    </span> Dolphin-<span style=\"color: #008080; text-decoration-color: #008080; font-weight: bold\">2</span>    Started task <span style=\"color: #008000; text-decoration-color: #008000\">\"DatasetLoading\"</span>                      \n",
       "</pre>\n"
      ],
      "text/plain": [
       "\u001b[2;36m[03/06/23 21:54:02]\u001b[0m\u001b[2;36m \u001b[0m\u001b[34mINFO    \u001b[0m Dolphin-\u001b[1;36m2\u001b[0m    Started task \u001b[32m\"DatasetLoading\"\u001b[0m                      \n"
      ]
     },
     "metadata": {},
     "output_type": "display_data"
    },
    {
     "data": {
      "text/html": [
       "<pre style=\"white-space:pre;overflow-x:auto;line-height:normal;font-family:Menlo,'DejaVu Sans Mono',consolas,'Courier New',monospace\"><span style=\"color: #7fbfbf; text-decoration-color: #7fbfbf\">[03/06/23 21:54:02] </span><span style=\"color: #000080; text-decoration-color: #000080\">INFO    </span> Dolphin-<span style=\"color: #008080; text-decoration-color: #008080; font-weight: bold\">2</span>    Download and save raw dataset to <span style=\"color: #008000; text-decoration-color: #008000\">\"/scratch/phd/flui</span>\n",
       "<span style=\"color: #7fbfbf; text-decoration-color: #7fbfbf\">                    </span>         <span style=\"color: #008000; text-decoration-color: #008000\">dml/examples/pytorch_transformer_seq2seq_translation/seq2seq_exp</span>\n",
       "<span style=\"color: #7fbfbf; text-decoration-color: #7fbfbf\">                    </span>         <span style=\"color: #008000; text-decoration-color: #008000\">eriments/DatasetLoading/immaculate-jacket-000\"</span>.                 \n",
       "</pre>\n"
      ],
      "text/plain": [
       "\u001b[2;36m[03/06/23 21:54:02]\u001b[0m\u001b[2;36m \u001b[0m\u001b[34mINFO    \u001b[0m Dolphin-\u001b[1;36m2\u001b[0m    Download and save raw dataset to \u001b[32m\"/scratch/phd/flui\u001b[0m\n",
       "\u001b[2;36m                    \u001b[0m         \u001b[32mdml/examples/pytorch_transformer_seq2seq_translation/seq2seq_exp\u001b[0m\n",
       "\u001b[2;36m                    \u001b[0m         \u001b[32meriments/DatasetLoading/immaculate-jacket-000\"\u001b[0m.                 \n"
      ]
     },
     "metadata": {},
     "output_type": "display_data"
    },
    {
     "data": {
      "text/html": [
       "<pre style=\"white-space:pre;overflow-x:auto;line-height:normal;font-family:Menlo,'DejaVu Sans Mono',consolas,'Courier New',monospace\"><span style=\"color: #7fbfbf; text-decoration-color: #7fbfbf\">[03/06/23 21:54:04] </span><span style=\"color: #000080; text-decoration-color: #000080\">INFO    </span> Dolphin-<span style=\"color: #008080; text-decoration-color: #008080; font-weight: bold\">2</span>    Finished task <span style=\"color: #008000; text-decoration-color: #008000\">\"DatasetLoading\"</span> <span style=\"font-weight: bold\">[</span><span style=\"color: #008080; text-decoration-color: #008080; font-weight: bold\">1</span>/<span style=\"color: #008080; text-decoration-color: #008080; font-weight: bold\">9</span> - <span style=\"color: #008080; text-decoration-color: #008080; font-weight: bold\">11</span>%<span style=\"font-weight: bold\">]</span>         \n",
       "</pre>\n"
      ],
      "text/plain": [
       "\u001b[2;36m[03/06/23 21:54:04]\u001b[0m\u001b[2;36m \u001b[0m\u001b[34mINFO    \u001b[0m Dolphin-\u001b[1;36m2\u001b[0m    Finished task \u001b[32m\"DatasetLoading\"\u001b[0m \u001b[1m[\u001b[0m\u001b[1;36m1\u001b[0m/\u001b[1;36m9\u001b[0m - \u001b[1;36m11\u001b[0m%\u001b[1m]\u001b[0m         \n"
      ]
     },
     "metadata": {},
     "output_type": "display_data"
    },
    {
     "data": {
      "text/html": [
       "<pre style=\"white-space:pre;overflow-x:auto;line-height:normal;font-family:Menlo,'DejaVu Sans Mono',consolas,'Courier New',monospace\"><span style=\"color: #7fbfbf; text-decoration-color: #7fbfbf\">[03/06/23 21:54:04] </span><span style=\"color: #000080; text-decoration-color: #000080\">INFO    </span> Dolphin-<span style=\"color: #008080; text-decoration-color: #008080; font-weight: bold\">1</span>    Started task <span style=\"color: #008000; text-decoration-color: #008000\">\"TokenizerTraining\"</span>                   \n",
       "</pre>\n"
      ],
      "text/plain": [
       "\u001b[2;36m[03/06/23 21:54:04]\u001b[0m\u001b[2;36m \u001b[0m\u001b[34mINFO    \u001b[0m Dolphin-\u001b[1;36m1\u001b[0m    Started task \u001b[32m\"TokenizerTraining\"\u001b[0m                   \n"
      ]
     },
     "metadata": {},
     "output_type": "display_data"
    },
    {
     "data": {
      "text/html": [
       "<pre style=\"white-space:pre;overflow-x:auto;line-height:normal;font-family:Menlo,'DejaVu Sans Mono',consolas,'Courier New',monospace\"><span style=\"color: #7fbfbf; text-decoration-color: #7fbfbf\">[03/06/23 21:54:06] </span><span style=\"color: #000080; text-decoration-color: #000080\">INFO    </span> Dolphin-<span style=\"color: #008080; text-decoration-color: #008080; font-weight: bold\">1</span>    Save trained tokenizers to <span style=\"color: #008000; text-decoration-color: #008000\">\"/scratch/phd/fluidml/ex</span>\n",
       "<span style=\"color: #7fbfbf; text-decoration-color: #7fbfbf\">                    </span>         <span style=\"color: #008000; text-decoration-color: #008000\">amples/pytorch_transformer_seq2seq_translation/seq2seq_experimen</span>\n",
       "<span style=\"color: #7fbfbf; text-decoration-color: #7fbfbf\">                    </span>         <span style=\"color: #008000; text-decoration-color: #008000\">ts/TokenizerTraining/immaculate-jacket-000\"</span>.                    \n",
       "</pre>\n"
      ],
      "text/plain": [
       "\u001b[2;36m[03/06/23 21:54:06]\u001b[0m\u001b[2;36m \u001b[0m\u001b[34mINFO    \u001b[0m Dolphin-\u001b[1;36m1\u001b[0m    Save trained tokenizers to \u001b[32m\"/scratch/phd/fluidml/ex\u001b[0m\n",
       "\u001b[2;36m                    \u001b[0m         \u001b[32mamples/pytorch_transformer_seq2seq_translation/seq2seq_experimen\u001b[0m\n",
       "\u001b[2;36m                    \u001b[0m         \u001b[32mts/TokenizerTraining/immaculate-jacket-000\"\u001b[0m.                    \n"
      ]
     },
     "metadata": {},
     "output_type": "display_data"
    },
    {
     "data": {
      "text/html": [
       "<pre style=\"white-space:pre;overflow-x:auto;line-height:normal;font-family:Menlo,'DejaVu Sans Mono',consolas,'Courier New',monospace\"><span style=\"color: #7fbfbf; text-decoration-color: #7fbfbf\">[03/06/23 21:54:06] </span><span style=\"color: #000080; text-decoration-color: #000080\">INFO    </span> Dolphin-<span style=\"color: #008080; text-decoration-color: #008080; font-weight: bold\">1</span>    Finished task <span style=\"color: #008000; text-decoration-color: #008000\">\"TokenizerTraining\"</span> <span style=\"font-weight: bold\">[</span><span style=\"color: #008080; text-decoration-color: #008080; font-weight: bold\">2</span>/<span style=\"color: #008080; text-decoration-color: #008080; font-weight: bold\">9</span> - <span style=\"color: #008080; text-decoration-color: #008080; font-weight: bold\">22</span>%<span style=\"font-weight: bold\">]</span>      \n",
       "</pre>\n"
      ],
      "text/plain": [
       "\u001b[2;36m[03/06/23 21:54:06]\u001b[0m\u001b[2;36m \u001b[0m\u001b[34mINFO    \u001b[0m Dolphin-\u001b[1;36m1\u001b[0m    Finished task \u001b[32m\"TokenizerTraining\"\u001b[0m \u001b[1m[\u001b[0m\u001b[1;36m2\u001b[0m/\u001b[1;36m9\u001b[0m - \u001b[1;36m22\u001b[0m%\u001b[1m]\u001b[0m      \n"
      ]
     },
     "metadata": {},
     "output_type": "display_data"
    },
    {
     "data": {
      "text/html": [
       "<pre style=\"white-space:pre;overflow-x:auto;line-height:normal;font-family:Menlo,'DejaVu Sans Mono',consolas,'Courier New',monospace\"><span style=\"color: #7fbfbf; text-decoration-color: #7fbfbf\">[03/06/23 21:54:06] </span><span style=\"color: #000080; text-decoration-color: #000080\">INFO    </span> Dolphin-<span style=\"color: #008080; text-decoration-color: #008080; font-weight: bold\">4</span>    Started task <span style=\"color: #008000; text-decoration-color: #008000\">\"DatasetEncoding\"</span>                     \n",
       "</pre>\n"
      ],
      "text/plain": [
       "\u001b[2;36m[03/06/23 21:54:06]\u001b[0m\u001b[2;36m \u001b[0m\u001b[34mINFO    \u001b[0m Dolphin-\u001b[1;36m4\u001b[0m    Started task \u001b[32m\"DatasetEncoding\"\u001b[0m                     \n"
      ]
     },
     "metadata": {},
     "output_type": "display_data"
    },
    {
     "data": {
      "text/html": [
       "<pre style=\"white-space:pre;overflow-x:auto;line-height:normal;font-family:Menlo,'DejaVu Sans Mono',consolas,'Courier New',monospace\"><span style=\"color: #7fbfbf; text-decoration-color: #7fbfbf\">[03/06/23 21:54:07] </span><span style=\"color: #000080; text-decoration-color: #000080\">INFO    </span> Dolphin-<span style=\"color: #008080; text-decoration-color: #008080; font-weight: bold\">4</span>    Save encoded dataset to <span style=\"color: #008000; text-decoration-color: #008000\">\"/scratch/phd/fluidml/examp</span>\n",
       "<span style=\"color: #7fbfbf; text-decoration-color: #7fbfbf\">                    </span>         <span style=\"color: #008000; text-decoration-color: #008000\">les/pytorch_transformer_seq2seq_translation/seq2seq_experiments/</span>\n",
       "<span style=\"color: #7fbfbf; text-decoration-color: #7fbfbf\">                    </span>         <span style=\"color: #008000; text-decoration-color: #008000\">DatasetEncoding/immaculate-jacket-000\"</span>.                         \n",
       "</pre>\n"
      ],
      "text/plain": [
       "\u001b[2;36m[03/06/23 21:54:07]\u001b[0m\u001b[2;36m \u001b[0m\u001b[34mINFO    \u001b[0m Dolphin-\u001b[1;36m4\u001b[0m    Save encoded dataset to \u001b[32m\"/scratch/phd/fluidml/examp\u001b[0m\n",
       "\u001b[2;36m                    \u001b[0m         \u001b[32mles/pytorch_transformer_seq2seq_translation/seq2seq_experiments/\u001b[0m\n",
       "\u001b[2;36m                    \u001b[0m         \u001b[32mDatasetEncoding/immaculate-jacket-000\"\u001b[0m.                         \n"
      ]
     },
     "metadata": {},
     "output_type": "display_data"
    },
    {
     "data": {
      "text/html": [
       "<pre style=\"white-space:pre;overflow-x:auto;line-height:normal;font-family:Menlo,'DejaVu Sans Mono',consolas,'Courier New',monospace\"><span style=\"color: #7fbfbf; text-decoration-color: #7fbfbf\">[03/06/23 21:54:08] </span><span style=\"color: #000080; text-decoration-color: #000080\">INFO    </span> Dolphin-<span style=\"color: #008080; text-decoration-color: #008080; font-weight: bold\">4</span>    Finished task <span style=\"color: #008000; text-decoration-color: #008000\">\"DatasetEncoding\"</span> <span style=\"font-weight: bold\">[</span><span style=\"color: #008080; text-decoration-color: #008080; font-weight: bold\">3</span>/<span style=\"color: #008080; text-decoration-color: #008080; font-weight: bold\">9</span> - <span style=\"color: #008080; text-decoration-color: #008080; font-weight: bold\">33</span>%<span style=\"font-weight: bold\">]</span>        \n",
       "</pre>\n"
      ],
      "text/plain": [
       "\u001b[2;36m[03/06/23 21:54:08]\u001b[0m\u001b[2;36m \u001b[0m\u001b[34mINFO    \u001b[0m Dolphin-\u001b[1;36m4\u001b[0m    Finished task \u001b[32m\"DatasetEncoding\"\u001b[0m \u001b[1m[\u001b[0m\u001b[1;36m3\u001b[0m/\u001b[1;36m9\u001b[0m - \u001b[1;36m33\u001b[0m%\u001b[1m]\u001b[0m        \n"
      ]
     },
     "metadata": {},
     "output_type": "display_data"
    },
    {
     "data": {
      "text/html": [
       "<pre style=\"white-space:pre;overflow-x:auto;line-height:normal;font-family:Menlo,'DejaVu Sans Mono',consolas,'Courier New',monospace\"><span style=\"color: #7fbfbf; text-decoration-color: #7fbfbf\">[03/06/23 21:54:08] </span><span style=\"color: #000080; text-decoration-color: #000080\">INFO    </span> Dolphin-<span style=\"color: #008080; text-decoration-color: #008080; font-weight: bold\">1</span>    Started task <span style=\"color: #008000; text-decoration-color: #008000\">\"Training-3\"</span>                          \n",
       "</pre>\n"
      ],
      "text/plain": [
       "\u001b[2;36m[03/06/23 21:54:08]\u001b[0m\u001b[2;36m \u001b[0m\u001b[34mINFO    \u001b[0m Dolphin-\u001b[1;36m1\u001b[0m    Started task \u001b[32m\"Training-3\"\u001b[0m                          \n"
      ]
     },
     "metadata": {},
     "output_type": "display_data"
    },
    {
     "data": {
      "text/html": [
       "<pre style=\"white-space:pre;overflow-x:auto;line-height:normal;font-family:Menlo,'DejaVu Sans Mono',consolas,'Courier New',monospace\"><span style=\"color: #7fbfbf; text-decoration-color: #7fbfbf\">[03/06/23 21:54:08] </span><span style=\"color: #000080; text-decoration-color: #000080\">INFO    </span> Dolphin-<span style=\"color: #008080; text-decoration-color: #008080; font-weight: bold\">3</span>    Started task <span style=\"color: #008000; text-decoration-color: #008000\">\"Training-4\"</span>                          \n",
       "</pre>\n"
      ],
      "text/plain": [
       "\u001b[2;36m[03/06/23 21:54:08]\u001b[0m\u001b[2;36m \u001b[0m\u001b[34mINFO    \u001b[0m Dolphin-\u001b[1;36m3\u001b[0m    Started task \u001b[32m\"Training-4\"\u001b[0m                          \n"
      ]
     },
     "metadata": {},
     "output_type": "display_data"
    },
    {
     "data": {
      "text/html": [
       "<pre style=\"white-space:pre;overflow-x:auto;line-height:normal;font-family:Menlo,'DejaVu Sans Mono',consolas,'Courier New',monospace\"><span style=\"color: #7fbfbf; text-decoration-color: #7fbfbf\">[03/06/23 21:54:08] </span><span style=\"color: #000080; text-decoration-color: #000080\">INFO    </span> Dolphin-<span style=\"color: #008080; text-decoration-color: #008080; font-weight: bold\">2</span>    Started task <span style=\"color: #008000; text-decoration-color: #008000\">\"Training-1\"</span>                          \n",
       "</pre>\n"
      ],
      "text/plain": [
       "\u001b[2;36m[03/06/23 21:54:08]\u001b[0m\u001b[2;36m \u001b[0m\u001b[34mINFO    \u001b[0m Dolphin-\u001b[1;36m2\u001b[0m    Started task \u001b[32m\"Training-1\"\u001b[0m                          \n"
      ]
     },
     "metadata": {},
     "output_type": "display_data"
    },
    {
     "data": {
      "text/html": [
       "<pre style=\"white-space:pre;overflow-x:auto;line-height:normal;font-family:Menlo,'DejaVu Sans Mono',consolas,'Courier New',monospace\"><span style=\"color: #7fbfbf; text-decoration-color: #7fbfbf\">[03/06/23 21:54:08] </span><span style=\"color: #000080; text-decoration-color: #000080\">INFO    </span> Dolphin-<span style=\"color: #008080; text-decoration-color: #008080; font-weight: bold\">4</span>    Started task <span style=\"color: #008000; text-decoration-color: #008000\">\"Training-2\"</span>                          \n",
       "</pre>\n"
      ],
      "text/plain": [
       "\u001b[2;36m[03/06/23 21:54:08]\u001b[0m\u001b[2;36m \u001b[0m\u001b[34mINFO    \u001b[0m Dolphin-\u001b[1;36m4\u001b[0m    Started task \u001b[32m\"Training-2\"\u001b[0m                          \n"
      ]
     },
     "metadata": {},
     "output_type": "display_data"
    },
    {
     "data": {
      "text/html": [
       "<pre style=\"white-space:pre;overflow-x:auto;line-height:normal;font-family:Menlo,'DejaVu Sans Mono',consolas,'Courier New',monospace\"><span style=\"color: #7fbfbf; text-decoration-color: #7fbfbf\">[03/06/23 21:54:13] </span><span style=\"color: #000080; text-decoration-color: #000080\">INFO    </span> Dolphin-<span style=\"color: #008080; text-decoration-color: #008080; font-weight: bold\">2</span>    Save model checkpoints to <span style=\"color: #008000; text-decoration-color: #008000\">\"/scratch/phd/fluidml/exa</span>\n",
       "<span style=\"color: #7fbfbf; text-decoration-color: #7fbfbf\">                    </span>         <span style=\"color: #008000; text-decoration-color: #008000\">mples/pytorch_transformer_seq2seq_translation/seq2seq_experiment</span>\n",
       "<span style=\"color: #7fbfbf; text-decoration-color: #7fbfbf\">                    </span>         <span style=\"color: #008000; text-decoration-color: #008000\">s/Training/immaculate-jacket-002/models\"</span>.                       \n",
       "</pre>\n"
      ],
      "text/plain": [
       "\u001b[2;36m[03/06/23 21:54:13]\u001b[0m\u001b[2;36m \u001b[0m\u001b[34mINFO    \u001b[0m Dolphin-\u001b[1;36m2\u001b[0m    Save model checkpoints to \u001b[32m\"/scratch/phd/fluidml/exa\u001b[0m\n",
       "\u001b[2;36m                    \u001b[0m         \u001b[32mmples/pytorch_transformer_seq2seq_translation/seq2seq_experiment\u001b[0m\n",
       "\u001b[2;36m                    \u001b[0m         \u001b[32ms/Training/immaculate-jacket-002/models\"\u001b[0m.                       \n"
      ]
     },
     "metadata": {},
     "output_type": "display_data"
    },
    {
     "data": {
      "text/html": [
       "<pre style=\"white-space:pre;overflow-x:auto;line-height:normal;font-family:Menlo,'DejaVu Sans Mono',consolas,'Courier New',monospace\"><span style=\"color: #7fbfbf; text-decoration-color: #7fbfbf\">[03/06/23 21:54:13] </span><span style=\"color: #000080; text-decoration-color: #000080\">INFO    </span> Dolphin-<span style=\"color: #008080; text-decoration-color: #008080; font-weight: bold\">4</span>    Save model checkpoints to <span style=\"color: #008000; text-decoration-color: #008000\">\"/scratch/phd/fluidml/exa</span>\n",
       "<span style=\"color: #7fbfbf; text-decoration-color: #7fbfbf\">                    </span>         <span style=\"color: #008000; text-decoration-color: #008000\">mples/pytorch_transformer_seq2seq_translation/seq2seq_experiment</span>\n",
       "<span style=\"color: #7fbfbf; text-decoration-color: #7fbfbf\">                    </span>         <span style=\"color: #008000; text-decoration-color: #008000\">s/Training/immaculate-jacket-003/models\"</span>.                       \n",
       "</pre>\n"
      ],
      "text/plain": [
       "\u001b[2;36m[03/06/23 21:54:13]\u001b[0m\u001b[2;36m \u001b[0m\u001b[34mINFO    \u001b[0m Dolphin-\u001b[1;36m4\u001b[0m    Save model checkpoints to \u001b[32m\"/scratch/phd/fluidml/exa\u001b[0m\n",
       "\u001b[2;36m                    \u001b[0m         \u001b[32mmples/pytorch_transformer_seq2seq_translation/seq2seq_experiment\u001b[0m\n",
       "\u001b[2;36m                    \u001b[0m         \u001b[32ms/Training/immaculate-jacket-003/models\"\u001b[0m.                       \n"
      ]
     },
     "metadata": {},
     "output_type": "display_data"
    },
    {
     "data": {
      "text/html": [
       "<pre style=\"white-space:pre;overflow-x:auto;line-height:normal;font-family:Menlo,'DejaVu Sans Mono',consolas,'Courier New',monospace\"><span style=\"color: #7fbfbf; text-decoration-color: #7fbfbf\">[03/06/23 21:54:13] </span><span style=\"color: #000080; text-decoration-color: #000080\">INFO    </span> Dolphin-<span style=\"color: #008080; text-decoration-color: #008080; font-weight: bold\">1</span>    Save model checkpoints to <span style=\"color: #008000; text-decoration-color: #008000\">\"/scratch/phd/fluidml/exa</span>\n",
       "<span style=\"color: #7fbfbf; text-decoration-color: #7fbfbf\">                    </span>         <span style=\"color: #008000; text-decoration-color: #008000\">mples/pytorch_transformer_seq2seq_translation/seq2seq_experiment</span>\n",
       "<span style=\"color: #7fbfbf; text-decoration-color: #7fbfbf\">                    </span>         <span style=\"color: #008000; text-decoration-color: #008000\">s/Training/immaculate-jacket-000/models\"</span>.                       \n",
       "</pre>\n"
      ],
      "text/plain": [
       "\u001b[2;36m[03/06/23 21:54:13]\u001b[0m\u001b[2;36m \u001b[0m\u001b[34mINFO    \u001b[0m Dolphin-\u001b[1;36m1\u001b[0m    Save model checkpoints to \u001b[32m\"/scratch/phd/fluidml/exa\u001b[0m\n",
       "\u001b[2;36m                    \u001b[0m         \u001b[32mmples/pytorch_transformer_seq2seq_translation/seq2seq_experiment\u001b[0m\n",
       "\u001b[2;36m                    \u001b[0m         \u001b[32ms/Training/immaculate-jacket-000/models\"\u001b[0m.                       \n"
      ]
     },
     "metadata": {},
     "output_type": "display_data"
    },
    {
     "data": {
      "text/html": [
       "<pre style=\"white-space:pre;overflow-x:auto;line-height:normal;font-family:Menlo,'DejaVu Sans Mono',consolas,'Courier New',monospace\"><span style=\"color: #7fbfbf; text-decoration-color: #7fbfbf\">[03/06/23 21:54:14] </span><span style=\"color: #000080; text-decoration-color: #000080\">INFO    </span> Dolphin-<span style=\"color: #008080; text-decoration-color: #008080; font-weight: bold\">3</span>    Save model checkpoints to <span style=\"color: #008000; text-decoration-color: #008000\">\"/scratch/phd/fluidml/exa</span>\n",
       "<span style=\"color: #7fbfbf; text-decoration-color: #7fbfbf\">                    </span>         <span style=\"color: #008000; text-decoration-color: #008000\">mples/pytorch_transformer_seq2seq_translation/seq2seq_experiment</span>\n",
       "<span style=\"color: #7fbfbf; text-decoration-color: #7fbfbf\">                    </span>         <span style=\"color: #008000; text-decoration-color: #008000\">s/Training/immaculate-jacket-001/models\"</span>.                       \n",
       "</pre>\n"
      ],
      "text/plain": [
       "\u001b[2;36m[03/06/23 21:54:14]\u001b[0m\u001b[2;36m \u001b[0m\u001b[34mINFO    \u001b[0m Dolphin-\u001b[1;36m3\u001b[0m    Save model checkpoints to \u001b[32m\"/scratch/phd/fluidml/exa\u001b[0m\n",
       "\u001b[2;36m                    \u001b[0m         \u001b[32mmples/pytorch_transformer_seq2seq_translation/seq2seq_experiment\u001b[0m\n",
       "\u001b[2;36m                    \u001b[0m         \u001b[32ms/Training/immaculate-jacket-001/models\"\u001b[0m.                       \n"
      ]
     },
     "metadata": {},
     "output_type": "display_data"
    },
    {
     "data": {
      "text/html": [
       "<pre style=\"white-space:pre;overflow-x:auto;line-height:normal;font-family:Menlo,'DejaVu Sans Mono',consolas,'Courier New',monospace\"><span style=\"color: #7fbfbf; text-decoration-color: #7fbfbf\">[03/06/23 21:54:43] </span><span style=\"color: #000080; text-decoration-color: #000080\">INFO    </span> Dolphin-<span style=\"color: #008080; text-decoration-color: #008080; font-weight: bold\">4</span>                                                       \n",
       "<span style=\"color: #7fbfbf; text-decoration-color: #7fbfbf\">                    </span>         Epoch: <span style=\"color: #008080; text-decoration-color: #008080; font-weight: bold\">01</span> | Time: <span style=\"color: #00ff00; text-decoration-color: #00ff00; font-weight: bold\">0:00:29</span>.<span style=\"color: #008080; text-decoration-color: #008080; font-weight: bold\">959058</span>                                \n",
       "<span style=\"color: #7fbfbf; text-decoration-color: #7fbfbf\">                    </span>                 Train Loss: <span style=\"color: #008080; text-decoration-color: #008080; font-weight: bold\">5.227</span> | Train PPL: <span style=\"color: #008080; text-decoration-color: #008080; font-weight: bold\">186.304</span>                  \n",
       "<span style=\"color: #7fbfbf; text-decoration-color: #7fbfbf\">                    </span>                  Val. Loss: <span style=\"color: #008080; text-decoration-color: #008080; font-weight: bold\">3.826</span> |  Val. PPL:  <span style=\"color: #008080; text-decoration-color: #008080; font-weight: bold\">45.874</span>                  \n",
       "</pre>\n"
      ],
      "text/plain": [
       "\u001b[2;36m[03/06/23 21:54:43]\u001b[0m\u001b[2;36m \u001b[0m\u001b[34mINFO    \u001b[0m Dolphin-\u001b[1;36m4\u001b[0m                                                       \n",
       "\u001b[2;36m                    \u001b[0m         Epoch: \u001b[1;36m01\u001b[0m | Time: \u001b[1;92m0:00:29\u001b[0m.\u001b[1;36m959058\u001b[0m                                \n",
       "\u001b[2;36m                    \u001b[0m                 Train Loss: \u001b[1;36m5.227\u001b[0m | Train PPL: \u001b[1;36m186.304\u001b[0m                  \n",
       "\u001b[2;36m                    \u001b[0m                  Val. Loss: \u001b[1;36m3.826\u001b[0m |  Val. PPL:  \u001b[1;36m45.874\u001b[0m                  \n"
      ]
     },
     "metadata": {},
     "output_type": "display_data"
    },
    {
     "data": {
      "text/html": [
       "<pre style=\"white-space:pre;overflow-x:auto;line-height:normal;font-family:Menlo,'DejaVu Sans Mono',consolas,'Courier New',monospace\"><span style=\"color: #7fbfbf; text-decoration-color: #7fbfbf\">[03/06/23 21:54:44] </span><span style=\"color: #000080; text-decoration-color: #000080\">INFO    </span> Dolphin-<span style=\"color: #008080; text-decoration-color: #008080; font-weight: bold\">3</span>                                                       \n",
       "<span style=\"color: #7fbfbf; text-decoration-color: #7fbfbf\">                    </span>         Epoch: <span style=\"color: #008080; text-decoration-color: #008080; font-weight: bold\">01</span> | Time: <span style=\"color: #00ff00; text-decoration-color: #00ff00; font-weight: bold\">0:00:30</span>.<span style=\"color: #008080; text-decoration-color: #008080; font-weight: bold\">317978</span>                                \n",
       "<span style=\"color: #7fbfbf; text-decoration-color: #7fbfbf\">                    </span>                 Train Loss: <span style=\"color: #008080; text-decoration-color: #008080; font-weight: bold\">4.824</span> | Train PPL: <span style=\"color: #008080; text-decoration-color: #008080; font-weight: bold\">124.514</span>                  \n",
       "<span style=\"color: #7fbfbf; text-decoration-color: #7fbfbf\">                    </span>                  Val. Loss: <span style=\"color: #008080; text-decoration-color: #008080; font-weight: bold\">3.624</span> |  Val. PPL:  <span style=\"color: #008080; text-decoration-color: #008080; font-weight: bold\">37.492</span>                  \n",
       "</pre>\n"
      ],
      "text/plain": [
       "\u001b[2;36m[03/06/23 21:54:44]\u001b[0m\u001b[2;36m \u001b[0m\u001b[34mINFO    \u001b[0m Dolphin-\u001b[1;36m3\u001b[0m                                                       \n",
       "\u001b[2;36m                    \u001b[0m         Epoch: \u001b[1;36m01\u001b[0m | Time: \u001b[1;92m0:00:30\u001b[0m.\u001b[1;36m317978\u001b[0m                                \n",
       "\u001b[2;36m                    \u001b[0m                 Train Loss: \u001b[1;36m4.824\u001b[0m | Train PPL: \u001b[1;36m124.514\u001b[0m                  \n",
       "\u001b[2;36m                    \u001b[0m                  Val. Loss: \u001b[1;36m3.624\u001b[0m |  Val. PPL:  \u001b[1;36m37.492\u001b[0m                  \n"
      ]
     },
     "metadata": {},
     "output_type": "display_data"
    },
    {
     "data": {
      "text/html": [
       "<pre style=\"white-space:pre;overflow-x:auto;line-height:normal;font-family:Menlo,'DejaVu Sans Mono',consolas,'Courier New',monospace\"><span style=\"color: #7fbfbf; text-decoration-color: #7fbfbf\">[03/06/23 21:55:00] </span><span style=\"color: #000080; text-decoration-color: #000080\">INFO    </span> Dolphin-<span style=\"color: #008080; text-decoration-color: #008080; font-weight: bold\">2</span>                                                       \n",
       "<span style=\"color: #7fbfbf; text-decoration-color: #7fbfbf\">                    </span>         Epoch: <span style=\"color: #008080; text-decoration-color: #008080; font-weight: bold\">01</span> | Time: <span style=\"color: #00ff00; text-decoration-color: #00ff00; font-weight: bold\">0:00:46</span>.<span style=\"color: #008080; text-decoration-color: #008080; font-weight: bold\">890441</span>                                \n",
       "<span style=\"color: #7fbfbf; text-decoration-color: #7fbfbf\">                    </span>                 Train Loss: <span style=\"color: #008080; text-decoration-color: #008080; font-weight: bold\">4.522</span> | Train PPL:  <span style=\"color: #008080; text-decoration-color: #008080; font-weight: bold\">92.038</span>                  \n",
       "<span style=\"color: #7fbfbf; text-decoration-color: #7fbfbf\">                    </span>                  Val. Loss: <span style=\"color: #008080; text-decoration-color: #008080; font-weight: bold\">3.362</span> |  Val. PPL:  <span style=\"color: #008080; text-decoration-color: #008080; font-weight: bold\">28.843</span>                  \n",
       "</pre>\n"
      ],
      "text/plain": [
       "\u001b[2;36m[03/06/23 21:55:00]\u001b[0m\u001b[2;36m \u001b[0m\u001b[34mINFO    \u001b[0m Dolphin-\u001b[1;36m2\u001b[0m                                                       \n",
       "\u001b[2;36m                    \u001b[0m         Epoch: \u001b[1;36m01\u001b[0m | Time: \u001b[1;92m0:00:46\u001b[0m.\u001b[1;36m890441\u001b[0m                                \n",
       "\u001b[2;36m                    \u001b[0m                 Train Loss: \u001b[1;36m4.522\u001b[0m | Train PPL:  \u001b[1;36m92.038\u001b[0m                  \n",
       "\u001b[2;36m                    \u001b[0m                  Val. Loss: \u001b[1;36m3.362\u001b[0m |  Val. PPL:  \u001b[1;36m28.843\u001b[0m                  \n"
      ]
     },
     "metadata": {},
     "output_type": "display_data"
    },
    {
     "data": {
      "text/html": [
       "<pre style=\"white-space:pre;overflow-x:auto;line-height:normal;font-family:Menlo,'DejaVu Sans Mono',consolas,'Courier New',monospace\"><span style=\"color: #7fbfbf; text-decoration-color: #7fbfbf\">[03/06/23 21:55:00] </span><span style=\"color: #000080; text-decoration-color: #000080\">INFO    </span> Dolphin-<span style=\"color: #008080; text-decoration-color: #008080; font-weight: bold\">1</span>                                                       \n",
       "<span style=\"color: #7fbfbf; text-decoration-color: #7fbfbf\">                    </span>         Epoch: <span style=\"color: #008080; text-decoration-color: #008080; font-weight: bold\">01</span> | Time: <span style=\"color: #00ff00; text-decoration-color: #00ff00; font-weight: bold\">0:00:46</span>.<span style=\"color: #008080; text-decoration-color: #008080; font-weight: bold\">950059</span>                                \n",
       "<span style=\"color: #7fbfbf; text-decoration-color: #7fbfbf\">                    </span>                 Train Loss: <span style=\"color: #008080; text-decoration-color: #008080; font-weight: bold\">4.293</span> | Train PPL:  <span style=\"color: #008080; text-decoration-color: #008080; font-weight: bold\">73.166</span>                  \n",
       "<span style=\"color: #7fbfbf; text-decoration-color: #7fbfbf\">                    </span>                  Val. Loss: <span style=\"color: #008080; text-decoration-color: #008080; font-weight: bold\">3.348</span> |  Val. PPL:  <span style=\"color: #008080; text-decoration-color: #008080; font-weight: bold\">28.459</span>                  \n",
       "</pre>\n"
      ],
      "text/plain": [
       "\u001b[2;36m[03/06/23 21:55:00]\u001b[0m\u001b[2;36m \u001b[0m\u001b[34mINFO    \u001b[0m Dolphin-\u001b[1;36m1\u001b[0m                                                       \n",
       "\u001b[2;36m                    \u001b[0m         Epoch: \u001b[1;36m01\u001b[0m | Time: \u001b[1;92m0:00:46\u001b[0m.\u001b[1;36m950059\u001b[0m                                \n",
       "\u001b[2;36m                    \u001b[0m                 Train Loss: \u001b[1;36m4.293\u001b[0m | Train PPL:  \u001b[1;36m73.166\u001b[0m                  \n",
       "\u001b[2;36m                    \u001b[0m                  Val. Loss: \u001b[1;36m3.348\u001b[0m |  Val. PPL:  \u001b[1;36m28.459\u001b[0m                  \n"
      ]
     },
     "metadata": {},
     "output_type": "display_data"
    },
    {
     "data": {
      "text/html": [
       "<pre style=\"white-space:pre;overflow-x:auto;line-height:normal;font-family:Menlo,'DejaVu Sans Mono',consolas,'Courier New',monospace\"><span style=\"color: #7fbfbf; text-decoration-color: #7fbfbf\">[03/06/23 21:55:13] </span><span style=\"color: #000080; text-decoration-color: #000080\">INFO    </span> Dolphin-<span style=\"color: #008080; text-decoration-color: #008080; font-weight: bold\">4</span>                                                       \n",
       "<span style=\"color: #7fbfbf; text-decoration-color: #7fbfbf\">                    </span>         Epoch: <span style=\"color: #008080; text-decoration-color: #008080; font-weight: bold\">02</span> | Time: <span style=\"color: #00ff00; text-decoration-color: #00ff00; font-weight: bold\">0:00:29</span>.<span style=\"color: #008080; text-decoration-color: #008080; font-weight: bold\">400769</span>                                \n",
       "<span style=\"color: #7fbfbf; text-decoration-color: #7fbfbf\">                    </span>                 Train Loss: <span style=\"color: #008080; text-decoration-color: #008080; font-weight: bold\">3.387</span> | Train PPL:  <span style=\"color: #008080; text-decoration-color: #008080; font-weight: bold\">29.588</span>                  \n",
       "<span style=\"color: #7fbfbf; text-decoration-color: #7fbfbf\">                    </span>                  Val. Loss: <span style=\"color: #008080; text-decoration-color: #008080; font-weight: bold\">3.006</span> |  Val. PPL:  <span style=\"color: #008080; text-decoration-color: #008080; font-weight: bold\">20.210</span>                  \n",
       "</pre>\n"
      ],
      "text/plain": [
       "\u001b[2;36m[03/06/23 21:55:13]\u001b[0m\u001b[2;36m \u001b[0m\u001b[34mINFO    \u001b[0m Dolphin-\u001b[1;36m4\u001b[0m                                                       \n",
       "\u001b[2;36m                    \u001b[0m         Epoch: \u001b[1;36m02\u001b[0m | Time: \u001b[1;92m0:00:29\u001b[0m.\u001b[1;36m400769\u001b[0m                                \n",
       "\u001b[2;36m                    \u001b[0m                 Train Loss: \u001b[1;36m3.387\u001b[0m | Train PPL:  \u001b[1;36m29.588\u001b[0m                  \n",
       "\u001b[2;36m                    \u001b[0m                  Val. Loss: \u001b[1;36m3.006\u001b[0m |  Val. PPL:  \u001b[1;36m20.210\u001b[0m                  \n"
      ]
     },
     "metadata": {},
     "output_type": "display_data"
    },
    {
     "data": {
      "text/html": [
       "<pre style=\"white-space:pre;overflow-x:auto;line-height:normal;font-family:Menlo,'DejaVu Sans Mono',consolas,'Courier New',monospace\"><span style=\"color: #7fbfbf; text-decoration-color: #7fbfbf\">[03/06/23 21:55:14] </span><span style=\"color: #000080; text-decoration-color: #000080\">INFO    </span> Dolphin-<span style=\"color: #008080; text-decoration-color: #008080; font-weight: bold\">3</span>                                                       \n",
       "<span style=\"color: #7fbfbf; text-decoration-color: #7fbfbf\">                    </span>         Epoch: <span style=\"color: #008080; text-decoration-color: #008080; font-weight: bold\">02</span> | Time: <span style=\"color: #00ff00; text-decoration-color: #00ff00; font-weight: bold\">0:00:29</span>.<span style=\"color: #008080; text-decoration-color: #008080; font-weight: bold\">567505</span>                                \n",
       "<span style=\"color: #7fbfbf; text-decoration-color: #7fbfbf\">                    </span>                 Train Loss: <span style=\"color: #008080; text-decoration-color: #008080; font-weight: bold\">3.205</span> | Train PPL:  <span style=\"color: #008080; text-decoration-color: #008080; font-weight: bold\">24.648</span>                  \n",
       "<span style=\"color: #7fbfbf; text-decoration-color: #7fbfbf\">                    </span>                  Val. Loss: <span style=\"color: #008080; text-decoration-color: #008080; font-weight: bold\">2.885</span> |  Val. PPL:  <span style=\"color: #008080; text-decoration-color: #008080; font-weight: bold\">17.911</span>                  \n",
       "</pre>\n"
      ],
      "text/plain": [
       "\u001b[2;36m[03/06/23 21:55:14]\u001b[0m\u001b[2;36m \u001b[0m\u001b[34mINFO    \u001b[0m Dolphin-\u001b[1;36m3\u001b[0m                                                       \n",
       "\u001b[2;36m                    \u001b[0m         Epoch: \u001b[1;36m02\u001b[0m | Time: \u001b[1;92m0:00:29\u001b[0m.\u001b[1;36m567505\u001b[0m                                \n",
       "\u001b[2;36m                    \u001b[0m                 Train Loss: \u001b[1;36m3.205\u001b[0m | Train PPL:  \u001b[1;36m24.648\u001b[0m                  \n",
       "\u001b[2;36m                    \u001b[0m                  Val. Loss: \u001b[1;36m2.885\u001b[0m |  Val. PPL:  \u001b[1;36m17.911\u001b[0m                  \n"
      ]
     },
     "metadata": {},
     "output_type": "display_data"
    },
    {
     "data": {
      "text/html": [
       "<pre style=\"white-space:pre;overflow-x:auto;line-height:normal;font-family:Menlo,'DejaVu Sans Mono',consolas,'Courier New',monospace\"><span style=\"color: #7fbfbf; text-decoration-color: #7fbfbf\">[03/06/23 21:55:42] </span><span style=\"color: #000080; text-decoration-color: #000080\">INFO    </span> Dolphin-<span style=\"color: #008080; text-decoration-color: #008080; font-weight: bold\">4</span>                                                       \n",
       "<span style=\"color: #7fbfbf; text-decoration-color: #7fbfbf\">                    </span>         Epoch: <span style=\"color: #008080; text-decoration-color: #008080; font-weight: bold\">03</span> | Time: <span style=\"color: #00ff00; text-decoration-color: #00ff00; font-weight: bold\">0:00:29</span>.<span style=\"color: #008080; text-decoration-color: #008080; font-weight: bold\">245605</span>                                \n",
       "<span style=\"color: #7fbfbf; text-decoration-color: #7fbfbf\">                    </span>                 Train Loss: <span style=\"color: #008080; text-decoration-color: #008080; font-weight: bold\">2.677</span> | Train PPL:  <span style=\"color: #008080; text-decoration-color: #008080; font-weight: bold\">14.548</span>                  \n",
       "<span style=\"color: #7fbfbf; text-decoration-color: #7fbfbf\">                    </span>                  Val. Loss: <span style=\"color: #008080; text-decoration-color: #008080; font-weight: bold\">2.564</span> |  Val. PPL:  <span style=\"color: #008080; text-decoration-color: #008080; font-weight: bold\">12.984</span>                  \n",
       "</pre>\n"
      ],
      "text/plain": [
       "\u001b[2;36m[03/06/23 21:55:42]\u001b[0m\u001b[2;36m \u001b[0m\u001b[34mINFO    \u001b[0m Dolphin-\u001b[1;36m4\u001b[0m                                                       \n",
       "\u001b[2;36m                    \u001b[0m         Epoch: \u001b[1;36m03\u001b[0m | Time: \u001b[1;92m0:00:29\u001b[0m.\u001b[1;36m245605\u001b[0m                                \n",
       "\u001b[2;36m                    \u001b[0m                 Train Loss: \u001b[1;36m2.677\u001b[0m | Train PPL:  \u001b[1;36m14.548\u001b[0m                  \n",
       "\u001b[2;36m                    \u001b[0m                  Val. Loss: \u001b[1;36m2.564\u001b[0m |  Val. PPL:  \u001b[1;36m12.984\u001b[0m                  \n"
      ]
     },
     "metadata": {},
     "output_type": "display_data"
    },
    {
     "data": {
      "text/html": [
       "<pre style=\"white-space:pre;overflow-x:auto;line-height:normal;font-family:Menlo,'DejaVu Sans Mono',consolas,'Courier New',monospace\"><span style=\"color: #7fbfbf; text-decoration-color: #7fbfbf\">[03/06/23 21:55:43] </span><span style=\"color: #000080; text-decoration-color: #000080\">INFO    </span> Dolphin-<span style=\"color: #008080; text-decoration-color: #008080; font-weight: bold\">3</span>                                                       \n",
       "<span style=\"color: #7fbfbf; text-decoration-color: #7fbfbf\">                    </span>         Epoch: <span style=\"color: #008080; text-decoration-color: #008080; font-weight: bold\">03</span> | Time: <span style=\"color: #00ff00; text-decoration-color: #00ff00; font-weight: bold\">0:00:29</span>.<span style=\"color: #008080; text-decoration-color: #008080; font-weight: bold\">113491</span>                                \n",
       "<span style=\"color: #7fbfbf; text-decoration-color: #7fbfbf\">                    </span>                 Train Loss: <span style=\"color: #008080; text-decoration-color: #008080; font-weight: bold\">2.475</span> | Train PPL:  <span style=\"color: #008080; text-decoration-color: #008080; font-weight: bold\">11.877</span>                  \n",
       "<span style=\"color: #7fbfbf; text-decoration-color: #7fbfbf\">                    </span>                  Val. Loss: <span style=\"color: #008080; text-decoration-color: #008080; font-weight: bold\">2.403</span> |  Val. PPL:  <span style=\"color: #008080; text-decoration-color: #008080; font-weight: bold\">11.054</span>                  \n",
       "</pre>\n"
      ],
      "text/plain": [
       "\u001b[2;36m[03/06/23 21:55:43]\u001b[0m\u001b[2;36m \u001b[0m\u001b[34mINFO    \u001b[0m Dolphin-\u001b[1;36m3\u001b[0m                                                       \n",
       "\u001b[2;36m                    \u001b[0m         Epoch: \u001b[1;36m03\u001b[0m | Time: \u001b[1;92m0:00:29\u001b[0m.\u001b[1;36m113491\u001b[0m                                \n",
       "\u001b[2;36m                    \u001b[0m                 Train Loss: \u001b[1;36m2.475\u001b[0m | Train PPL:  \u001b[1;36m11.877\u001b[0m                  \n",
       "\u001b[2;36m                    \u001b[0m                  Val. Loss: \u001b[1;36m2.403\u001b[0m |  Val. PPL:  \u001b[1;36m11.054\u001b[0m                  \n"
      ]
     },
     "metadata": {},
     "output_type": "display_data"
    },
    {
     "data": {
      "text/html": [
       "<pre style=\"white-space:pre;overflow-x:auto;line-height:normal;font-family:Menlo,'DejaVu Sans Mono',consolas,'Courier New',monospace\"><span style=\"color: #7fbfbf; text-decoration-color: #7fbfbf\">[03/06/23 21:55:48] </span><span style=\"color: #000080; text-decoration-color: #000080\">INFO    </span> Dolphin-<span style=\"color: #008080; text-decoration-color: #008080; font-weight: bold\">1</span>                                                       \n",
       "<span style=\"color: #7fbfbf; text-decoration-color: #7fbfbf\">                    </span>         Epoch: <span style=\"color: #008080; text-decoration-color: #008080; font-weight: bold\">02</span> | Time: <span style=\"color: #00ff00; text-decoration-color: #00ff00; font-weight: bold\">0:00:47</span>.<span style=\"color: #008080; text-decoration-color: #008080; font-weight: bold\">867886</span>                                \n",
       "<span style=\"color: #7fbfbf; text-decoration-color: #7fbfbf\">                    </span>                 Train Loss: <span style=\"color: #008080; text-decoration-color: #008080; font-weight: bold\">2.977</span> | Train PPL:  <span style=\"color: #008080; text-decoration-color: #008080; font-weight: bold\">19.635</span>                  \n",
       "<span style=\"color: #7fbfbf; text-decoration-color: #7fbfbf\">                    </span>                  Val. Loss: <span style=\"color: #008080; text-decoration-color: #008080; font-weight: bold\">2.737</span> |  Val. PPL:  <span style=\"color: #008080; text-decoration-color: #008080; font-weight: bold\">15.446</span>                  \n",
       "</pre>\n"
      ],
      "text/plain": [
       "\u001b[2;36m[03/06/23 21:55:48]\u001b[0m\u001b[2;36m \u001b[0m\u001b[34mINFO    \u001b[0m Dolphin-\u001b[1;36m1\u001b[0m                                                       \n",
       "\u001b[2;36m                    \u001b[0m         Epoch: \u001b[1;36m02\u001b[0m | Time: \u001b[1;92m0:00:47\u001b[0m.\u001b[1;36m867886\u001b[0m                                \n",
       "\u001b[2;36m                    \u001b[0m                 Train Loss: \u001b[1;36m2.977\u001b[0m | Train PPL:  \u001b[1;36m19.635\u001b[0m                  \n",
       "\u001b[2;36m                    \u001b[0m                  Val. Loss: \u001b[1;36m2.737\u001b[0m |  Val. PPL:  \u001b[1;36m15.446\u001b[0m                  \n"
      ]
     },
     "metadata": {},
     "output_type": "display_data"
    },
    {
     "data": {
      "text/html": [
       "<pre style=\"white-space:pre;overflow-x:auto;line-height:normal;font-family:Menlo,'DejaVu Sans Mono',consolas,'Courier New',monospace\"><span style=\"color: #7fbfbf; text-decoration-color: #7fbfbf\">[03/06/23 21:55:48] </span><span style=\"color: #000080; text-decoration-color: #000080\">INFO    </span> Dolphin-<span style=\"color: #008080; text-decoration-color: #008080; font-weight: bold\">2</span>                                                       \n",
       "<span style=\"color: #7fbfbf; text-decoration-color: #7fbfbf\">                    </span>         Epoch: <span style=\"color: #008080; text-decoration-color: #008080; font-weight: bold\">02</span> | Time: <span style=\"color: #00ff00; text-decoration-color: #00ff00; font-weight: bold\">0:00:48</span>.<span style=\"color: #008080; text-decoration-color: #008080; font-weight: bold\">103139</span>                                \n",
       "<span style=\"color: #7fbfbf; text-decoration-color: #7fbfbf\">                    </span>                 Train Loss: <span style=\"color: #008080; text-decoration-color: #008080; font-weight: bold\">2.940</span> | Train PPL:  <span style=\"color: #008080; text-decoration-color: #008080; font-weight: bold\">18.913</span>                  \n",
       "<span style=\"color: #7fbfbf; text-decoration-color: #7fbfbf\">                    </span>                  Val. Loss: <span style=\"color: #008080; text-decoration-color: #008080; font-weight: bold\">2.640</span> |  Val. PPL:  <span style=\"color: #008080; text-decoration-color: #008080; font-weight: bold\">14.018</span>                  \n",
       "</pre>\n"
      ],
      "text/plain": [
       "\u001b[2;36m[03/06/23 21:55:48]\u001b[0m\u001b[2;36m \u001b[0m\u001b[34mINFO    \u001b[0m Dolphin-\u001b[1;36m2\u001b[0m                                                       \n",
       "\u001b[2;36m                    \u001b[0m         Epoch: \u001b[1;36m02\u001b[0m | Time: \u001b[1;92m0:00:48\u001b[0m.\u001b[1;36m103139\u001b[0m                                \n",
       "\u001b[2;36m                    \u001b[0m                 Train Loss: \u001b[1;36m2.940\u001b[0m | Train PPL:  \u001b[1;36m18.913\u001b[0m                  \n",
       "\u001b[2;36m                    \u001b[0m                  Val. Loss: \u001b[1;36m2.640\u001b[0m |  Val. PPL:  \u001b[1;36m14.018\u001b[0m                  \n"
      ]
     },
     "metadata": {},
     "output_type": "display_data"
    },
    {
     "data": {
      "text/html": [
       "<pre style=\"white-space:pre;overflow-x:auto;line-height:normal;font-family:Menlo,'DejaVu Sans Mono',consolas,'Courier New',monospace\"><span style=\"color: #7fbfbf; text-decoration-color: #7fbfbf\">[03/06/23 21:56:13] </span><span style=\"color: #000080; text-decoration-color: #000080\">INFO    </span> Dolphin-<span style=\"color: #008080; text-decoration-color: #008080; font-weight: bold\">4</span>                                                       \n",
       "<span style=\"color: #7fbfbf; text-decoration-color: #7fbfbf\">                    </span>         Epoch: <span style=\"color: #008080; text-decoration-color: #008080; font-weight: bold\">04</span> | Time: <span style=\"color: #00ff00; text-decoration-color: #00ff00; font-weight: bold\">0:00:30</span>.<span style=\"color: #008080; text-decoration-color: #008080; font-weight: bold\">466871</span>                                \n",
       "<span style=\"color: #7fbfbf; text-decoration-color: #7fbfbf\">                    </span>                 Train Loss: <span style=\"color: #008080; text-decoration-color: #008080; font-weight: bold\">2.225</span> | Train PPL:   <span style=\"color: #008080; text-decoration-color: #008080; font-weight: bold\">9.257</span>                  \n",
       "<span style=\"color: #7fbfbf; text-decoration-color: #7fbfbf\">                    </span>                  Val. Loss: <span style=\"color: #008080; text-decoration-color: #008080; font-weight: bold\">2.320</span> |  Val. PPL:  <span style=\"color: #008080; text-decoration-color: #008080; font-weight: bold\">10.175</span>                  \n",
       "</pre>\n"
      ],
      "text/plain": [
       "\u001b[2;36m[03/06/23 21:56:13]\u001b[0m\u001b[2;36m \u001b[0m\u001b[34mINFO    \u001b[0m Dolphin-\u001b[1;36m4\u001b[0m                                                       \n",
       "\u001b[2;36m                    \u001b[0m         Epoch: \u001b[1;36m04\u001b[0m | Time: \u001b[1;92m0:00:30\u001b[0m.\u001b[1;36m466871\u001b[0m                                \n",
       "\u001b[2;36m                    \u001b[0m                 Train Loss: \u001b[1;36m2.225\u001b[0m | Train PPL:   \u001b[1;36m9.257\u001b[0m                  \n",
       "\u001b[2;36m                    \u001b[0m                  Val. Loss: \u001b[1;36m2.320\u001b[0m |  Val. PPL:  \u001b[1;36m10.175\u001b[0m                  \n"
      ]
     },
     "metadata": {},
     "output_type": "display_data"
    },
    {
     "data": {
      "text/html": [
       "<pre style=\"white-space:pre;overflow-x:auto;line-height:normal;font-family:Menlo,'DejaVu Sans Mono',consolas,'Courier New',monospace\"><span style=\"color: #7fbfbf; text-decoration-color: #7fbfbf\">[03/06/23 21:56:14] </span><span style=\"color: #000080; text-decoration-color: #000080\">INFO    </span> Dolphin-<span style=\"color: #008080; text-decoration-color: #008080; font-weight: bold\">3</span>                                                       \n",
       "<span style=\"color: #7fbfbf; text-decoration-color: #7fbfbf\">                    </span>         Epoch: <span style=\"color: #008080; text-decoration-color: #008080; font-weight: bold\">04</span> | Time: <span style=\"color: #00ff00; text-decoration-color: #00ff00; font-weight: bold\">0:00:30</span>.<span style=\"color: #008080; text-decoration-color: #008080; font-weight: bold\">348528</span>                                \n",
       "<span style=\"color: #7fbfbf; text-decoration-color: #7fbfbf\">                    </span>                 Train Loss: <span style=\"color: #008080; text-decoration-color: #008080; font-weight: bold\">1.989</span> | Train PPL:   <span style=\"color: #008080; text-decoration-color: #008080; font-weight: bold\">7.305</span>                  \n",
       "<span style=\"color: #7fbfbf; text-decoration-color: #7fbfbf\">                    </span>                  Val. Loss: <span style=\"color: #008080; text-decoration-color: #008080; font-weight: bold\">2.196</span> |  Val. PPL:   <span style=\"color: #008080; text-decoration-color: #008080; font-weight: bold\">8.993</span>                  \n",
       "</pre>\n"
      ],
      "text/plain": [
       "\u001b[2;36m[03/06/23 21:56:14]\u001b[0m\u001b[2;36m \u001b[0m\u001b[34mINFO    \u001b[0m Dolphin-\u001b[1;36m3\u001b[0m                                                       \n",
       "\u001b[2;36m                    \u001b[0m         Epoch: \u001b[1;36m04\u001b[0m | Time: \u001b[1;92m0:00:30\u001b[0m.\u001b[1;36m348528\u001b[0m                                \n",
       "\u001b[2;36m                    \u001b[0m                 Train Loss: \u001b[1;36m1.989\u001b[0m | Train PPL:   \u001b[1;36m7.305\u001b[0m                  \n",
       "\u001b[2;36m                    \u001b[0m                  Val. Loss: \u001b[1;36m2.196\u001b[0m |  Val. PPL:   \u001b[1;36m8.993\u001b[0m                  \n"
      ]
     },
     "metadata": {},
     "output_type": "display_data"
    },
    {
     "data": {
      "text/html": [
       "<pre style=\"white-space:pre;overflow-x:auto;line-height:normal;font-family:Menlo,'DejaVu Sans Mono',consolas,'Courier New',monospace\"><span style=\"color: #7fbfbf; text-decoration-color: #7fbfbf\">[03/06/23 21:56:37] </span><span style=\"color: #000080; text-decoration-color: #000080\">INFO    </span> Dolphin-<span style=\"color: #008080; text-decoration-color: #008080; font-weight: bold\">1</span>                                                       \n",
       "<span style=\"color: #7fbfbf; text-decoration-color: #7fbfbf\">                    </span>         Epoch: <span style=\"color: #008080; text-decoration-color: #008080; font-weight: bold\">03</span> | Time: <span style=\"color: #00ff00; text-decoration-color: #00ff00; font-weight: bold\">0:00:48</span>.<span style=\"color: #008080; text-decoration-color: #008080; font-weight: bold\">205182</span>                                \n",
       "<span style=\"color: #7fbfbf; text-decoration-color: #7fbfbf\">                    </span>                 Train Loss: <span style=\"color: #008080; text-decoration-color: #008080; font-weight: bold\">2.338</span> | Train PPL:  <span style=\"color: #008080; text-decoration-color: #008080; font-weight: bold\">10.356</span>                  \n",
       "<span style=\"color: #7fbfbf; text-decoration-color: #7fbfbf\">                    </span>                  Val. Loss: <span style=\"color: #008080; text-decoration-color: #008080; font-weight: bold\">2.354</span> |  Val. PPL:  <span style=\"color: #008080; text-decoration-color: #008080; font-weight: bold\">10.531</span>                  \n",
       "</pre>\n"
      ],
      "text/plain": [
       "\u001b[2;36m[03/06/23 21:56:37]\u001b[0m\u001b[2;36m \u001b[0m\u001b[34mINFO    \u001b[0m Dolphin-\u001b[1;36m1\u001b[0m                                                       \n",
       "\u001b[2;36m                    \u001b[0m         Epoch: \u001b[1;36m03\u001b[0m | Time: \u001b[1;92m0:00:48\u001b[0m.\u001b[1;36m205182\u001b[0m                                \n",
       "\u001b[2;36m                    \u001b[0m                 Train Loss: \u001b[1;36m2.338\u001b[0m | Train PPL:  \u001b[1;36m10.356\u001b[0m                  \n",
       "\u001b[2;36m                    \u001b[0m                  Val. Loss: \u001b[1;36m2.354\u001b[0m |  Val. PPL:  \u001b[1;36m10.531\u001b[0m                  \n"
      ]
     },
     "metadata": {},
     "output_type": "display_data"
    },
    {
     "data": {
      "text/html": [
       "<pre style=\"white-space:pre;overflow-x:auto;line-height:normal;font-family:Menlo,'DejaVu Sans Mono',consolas,'Courier New',monospace\"><span style=\"color: #7fbfbf; text-decoration-color: #7fbfbf\">[03/06/23 21:56:37] </span><span style=\"color: #000080; text-decoration-color: #000080\">INFO    </span> Dolphin-<span style=\"color: #008080; text-decoration-color: #008080; font-weight: bold\">2</span>                                                       \n",
       "<span style=\"color: #7fbfbf; text-decoration-color: #7fbfbf\">                    </span>         Epoch: <span style=\"color: #008080; text-decoration-color: #008080; font-weight: bold\">03</span> | Time: <span style=\"color: #00ff00; text-decoration-color: #00ff00; font-weight: bold\">0:00:48</span>.<span style=\"color: #008080; text-decoration-color: #008080; font-weight: bold\">200328</span>                                \n",
       "<span style=\"color: #7fbfbf; text-decoration-color: #7fbfbf\">                    </span>                 Train Loss: <span style=\"color: #008080; text-decoration-color: #008080; font-weight: bold\">2.331</span> | Train PPL:  <span style=\"color: #008080; text-decoration-color: #008080; font-weight: bold\">10.288</span>                  \n",
       "<span style=\"color: #7fbfbf; text-decoration-color: #7fbfbf\">                    </span>                  Val. Loss: <span style=\"color: #008080; text-decoration-color: #008080; font-weight: bold\">2.321</span> |  Val. PPL:  <span style=\"color: #008080; text-decoration-color: #008080; font-weight: bold\">10.186</span>                  \n",
       "</pre>\n"
      ],
      "text/plain": [
       "\u001b[2;36m[03/06/23 21:56:37]\u001b[0m\u001b[2;36m \u001b[0m\u001b[34mINFO    \u001b[0m Dolphin-\u001b[1;36m2\u001b[0m                                                       \n",
       "\u001b[2;36m                    \u001b[0m         Epoch: \u001b[1;36m03\u001b[0m | Time: \u001b[1;92m0:00:48\u001b[0m.\u001b[1;36m200328\u001b[0m                                \n",
       "\u001b[2;36m                    \u001b[0m                 Train Loss: \u001b[1;36m2.331\u001b[0m | Train PPL:  \u001b[1;36m10.288\u001b[0m                  \n",
       "\u001b[2;36m                    \u001b[0m                  Val. Loss: \u001b[1;36m2.321\u001b[0m |  Val. PPL:  \u001b[1;36m10.186\u001b[0m                  \n"
      ]
     },
     "metadata": {},
     "output_type": "display_data"
    },
    {
     "data": {
      "text/html": [
       "<pre style=\"white-space:pre;overflow-x:auto;line-height:normal;font-family:Menlo,'DejaVu Sans Mono',consolas,'Courier New',monospace\"><span style=\"color: #7fbfbf; text-decoration-color: #7fbfbf\">[03/06/23 21:56:43] </span><span style=\"color: #000080; text-decoration-color: #000080\">INFO    </span> Dolphin-<span style=\"color: #008080; text-decoration-color: #008080; font-weight: bold\">4</span>                                                       \n",
       "<span style=\"color: #7fbfbf; text-decoration-color: #7fbfbf\">                    </span>         Epoch: <span style=\"color: #008080; text-decoration-color: #008080; font-weight: bold\">05</span> | Time: <span style=\"color: #00ff00; text-decoration-color: #00ff00; font-weight: bold\">0:00:29</span>.<span style=\"color: #008080; text-decoration-color: #008080; font-weight: bold\">598391</span>                                \n",
       "<span style=\"color: #7fbfbf; text-decoration-color: #7fbfbf\">                    </span>                 Train Loss: <span style=\"color: #008080; text-decoration-color: #008080; font-weight: bold\">1.913</span> | Train PPL:   <span style=\"color: #008080; text-decoration-color: #008080; font-weight: bold\">6.771</span>                  \n",
       "<span style=\"color: #7fbfbf; text-decoration-color: #7fbfbf\">                    </span>                  Val. Loss: <span style=\"color: #008080; text-decoration-color: #008080; font-weight: bold\">2.197</span> |  Val. PPL:   <span style=\"color: #008080; text-decoration-color: #008080; font-weight: bold\">9.002</span>                  \n",
       "</pre>\n"
      ],
      "text/plain": [
       "\u001b[2;36m[03/06/23 21:56:43]\u001b[0m\u001b[2;36m \u001b[0m\u001b[34mINFO    \u001b[0m Dolphin-\u001b[1;36m4\u001b[0m                                                       \n",
       "\u001b[2;36m                    \u001b[0m         Epoch: \u001b[1;36m05\u001b[0m | Time: \u001b[1;92m0:00:29\u001b[0m.\u001b[1;36m598391\u001b[0m                                \n",
       "\u001b[2;36m                    \u001b[0m                 Train Loss: \u001b[1;36m1.913\u001b[0m | Train PPL:   \u001b[1;36m6.771\u001b[0m                  \n",
       "\u001b[2;36m                    \u001b[0m                  Val. Loss: \u001b[1;36m2.197\u001b[0m |  Val. PPL:   \u001b[1;36m9.002\u001b[0m                  \n"
      ]
     },
     "metadata": {},
     "output_type": "display_data"
    },
    {
     "data": {
      "text/html": [
       "<pre style=\"white-space:pre;overflow-x:auto;line-height:normal;font-family:Menlo,'DejaVu Sans Mono',consolas,'Courier New',monospace\"><span style=\"color: #7fbfbf; text-decoration-color: #7fbfbf\">[03/06/23 21:56:43] </span><span style=\"color: #000080; text-decoration-color: #000080\">INFO    </span> Dolphin-<span style=\"color: #008080; text-decoration-color: #008080; font-weight: bold\">3</span>                                                       \n",
       "<span style=\"color: #7fbfbf; text-decoration-color: #7fbfbf\">                    </span>         Epoch: <span style=\"color: #008080; text-decoration-color: #008080; font-weight: bold\">05</span> | Time: <span style=\"color: #00ff00; text-decoration-color: #00ff00; font-weight: bold\">0:00:29</span>.<span style=\"color: #008080; text-decoration-color: #008080; font-weight: bold\">369060</span>                                \n",
       "<span style=\"color: #7fbfbf; text-decoration-color: #7fbfbf\">                    </span>                 Train Loss: <span style=\"color: #008080; text-decoration-color: #008080; font-weight: bold\">1.661</span> | Train PPL:   <span style=\"color: #008080; text-decoration-color: #008080; font-weight: bold\">5.263</span>                  \n",
       "<span style=\"color: #7fbfbf; text-decoration-color: #7fbfbf\">                    </span>                  Val. Loss: <span style=\"color: #008080; text-decoration-color: #008080; font-weight: bold\">2.090</span> |  Val. PPL:   <span style=\"color: #008080; text-decoration-color: #008080; font-weight: bold\">8.082</span>                  \n",
       "</pre>\n"
      ],
      "text/plain": [
       "\u001b[2;36m[03/06/23 21:56:43]\u001b[0m\u001b[2;36m \u001b[0m\u001b[34mINFO    \u001b[0m Dolphin-\u001b[1;36m3\u001b[0m                                                       \n",
       "\u001b[2;36m                    \u001b[0m         Epoch: \u001b[1;36m05\u001b[0m | Time: \u001b[1;92m0:00:29\u001b[0m.\u001b[1;36m369060\u001b[0m                                \n",
       "\u001b[2;36m                    \u001b[0m                 Train Loss: \u001b[1;36m1.661\u001b[0m | Train PPL:   \u001b[1;36m5.263\u001b[0m                  \n",
       "\u001b[2;36m                    \u001b[0m                  Val. Loss: \u001b[1;36m2.090\u001b[0m |  Val. PPL:   \u001b[1;36m8.082\u001b[0m                  \n"
      ]
     },
     "metadata": {},
     "output_type": "display_data"
    },
    {
     "data": {
      "text/html": [
       "<pre style=\"white-space:pre;overflow-x:auto;line-height:normal;font-family:Menlo,'DejaVu Sans Mono',consolas,'Courier New',monospace\"><span style=\"color: #7fbfbf; text-decoration-color: #7fbfbf\">[03/06/23 21:57:12] </span><span style=\"color: #000080; text-decoration-color: #000080\">INFO    </span> Dolphin-<span style=\"color: #008080; text-decoration-color: #008080; font-weight: bold\">4</span>                                                       \n",
       "<span style=\"color: #7fbfbf; text-decoration-color: #7fbfbf\">                    </span>         Epoch: <span style=\"color: #008080; text-decoration-color: #008080; font-weight: bold\">06</span> | Time: <span style=\"color: #00ff00; text-decoration-color: #00ff00; font-weight: bold\">0:00:29</span>.<span style=\"color: #008080; text-decoration-color: #008080; font-weight: bold\">589560</span>                                \n",
       "<span style=\"color: #7fbfbf; text-decoration-color: #7fbfbf\">                    </span>                 Train Loss: <span style=\"color: #008080; text-decoration-color: #008080; font-weight: bold\">1.676</span> | Train PPL:   <span style=\"color: #008080; text-decoration-color: #008080; font-weight: bold\">5.344</span>                  \n",
       "<span style=\"color: #7fbfbf; text-decoration-color: #7fbfbf\">                    </span>                  Val. Loss: <span style=\"color: #008080; text-decoration-color: #008080; font-weight: bold\">2.123</span> |  Val. PPL:   <span style=\"color: #008080; text-decoration-color: #008080; font-weight: bold\">8.352</span>                  \n",
       "</pre>\n"
      ],
      "text/plain": [
       "\u001b[2;36m[03/06/23 21:57:12]\u001b[0m\u001b[2;36m \u001b[0m\u001b[34mINFO    \u001b[0m Dolphin-\u001b[1;36m4\u001b[0m                                                       \n",
       "\u001b[2;36m                    \u001b[0m         Epoch: \u001b[1;36m06\u001b[0m | Time: \u001b[1;92m0:00:29\u001b[0m.\u001b[1;36m589560\u001b[0m                                \n",
       "\u001b[2;36m                    \u001b[0m                 Train Loss: \u001b[1;36m1.676\u001b[0m | Train PPL:   \u001b[1;36m5.344\u001b[0m                  \n",
       "\u001b[2;36m                    \u001b[0m                  Val. Loss: \u001b[1;36m2.123\u001b[0m |  Val. PPL:   \u001b[1;36m8.352\u001b[0m                  \n"
      ]
     },
     "metadata": {},
     "output_type": "display_data"
    },
    {
     "data": {
      "text/html": [
       "<pre style=\"white-space:pre;overflow-x:auto;line-height:normal;font-family:Menlo,'DejaVu Sans Mono',consolas,'Courier New',monospace\"><span style=\"color: #7fbfbf; text-decoration-color: #7fbfbf\">[03/06/23 21:57:13] </span><span style=\"color: #000080; text-decoration-color: #000080\">INFO    </span> Dolphin-<span style=\"color: #008080; text-decoration-color: #008080; font-weight: bold\">3</span>                                                       \n",
       "<span style=\"color: #7fbfbf; text-decoration-color: #7fbfbf\">                    </span>         Epoch: <span style=\"color: #008080; text-decoration-color: #008080; font-weight: bold\">06</span> | Time: <span style=\"color: #00ff00; text-decoration-color: #00ff00; font-weight: bold\">0:00:29</span>.<span style=\"color: #008080; text-decoration-color: #008080; font-weight: bold\">562888</span>                                \n",
       "<span style=\"color: #7fbfbf; text-decoration-color: #7fbfbf\">                    </span>                 Train Loss: <span style=\"color: #008080; text-decoration-color: #008080; font-weight: bold\">1.413</span> | Train PPL:   <span style=\"color: #008080; text-decoration-color: #008080; font-weight: bold\">4.109</span>                  \n",
       "<span style=\"color: #7fbfbf; text-decoration-color: #7fbfbf\">                    </span>                  Val. Loss: <span style=\"color: #008080; text-decoration-color: #008080; font-weight: bold\">2.061</span> |  Val. PPL:   <span style=\"color: #008080; text-decoration-color: #008080; font-weight: bold\">7.854</span>                  \n",
       "</pre>\n"
      ],
      "text/plain": [
       "\u001b[2;36m[03/06/23 21:57:13]\u001b[0m\u001b[2;36m \u001b[0m\u001b[34mINFO    \u001b[0m Dolphin-\u001b[1;36m3\u001b[0m                                                       \n",
       "\u001b[2;36m                    \u001b[0m         Epoch: \u001b[1;36m06\u001b[0m | Time: \u001b[1;92m0:00:29\u001b[0m.\u001b[1;36m562888\u001b[0m                                \n",
       "\u001b[2;36m                    \u001b[0m                 Train Loss: \u001b[1;36m1.413\u001b[0m | Train PPL:   \u001b[1;36m4.109\u001b[0m                  \n",
       "\u001b[2;36m                    \u001b[0m                  Val. Loss: \u001b[1;36m2.061\u001b[0m |  Val. PPL:   \u001b[1;36m7.854\u001b[0m                  \n"
      ]
     },
     "metadata": {},
     "output_type": "display_data"
    },
    {
     "data": {
      "text/html": [
       "<pre style=\"white-space:pre;overflow-x:auto;line-height:normal;font-family:Menlo,'DejaVu Sans Mono',consolas,'Courier New',monospace\"><span style=\"color: #7fbfbf; text-decoration-color: #7fbfbf\">[03/06/23 21:57:24] </span><span style=\"color: #000080; text-decoration-color: #000080\">INFO    </span> Dolphin-<span style=\"color: #008080; text-decoration-color: #008080; font-weight: bold\">2</span>                                                       \n",
       "<span style=\"color: #7fbfbf; text-decoration-color: #7fbfbf\">                    </span>         Epoch: <span style=\"color: #008080; text-decoration-color: #008080; font-weight: bold\">04</span> | Time: <span style=\"color: #00ff00; text-decoration-color: #00ff00; font-weight: bold\">0:00:46</span>.<span style=\"color: #008080; text-decoration-color: #008080; font-weight: bold\">936440</span>                                \n",
       "<span style=\"color: #7fbfbf; text-decoration-color: #7fbfbf\">                    </span>                 Train Loss: <span style=\"color: #008080; text-decoration-color: #008080; font-weight: bold\">1.946</span> | Train PPL:   <span style=\"color: #008080; text-decoration-color: #008080; font-weight: bold\">6.998</span>                  \n",
       "<span style=\"color: #7fbfbf; text-decoration-color: #7fbfbf\">                    </span>                  Val. Loss: <span style=\"color: #008080; text-decoration-color: #008080; font-weight: bold\">2.163</span> |  Val. PPL:   <span style=\"color: #008080; text-decoration-color: #008080; font-weight: bold\">8.694</span>                  \n",
       "</pre>\n"
      ],
      "text/plain": [
       "\u001b[2;36m[03/06/23 21:57:24]\u001b[0m\u001b[2;36m \u001b[0m\u001b[34mINFO    \u001b[0m Dolphin-\u001b[1;36m2\u001b[0m                                                       \n",
       "\u001b[2;36m                    \u001b[0m         Epoch: \u001b[1;36m04\u001b[0m | Time: \u001b[1;92m0:00:46\u001b[0m.\u001b[1;36m936440\u001b[0m                                \n",
       "\u001b[2;36m                    \u001b[0m                 Train Loss: \u001b[1;36m1.946\u001b[0m | Train PPL:   \u001b[1;36m6.998\u001b[0m                  \n",
       "\u001b[2;36m                    \u001b[0m                  Val. Loss: \u001b[1;36m2.163\u001b[0m |  Val. PPL:   \u001b[1;36m8.694\u001b[0m                  \n"
      ]
     },
     "metadata": {},
     "output_type": "display_data"
    },
    {
     "data": {
      "text/html": [
       "<pre style=\"white-space:pre;overflow-x:auto;line-height:normal;font-family:Menlo,'DejaVu Sans Mono',consolas,'Courier New',monospace\"><span style=\"color: #7fbfbf; text-decoration-color: #7fbfbf\">[03/06/23 21:57:24] </span><span style=\"color: #000080; text-decoration-color: #000080\">INFO    </span> Dolphin-<span style=\"color: #008080; text-decoration-color: #008080; font-weight: bold\">1</span>                                                       \n",
       "<span style=\"color: #7fbfbf; text-decoration-color: #7fbfbf\">                    </span>         Epoch: <span style=\"color: #008080; text-decoration-color: #008080; font-weight: bold\">04</span> | Time: <span style=\"color: #00ff00; text-decoration-color: #00ff00; font-weight: bold\">0:00:46</span>.<span style=\"color: #008080; text-decoration-color: #008080; font-weight: bold\">983906</span>                                \n",
       "<span style=\"color: #7fbfbf; text-decoration-color: #7fbfbf\">                    </span>                 Train Loss: <span style=\"color: #008080; text-decoration-color: #008080; font-weight: bold\">1.902</span> | Train PPL:   <span style=\"color: #008080; text-decoration-color: #008080; font-weight: bold\">6.701</span>                  \n",
       "<span style=\"color: #7fbfbf; text-decoration-color: #7fbfbf\">                    </span>                  Val. Loss: <span style=\"color: #008080; text-decoration-color: #008080; font-weight: bold\">2.202</span> |  Val. PPL:   <span style=\"color: #008080; text-decoration-color: #008080; font-weight: bold\">9.046</span>                  \n",
       "</pre>\n"
      ],
      "text/plain": [
       "\u001b[2;36m[03/06/23 21:57:24]\u001b[0m\u001b[2;36m \u001b[0m\u001b[34mINFO    \u001b[0m Dolphin-\u001b[1;36m1\u001b[0m                                                       \n",
       "\u001b[2;36m                    \u001b[0m         Epoch: \u001b[1;36m04\u001b[0m | Time: \u001b[1;92m0:00:46\u001b[0m.\u001b[1;36m983906\u001b[0m                                \n",
       "\u001b[2;36m                    \u001b[0m                 Train Loss: \u001b[1;36m1.902\u001b[0m | Train PPL:   \u001b[1;36m6.701\u001b[0m                  \n",
       "\u001b[2;36m                    \u001b[0m                  Val. Loss: \u001b[1;36m2.202\u001b[0m |  Val. PPL:   \u001b[1;36m9.046\u001b[0m                  \n"
      ]
     },
     "metadata": {},
     "output_type": "display_data"
    },
    {
     "data": {
      "text/html": [
       "<pre style=\"white-space:pre;overflow-x:auto;line-height:normal;font-family:Menlo,'DejaVu Sans Mono',consolas,'Courier New',monospace\"><span style=\"color: #7fbfbf; text-decoration-color: #7fbfbf\">[03/06/23 21:57:42] </span><span style=\"color: #000080; text-decoration-color: #000080\">INFO    </span> Dolphin-<span style=\"color: #008080; text-decoration-color: #008080; font-weight: bold\">4</span>                                                       \n",
       "<span style=\"color: #7fbfbf; text-decoration-color: #7fbfbf\">                    </span>         Epoch: <span style=\"color: #008080; text-decoration-color: #008080; font-weight: bold\">07</span> | Time: <span style=\"color: #00ff00; text-decoration-color: #00ff00; font-weight: bold\">0:00:29</span>.<span style=\"color: #008080; text-decoration-color: #008080; font-weight: bold\">151116</span>                                \n",
       "<span style=\"color: #7fbfbf; text-decoration-color: #7fbfbf\">                    </span>                 Train Loss: <span style=\"color: #008080; text-decoration-color: #008080; font-weight: bold\">1.484</span> | Train PPL:   <span style=\"color: #008080; text-decoration-color: #008080; font-weight: bold\">4.410</span>                  \n",
       "<span style=\"color: #7fbfbf; text-decoration-color: #7fbfbf\">                    </span>                  Val. Loss: <span style=\"color: #008080; text-decoration-color: #008080; font-weight: bold\">2.085</span> |  Val. PPL:   <span style=\"color: #008080; text-decoration-color: #008080; font-weight: bold\">8.046</span>                  \n",
       "</pre>\n"
      ],
      "text/plain": [
       "\u001b[2;36m[03/06/23 21:57:42]\u001b[0m\u001b[2;36m \u001b[0m\u001b[34mINFO    \u001b[0m Dolphin-\u001b[1;36m4\u001b[0m                                                       \n",
       "\u001b[2;36m                    \u001b[0m         Epoch: \u001b[1;36m07\u001b[0m | Time: \u001b[1;92m0:00:29\u001b[0m.\u001b[1;36m151116\u001b[0m                                \n",
       "\u001b[2;36m                    \u001b[0m                 Train Loss: \u001b[1;36m1.484\u001b[0m | Train PPL:   \u001b[1;36m4.410\u001b[0m                  \n",
       "\u001b[2;36m                    \u001b[0m                  Val. Loss: \u001b[1;36m2.085\u001b[0m |  Val. PPL:   \u001b[1;36m8.046\u001b[0m                  \n"
      ]
     },
     "metadata": {},
     "output_type": "display_data"
    },
    {
     "data": {
      "text/html": [
       "<pre style=\"white-space:pre;overflow-x:auto;line-height:normal;font-family:Menlo,'DejaVu Sans Mono',consolas,'Courier New',monospace\"><span style=\"color: #7fbfbf; text-decoration-color: #7fbfbf\">[03/06/23 21:57:42] </span><span style=\"color: #000080; text-decoration-color: #000080\">INFO    </span> Dolphin-<span style=\"color: #008080; text-decoration-color: #008080; font-weight: bold\">3</span>                                                       \n",
       "<span style=\"color: #7fbfbf; text-decoration-color: #7fbfbf\">                    </span>         Epoch: <span style=\"color: #008080; text-decoration-color: #008080; font-weight: bold\">07</span> | Time: <span style=\"color: #00ff00; text-decoration-color: #00ff00; font-weight: bold\">0:00:29</span>.<span style=\"color: #008080; text-decoration-color: #008080; font-weight: bold\">104355</span>                                \n",
       "<span style=\"color: #7fbfbf; text-decoration-color: #7fbfbf\">                    </span>                 Train Loss: <span style=\"color: #008080; text-decoration-color: #008080; font-weight: bold\">1.208</span> | Train PPL:   <span style=\"color: #008080; text-decoration-color: #008080; font-weight: bold\">3.345</span>                  \n",
       "<span style=\"color: #7fbfbf; text-decoration-color: #7fbfbf\">                    </span>                  Val. Loss: <span style=\"color: #008080; text-decoration-color: #008080; font-weight: bold\">2.085</span> |  Val. PPL:   <span style=\"color: #008080; text-decoration-color: #008080; font-weight: bold\">8.047</span>                  \n",
       "</pre>\n"
      ],
      "text/plain": [
       "\u001b[2;36m[03/06/23 21:57:42]\u001b[0m\u001b[2;36m \u001b[0m\u001b[34mINFO    \u001b[0m Dolphin-\u001b[1;36m3\u001b[0m                                                       \n",
       "\u001b[2;36m                    \u001b[0m         Epoch: \u001b[1;36m07\u001b[0m | Time: \u001b[1;92m0:00:29\u001b[0m.\u001b[1;36m104355\u001b[0m                                \n",
       "\u001b[2;36m                    \u001b[0m                 Train Loss: \u001b[1;36m1.208\u001b[0m | Train PPL:   \u001b[1;36m3.345\u001b[0m                  \n",
       "\u001b[2;36m                    \u001b[0m                  Val. Loss: \u001b[1;36m2.085\u001b[0m |  Val. PPL:   \u001b[1;36m8.047\u001b[0m                  \n"
      ]
     },
     "metadata": {},
     "output_type": "display_data"
    },
    {
     "data": {
      "text/html": [
       "<pre style=\"white-space:pre;overflow-x:auto;line-height:normal;font-family:Menlo,'DejaVu Sans Mono',consolas,'Courier New',monospace\"><span style=\"color: #7fbfbf; text-decoration-color: #7fbfbf\">[03/06/23 21:58:09] </span><span style=\"color: #000080; text-decoration-color: #000080\">INFO    </span> Dolphin-<span style=\"color: #008080; text-decoration-color: #008080; font-weight: bold\">2</span>                                                       \n",
       "<span style=\"color: #7fbfbf; text-decoration-color: #7fbfbf\">                    </span>         Epoch: <span style=\"color: #008080; text-decoration-color: #008080; font-weight: bold\">05</span> | Time: <span style=\"color: #00ff00; text-decoration-color: #00ff00; font-weight: bold\">0:00:44</span>.<span style=\"color: #008080; text-decoration-color: #008080; font-weight: bold\">941500</span>                                \n",
       "<span style=\"color: #7fbfbf; text-decoration-color: #7fbfbf\">                    </span>                 Train Loss: <span style=\"color: #008080; text-decoration-color: #008080; font-weight: bold\">1.665</span> | Train PPL:   <span style=\"color: #008080; text-decoration-color: #008080; font-weight: bold\">5.287</span>                  \n",
       "<span style=\"color: #7fbfbf; text-decoration-color: #7fbfbf\">                    </span>                  Val. Loss: <span style=\"color: #008080; text-decoration-color: #008080; font-weight: bold\">2.070</span> |  Val. PPL:   <span style=\"color: #008080; text-decoration-color: #008080; font-weight: bold\">7.928</span>                  \n",
       "</pre>\n"
      ],
      "text/plain": [
       "\u001b[2;36m[03/06/23 21:58:09]\u001b[0m\u001b[2;36m \u001b[0m\u001b[34mINFO    \u001b[0m Dolphin-\u001b[1;36m2\u001b[0m                                                       \n",
       "\u001b[2;36m                    \u001b[0m         Epoch: \u001b[1;36m05\u001b[0m | Time: \u001b[1;92m0:00:44\u001b[0m.\u001b[1;36m941500\u001b[0m                                \n",
       "\u001b[2;36m                    \u001b[0m                 Train Loss: \u001b[1;36m1.665\u001b[0m | Train PPL:   \u001b[1;36m5.287\u001b[0m                  \n",
       "\u001b[2;36m                    \u001b[0m                  Val. Loss: \u001b[1;36m2.070\u001b[0m |  Val. PPL:   \u001b[1;36m7.928\u001b[0m                  \n"
      ]
     },
     "metadata": {},
     "output_type": "display_data"
    },
    {
     "data": {
      "text/html": [
       "<pre style=\"white-space:pre;overflow-x:auto;line-height:normal;font-family:Menlo,'DejaVu Sans Mono',consolas,'Courier New',monospace\"><span style=\"color: #7fbfbf; text-decoration-color: #7fbfbf\">[03/06/23 21:58:09] </span><span style=\"color: #000080; text-decoration-color: #000080\">INFO    </span> Dolphin-<span style=\"color: #008080; text-decoration-color: #008080; font-weight: bold\">1</span>                                                       \n",
       "<span style=\"color: #7fbfbf; text-decoration-color: #7fbfbf\">                    </span>         Epoch: <span style=\"color: #008080; text-decoration-color: #008080; font-weight: bold\">05</span> | Time: <span style=\"color: #00ff00; text-decoration-color: #00ff00; font-weight: bold\">0:00:45</span>.<span style=\"color: #008080; text-decoration-color: #008080; font-weight: bold\">224248</span>                                \n",
       "<span style=\"color: #7fbfbf; text-decoration-color: #7fbfbf\">                    </span>                 Train Loss: <span style=\"color: #008080; text-decoration-color: #008080; font-weight: bold\">1.595</span> | Train PPL:   <span style=\"color: #008080; text-decoration-color: #008080; font-weight: bold\">4.927</span>                  \n",
       "<span style=\"color: #7fbfbf; text-decoration-color: #7fbfbf\">                    </span>                  Val. Loss: <span style=\"color: #008080; text-decoration-color: #008080; font-weight: bold\">2.135</span> |  Val. PPL:   <span style=\"color: #008080; text-decoration-color: #008080; font-weight: bold\">8.461</span>                  \n",
       "</pre>\n"
      ],
      "text/plain": [
       "\u001b[2;36m[03/06/23 21:58:09]\u001b[0m\u001b[2;36m \u001b[0m\u001b[34mINFO    \u001b[0m Dolphin-\u001b[1;36m1\u001b[0m                                                       \n",
       "\u001b[2;36m                    \u001b[0m         Epoch: \u001b[1;36m05\u001b[0m | Time: \u001b[1;92m0:00:45\u001b[0m.\u001b[1;36m224248\u001b[0m                                \n",
       "\u001b[2;36m                    \u001b[0m                 Train Loss: \u001b[1;36m1.595\u001b[0m | Train PPL:   \u001b[1;36m4.927\u001b[0m                  \n",
       "\u001b[2;36m                    \u001b[0m                  Val. Loss: \u001b[1;36m2.135\u001b[0m |  Val. PPL:   \u001b[1;36m8.461\u001b[0m                  \n"
      ]
     },
     "metadata": {},
     "output_type": "display_data"
    },
    {
     "data": {
      "text/html": [
       "<pre style=\"white-space:pre;overflow-x:auto;line-height:normal;font-family:Menlo,'DejaVu Sans Mono',consolas,'Courier New',monospace\"><span style=\"color: #7fbfbf; text-decoration-color: #7fbfbf\">[03/06/23 21:58:11] </span><span style=\"color: #000080; text-decoration-color: #000080\">INFO    </span> Dolphin-<span style=\"color: #008080; text-decoration-color: #008080; font-weight: bold\">3</span>                                                       \n",
       "<span style=\"color: #7fbfbf; text-decoration-color: #7fbfbf\">                    </span>         Epoch: <span style=\"color: #008080; text-decoration-color: #008080; font-weight: bold\">08</span> | Time: <span style=\"color: #00ff00; text-decoration-color: #00ff00; font-weight: bold\">0:00:29</span>.<span style=\"color: #008080; text-decoration-color: #008080; font-weight: bold\">476996</span>                                \n",
       "<span style=\"color: #7fbfbf; text-decoration-color: #7fbfbf\">                    </span>                 Train Loss: <span style=\"color: #008080; text-decoration-color: #008080; font-weight: bold\">1.039</span> | Train PPL:   <span style=\"color: #008080; text-decoration-color: #008080; font-weight: bold\">2.826</span>                  \n",
       "<span style=\"color: #7fbfbf; text-decoration-color: #7fbfbf\">                    </span>                  Val. Loss: <span style=\"color: #008080; text-decoration-color: #008080; font-weight: bold\">2.105</span> |  Val. PPL:   <span style=\"color: #008080; text-decoration-color: #008080; font-weight: bold\">8.209</span>                  \n",
       "</pre>\n"
      ],
      "text/plain": [
       "\u001b[2;36m[03/06/23 21:58:11]\u001b[0m\u001b[2;36m \u001b[0m\u001b[34mINFO    \u001b[0m Dolphin-\u001b[1;36m3\u001b[0m                                                       \n",
       "\u001b[2;36m                    \u001b[0m         Epoch: \u001b[1;36m08\u001b[0m | Time: \u001b[1;92m0:00:29\u001b[0m.\u001b[1;36m476996\u001b[0m                                \n",
       "\u001b[2;36m                    \u001b[0m                 Train Loss: \u001b[1;36m1.039\u001b[0m | Train PPL:   \u001b[1;36m2.826\u001b[0m                  \n",
       "\u001b[2;36m                    \u001b[0m                  Val. Loss: \u001b[1;36m2.105\u001b[0m |  Val. PPL:   \u001b[1;36m8.209\u001b[0m                  \n"
      ]
     },
     "metadata": {},
     "output_type": "display_data"
    },
    {
     "data": {
      "text/html": [
       "<pre style=\"white-space:pre;overflow-x:auto;line-height:normal;font-family:Menlo,'DejaVu Sans Mono',consolas,'Courier New',monospace\"><span style=\"color: #7fbfbf; text-decoration-color: #7fbfbf\">[03/06/23 21:58:12] </span><span style=\"color: #000080; text-decoration-color: #000080\">INFO    </span> Dolphin-<span style=\"color: #008080; text-decoration-color: #008080; font-weight: bold\">4</span>                                                       \n",
       "<span style=\"color: #7fbfbf; text-decoration-color: #7fbfbf\">                    </span>         Epoch: <span style=\"color: #008080; text-decoration-color: #008080; font-weight: bold\">08</span> | Time: <span style=\"color: #00ff00; text-decoration-color: #00ff00; font-weight: bold\">0:00:29</span>.<span style=\"color: #008080; text-decoration-color: #008080; font-weight: bold\">586256</span>                                \n",
       "<span style=\"color: #7fbfbf; text-decoration-color: #7fbfbf\">                    </span>                 Train Loss: <span style=\"color: #008080; text-decoration-color: #008080; font-weight: bold\">1.321</span> | Train PPL:   <span style=\"color: #008080; text-decoration-color: #008080; font-weight: bold\">3.749</span>                  \n",
       "<span style=\"color: #7fbfbf; text-decoration-color: #7fbfbf\">                    </span>                  Val. Loss: <span style=\"color: #008080; text-decoration-color: #008080; font-weight: bold\">2.071</span> |  Val. PPL:   <span style=\"color: #008080; text-decoration-color: #008080; font-weight: bold\">7.933</span>                  \n",
       "</pre>\n"
      ],
      "text/plain": [
       "\u001b[2;36m[03/06/23 21:58:12]\u001b[0m\u001b[2;36m \u001b[0m\u001b[34mINFO    \u001b[0m Dolphin-\u001b[1;36m4\u001b[0m                                                       \n",
       "\u001b[2;36m                    \u001b[0m         Epoch: \u001b[1;36m08\u001b[0m | Time: \u001b[1;92m0:00:29\u001b[0m.\u001b[1;36m586256\u001b[0m                                \n",
       "\u001b[2;36m                    \u001b[0m                 Train Loss: \u001b[1;36m1.321\u001b[0m | Train PPL:   \u001b[1;36m3.749\u001b[0m                  \n",
       "\u001b[2;36m                    \u001b[0m                  Val. Loss: \u001b[1;36m2.071\u001b[0m |  Val. PPL:   \u001b[1;36m7.933\u001b[0m                  \n"
      ]
     },
     "metadata": {},
     "output_type": "display_data"
    },
    {
     "data": {
      "text/html": [
       "<pre style=\"white-space:pre;overflow-x:auto;line-height:normal;font-family:Menlo,'DejaVu Sans Mono',consolas,'Courier New',monospace\"><span style=\"color: #7fbfbf; text-decoration-color: #7fbfbf\">[03/06/23 21:58:41] </span><span style=\"color: #000080; text-decoration-color: #000080\">INFO    </span> Dolphin-<span style=\"color: #008080; text-decoration-color: #008080; font-weight: bold\">3</span>                                                       \n",
       "<span style=\"color: #7fbfbf; text-decoration-color: #7fbfbf\">                    </span>         Epoch: <span style=\"color: #008080; text-decoration-color: #008080; font-weight: bold\">09</span> | Time: <span style=\"color: #00ff00; text-decoration-color: #00ff00; font-weight: bold\">0:00:29</span>.<span style=\"color: #008080; text-decoration-color: #008080; font-weight: bold\">952721</span>                                \n",
       "<span style=\"color: #7fbfbf; text-decoration-color: #7fbfbf\">                    </span>                 Train Loss: <span style=\"color: #008080; text-decoration-color: #008080; font-weight: bold\">0.901</span> | Train PPL:   <span style=\"color: #008080; text-decoration-color: #008080; font-weight: bold\">2.463</span>                  \n",
       "<span style=\"color: #7fbfbf; text-decoration-color: #7fbfbf\">                    </span>                  Val. Loss: <span style=\"color: #008080; text-decoration-color: #008080; font-weight: bold\">2.133</span> |  Val. PPL:   <span style=\"color: #008080; text-decoration-color: #008080; font-weight: bold\">8.438</span>                  \n",
       "</pre>\n"
      ],
      "text/plain": [
       "\u001b[2;36m[03/06/23 21:58:41]\u001b[0m\u001b[2;36m \u001b[0m\u001b[34mINFO    \u001b[0m Dolphin-\u001b[1;36m3\u001b[0m                                                       \n",
       "\u001b[2;36m                    \u001b[0m         Epoch: \u001b[1;36m09\u001b[0m | Time: \u001b[1;92m0:00:29\u001b[0m.\u001b[1;36m952721\u001b[0m                                \n",
       "\u001b[2;36m                    \u001b[0m                 Train Loss: \u001b[1;36m0.901\u001b[0m | Train PPL:   \u001b[1;36m2.463\u001b[0m                  \n",
       "\u001b[2;36m                    \u001b[0m                  Val. Loss: \u001b[1;36m2.133\u001b[0m |  Val. PPL:   \u001b[1;36m8.438\u001b[0m                  \n"
      ]
     },
     "metadata": {},
     "output_type": "display_data"
    },
    {
     "data": {
      "text/html": [
       "<pre style=\"white-space:pre;overflow-x:auto;line-height:normal;font-family:Menlo,'DejaVu Sans Mono',consolas,'Courier New',monospace\"><span style=\"color: #7fbfbf; text-decoration-color: #7fbfbf\">[03/06/23 21:58:42] </span><span style=\"color: #000080; text-decoration-color: #000080\">INFO    </span> Dolphin-<span style=\"color: #008080; text-decoration-color: #008080; font-weight: bold\">4</span>                                                       \n",
       "<span style=\"color: #7fbfbf; text-decoration-color: #7fbfbf\">                    </span>         Epoch: <span style=\"color: #008080; text-decoration-color: #008080; font-weight: bold\">09</span> | Time: <span style=\"color: #00ff00; text-decoration-color: #00ff00; font-weight: bold\">0:00:30</span>.<span style=\"color: #008080; text-decoration-color: #008080; font-weight: bold\">504184</span>                                \n",
       "<span style=\"color: #7fbfbf; text-decoration-color: #7fbfbf\">                    </span>                 Train Loss: <span style=\"color: #008080; text-decoration-color: #008080; font-weight: bold\">1.180</span> | Train PPL:   <span style=\"color: #008080; text-decoration-color: #008080; font-weight: bold\">3.255</span>                  \n",
       "<span style=\"color: #7fbfbf; text-decoration-color: #7fbfbf\">                    </span>                  Val. Loss: <span style=\"color: #008080; text-decoration-color: #008080; font-weight: bold\">2.072</span> |  Val. PPL:   <span style=\"color: #008080; text-decoration-color: #008080; font-weight: bold\">7.939</span>                  \n",
       "</pre>\n"
      ],
      "text/plain": [
       "\u001b[2;36m[03/06/23 21:58:42]\u001b[0m\u001b[2;36m \u001b[0m\u001b[34mINFO    \u001b[0m Dolphin-\u001b[1;36m4\u001b[0m                                                       \n",
       "\u001b[2;36m                    \u001b[0m         Epoch: \u001b[1;36m09\u001b[0m | Time: \u001b[1;92m0:00:30\u001b[0m.\u001b[1;36m504184\u001b[0m                                \n",
       "\u001b[2;36m                    \u001b[0m                 Train Loss: \u001b[1;36m1.180\u001b[0m | Train PPL:   \u001b[1;36m3.255\u001b[0m                  \n",
       "\u001b[2;36m                    \u001b[0m                  Val. Loss: \u001b[1;36m2.072\u001b[0m |  Val. PPL:   \u001b[1;36m7.939\u001b[0m                  \n"
      ]
     },
     "metadata": {},
     "output_type": "display_data"
    },
    {
     "data": {
      "text/html": [
       "<pre style=\"white-space:pre;overflow-x:auto;line-height:normal;font-family:Menlo,'DejaVu Sans Mono',consolas,'Courier New',monospace\"><span style=\"color: #7fbfbf; text-decoration-color: #7fbfbf\">[03/06/23 21:58:57] </span><span style=\"color: #000080; text-decoration-color: #000080\">INFO    </span> Dolphin-<span style=\"color: #008080; text-decoration-color: #008080; font-weight: bold\">2</span>                                                       \n",
       "<span style=\"color: #7fbfbf; text-decoration-color: #7fbfbf\">                    </span>         Epoch: <span style=\"color: #008080; text-decoration-color: #008080; font-weight: bold\">06</span> | Time: <span style=\"color: #00ff00; text-decoration-color: #00ff00; font-weight: bold\">0:00:47</span>.<span style=\"color: #008080; text-decoration-color: #008080; font-weight: bold\">461772</span>                                \n",
       "<span style=\"color: #7fbfbf; text-decoration-color: #7fbfbf\">                    </span>                 Train Loss: <span style=\"color: #008080; text-decoration-color: #008080; font-weight: bold\">1.446</span> | Train PPL:   <span style=\"color: #008080; text-decoration-color: #008080; font-weight: bold\">4.245</span>                  \n",
       "<span style=\"color: #7fbfbf; text-decoration-color: #7fbfbf\">                    </span>                  Val. Loss: <span style=\"color: #008080; text-decoration-color: #008080; font-weight: bold\">2.031</span> |  Val. PPL:   <span style=\"color: #008080; text-decoration-color: #008080; font-weight: bold\">7.624</span>                  \n",
       "</pre>\n"
      ],
      "text/plain": [
       "\u001b[2;36m[03/06/23 21:58:57]\u001b[0m\u001b[2;36m \u001b[0m\u001b[34mINFO    \u001b[0m Dolphin-\u001b[1;36m2\u001b[0m                                                       \n",
       "\u001b[2;36m                    \u001b[0m         Epoch: \u001b[1;36m06\u001b[0m | Time: \u001b[1;92m0:00:47\u001b[0m.\u001b[1;36m461772\u001b[0m                                \n",
       "\u001b[2;36m                    \u001b[0m                 Train Loss: \u001b[1;36m1.446\u001b[0m | Train PPL:   \u001b[1;36m4.245\u001b[0m                  \n",
       "\u001b[2;36m                    \u001b[0m                  Val. Loss: \u001b[1;36m2.031\u001b[0m |  Val. PPL:   \u001b[1;36m7.624\u001b[0m                  \n"
      ]
     },
     "metadata": {},
     "output_type": "display_data"
    },
    {
     "data": {
      "text/html": [
       "<pre style=\"white-space:pre;overflow-x:auto;line-height:normal;font-family:Menlo,'DejaVu Sans Mono',consolas,'Courier New',monospace\"><span style=\"color: #7fbfbf; text-decoration-color: #7fbfbf\">[03/06/23 21:58:57] </span><span style=\"color: #000080; text-decoration-color: #000080\">INFO    </span> Dolphin-<span style=\"color: #008080; text-decoration-color: #008080; font-weight: bold\">1</span>                                                       \n",
       "<span style=\"color: #7fbfbf; text-decoration-color: #7fbfbf\">                    </span>         Epoch: <span style=\"color: #008080; text-decoration-color: #008080; font-weight: bold\">06</span> | Time: <span style=\"color: #00ff00; text-decoration-color: #00ff00; font-weight: bold\">0:00:47</span>.<span style=\"color: #008080; text-decoration-color: #008080; font-weight: bold\">507566</span>                                \n",
       "<span style=\"color: #7fbfbf; text-decoration-color: #7fbfbf\">                    </span>                 Train Loss: <span style=\"color: #008080; text-decoration-color: #008080; font-weight: bold\">1.363</span> | Train PPL:   <span style=\"color: #008080; text-decoration-color: #008080; font-weight: bold\">3.908</span>                  \n",
       "<span style=\"color: #7fbfbf; text-decoration-color: #7fbfbf\">                    </span>                  Val. Loss: <span style=\"color: #008080; text-decoration-color: #008080; font-weight: bold\">2.121</span> |  Val. PPL:   <span style=\"color: #008080; text-decoration-color: #008080; font-weight: bold\">8.339</span>                  \n",
       "</pre>\n"
      ],
      "text/plain": [
       "\u001b[2;36m[03/06/23 21:58:57]\u001b[0m\u001b[2;36m \u001b[0m\u001b[34mINFO    \u001b[0m Dolphin-\u001b[1;36m1\u001b[0m                                                       \n",
       "\u001b[2;36m                    \u001b[0m         Epoch: \u001b[1;36m06\u001b[0m | Time: \u001b[1;92m0:00:47\u001b[0m.\u001b[1;36m507566\u001b[0m                                \n",
       "\u001b[2;36m                    \u001b[0m                 Train Loss: \u001b[1;36m1.363\u001b[0m | Train PPL:   \u001b[1;36m3.908\u001b[0m                  \n",
       "\u001b[2;36m                    \u001b[0m                  Val. Loss: \u001b[1;36m2.121\u001b[0m |  Val. PPL:   \u001b[1;36m8.339\u001b[0m                  \n"
      ]
     },
     "metadata": {},
     "output_type": "display_data"
    },
    {
     "data": {
      "text/html": [
       "<pre style=\"white-space:pre;overflow-x:auto;line-height:normal;font-family:Menlo,'DejaVu Sans Mono',consolas,'Courier New',monospace\"><span style=\"color: #7fbfbf; text-decoration-color: #7fbfbf\">[03/06/23 21:59:11] </span><span style=\"color: #000080; text-decoration-color: #000080\">INFO    </span> Dolphin-<span style=\"color: #008080; text-decoration-color: #008080; font-weight: bold\">3</span>                                                       \n",
       "<span style=\"color: #7fbfbf; text-decoration-color: #7fbfbf\">                    </span>         Epoch: <span style=\"color: #008080; text-decoration-color: #008080; font-weight: bold\">10</span> | Time: <span style=\"color: #00ff00; text-decoration-color: #00ff00; font-weight: bold\">0:00:29</span>.<span style=\"color: #008080; text-decoration-color: #008080; font-weight: bold\">847000</span>                                \n",
       "<span style=\"color: #7fbfbf; text-decoration-color: #7fbfbf\">                    </span>                 Train Loss: <span style=\"color: #008080; text-decoration-color: #008080; font-weight: bold\">0.789</span> | Train PPL:   <span style=\"color: #008080; text-decoration-color: #008080; font-weight: bold\">2.202</span>                  \n",
       "<span style=\"color: #7fbfbf; text-decoration-color: #7fbfbf\">                    </span>                  Val. Loss: <span style=\"color: #008080; text-decoration-color: #008080; font-weight: bold\">2.170</span> |  Val. PPL:   <span style=\"color: #008080; text-decoration-color: #008080; font-weight: bold\">8.760</span>                  \n",
       "</pre>\n"
      ],
      "text/plain": [
       "\u001b[2;36m[03/06/23 21:59:11]\u001b[0m\u001b[2;36m \u001b[0m\u001b[34mINFO    \u001b[0m Dolphin-\u001b[1;36m3\u001b[0m                                                       \n",
       "\u001b[2;36m                    \u001b[0m         Epoch: \u001b[1;36m10\u001b[0m | Time: \u001b[1;92m0:00:29\u001b[0m.\u001b[1;36m847000\u001b[0m                                \n",
       "\u001b[2;36m                    \u001b[0m                 Train Loss: \u001b[1;36m0.789\u001b[0m | Train PPL:   \u001b[1;36m2.202\u001b[0m                  \n",
       "\u001b[2;36m                    \u001b[0m                  Val. Loss: \u001b[1;36m2.170\u001b[0m |  Val. PPL:   \u001b[1;36m8.760\u001b[0m                  \n"
      ]
     },
     "metadata": {},
     "output_type": "display_data"
    },
    {
     "data": {
      "text/html": [
       "<pre style=\"white-space:pre;overflow-x:auto;line-height:normal;font-family:Menlo,'DejaVu Sans Mono',consolas,'Courier New',monospace\"><span style=\"color: #7fbfbf; text-decoration-color: #7fbfbf\">[03/06/23 21:59:11] </span><span style=\"color: #000080; text-decoration-color: #000080\">INFO    </span> Dolphin-<span style=\"color: #008080; text-decoration-color: #008080; font-weight: bold\">3</span>    Finished task <span style=\"color: #008000; text-decoration-color: #008000\">\"Training-4\"</span> <span style=\"font-weight: bold\">[</span><span style=\"color: #008080; text-decoration-color: #008080; font-weight: bold\">4</span>/<span style=\"color: #008080; text-decoration-color: #008080; font-weight: bold\">9</span> - <span style=\"color: #008080; text-decoration-color: #008080; font-weight: bold\">44</span>%<span style=\"font-weight: bold\">]</span>             \n",
       "</pre>\n"
      ],
      "text/plain": [
       "\u001b[2;36m[03/06/23 21:59:11]\u001b[0m\u001b[2;36m \u001b[0m\u001b[34mINFO    \u001b[0m Dolphin-\u001b[1;36m3\u001b[0m    Finished task \u001b[32m\"Training-4\"\u001b[0m \u001b[1m[\u001b[0m\u001b[1;36m4\u001b[0m/\u001b[1;36m9\u001b[0m - \u001b[1;36m44\u001b[0m%\u001b[1m]\u001b[0m             \n"
      ]
     },
     "metadata": {},
     "output_type": "display_data"
    },
    {
     "data": {
      "text/html": [
       "<pre style=\"white-space:pre;overflow-x:auto;line-height:normal;font-family:Menlo,'DejaVu Sans Mono',consolas,'Courier New',monospace\"><span style=\"color: #7fbfbf; text-decoration-color: #7fbfbf\">[03/06/23 21:59:12] </span><span style=\"color: #000080; text-decoration-color: #000080\">INFO    </span> Dolphin-<span style=\"color: #008080; text-decoration-color: #008080; font-weight: bold\">4</span>                                                       \n",
       "<span style=\"color: #7fbfbf; text-decoration-color: #7fbfbf\">                    </span>         Epoch: <span style=\"color: #008080; text-decoration-color: #008080; font-weight: bold\">10</span> | Time: <span style=\"color: #00ff00; text-decoration-color: #00ff00; font-weight: bold\">0:00:29</span>.<span style=\"color: #008080; text-decoration-color: #008080; font-weight: bold\">554583</span>                                \n",
       "<span style=\"color: #7fbfbf; text-decoration-color: #7fbfbf\">                    </span>                 Train Loss: <span style=\"color: #008080; text-decoration-color: #008080; font-weight: bold\">1.054</span> | Train PPL:   <span style=\"color: #008080; text-decoration-color: #008080; font-weight: bold\">2.868</span>                  \n",
       "<span style=\"color: #7fbfbf; text-decoration-color: #7fbfbf\">                    </span>                  Val. Loss: <span style=\"color: #008080; text-decoration-color: #008080; font-weight: bold\">2.074</span> |  Val. PPL:   <span style=\"color: #008080; text-decoration-color: #008080; font-weight: bold\">7.957</span>                  \n",
       "</pre>\n"
      ],
      "text/plain": [
       "\u001b[2;36m[03/06/23 21:59:12]\u001b[0m\u001b[2;36m \u001b[0m\u001b[34mINFO    \u001b[0m Dolphin-\u001b[1;36m4\u001b[0m                                                       \n",
       "\u001b[2;36m                    \u001b[0m         Epoch: \u001b[1;36m10\u001b[0m | Time: \u001b[1;92m0:00:29\u001b[0m.\u001b[1;36m554583\u001b[0m                                \n",
       "\u001b[2;36m                    \u001b[0m                 Train Loss: \u001b[1;36m1.054\u001b[0m | Train PPL:   \u001b[1;36m2.868\u001b[0m                  \n",
       "\u001b[2;36m                    \u001b[0m                  Val. Loss: \u001b[1;36m2.074\u001b[0m |  Val. PPL:   \u001b[1;36m7.957\u001b[0m                  \n"
      ]
     },
     "metadata": {},
     "output_type": "display_data"
    },
    {
     "data": {
      "text/html": [
       "<pre style=\"white-space:pre;overflow-x:auto;line-height:normal;font-family:Menlo,'DejaVu Sans Mono',consolas,'Courier New',monospace\"><span style=\"color: #7fbfbf; text-decoration-color: #7fbfbf\">[03/06/23 21:59:12] </span><span style=\"color: #000080; text-decoration-color: #000080\">INFO    </span> Dolphin-<span style=\"color: #008080; text-decoration-color: #008080; font-weight: bold\">4</span>    Finished task <span style=\"color: #008000; text-decoration-color: #008000\">\"Training-2\"</span> <span style=\"font-weight: bold\">[</span><span style=\"color: #008080; text-decoration-color: #008080; font-weight: bold\">5</span>/<span style=\"color: #008080; text-decoration-color: #008080; font-weight: bold\">9</span> - <span style=\"color: #008080; text-decoration-color: #008080; font-weight: bold\">56</span>%<span style=\"font-weight: bold\">]</span>             \n",
       "</pre>\n"
      ],
      "text/plain": [
       "\u001b[2;36m[03/06/23 21:59:12]\u001b[0m\u001b[2;36m \u001b[0m\u001b[34mINFO    \u001b[0m Dolphin-\u001b[1;36m4\u001b[0m    Finished task \u001b[32m\"Training-2\"\u001b[0m \u001b[1m[\u001b[0m\u001b[1;36m5\u001b[0m/\u001b[1;36m9\u001b[0m - \u001b[1;36m56\u001b[0m%\u001b[1m]\u001b[0m             \n"
      ]
     },
     "metadata": {},
     "output_type": "display_data"
    },
    {
     "data": {
      "text/html": [
       "<pre style=\"white-space:pre;overflow-x:auto;line-height:normal;font-family:Menlo,'DejaVu Sans Mono',consolas,'Courier New',monospace\"><span style=\"color: #7fbfbf; text-decoration-color: #7fbfbf\">[03/06/23 21:59:29] </span><span style=\"color: #000080; text-decoration-color: #000080\">INFO    </span> Dolphin-<span style=\"color: #008080; text-decoration-color: #008080; font-weight: bold\">2</span>                                                       \n",
       "<span style=\"color: #7fbfbf; text-decoration-color: #7fbfbf\">                    </span>         Epoch: <span style=\"color: #008080; text-decoration-color: #008080; font-weight: bold\">07</span> | Time: <span style=\"color: #00ff00; text-decoration-color: #00ff00; font-weight: bold\">0:00:31</span>.<span style=\"color: #008080; text-decoration-color: #008080; font-weight: bold\">909932</span>                                \n",
       "<span style=\"color: #7fbfbf; text-decoration-color: #7fbfbf\">                    </span>                 Train Loss: <span style=\"color: #008080; text-decoration-color: #008080; font-weight: bold\">1.259</span> | Train PPL:   <span style=\"color: #008080; text-decoration-color: #008080; font-weight: bold\">3.520</span>                  \n",
       "<span style=\"color: #7fbfbf; text-decoration-color: #7fbfbf\">                    </span>                  Val. Loss: <span style=\"color: #008080; text-decoration-color: #008080; font-weight: bold\">2.026</span> |  Val. PPL:   <span style=\"color: #008080; text-decoration-color: #008080; font-weight: bold\">7.580</span>                  \n",
       "</pre>\n"
      ],
      "text/plain": [
       "\u001b[2;36m[03/06/23 21:59:29]\u001b[0m\u001b[2;36m \u001b[0m\u001b[34mINFO    \u001b[0m Dolphin-\u001b[1;36m2\u001b[0m                                                       \n",
       "\u001b[2;36m                    \u001b[0m         Epoch: \u001b[1;36m07\u001b[0m | Time: \u001b[1;92m0:00:31\u001b[0m.\u001b[1;36m909932\u001b[0m                                \n",
       "\u001b[2;36m                    \u001b[0m                 Train Loss: \u001b[1;36m1.259\u001b[0m | Train PPL:   \u001b[1;36m3.520\u001b[0m                  \n",
       "\u001b[2;36m                    \u001b[0m                  Val. Loss: \u001b[1;36m2.026\u001b[0m |  Val. PPL:   \u001b[1;36m7.580\u001b[0m                  \n"
      ]
     },
     "metadata": {},
     "output_type": "display_data"
    },
    {
     "data": {
      "text/html": [
       "<pre style=\"white-space:pre;overflow-x:auto;line-height:normal;font-family:Menlo,'DejaVu Sans Mono',consolas,'Courier New',monospace\"><span style=\"color: #7fbfbf; text-decoration-color: #7fbfbf\">[03/06/23 21:59:29] </span><span style=\"color: #000080; text-decoration-color: #000080\">INFO    </span> Dolphin-<span style=\"color: #008080; text-decoration-color: #008080; font-weight: bold\">1</span>                                                       \n",
       "<span style=\"color: #7fbfbf; text-decoration-color: #7fbfbf\">                    </span>         Epoch: <span style=\"color: #008080; text-decoration-color: #008080; font-weight: bold\">07</span> | Time: <span style=\"color: #00ff00; text-decoration-color: #00ff00; font-weight: bold\">0:00:31</span>.<span style=\"color: #008080; text-decoration-color: #008080; font-weight: bold\">948271</span>                                \n",
       "<span style=\"color: #7fbfbf; text-decoration-color: #7fbfbf\">                    </span>                 Train Loss: <span style=\"color: #008080; text-decoration-color: #008080; font-weight: bold\">1.175</span> | Train PPL:   <span style=\"color: #008080; text-decoration-color: #008080; font-weight: bold\">3.239</span>                  \n",
       "<span style=\"color: #7fbfbf; text-decoration-color: #7fbfbf\">                    </span>                  Val. Loss: <span style=\"color: #008080; text-decoration-color: #008080; font-weight: bold\">2.156</span> |  Val. PPL:   <span style=\"color: #008080; text-decoration-color: #008080; font-weight: bold\">8.633</span>                  \n",
       "</pre>\n"
      ],
      "text/plain": [
       "\u001b[2;36m[03/06/23 21:59:29]\u001b[0m\u001b[2;36m \u001b[0m\u001b[34mINFO    \u001b[0m Dolphin-\u001b[1;36m1\u001b[0m                                                       \n",
       "\u001b[2;36m                    \u001b[0m         Epoch: \u001b[1;36m07\u001b[0m | Time: \u001b[1;92m0:00:31\u001b[0m.\u001b[1;36m948271\u001b[0m                                \n",
       "\u001b[2;36m                    \u001b[0m                 Train Loss: \u001b[1;36m1.175\u001b[0m | Train PPL:   \u001b[1;36m3.239\u001b[0m                  \n",
       "\u001b[2;36m                    \u001b[0m                  Val. Loss: \u001b[1;36m2.156\u001b[0m |  Val. PPL:   \u001b[1;36m8.633\u001b[0m                  \n"
      ]
     },
     "metadata": {},
     "output_type": "display_data"
    },
    {
     "data": {
      "text/html": [
       "<pre style=\"white-space:pre;overflow-x:auto;line-height:normal;font-family:Menlo,'DejaVu Sans Mono',consolas,'Courier New',monospace\"><span style=\"color: #7fbfbf; text-decoration-color: #7fbfbf\">[03/06/23 21:59:53] </span><span style=\"color: #000080; text-decoration-color: #000080\">INFO    </span> Dolphin-<span style=\"color: #008080; text-decoration-color: #008080; font-weight: bold\">2</span>                                                       \n",
       "<span style=\"color: #7fbfbf; text-decoration-color: #7fbfbf\">                    </span>         Epoch: <span style=\"color: #008080; text-decoration-color: #008080; font-weight: bold\">08</span> | Time: <span style=\"color: #00ff00; text-decoration-color: #00ff00; font-weight: bold\">0:00:24</span>.<span style=\"color: #008080; text-decoration-color: #008080; font-weight: bold\">925778</span>                                \n",
       "<span style=\"color: #7fbfbf; text-decoration-color: #7fbfbf\">                    </span>                 Train Loss: <span style=\"color: #008080; text-decoration-color: #008080; font-weight: bold\">1.100</span> | Train PPL:   <span style=\"color: #008080; text-decoration-color: #008080; font-weight: bold\">3.005</span>                  \n",
       "<span style=\"color: #7fbfbf; text-decoration-color: #7fbfbf\">                    </span>                  Val. Loss: <span style=\"color: #008080; text-decoration-color: #008080; font-weight: bold\">2.055</span> |  Val. PPL:   <span style=\"color: #008080; text-decoration-color: #008080; font-weight: bold\">7.805</span>                  \n",
       "</pre>\n"
      ],
      "text/plain": [
       "\u001b[2;36m[03/06/23 21:59:53]\u001b[0m\u001b[2;36m \u001b[0m\u001b[34mINFO    \u001b[0m Dolphin-\u001b[1;36m2\u001b[0m                                                       \n",
       "\u001b[2;36m                    \u001b[0m         Epoch: \u001b[1;36m08\u001b[0m | Time: \u001b[1;92m0:00:24\u001b[0m.\u001b[1;36m925778\u001b[0m                                \n",
       "\u001b[2;36m                    \u001b[0m                 Train Loss: \u001b[1;36m1.100\u001b[0m | Train PPL:   \u001b[1;36m3.005\u001b[0m                  \n",
       "\u001b[2;36m                    \u001b[0m                  Val. Loss: \u001b[1;36m2.055\u001b[0m |  Val. PPL:   \u001b[1;36m7.805\u001b[0m                  \n"
      ]
     },
     "metadata": {},
     "output_type": "display_data"
    },
    {
     "data": {
      "text/html": [
       "<pre style=\"white-space:pre;overflow-x:auto;line-height:normal;font-family:Menlo,'DejaVu Sans Mono',consolas,'Courier New',monospace\"><span style=\"color: #7fbfbf; text-decoration-color: #7fbfbf\">[03/06/23 21:59:54] </span><span style=\"color: #000080; text-decoration-color: #000080\">INFO    </span> Dolphin-<span style=\"color: #008080; text-decoration-color: #008080; font-weight: bold\">1</span>                                                       \n",
       "<span style=\"color: #7fbfbf; text-decoration-color: #7fbfbf\">                    </span>         Epoch: <span style=\"color: #008080; text-decoration-color: #008080; font-weight: bold\">08</span> | Time: <span style=\"color: #00ff00; text-decoration-color: #00ff00; font-weight: bold\">0:00:25</span>.<span style=\"color: #008080; text-decoration-color: #008080; font-weight: bold\">254075</span>                                \n",
       "<span style=\"color: #7fbfbf; text-decoration-color: #7fbfbf\">                    </span>                 Train Loss: <span style=\"color: #008080; text-decoration-color: #008080; font-weight: bold\">1.032</span> | Train PPL:   <span style=\"color: #008080; text-decoration-color: #008080; font-weight: bold\">2.808</span>                  \n",
       "<span style=\"color: #7fbfbf; text-decoration-color: #7fbfbf\">                    </span>                  Val. Loss: <span style=\"color: #008080; text-decoration-color: #008080; font-weight: bold\">2.188</span> |  Val. PPL:   <span style=\"color: #008080; text-decoration-color: #008080; font-weight: bold\">8.916</span>                  \n",
       "</pre>\n"
      ],
      "text/plain": [
       "\u001b[2;36m[03/06/23 21:59:54]\u001b[0m\u001b[2;36m \u001b[0m\u001b[34mINFO    \u001b[0m Dolphin-\u001b[1;36m1\u001b[0m                                                       \n",
       "\u001b[2;36m                    \u001b[0m         Epoch: \u001b[1;36m08\u001b[0m | Time: \u001b[1;92m0:00:25\u001b[0m.\u001b[1;36m254075\u001b[0m                                \n",
       "\u001b[2;36m                    \u001b[0m                 Train Loss: \u001b[1;36m1.032\u001b[0m | Train PPL:   \u001b[1;36m2.808\u001b[0m                  \n",
       "\u001b[2;36m                    \u001b[0m                  Val. Loss: \u001b[1;36m2.188\u001b[0m |  Val. PPL:   \u001b[1;36m8.916\u001b[0m                  \n"
      ]
     },
     "metadata": {},
     "output_type": "display_data"
    },
    {
     "data": {
      "text/html": [
       "<pre style=\"white-space:pre;overflow-x:auto;line-height:normal;font-family:Menlo,'DejaVu Sans Mono',consolas,'Courier New',monospace\"><span style=\"color: #7fbfbf; text-decoration-color: #7fbfbf\">[03/06/23 22:00:18] </span><span style=\"color: #000080; text-decoration-color: #000080\">INFO    </span> Dolphin-<span style=\"color: #008080; text-decoration-color: #008080; font-weight: bold\">2</span>                                                       \n",
       "<span style=\"color: #7fbfbf; text-decoration-color: #7fbfbf\">                    </span>         Epoch: <span style=\"color: #008080; text-decoration-color: #008080; font-weight: bold\">09</span> | Time: <span style=\"color: #00ff00; text-decoration-color: #00ff00; font-weight: bold\">0:00:24</span>.<span style=\"color: #008080; text-decoration-color: #008080; font-weight: bold\">926091</span>                                \n",
       "<span style=\"color: #7fbfbf; text-decoration-color: #7fbfbf\">                    </span>                 Train Loss: <span style=\"color: #008080; text-decoration-color: #008080; font-weight: bold\">0.965</span> | Train PPL:   <span style=\"color: #008080; text-decoration-color: #008080; font-weight: bold\">2.624</span>                  \n",
       "<span style=\"color: #7fbfbf; text-decoration-color: #7fbfbf\">                    </span>                  Val. Loss: <span style=\"color: #008080; text-decoration-color: #008080; font-weight: bold\">2.075</span> |  Val. PPL:   <span style=\"color: #008080; text-decoration-color: #008080; font-weight: bold\">7.963</span>                  \n",
       "</pre>\n"
      ],
      "text/plain": [
       "\u001b[2;36m[03/06/23 22:00:18]\u001b[0m\u001b[2;36m \u001b[0m\u001b[34mINFO    \u001b[0m Dolphin-\u001b[1;36m2\u001b[0m                                                       \n",
       "\u001b[2;36m                    \u001b[0m         Epoch: \u001b[1;36m09\u001b[0m | Time: \u001b[1;92m0:00:24\u001b[0m.\u001b[1;36m926091\u001b[0m                                \n",
       "\u001b[2;36m                    \u001b[0m                 Train Loss: \u001b[1;36m0.965\u001b[0m | Train PPL:   \u001b[1;36m2.624\u001b[0m                  \n",
       "\u001b[2;36m                    \u001b[0m                  Val. Loss: \u001b[1;36m2.075\u001b[0m |  Val. PPL:   \u001b[1;36m7.963\u001b[0m                  \n"
      ]
     },
     "metadata": {},
     "output_type": "display_data"
    },
    {
     "data": {
      "text/html": [
       "<pre style=\"white-space:pre;overflow-x:auto;line-height:normal;font-family:Menlo,'DejaVu Sans Mono',consolas,'Courier New',monospace\"><span style=\"color: #7fbfbf; text-decoration-color: #7fbfbf\">[03/06/23 22:00:19] </span><span style=\"color: #000080; text-decoration-color: #000080\">INFO    </span> Dolphin-<span style=\"color: #008080; text-decoration-color: #008080; font-weight: bold\">1</span>                                                       \n",
       "<span style=\"color: #7fbfbf; text-decoration-color: #7fbfbf\">                    </span>         Epoch: <span style=\"color: #008080; text-decoration-color: #008080; font-weight: bold\">09</span> | Time: <span style=\"color: #00ff00; text-decoration-color: #00ff00; font-weight: bold\">0:00:24</span>.<span style=\"color: #008080; text-decoration-color: #008080; font-weight: bold\">923251</span>                                \n",
       "<span style=\"color: #7fbfbf; text-decoration-color: #7fbfbf\">                    </span>                 Train Loss: <span style=\"color: #008080; text-decoration-color: #008080; font-weight: bold\">0.914</span> | Train PPL:   <span style=\"color: #008080; text-decoration-color: #008080; font-weight: bold\">2.494</span>                  \n",
       "<span style=\"color: #7fbfbf; text-decoration-color: #7fbfbf\">                    </span>                  Val. Loss: <span style=\"color: #008080; text-decoration-color: #008080; font-weight: bold\">2.238</span> |  Val. PPL:   <span style=\"color: #008080; text-decoration-color: #008080; font-weight: bold\">9.373</span>                  \n",
       "</pre>\n"
      ],
      "text/plain": [
       "\u001b[2;36m[03/06/23 22:00:19]\u001b[0m\u001b[2;36m \u001b[0m\u001b[34mINFO    \u001b[0m Dolphin-\u001b[1;36m1\u001b[0m                                                       \n",
       "\u001b[2;36m                    \u001b[0m         Epoch: \u001b[1;36m09\u001b[0m | Time: \u001b[1;92m0:00:24\u001b[0m.\u001b[1;36m923251\u001b[0m                                \n",
       "\u001b[2;36m                    \u001b[0m                 Train Loss: \u001b[1;36m0.914\u001b[0m | Train PPL:   \u001b[1;36m2.494\u001b[0m                  \n",
       "\u001b[2;36m                    \u001b[0m                  Val. Loss: \u001b[1;36m2.238\u001b[0m |  Val. PPL:   \u001b[1;36m9.373\u001b[0m                  \n"
      ]
     },
     "metadata": {},
     "output_type": "display_data"
    },
    {
     "data": {
      "text/html": [
       "<pre style=\"white-space:pre;overflow-x:auto;line-height:normal;font-family:Menlo,'DejaVu Sans Mono',consolas,'Courier New',monospace\"><span style=\"color: #7fbfbf; text-decoration-color: #7fbfbf\">[03/06/23 22:00:43] </span><span style=\"color: #000080; text-decoration-color: #000080\">INFO    </span> Dolphin-<span style=\"color: #008080; text-decoration-color: #008080; font-weight: bold\">2</span>                                                       \n",
       "<span style=\"color: #7fbfbf; text-decoration-color: #7fbfbf\">                    </span>         Epoch: <span style=\"color: #008080; text-decoration-color: #008080; font-weight: bold\">10</span> | Time: <span style=\"color: #00ff00; text-decoration-color: #00ff00; font-weight: bold\">0:00:24</span>.<span style=\"color: #008080; text-decoration-color: #008080; font-weight: bold\">633989</span>                                \n",
       "<span style=\"color: #7fbfbf; text-decoration-color: #7fbfbf\">                    </span>                 Train Loss: <span style=\"color: #008080; text-decoration-color: #008080; font-weight: bold\">0.847</span> | Train PPL:   <span style=\"color: #008080; text-decoration-color: #008080; font-weight: bold\">2.332</span>                  \n",
       "<span style=\"color: #7fbfbf; text-decoration-color: #7fbfbf\">                    </span>                  Val. Loss: <span style=\"color: #008080; text-decoration-color: #008080; font-weight: bold\">2.094</span> |  Val. PPL:   <span style=\"color: #008080; text-decoration-color: #008080; font-weight: bold\">8.115</span>                  \n",
       "</pre>\n"
      ],
      "text/plain": [
       "\u001b[2;36m[03/06/23 22:00:43]\u001b[0m\u001b[2;36m \u001b[0m\u001b[34mINFO    \u001b[0m Dolphin-\u001b[1;36m2\u001b[0m                                                       \n",
       "\u001b[2;36m                    \u001b[0m         Epoch: \u001b[1;36m10\u001b[0m | Time: \u001b[1;92m0:00:24\u001b[0m.\u001b[1;36m633989\u001b[0m                                \n",
       "\u001b[2;36m                    \u001b[0m                 Train Loss: \u001b[1;36m0.847\u001b[0m | Train PPL:   \u001b[1;36m2.332\u001b[0m                  \n",
       "\u001b[2;36m                    \u001b[0m                  Val. Loss: \u001b[1;36m2.094\u001b[0m |  Val. PPL:   \u001b[1;36m8.115\u001b[0m                  \n"
      ]
     },
     "metadata": {},
     "output_type": "display_data"
    },
    {
     "data": {
      "text/html": [
       "<pre style=\"white-space:pre;overflow-x:auto;line-height:normal;font-family:Menlo,'DejaVu Sans Mono',consolas,'Courier New',monospace\"><span style=\"color: #7fbfbf; text-decoration-color: #7fbfbf\">[03/06/23 22:00:43] </span><span style=\"color: #000080; text-decoration-color: #000080\">INFO    </span> Dolphin-<span style=\"color: #008080; text-decoration-color: #008080; font-weight: bold\">2</span>    Finished task <span style=\"color: #008000; text-decoration-color: #008000\">\"Training-1\"</span> <span style=\"font-weight: bold\">[</span><span style=\"color: #008080; text-decoration-color: #008080; font-weight: bold\">6</span>/<span style=\"color: #008080; text-decoration-color: #008080; font-weight: bold\">9</span> - <span style=\"color: #008080; text-decoration-color: #008080; font-weight: bold\">67</span>%<span style=\"font-weight: bold\">]</span>             \n",
       "</pre>\n"
      ],
      "text/plain": [
       "\u001b[2;36m[03/06/23 22:00:43]\u001b[0m\u001b[2;36m \u001b[0m\u001b[34mINFO    \u001b[0m Dolphin-\u001b[1;36m2\u001b[0m    Finished task \u001b[32m\"Training-1\"\u001b[0m \u001b[1m[\u001b[0m\u001b[1;36m6\u001b[0m/\u001b[1;36m9\u001b[0m - \u001b[1;36m67\u001b[0m%\u001b[1m]\u001b[0m             \n"
      ]
     },
     "metadata": {},
     "output_type": "display_data"
    },
    {
     "data": {
      "text/html": [
       "<pre style=\"white-space:pre;overflow-x:auto;line-height:normal;font-family:Menlo,'DejaVu Sans Mono',consolas,'Courier New',monospace\"><span style=\"color: #7fbfbf; text-decoration-color: #7fbfbf\">[03/06/23 22:00:43] </span><span style=\"color: #000080; text-decoration-color: #000080\">INFO    </span> Dolphin-<span style=\"color: #008080; text-decoration-color: #008080; font-weight: bold\">1</span>                                                       \n",
       "<span style=\"color: #7fbfbf; text-decoration-color: #7fbfbf\">                    </span>         Epoch: <span style=\"color: #008080; text-decoration-color: #008080; font-weight: bold\">10</span> | Time: <span style=\"color: #00ff00; text-decoration-color: #00ff00; font-weight: bold\">0:00:24</span>.<span style=\"color: #008080; text-decoration-color: #008080; font-weight: bold\">479891</span>                                \n",
       "<span style=\"color: #7fbfbf; text-decoration-color: #7fbfbf\">                    </span>                 Train Loss: <span style=\"color: #008080; text-decoration-color: #008080; font-weight: bold\">0.817</span> | Train PPL:   <span style=\"color: #008080; text-decoration-color: #008080; font-weight: bold\">2.264</span>                  \n",
       "<span style=\"color: #7fbfbf; text-decoration-color: #7fbfbf\">                    </span>                  Val. Loss: <span style=\"color: #008080; text-decoration-color: #008080; font-weight: bold\">2.297</span> |  Val. PPL:   <span style=\"color: #008080; text-decoration-color: #008080; font-weight: bold\">9.946</span>                  \n",
       "</pre>\n"
      ],
      "text/plain": [
       "\u001b[2;36m[03/06/23 22:00:43]\u001b[0m\u001b[2;36m \u001b[0m\u001b[34mINFO    \u001b[0m Dolphin-\u001b[1;36m1\u001b[0m                                                       \n",
       "\u001b[2;36m                    \u001b[0m         Epoch: \u001b[1;36m10\u001b[0m | Time: \u001b[1;92m0:00:24\u001b[0m.\u001b[1;36m479891\u001b[0m                                \n",
       "\u001b[2;36m                    \u001b[0m                 Train Loss: \u001b[1;36m0.817\u001b[0m | Train PPL:   \u001b[1;36m2.264\u001b[0m                  \n",
       "\u001b[2;36m                    \u001b[0m                  Val. Loss: \u001b[1;36m2.297\u001b[0m |  Val. PPL:   \u001b[1;36m9.946\u001b[0m                  \n"
      ]
     },
     "metadata": {},
     "output_type": "display_data"
    },
    {
     "data": {
      "text/html": [
       "<pre style=\"white-space:pre;overflow-x:auto;line-height:normal;font-family:Menlo,'DejaVu Sans Mono',consolas,'Courier New',monospace\"><span style=\"color: #7fbfbf; text-decoration-color: #7fbfbf\">[03/06/23 22:00:43] </span><span style=\"color: #000080; text-decoration-color: #000080\">INFO    </span> Dolphin-<span style=\"color: #008080; text-decoration-color: #008080; font-weight: bold\">1</span>    Finished task <span style=\"color: #008000; text-decoration-color: #008000\">\"Training-3\"</span> <span style=\"font-weight: bold\">[</span><span style=\"color: #008080; text-decoration-color: #008080; font-weight: bold\">7</span>/<span style=\"color: #008080; text-decoration-color: #008080; font-weight: bold\">9</span> - <span style=\"color: #008080; text-decoration-color: #008080; font-weight: bold\">78</span>%<span style=\"font-weight: bold\">]</span>             \n",
       "</pre>\n"
      ],
      "text/plain": [
       "\u001b[2;36m[03/06/23 22:00:43]\u001b[0m\u001b[2;36m \u001b[0m\u001b[34mINFO    \u001b[0m Dolphin-\u001b[1;36m1\u001b[0m    Finished task \u001b[32m\"Training-3\"\u001b[0m \u001b[1m[\u001b[0m\u001b[1;36m7\u001b[0m/\u001b[1;36m9\u001b[0m - \u001b[1;36m78\u001b[0m%\u001b[1m]\u001b[0m             \n"
      ]
     },
     "metadata": {},
     "output_type": "display_data"
    },
    {
     "data": {
      "text/html": [
       "<pre style=\"white-space:pre;overflow-x:auto;line-height:normal;font-family:Menlo,'DejaVu Sans Mono',consolas,'Courier New',monospace\"><span style=\"color: #7fbfbf; text-decoration-color: #7fbfbf\">[03/06/23 22:00:44] </span><span style=\"color: #000080; text-decoration-color: #000080\">INFO    </span> Dolphin-<span style=\"color: #008080; text-decoration-color: #008080; font-weight: bold\">4</span>    Started task <span style=\"color: #008000; text-decoration-color: #008000\">\"ModelSelection\"</span>                      \n",
       "</pre>\n"
      ],
      "text/plain": [
       "\u001b[2;36m[03/06/23 22:00:44]\u001b[0m\u001b[2;36m \u001b[0m\u001b[34mINFO    \u001b[0m Dolphin-\u001b[1;36m4\u001b[0m    Started task \u001b[32m\"ModelSelection\"\u001b[0m                      \n"
      ]
     },
     "metadata": {},
     "output_type": "display_data"
    },
    {
     "data": {
      "text/html": [
       "<pre style=\"white-space:pre;overflow-x:auto;line-height:normal;font-family:Menlo,'DejaVu Sans Mono',consolas,'Courier New',monospace\"><span style=\"color: #7fbfbf; text-decoration-color: #7fbfbf\">[03/06/23 22:00:44] </span><span style=\"color: #000080; text-decoration-color: #000080\">INFO    </span> Dolphin-<span style=\"color: #008080; text-decoration-color: #008080; font-weight: bold\">4</span>    Save best run config to <span style=\"color: #008000; text-decoration-color: #008000\">\"/scratch/phd/fluidml/examp</span>\n",
       "<span style=\"color: #7fbfbf; text-decoration-color: #7fbfbf\">                    </span>         <span style=\"color: #008000; text-decoration-color: #008000\">les/pytorch_transformer_seq2seq_translation/seq2seq_experiments/</span>\n",
       "<span style=\"color: #7fbfbf; text-decoration-color: #7fbfbf\">                    </span>         <span style=\"color: #008000; text-decoration-color: #008000\">ModelSelection/immaculate-jacket-000\"</span>.                          \n",
       "</pre>\n"
      ],
      "text/plain": [
       "\u001b[2;36m[03/06/23 22:00:44]\u001b[0m\u001b[2;36m \u001b[0m\u001b[34mINFO    \u001b[0m Dolphin-\u001b[1;36m4\u001b[0m    Save best run config to \u001b[32m\"/scratch/phd/fluidml/examp\u001b[0m\n",
       "\u001b[2;36m                    \u001b[0m         \u001b[32mles/pytorch_transformer_seq2seq_translation/seq2seq_experiments/\u001b[0m\n",
       "\u001b[2;36m                    \u001b[0m         \u001b[32mModelSelection/immaculate-jacket-000\"\u001b[0m.                          \n"
      ]
     },
     "metadata": {},
     "output_type": "display_data"
    },
    {
     "data": {
      "text/html": [
       "<pre style=\"white-space:pre;overflow-x:auto;line-height:normal;font-family:Menlo,'DejaVu Sans Mono',consolas,'Courier New',monospace\"><span style=\"color: #7fbfbf; text-decoration-color: #7fbfbf\">[03/06/23 22:00:44] </span><span style=\"color: #000080; text-decoration-color: #000080\">INFO    </span> Dolphin-<span style=\"color: #008080; text-decoration-color: #008080; font-weight: bold\">4</span>    Finished task <span style=\"color: #008000; text-decoration-color: #008000\">\"ModelSelection\"</span> <span style=\"font-weight: bold\">[</span><span style=\"color: #008080; text-decoration-color: #008080; font-weight: bold\">8</span>/<span style=\"color: #008080; text-decoration-color: #008080; font-weight: bold\">9</span> - <span style=\"color: #008080; text-decoration-color: #008080; font-weight: bold\">89</span>%<span style=\"font-weight: bold\">]</span>         \n",
       "</pre>\n"
      ],
      "text/plain": [
       "\u001b[2;36m[03/06/23 22:00:44]\u001b[0m\u001b[2;36m \u001b[0m\u001b[34mINFO    \u001b[0m Dolphin-\u001b[1;36m4\u001b[0m    Finished task \u001b[32m\"ModelSelection\"\u001b[0m \u001b[1m[\u001b[0m\u001b[1;36m8\u001b[0m/\u001b[1;36m9\u001b[0m - \u001b[1;36m89\u001b[0m%\u001b[1m]\u001b[0m         \n"
      ]
     },
     "metadata": {},
     "output_type": "display_data"
    },
    {
     "data": {
      "text/html": [
       "<pre style=\"white-space:pre;overflow-x:auto;line-height:normal;font-family:Menlo,'DejaVu Sans Mono',consolas,'Courier New',monospace\"><span style=\"color: #7fbfbf; text-decoration-color: #7fbfbf\">[03/06/23 22:00:44] </span><span style=\"color: #000080; text-decoration-color: #000080\">INFO    </span> Dolphin-<span style=\"color: #008080; text-decoration-color: #008080; font-weight: bold\">2</span>    Started task <span style=\"color: #008000; text-decoration-color: #008000\">\"Evaluation\"</span>                          \n",
       "</pre>\n"
      ],
      "text/plain": [
       "\u001b[2;36m[03/06/23 22:00:44]\u001b[0m\u001b[2;36m \u001b[0m\u001b[34mINFO    \u001b[0m Dolphin-\u001b[1;36m2\u001b[0m    Started task \u001b[32m\"Evaluation\"\u001b[0m                          \n"
      ]
     },
     "metadata": {},
     "output_type": "display_data"
    },
    {
     "data": {
      "text/html": [
       "<pre style=\"white-space:pre;overflow-x:auto;line-height:normal;font-family:Menlo,'DejaVu Sans Mono',consolas,'Courier New',monospace\"><span style=\"color: #7fbfbf; text-decoration-color: #7fbfbf\">[03/06/23 22:00:44] </span><span style=\"color: #000080; text-decoration-color: #000080\">INFO    </span> Dolphin-<span style=\"color: #008080; text-decoration-color: #008080; font-weight: bold\">2</span>    | Test Loss: <span style=\"color: #008080; text-decoration-color: #008080; font-weight: bold\">2.046</span> | Test PPL:   <span style=\"color: #008080; text-decoration-color: #008080; font-weight: bold\">7.734</span> |           \n",
       "</pre>\n"
      ],
      "text/plain": [
       "\u001b[2;36m[03/06/23 22:00:44]\u001b[0m\u001b[2;36m \u001b[0m\u001b[34mINFO    \u001b[0m Dolphin-\u001b[1;36m2\u001b[0m    | Test Loss: \u001b[1;36m2.046\u001b[0m | Test PPL:   \u001b[1;36m7.734\u001b[0m |           \n"
      ]
     },
     "metadata": {},
     "output_type": "display_data"
    },
    {
     "name": "stderr",
     "output_type": "stream",
     "text": [
      "Dolphin-2 - Calculating BLEU: 100%|██████████| 1000/1000 [00:52<00:00, 19.05sample/s]\n"
     ]
    },
    {
     "data": {
      "text/html": [
       "<pre style=\"white-space:pre;overflow-x:auto;line-height:normal;font-family:Menlo,'DejaVu Sans Mono',consolas,'Courier New',monospace\"><span style=\"color: #7fbfbf; text-decoration-color: #7fbfbf\">[03/06/23 22:01:37] </span><span style=\"color: #000080; text-decoration-color: #000080\">INFO    </span> Dolphin-<span style=\"color: #008080; text-decoration-color: #008080; font-weight: bold\">2</span>    BLEU score = <span style=\"color: #008080; text-decoration-color: #008080; font-weight: bold\">34.33</span>                                 \n",
       "</pre>\n"
      ],
      "text/plain": [
       "\u001b[2;36m[03/06/23 22:01:37]\u001b[0m\u001b[2;36m \u001b[0m\u001b[34mINFO    \u001b[0m Dolphin-\u001b[1;36m2\u001b[0m    BLEU score = \u001b[1;36m34.33\u001b[0m                                 \n"
      ]
     },
     "metadata": {},
     "output_type": "display_data"
    },
    {
     "data": {
      "text/html": [
       "<pre style=\"white-space:pre;overflow-x:auto;line-height:normal;font-family:Menlo,'DejaVu Sans Mono',consolas,'Courier New',monospace\"><span style=\"color: #7fbfbf; text-decoration-color: #7fbfbf\">[03/06/23 22:01:37] </span><span style=\"color: #000080; text-decoration-color: #000080\">INFO    </span> Dolphin-<span style=\"color: #008080; text-decoration-color: #008080; font-weight: bold\">2</span>    Finished task <span style=\"color: #008000; text-decoration-color: #008000\">\"Evaluation\"</span> <span style=\"font-weight: bold\">[</span><span style=\"color: #008080; text-decoration-color: #008080; font-weight: bold\">9</span>/<span style=\"color: #008080; text-decoration-color: #008080; font-weight: bold\">9</span> - <span style=\"color: #008080; text-decoration-color: #008080; font-weight: bold\">100</span>%<span style=\"font-weight: bold\">]</span>            \n",
       "</pre>\n"
      ],
      "text/plain": [
       "\u001b[2;36m[03/06/23 22:01:37]\u001b[0m\u001b[2;36m \u001b[0m\u001b[34mINFO    \u001b[0m Dolphin-\u001b[1;36m2\u001b[0m    Finished task \u001b[32m\"Evaluation\"\u001b[0m \u001b[1m[\u001b[0m\u001b[1;36m9\u001b[0m/\u001b[1;36m9\u001b[0m - \u001b[1;36m100\u001b[0m%\u001b[1m]\u001b[0m            \n"
      ]
     },
     "metadata": {},
     "output_type": "display_data"
    }
   ],
   "source": [
    "# create flow (expanded task graph)\n",
    "flow = Flow(tasks=tasks)\n",
    "\n",
    "# visualize graphs\n",
    "visualize_graph_in_console(flow.task_spec_graph, use_pager=True, use_unicode=True)\n",
    "visualize_graph_in_console(flow.task_graph, use_pager=True, use_unicode=True)\n",
    "\n",
    "# run linearly without swarm if num_workers is set to 1\n",
    "# else run graph in parallel using multiprocessing\n",
    "# create list of resources which is distributed among workers\n",
    "# e.g. to manage that each worker has dedicated access to specific gpus\n",
    "flow.run(\n",
    "    num_workers=num_workers,\n",
    "    resources=resources,\n",
    "    results_store=results_store,\n",
    "    project_name=\"transformer_seq2seq_translation_example\",\n",
    "    force=force,\n",
    ")"
   ]
  },
  {
   "cell_type": "markdown",
   "metadata": {
    "pycharm": {
     "name": "#%% md\n"
    }
   },
   "source": [
    " "
   ]
  },
  {
   "cell_type": "markdown",
   "metadata": {
    "pycharm": {
     "name": "#%% md\n"
    }
   },
   "source": [
    " "
   ]
  },
  {
   "cell_type": "markdown",
   "metadata": {
    "pycharm": {
     "name": "#%% md\n"
    }
   },
   "source": [
    "<img src=\"https://raw.githubusercontent.com/fluidml/fluidml/main/logo/fluid_ml_logo.png\" width=\"400px\"/>"
   ]
  }
 ],
 "metadata": {
  "kernelspec": {
   "display_name": "Python 3",
   "language": "python",
   "name": "python3"
  },
  "language_info": {
   "codemirror_mode": {
    "name": "ipython",
    "version": 3
   },
   "file_extension": ".py",
   "mimetype": "text/x-python",
   "name": "python",
   "nbconvert_exporter": "python",
   "pygments_lexer": "ipython3",
   "version": "3.7.9"
  }
 },
 "nbformat": 4,
 "nbformat_minor": 4
}
