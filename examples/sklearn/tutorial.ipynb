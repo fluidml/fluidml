{
 "cells": [
  {
   "cell_type": "markdown",
   "metadata": {},
   "source": [
    "<img src=\"https://raw.githubusercontent.com/fluidml/fluidml/main/logo/fluid_ml_logo.png\" width=100 height=100 />"
   ]
  },
  {
   "cell_type": "markdown",
   "metadata": {},
   "source": [
    "# **Tutorial: Text Classification using FluidML and Sklearn**\n",
    "In this notebook, we'll go over some basics of FluidML and implement a complete ML pipeline that performs text classification.\n",
    "Like any other ML pipeline, this usually consists of several steps:\n",
    "- Dataset collection\n",
    "- Dataset pre-processing\n",
    "- Featurization\n",
    "- Training a classifier\n",
    "- Evaluation of classifier\n",
    "\n",
    "With FluidML, all of these steps can naturally be implemented as individual tasks and then later put together as a task graph/flow."
   ]
  },
  {
   "cell_type": "markdown",
   "metadata": {},
   "source": [
    "## **Setup**\n",
    "\n",
    "**Note**: Due to the limitation of multiprocessing and jupyter, we have to import task definitions from a separate script.\n",
    "\n"
   ]
  },
  {
   "cell_type": "code",
   "execution_count": 27,
   "metadata": {},
   "outputs": [],
   "source": [
    "from fluidml.common import Task, Resource\n",
    "from fluidml.swarm import Swarm\n",
    "from fluidml.flow import Flow, GridTaskSpec, TaskSpec\n",
    "from with_gs import DatasetFetchTask, PreProcessTask, TFIDFFeaturizeTask, GloveFeaturizeTask, TrainTask, EvaluateTask, ModelSelectionTask\n",
    "from rich import print"
   ]
  },
  {
   "cell_type": "markdown",
   "metadata": {},
   "source": [
    "## **1. Dataset Collection**\n",
    "\n",
    "Let's use HuggingFace's [datasets](https://huggingface.co/datasets) repository to quick get access to a text classification dataset. Specifically, we will use [TREC](https://huggingface.co/datasets/trec) which is a question classification dataset containing ~ 5k labeled questions in training set and ~500 questions in test set. The dataset contains two types of labels: fine and coarse. For simplicity, let's go ahead with coarse, with unique 6 labels.\n",
    "\n",
    "We can implement this dataset collection as a separate task on its own by inheriting from FluidML's Task class. It just has to implement a run() method and returns task results in a dictionary. \n",
    "For simplicity, we can implement this task to return a nested dictionary. On the outer level, we have different splits and in each split, we will have list of sentences and labels.\n",
    "\n",
    "Here is the complete implementation of DatasetFetchTask:\n",
    "\n",
    "\n",
    "```python\n",
    "from datasets import load_dataset\n",
    "\n",
    "\n",
    "class DatasetFetchTask(Task):\n",
    "    def __init__(self):\n",
    "        super().__init__()\n",
    "\n",
    "    def _get_split(self, dataset, split):\n",
    "        if split == \"test\":\n",
    "            return dataset[split]\n",
    "        elif split in [\"train\", \"val\"]:\n",
    "            splitted = list(dataset[\"train\"])\n",
    "            split_index = int(0.7 * len(splitted))\n",
    "            return splitted[:split_index] if split == \"train\" else splitted[split_index:]\n",
    "\n",
    "    def _get_sentences_and_labels(self, dataset) -> Tuple[List[str], List[str]]:\n",
    "        sentences = []\n",
    "        labels = []\n",
    "        for item in dataset:\n",
    "            sentences.append(item[\"text\"])\n",
    "            labels.append(item[\"label-coarse\"])\n",
    "        return sentences, labels\n",
    "\n",
    "    def run(self, results: Dict[str, Any], task_config: Dict[str, Any], resource: Resource):\n",
    "        dataset = load_dataset(\"trec\")\n",
    "        splits = [\"train\", \"val\", \"test\"]\n",
    "        dataset_splits = {}\n",
    "        for split in splits:\n",
    "            dataset_split = self._get_split(dataset, split)\n",
    "            sentences, labels = self._get_sentences_and_labels(dataset_split)\n",
    "            split_results = {\n",
    "                \"sentences\": sentences,\n",
    "                \"labels\": labels\n",
    "            }\n",
    "            dataset_splits[split] = split_results\n",
    "        task_results = {\"raw_dataset\": dataset_splits}\n",
    "        return task_results\n",
    "\n",
    "```"
   ]
  },
  {
   "cell_type": "markdown",
   "metadata": {},
   "source": [
    "## **2. Dataset Pre-processing:**\n",
    "Now that we have our raw datasets prepared, next, we can apply some pre-processing to clean them up a bit, such as *removing punctuations*, *removing digits* and *making lower case* etc. \n",
    "We will implement this logic into a PreProcessTask. Additionally, this task takes a list of pre-processing steps as parameters.\n",
    "\n",
    "**Note**, this task assumes that the raw dataset is available to it via results dictionary as arguments of run() method. This will be automatically passed by FluidML. \n",
    "Later, when we create the PreProcess Task, we just have to connect the DatasetFetchTask as a predecessor. More on this later, when we model the flow/pipeline.\n",
    "\n",
    "Therefore, PreProcessTask just has to implement its own logic and return pre-processed sentences as results (**separation of concerns**)\n",
    "\n",
    "Here is the complete implementation of PreProcessTask:\n",
    "\n",
    "```python\n",
    "import string\n",
    "import re\n",
    "\n",
    "\n",
    "class PreProcessTask(Task):\n",
    "    def __init__(self, pre_processing_steps: List[str]):\n",
    "        super().__init__()\n",
    "        self._pre_processing_steps = pre_processing_steps\n",
    "\n",
    "    def _pre_process(self, text: str) -> str:\n",
    "        pre_processed_text = text\n",
    "        for step in self._pre_processing_steps:\n",
    "            if step == \"lower_case\":\n",
    "                pre_processed_text = pre_processed_text.lower()\n",
    "            if step == \"remove_punct\":\n",
    "                pre_processed_text = pre_processed_text.translate(\n",
    "                    str.maketrans('', '', string.punctuation))\n",
    "            if step == \"remove_digits\":\n",
    "                pre_processed_text = re.sub(\n",
    "                    r\"\\d+\", \"<num>\", pre_processed_text)\n",
    "        return pre_processed_text\n",
    "\n",
    "    def run(self, results: Dict[str, Any], task_config: Dict[str, Any], resource: Resource):\n",
    "        pre_processed_splits = {}\n",
    "        for split in [\"train\", \"val\", \"test\"]:\n",
    "            pre_processed_sentences = [\n",
    "                self._pre_process(sentence) for sentence in results[\"raw_dataset\"][split][\"sentences\"]]\n",
    "            pre_processed_splits[split] = {\n",
    "                \"sentences\": pre_processed_sentences}\n",
    "        task_results = {\"pre_processed_dataset\": pre_processed_splits}\n",
    "        return task_results\n",
    "```"
   ]
  },
  {
   "cell_type": "markdown",
   "metadata": {},
   "source": [
    "## **3. Featurization:**\n",
    "\n",
    "Now that we have our datasets prepared and sentences pre-processed, we can now convert these to numerical vectors which can be then fed to classifiers. To this end, we would like to implement two featurizers namely a TFIDF featurizer and a glove featurizer. They can be implemented as two independent tasks which takes preprocessed sentences and returns vectorized sentences.\n",
    "\n",
    "You may have guessed the pattern already, this task expects pre_processed dataset, which was produced by PreProcessTask. \n",
    "\n",
    "```python\n",
    "from sklearn.feature_extraction.text import TfidfVectorizer\n",
    "from flair.data import Sentence\n",
    "from flair.embeddings import WordEmbeddings, DocumentPoolEmbeddings\n",
    "\n",
    "class TFIDFFeaturizeTask(Task):\n",
    "    def __init__(self, min_df: int, max_features: int):\n",
    "        super().__init__()\n",
    "        self._min_df = min_df\n",
    "        self._max_features = max_features\n",
    "\n",
    "    def run(self, results: Dict[str, Any], task_config: Dict[str, Any], resource: Resource):\n",
    "        tfidf_model = TfidfVectorizer(\n",
    "            min_df=self._min_df, max_features=self._max_features)\n",
    "        tfidf_model.fit(results[\"pre_processed_dataset\"][\"train\"][\"sentences\"])\n",
    "        featurized_splits = {}\n",
    "        for split in [\"train\", \"val\", \"test\"]:\n",
    "            tfidf_vectors = tfidf_model.transform(\n",
    "                results[\"pre_processed_dataset\"][split][\"sentences\"]).toarray()\n",
    "            featurized_splits[split] = {\"vectors\": tfidf_vectors}\n",
    "        task_results = {\"tfidf_featurized_dataset\": featurized_splits}\n",
    "        return task_results\n",
    "\n",
    "\n",
    "class GloveFeaturizeTask(Task):\n",
    "    def __init__(self):\n",
    "        super().__init__()\n",
    "\n",
    "    def run(self, results: Dict[str, Any], task_config: Dict[str, Any], resource: Resource):\n",
    "        featurized_splits = {}\n",
    "        for split in [\"train\", \"val\", \"test\"]:\n",
    "            sentences = [Sentence(sent)\n",
    "                         for sent in results[\"pre_processed_dataset\"][split][\"sentences\"]]\n",
    "            embedder = DocumentPoolEmbeddings([WordEmbeddings(\"glove\")])\n",
    "            embedder.embed(sentences)\n",
    "            glove_vectors = [sent.embedding.cpu().numpy()\n",
    "                             for sent in sentences]\n",
    "            glove_vectors = np.array(glove_vectors).reshape(\n",
    "                len(glove_vectors), -1)\n",
    "            featurized_splits[split] = {\"vectors\": glove_vectors}\n",
    "        task_results = {\"glove_featurized_dataset\": featurized_splits}\n",
    "        return task_results\n",
    "```"
   ]
  },
  {
   "cell_type": "markdown",
   "metadata": {},
   "source": [
    "## **4. Training a classifier**\n",
    "\n",
    "We are all set to train a simple classifier. For this tutorial, let's stick with a simple logistic regression model from Sklearn.\n",
    "For the inputs, we can stack the glove and tfidf vectors (obtained from featurization task results) and for the targets, we can just use the labels from the raw dataset. In the end, this task returns a trained SKlearn classifier.\n",
    "\n",
    "**Note:** You are not limited just to Sklearn. You can train any kind of model using your favorite library (PyTorch, TensorFlow, Keras, PyTorch Lightning, etc) \n",
    "\n",
    "```python\n",
    "\n",
    "from sklearn.linear_model import LogisticRegression\n",
    "\n",
    "class TrainTask(Task):\n",
    "    def __init__(self, max_iter: int, balanced: str):\n",
    "        super().__init__()\n",
    "        self._max_iter = max_iter\n",
    "        self._class_weight = \"balanced\" if balanced else None\n",
    "\n",
    "    def run(self, results: Dict[str, Any], task_config: Dict[str, Any], resource: Resource):\n",
    "        model = LogisticRegression(\n",
    "            max_iter=self._max_iter, class_weight=self._class_weight)\n",
    "        stacked_vectors = np.hstack((results[\"tfidf_featurized_dataset\"][\"train\"][\"vectors\"],\n",
    "                                     results[\"glove_featurized_dataset\"][\"train\"][\"vectors\"]))\n",
    "        model.fit(stacked_vectors,\n",
    "                  results[\"raw_dataset\"][\"train\"][\"labels\"])\n",
    "        task_results = {\n",
    "            \"trained_model\": model\n",
    "        }\n",
    "        return task_results\n",
    "```"
   ]
  },
  {
   "cell_type": "markdown",
   "metadata": {},
   "source": [
    "## **5. Evaluation of classifier**\n",
    "\n",
    "Now, that we have trained a classifier, it is time to evaluate this classifier on all of the dataset splits. This task is straightforward, we will get the featurized dataset splits and the trained model from the results. \n",
    "Finally, EvaluateTask returns a nested dictionary containing classification reports for each of train, val and test splits.\n",
    "\n",
    "\n",
    "```python\n",
    "from sklearn.metrics import classification_report\n",
    "\n",
    "class EvaluateTask(Task):\n",
    "    def __init__(self):\n",
    "        super().__init__()\n",
    "\n",
    "    def run(self, results: Dict[str, Any], task_config: Dict[str, Any], resource: Resource):\n",
    "        evaluation_results = {}\n",
    "        for split in [\"train\", \"val\", \"test\"]:\n",
    "            stacked_vectors = np.hstack((results[\"tfidf_featurized_dataset\"][split][\"vectors\"],\n",
    "                                         results[\"glove_featurized_dataset\"][split][\"vectors\"]))\n",
    "            predictions = results[\"trained_model\"].predict(\n",
    "                stacked_vectors)\n",
    "            report = classification_report(\n",
    "                results[\"raw_dataset\"][split][\"labels\"], predictions, output_dict=True)\n",
    "            evaluation_results[split] = {\"classification_report\": report}\n",
    "        task_results = {\"evaluation_results\": evaluation_results}\n",
    "        return task_results\n",
    "```"
   ]
  },
  {
   "cell_type": "markdown",
   "metadata": {},
   "source": [
    "## **Creating Flow/Pipeline**\n",
    "\n",
    "So far, we have looked into implementing our individual pipeline steps using FluidML's Task class and it was very straightforward.\n",
    "You might be wondering, how to put these tasks together and make them work together as a single pipeline?\n",
    "\n",
    "Thanks to FluidML's TaskSpec API, you can connect these tasks like Lego blocks :)\n",
    "\n",
    "### **Task Specifications**\n",
    "TaskSpec is a simple wrapper that allows to specify task details task arguments which will be used during instantiation of the task.\n",
    "Let's go ahead and create specs for all our tasks."
   ]
  },
  {
   "cell_type": "code",
   "execution_count": 28,
   "metadata": {},
   "outputs": [],
   "source": [
    "# create all task specs\n",
    "dataset_fetch_task = TaskSpec(task=DatasetFetchTask)\n",
    "pre_process_task = TaskSpec(task=PreProcessTask, task_kwargs={\n",
    "                            \"pre_processing_steps\": [\"lower_case\", \"remove_punct\"]})\n",
    "featurize_task_1 = TaskSpec(\n",
    "    task=GloveFeaturizeTask)\n",
    "featurize_task_2 = TaskSpec(\n",
    "    task=TFIDFFeaturizeTask, task_kwargs={\"min_df\": 5, \"max_features\": 1000})\n",
    "train_task = TaskSpec(task=TrainTask, task_kwargs={\"max_iter\": 50, \"balanced\": True})\n",
    "evaluate_task = TaskSpec(task=EvaluateTask)"
   ]
  },
  {
   "cell_type": "markdown",
   "metadata": {},
   "source": [
    "### **Task Dependencies**\n",
    "More importantly, TaskSpec also provides `requires()` method to specify predecessor tasks which need to be executed before that particular task.\n",
    "\n",
    "For instance, in our example, we would need DatasetFetchTask to be finished before we start to run PreProcessTask. Similarly,\n",
    "PreProcessTask is required for both FeaturizeTask. \n",
    "\n",
    "Using these task dependencies, FluidML creates a task graph and schedules the tasks considering the dependencies.\n",
    "Not just that, it automatically collects the results from predecessor tasks and makes it available to `run()` method.\n"
   ]
  },
  {
   "cell_type": "code",
   "execution_count": 29,
   "metadata": {},
   "outputs": [],
   "source": [
    "# dependencies between tasks\n",
    "pre_process_task.requires([dataset_fetch_task])\n",
    "featurize_task_1.requires([pre_process_task])\n",
    "featurize_task_2.requires([pre_process_task])\n",
    "train_task.requires(\n",
    "    [dataset_fetch_task, featurize_task_1, featurize_task_2])\n",
    "evaluate_task.requires(\n",
    "    [dataset_fetch_task, featurize_task_1, featurize_task_2, train_task])"
   ]
  },
  {
   "cell_type": "markdown",
   "metadata": {},
   "source": [
    "### **Final list of tasks**\n",
    "We can just hold all these tasks in a list which we will pass it to FluidML."
   ]
  },
  {
   "cell_type": "code",
   "execution_count": 30,
   "metadata": {},
   "outputs": [],
   "source": [
    "# all tasks\n",
    "tasks = [dataset_fetch_task,\n",
    "         pre_process_task,\n",
    "         featurize_task_1, featurize_task_2,\n",
    "         train_task,\n",
    "         evaluate_task]"
   ]
  },
  {
   "cell_type": "markdown",
   "metadata": {},
   "source": [
    "### **Swarm & Flow**\n",
    "Now that we have a final list of tasks which are ready to be run, we just have to create\n",
    "\n",
    "- **Swarm:** which contains several workers which helps to run these tasks parallely. In our example, featurize_task_1 and featurize_task_2 are independent and can be exectued concurrently.\n",
    "- **Flow:** which builds tasks from provided task specifications and creates a task graph which is then processed by Swarm\n",
    "\n",
    "\n",
    "Using swarm and flow, we can just run our tasks using `flow.run(tasks)`.\n",
    "\n",
    "\n"
   ]
  },
  {
   "cell_type": "code",
   "execution_count": 31,
   "metadata": {},
   "outputs": [
    {
     "data": {
      "text/html": [
       "<pre style=\"white-space:pre;overflow-x:auto;line-height:normal;font-family:Menlo,'DejaVu Sans Mono',consolas,'Courier New',monospace\"><span style=\"color: #7fbfbf\">[16:54:04] </span>Swarm scheduling task DatasetFetchTask-<span style=\"color: #000080; font-weight: bold\">0</span>.                             <a href=\"file:///home/raj/projects/fluidml/fluidml/swarm/swarm.py\"><span style=\"color: #7f7f7f\">swarm.py</span></a><span style=\"color: #7f7f7f\">:105</span>\n",
       "</pre>\n"
      ],
      "text/plain": [
       "<rich.jupyter.JupyterRenderable at 0x7f88c62096d0>"
      ]
     },
     "metadata": {},
     "output_type": "display_data"
    }
   ],
   "source": [
    "with Swarm(n_dolphins=2,\n",
    "            refresh_every=10,\n",
    "            return_results=True) as swarm:\n",
    "    flow = Flow(swarm=swarm)\n",
    "    results = flow.run(tasks)"
   ]
  },
  {
   "cell_type": "markdown",
   "metadata": {},
   "source": [
    "## Results\n",
    "\n",
    "We can now go over the results and fetch a task's result using its name, which would give task results and task_config (up until that task in the graph)"
   ]
  },
  {
   "cell_type": "code",
   "execution_count": 33,
   "metadata": {},
   "outputs": [
    {
     "data": {
      "text/html": [
       "<pre style=\"white-space:pre;overflow-x:auto;line-height:normal;font-family:Menlo,'DejaVu Sans Mono',consolas,'Courier New',monospace\"><span style=\"font-weight: bold\">{</span>\n",
       "    <span style=\"color: #008000\">'DatasetFetchTask'</span>: <span style=\"font-weight: bold\">{}</span>,\n",
       "    <span style=\"color: #008000\">'PreProcessTask'</span>: <span style=\"font-weight: bold\">{</span><span style=\"color: #008000\">'pre_processing_steps'</span>: <span style=\"font-weight: bold\">[</span><span style=\"color: #008000\">'lower_case'</span>, <span style=\"color: #008000\">'remove_punct'</span><span style=\"font-weight: bold\">]}</span>,\n",
       "    <span style=\"color: #008000\">'GloveFeaturizeTask'</span>: <span style=\"font-weight: bold\">{}</span>,\n",
       "    <span style=\"color: #008000\">'TFIDFFeaturizeTask'</span>: <span style=\"font-weight: bold\">{</span><span style=\"color: #008000\">'min_df'</span>: <span style=\"color: #000080; font-weight: bold\">5</span>, <span style=\"color: #008000\">'max_features'</span>: <span style=\"color: #000080; font-weight: bold\">1000</span><span style=\"font-weight: bold\">}</span>,\n",
       "    <span style=\"color: #008000\">'TrainTask'</span>: <span style=\"font-weight: bold\">{</span><span style=\"color: #008000\">'max_iter'</span>: <span style=\"color: #000080; font-weight: bold\">50</span>, <span style=\"color: #008000\">'balanced'</span>: <span style=\"color: #00ff00; font-style: italic\">True</span><span style=\"font-weight: bold\">}</span>,\n",
       "    <span style=\"color: #008000\">'EvaluateTask'</span>: <span style=\"font-weight: bold\">{}</span>\n",
       "<span style=\"font-weight: bold\">}</span>\n",
       "</pre>\n"
      ],
      "text/plain": [
       "<rich.jupyter.JupyterRenderable at 0x7f88c42cba50>"
      ]
     },
     "metadata": {},
     "output_type": "display_data"
    }
   ],
   "source": [
    "print(results[\"EvaluateTask\"][\"config\"])"
   ]
  },
  {
   "cell_type": "code",
   "execution_count": 36,
   "metadata": {},
   "outputs": [
    {
     "data": {
      "text/html": [
       "<pre style=\"white-space:pre;overflow-x:auto;line-height:normal;font-family:Menlo,'DejaVu Sans Mono',consolas,'Courier New',monospace\"><span style=\"font-weight: bold\">{</span>\n",
       "    <span style=\"color: #008000\">'classification_report'</span>: <span style=\"font-weight: bold\">{</span>\n",
       "        <span style=\"color: #008000\">'0'</span>: <span style=\"font-weight: bold\">{</span>\n",
       "            <span style=\"color: #008000\">'precision'</span>: <span style=\"color: #000080; font-weight: bold\">0.8582089552238806</span>,\n",
       "            <span style=\"color: #008000\">'recall'</span>: <span style=\"color: #000080; font-weight: bold\">0.8333333333333334</span>,\n",
       "            <span style=\"color: #008000\">'f1-score'</span>: <span style=\"color: #000080; font-weight: bold\">0.8455882352941176</span>,\n",
       "            <span style=\"color: #008000\">'support'</span>: <span style=\"color: #000080; font-weight: bold\">138</span>\n",
       "        <span style=\"font-weight: bold\">}</span>,\n",
       "        <span style=\"color: #008000\">'1'</span>: <span style=\"font-weight: bold\">{</span>\n",
       "            <span style=\"color: #008000\">'precision'</span>: <span style=\"color: #000080; font-weight: bold\">0.7945205479452054</span>,\n",
       "            <span style=\"color: #008000\">'recall'</span>: <span style=\"color: #000080; font-weight: bold\">0.6170212765957447</span>,\n",
       "            <span style=\"color: #008000\">'f1-score'</span>: <span style=\"color: #000080; font-weight: bold\">0.6946107784431137</span>,\n",
       "            <span style=\"color: #008000\">'support'</span>: <span style=\"color: #000080; font-weight: bold\">94</span>\n",
       "        <span style=\"font-weight: bold\">}</span>,\n",
       "        <span style=\"color: #008000\">'2'</span>: <span style=\"font-weight: bold\">{</span>\n",
       "            <span style=\"color: #008000\">'precision'</span>: <span style=\"color: #000080; font-weight: bold\">0.35</span>,\n",
       "            <span style=\"color: #008000\">'recall'</span>: <span style=\"color: #000080; font-weight: bold\">0.7777777777777778</span>,\n",
       "            <span style=\"color: #008000\">'f1-score'</span>: <span style=\"color: #000080; font-weight: bold\">0.48275862068965514</span>,\n",
       "            <span style=\"color: #008000\">'support'</span>: <span style=\"color: #000080; font-weight: bold\">9</span>\n",
       "        <span style=\"font-weight: bold\">}</span>,\n",
       "        <span style=\"color: #008000\">'3'</span>: <span style=\"font-weight: bold\">{</span>\n",
       "            <span style=\"color: #008000\">'precision'</span>: <span style=\"color: #000080; font-weight: bold\">0.8955223880597015</span>,\n",
       "            <span style=\"color: #008000\">'recall'</span>: <span style=\"color: #000080; font-weight: bold\">0.9230769230769231</span>,\n",
       "            <span style=\"color: #008000\">'f1-score'</span>: <span style=\"color: #000080; font-weight: bold\">0.9090909090909091</span>,\n",
       "            <span style=\"color: #008000\">'support'</span>: <span style=\"color: #000080; font-weight: bold\">65</span>\n",
       "        <span style=\"font-weight: bold\">}</span>,\n",
       "        <span style=\"color: #008000\">'4'</span>: <span style=\"font-weight: bold\">{</span>\n",
       "            <span style=\"color: #008000\">'precision'</span>: <span style=\"color: #000080; font-weight: bold\">0.9345794392523364</span>,\n",
       "            <span style=\"color: #008000\">'recall'</span>: <span style=\"color: #000080; font-weight: bold\">0.8849557522123894</span>,\n",
       "            <span style=\"color: #008000\">'f1-score'</span>: <span style=\"color: #000080; font-weight: bold\">0.9090909090909091</span>,\n",
       "            <span style=\"color: #008000\">'support'</span>: <span style=\"color: #000080; font-weight: bold\">113</span>\n",
       "        <span style=\"font-weight: bold\">}</span>,\n",
       "        <span style=\"color: #008000\">'5'</span>: <span style=\"font-weight: bold\">{</span>\n",
       "            <span style=\"color: #008000\">'precision'</span>: <span style=\"color: #000080; font-weight: bold\">0.7878787878787878</span>,\n",
       "            <span style=\"color: #008000\">'recall'</span>: <span style=\"color: #000080; font-weight: bold\">0.9629629629629629</span>,\n",
       "            <span style=\"color: #008000\">'f1-score'</span>: <span style=\"color: #000080; font-weight: bold\">0.8666666666666665</span>,\n",
       "            <span style=\"color: #008000\">'support'</span>: <span style=\"color: #000080; font-weight: bold\">81</span>\n",
       "        <span style=\"font-weight: bold\">}</span>,\n",
       "        <span style=\"color: #008000\">'accuracy'</span>: <span style=\"color: #000080; font-weight: bold\">0.836</span>,\n",
       "        <span style=\"color: #008000\">'macro avg'</span>: <span style=\"font-weight: bold\">{</span>\n",
       "            <span style=\"color: #008000\">'precision'</span>: <span style=\"color: #000080; font-weight: bold\">0.7701183530599853</span>,\n",
       "            <span style=\"color: #008000\">'recall'</span>: <span style=\"color: #000080; font-weight: bold\">0.833188004326522</span>,\n",
       "            <span style=\"color: #008000\">'f1-score'</span>: <span style=\"color: #000080; font-weight: bold\">0.7846343532125619</span>,\n",
       "            <span style=\"color: #008000\">'support'</span>: <span style=\"color: #000080; font-weight: bold\">500</span>\n",
       "        <span style=\"font-weight: bold\">}</span>,\n",
       "        <span style=\"color: #008000\">'weighted avg'</span>: <span style=\"font-weight: bold\">{</span>\n",
       "            <span style=\"color: #008000\">'precision'</span>: <span style=\"color: #000080; font-weight: bold\">0.8478047620106426</span>,\n",
       "            <span style=\"color: #008000\">'recall'</span>: <span style=\"color: #000080; font-weight: bold\">0.836</span>,\n",
       "            <span style=\"color: #008000\">'f1-score'</span>: <span style=\"color: #000080; font-weight: bold\">0.8366951980972592</span>,\n",
       "            <span style=\"color: #008000\">'support'</span>: <span style=\"color: #000080; font-weight: bold\">500</span>\n",
       "        <span style=\"font-weight: bold\">}</span>\n",
       "    <span style=\"font-weight: bold\">}</span>\n",
       "<span style=\"font-weight: bold\">}</span>\n",
       "</pre>\n"
      ],
      "text/plain": [
       "<rich.jupyter.JupyterRenderable at 0x7f87415f1550>"
      ]
     },
     "metadata": {},
     "output_type": "display_data"
    }
   ],
   "source": [
    "print(results[\"EvaluateTask\"][\"result\"][\"evaluation_results\"][\"test\"])"
   ]
  },
  {
   "cell_type": "markdown",
   "metadata": {},
   "source": [
    "# Grid Search:\n",
    "\n",
    "We can extend this pipeline and include grid search to find hyper-parameter tuning on the whole pipeline.\n",
    "To enable grid search on a particular task, we just have to wrap it with `GridTaskSpec` instead of `TaskSpec`.\n",
    "\n",
    "For example, for the training task, we can wrap it with `train_task = GridTaskSpec(task=TrainTask, gs_config={\"max_iter\": [50, 100], \"balanced\": [True, False]})`.\n",
    "\n",
    "Internally, Flow would expand this task into 4 tasks with provided combinations of `max_iter` and `balanced`. \n",
    "Not only that, any successor tasks (for instance, evaluate task) in the task graph will also be automatically extended. In our example, we would have four evaluate tasks."
   ]
  },
  {
   "cell_type": "markdown",
   "metadata": {},
   "source": [
    "## Model Selection Task:\n",
    "\n",
    "Ok that's nice. We have now several evaluation tasks and once we run this task graph through Flow, we will have several evaluation tasks and their results.\n",
    "We can implement a model selection task, which consolidates these results and fetches the best config for the pipeline.\n",
    "\n",
    "```python\n",
    "class ModelSelectionTask(Task):\n",
    "    def __init__(self):\n",
    "        super().__init__()\n",
    "\n",
    "    def run(self, results: Dict[str, Any], task_config: Dict[str, Any], resource: Resource):\n",
    "        sorted_results = sorted(results[\"reduced_results\"], key=lambda model_result: model_result[\"result\"]\n",
    "                                [\"evaluation_results\"][\"val\"][\"classification_report\"][\"macro avg\"][\"f1-score\"], reverse=True)\n",
    "        task_results = {\n",
    "            \"best_config\": sorted_results[0][\"config\"],\n",
    "            \"best_performance\": sorted_results[0][\"result\"]\n",
    "        }\n",
    "        return task_results\n",
    "```\n",
    "\n",
    "\n",
    "Now, we can attach the EvaluationTask as a predecessor to ModelSelectionTask. However, if we do it naively, we would end up with 4 model selection tasks since we have 4 evaluation tasks.\n",
    "So, we just have to specify `reduce=True` so only one instance of model selection task is created and all of the evaluation tasks are attached as parents to it.\n",
    "\n",
    "```python\n",
    "model_selection_task = TaskSpec(task=ModelSelectionTask, reduce=True)\n",
    "model_selection_task.requires([evaluate_task])\n",
    "```\n",
    "Finally, putting all of these together:"
   ]
  },
  {
   "cell_type": "code",
   "execution_count": 38,
   "metadata": {},
   "outputs": [],
   "source": [
    "# create all task specs\n",
    "dataset_fetch_task = TaskSpec(task=DatasetFetchTask)\n",
    "pre_process_task = TaskSpec(task=PreProcessTask, task_kwargs={\n",
    "                            \"pre_processing_steps\": [\"lower_case\", \"remove_punct\"]})\n",
    "featurize_task_1 = TaskSpec(\n",
    "    task=GloveFeaturizeTask)\n",
    "featurize_task_2 = GridTaskSpec(\n",
    "    task=TFIDFFeaturizeTask, gs_config={\"min_df\": 5, \"max_features\": [1000, 2000]})\n",
    "train_task = GridTaskSpec(task=TrainTask, gs_config={\n",
    "                          \"max_iter\": [50, 100], \"balanced\": [True, False]})\n",
    "evaluate_task = TaskSpec(task=EvaluateTask)\n",
    "model_selection_task = TaskSpec(\n",
    "    task=ModelSelectionTask, reduce=True)"
   ]
  },
  {
   "cell_type": "code",
   "execution_count": 39,
   "metadata": {},
   "outputs": [],
   "source": [
    "# dependencies between tasks\n",
    "pre_process_task.requires([dataset_fetch_task])\n",
    "featurize_task_1.requires([pre_process_task])\n",
    "featurize_task_2.requires([pre_process_task])\n",
    "train_task.requires(\n",
    "    [dataset_fetch_task, featurize_task_1, featurize_task_2])\n",
    "evaluate_task.requires(\n",
    "    [dataset_fetch_task, featurize_task_1, featurize_task_2, train_task])\n",
    "model_selection_task.requires([evaluate_task])"
   ]
  },
  {
   "cell_type": "code",
   "execution_count": 40,
   "metadata": {},
   "outputs": [
    {
     "data": {
      "text/html": [
       "<pre style=\"white-space:pre;overflow-x:auto;line-height:normal;font-family:Menlo,'DejaVu Sans Mono',consolas,'Courier New',monospace\"><span style=\"color: #7fbfbf\">[16:58:17] </span>Swarm scheduling task DatasetFetchTask-<span style=\"color: #000080; font-weight: bold\">0</span>.                             <a href=\"file:///home/raj/projects/fluidml/fluidml/swarm/swarm.py\"><span style=\"color: #7f7f7f\">swarm.py</span></a><span style=\"color: #7f7f7f\">:105</span>\n",
       "</pre>\n"
      ],
      "text/plain": [
       "<rich.jupyter.JupyterRenderable at 0x7f8748f19590>"
      ]
     },
     "metadata": {},
     "output_type": "display_data"
    }
   ],
   "source": [
    "# all tasks\n",
    "tasks = [dataset_fetch_task,\n",
    "         pre_process_task,\n",
    "         featurize_task_1, featurize_task_2,\n",
    "         train_task,\n",
    "         evaluate_task,\n",
    "         model_selection_task]\n",
    "\n",
    "with Swarm(n_dolphins=2,\n",
    "           refresh_every=10,\n",
    "           return_results=True) as swarm:\n",
    "    flow = Flow(swarm=swarm)\n",
    "    results = flow.run(tasks)"
   ]
  },
  {
   "cell_type": "markdown",
   "metadata": {},
   "source": [
    "## Choosing the best Config and best performance"
   ]
  },
  {
   "cell_type": "code",
   "execution_count": 43,
   "metadata": {},
   "outputs": [
    {
     "data": {
      "text/html": [
       "<pre style=\"white-space:pre;overflow-x:auto;line-height:normal;font-family:Menlo,'DejaVu Sans Mono',consolas,'Courier New',monospace\"><span style=\"font-weight: bold\">{</span>\n",
       "    <span style=\"color: #008000\">'DatasetFetchTask'</span>: <span style=\"font-weight: bold\">{}</span>,\n",
       "    <span style=\"color: #008000\">'PreProcessTask'</span>: <span style=\"font-weight: bold\">{</span><span style=\"color: #008000\">'pre_processing_steps'</span>: <span style=\"font-weight: bold\">[[</span><span style=\"color: #008000\">'lower_case'</span>, <span style=\"color: #008000\">'remove_punct'</span><span style=\"font-weight: bold\">]]}</span>,\n",
       "    <span style=\"color: #008000\">'GloveFeaturizeTask'</span>: <span style=\"font-weight: bold\">{}</span>,\n",
       "    <span style=\"color: #008000\">'TFIDFFeaturizeTask'</span>: <span style=\"font-weight: bold\">{</span><span style=\"color: #008000\">'min_df'</span>: <span style=\"color: #000080; font-weight: bold\">5</span>, <span style=\"color: #008000\">'max_features'</span>: <span style=\"color: #000080; font-weight: bold\">1000</span><span style=\"font-weight: bold\">}</span>,\n",
       "    <span style=\"color: #008000\">'TrainTask'</span>: <span style=\"font-weight: bold\">{</span><span style=\"color: #008000\">'max_iter'</span>: <span style=\"color: #000080; font-weight: bold\">100</span>, <span style=\"color: #008000\">'balanced'</span>: <span style=\"color: #ff0000; font-style: italic\">False</span><span style=\"font-weight: bold\">}</span>,\n",
       "    <span style=\"color: #008000\">'EvaluateTask'</span>: <span style=\"font-weight: bold\">{}</span>\n",
       "<span style=\"font-weight: bold\">}</span>\n",
       "</pre>\n"
      ],
      "text/plain": [
       "<rich.jupyter.JupyterRenderable at 0x7f88c4856990>"
      ]
     },
     "metadata": {},
     "output_type": "display_data"
    },
    {
     "data": {
      "text/html": [
       "<pre style=\"white-space:pre;overflow-x:auto;line-height:normal;font-family:Menlo,'DejaVu Sans Mono',consolas,'Courier New',monospace\"><span style=\"font-weight: bold\">{</span>\n",
       "    <span style=\"color: #008000\">'classification_report'</span>: <span style=\"font-weight: bold\">{</span>\n",
       "        <span style=\"color: #008000\">'0'</span>: <span style=\"font-weight: bold\">{</span>\n",
       "            <span style=\"color: #008000\">'precision'</span>: <span style=\"color: #000080; font-weight: bold\">0.8543046357615894</span>,\n",
       "            <span style=\"color: #008000\">'recall'</span>: <span style=\"color: #000080; font-weight: bold\">0.9347826086956522</span>,\n",
       "            <span style=\"color: #008000\">'f1-score'</span>: <span style=\"color: #000080; font-weight: bold\">0.8927335640138409</span>,\n",
       "            <span style=\"color: #008000\">'support'</span>: <span style=\"color: #000080; font-weight: bold\">138</span>\n",
       "        <span style=\"font-weight: bold\">}</span>,\n",
       "        <span style=\"color: #008000\">'1'</span>: <span style=\"font-weight: bold\">{</span>\n",
       "            <span style=\"color: #008000\">'precision'</span>: <span style=\"color: #000080; font-weight: bold\">0.8192771084337349</span>,\n",
       "            <span style=\"color: #008000\">'recall'</span>: <span style=\"color: #000080; font-weight: bold\">0.723404255319149</span>,\n",
       "            <span style=\"color: #008000\">'f1-score'</span>: <span style=\"color: #000080; font-weight: bold\">0.768361581920904</span>,\n",
       "            <span style=\"color: #008000\">'support'</span>: <span style=\"color: #000080; font-weight: bold\">94</span>\n",
       "        <span style=\"font-weight: bold\">}</span>,\n",
       "        <span style=\"color: #008000\">'2'</span>: <span style=\"font-weight: bold\">{</span>\n",
       "            <span style=\"color: #008000\">'precision'</span>: <span style=\"color: #000080; font-weight: bold\">1.0</span>,\n",
       "            <span style=\"color: #008000\">'recall'</span>: <span style=\"color: #000080; font-weight: bold\">0.7777777777777778</span>,\n",
       "            <span style=\"color: #008000\">'f1-score'</span>: <span style=\"color: #000080; font-weight: bold\">0.8750000000000001</span>,\n",
       "            <span style=\"color: #008000\">'support'</span>: <span style=\"color: #000080; font-weight: bold\">9</span>\n",
       "        <span style=\"font-weight: bold\">}</span>,\n",
       "        <span style=\"color: #008000\">'3'</span>: <span style=\"font-weight: bold\">{</span>\n",
       "            <span style=\"color: #008000\">'precision'</span>: <span style=\"color: #000080; font-weight: bold\">0.9104477611940298</span>,\n",
       "            <span style=\"color: #008000\">'recall'</span>: <span style=\"color: #000080; font-weight: bold\">0.9384615384615385</span>,\n",
       "            <span style=\"color: #008000\">'f1-score'</span>: <span style=\"color: #000080; font-weight: bold\">0.9242424242424243</span>,\n",
       "            <span style=\"color: #008000\">'support'</span>: <span style=\"color: #000080; font-weight: bold\">65</span>\n",
       "        <span style=\"font-weight: bold\">}</span>,\n",
       "        <span style=\"color: #008000\">'4'</span>: <span style=\"font-weight: bold\">{</span>\n",
       "            <span style=\"color: #008000\">'precision'</span>: <span style=\"color: #000080; font-weight: bold\">0.9696969696969697</span>,\n",
       "            <span style=\"color: #008000\">'recall'</span>: <span style=\"color: #000080; font-weight: bold\">0.8495575221238938</span>,\n",
       "            <span style=\"color: #008000\">'f1-score'</span>: <span style=\"color: #000080; font-weight: bold\">0.9056603773584906</span>,\n",
       "            <span style=\"color: #008000\">'support'</span>: <span style=\"color: #000080; font-weight: bold\">113</span>\n",
       "        <span style=\"font-weight: bold\">}</span>,\n",
       "        <span style=\"color: #008000\">'5'</span>: <span style=\"font-weight: bold\">{</span>\n",
       "            <span style=\"color: #008000\">'precision'</span>: <span style=\"color: #000080; font-weight: bold\">0.8172043010752689</span>,\n",
       "            <span style=\"color: #008000\">'recall'</span>: <span style=\"color: #000080; font-weight: bold\">0.9382716049382716</span>,\n",
       "            <span style=\"color: #008000\">'f1-score'</span>: <span style=\"color: #000080; font-weight: bold\">0.8735632183908048</span>,\n",
       "            <span style=\"color: #008000\">'support'</span>: <span style=\"color: #000080; font-weight: bold\">81</span>\n",
       "        <span style=\"font-weight: bold\">}</span>,\n",
       "        <span style=\"color: #008000\">'accuracy'</span>: <span style=\"color: #000080; font-weight: bold\">0.874</span>,\n",
       "        <span style=\"color: #008000\">'macro avg'</span>: <span style=\"font-weight: bold\">{</span>\n",
       "            <span style=\"color: #008000\">'precision'</span>: <span style=\"color: #000080; font-weight: bold\">0.8951551293602655</span>,\n",
       "            <span style=\"color: #008000\">'recall'</span>: <span style=\"color: #000080; font-weight: bold\">0.8603758845527136</span>,\n",
       "            <span style=\"color: #008000\">'f1-score'</span>: <span style=\"color: #000080; font-weight: bold\">0.8732601943210775</span>,\n",
       "            <span style=\"color: #008000\">'support'</span>: <span style=\"color: #000080; font-weight: bold\">500</span>\n",
       "        <span style=\"font-weight: bold\">}</span>,\n",
       "        <span style=\"color: #008000\">'weighted avg'</span>: <span style=\"font-weight: bold\">{</span>\n",
       "            <span style=\"color: #008000\">'precision'</span>: <span style=\"color: #000080; font-weight: bold\">0.8777089967366734</span>,\n",
       "            <span style=\"color: #008000\">'recall'</span>: <span style=\"color: #000080; font-weight: bold\">0.874</span>,\n",
       "            <span style=\"color: #008000\">'f1-score'</span>: <span style=\"color: #000080; font-weight: bold\">0.8729444428827944</span>,\n",
       "            <span style=\"color: #008000\">'support'</span>: <span style=\"color: #000080; font-weight: bold\">500</span>\n",
       "        <span style=\"font-weight: bold\">}</span>\n",
       "    <span style=\"font-weight: bold\">}</span>\n",
       "<span style=\"font-weight: bold\">}</span>\n",
       "</pre>\n"
      ],
      "text/plain": [
       "<rich.jupyter.JupyterRenderable at 0x7f88c4748850>"
      ]
     },
     "metadata": {},
     "output_type": "display_data"
    }
   ],
   "source": [
    "print(results[\"ModelSelectionTask\"][\"result\"][\"best_config\"])\n",
    "print(results[\"ModelSelectionTask\"][\"result\"][\"best_performance\"][\"evaluation_results\"][\"test\"])"
   ]
  },
  {
   "cell_type": "markdown",
   "metadata": {},
   "source": [
    "Using this best config, one can get the corresponding model from TrainTask results."
   ]
  },
  {
   "cell_type": "code",
   "execution_count": 44,
   "metadata": {},
   "outputs": [
    {
     "data": {
      "text/html": [
       "<pre style=\"white-space:pre;overflow-x:auto;line-height:normal;font-family:Menlo,'DejaVu Sans Mono',consolas,'Courier New',monospace\"><span style=\"font-weight: bold\">[</span>\n",
       "    <span style=\"font-weight: bold\">{</span>\n",
       "        <span style=\"color: #008000\">'result'</span>: <span style=\"font-weight: bold\">{</span>\n",
       "            <span style=\"color: #008000\">'trained_model'</span>: LogisticRegression<span style=\"font-weight: bold\">(</span><span style=\"color: #808000\">class_weight</span>=<span style=\"color: #008000\">'balanced'</span>, <span style=\"color: #808000\">max_iter</span>=<span style=\"color: #000080; font-weight: bold\">50</span><span style=\"font-weight: bold\">)</span>\n",
       "        <span style=\"font-weight: bold\">}</span>,\n",
       "        <span style=\"color: #008000\">'config'</span>: <span style=\"font-weight: bold\">{</span>\n",
       "            <span style=\"color: #008000\">'DatasetFetchTask'</span>: <span style=\"font-weight: bold\">{}</span>,\n",
       "            <span style=\"color: #008000\">'PreProcessTask'</span>: <span style=\"font-weight: bold\">{</span><span style=\"color: #008000\">'pre_processing_steps'</span>: <span style=\"font-weight: bold\">[[</span><span style=\"color: #008000\">'lower_case'</span>, <span style=\"color: #008000\">'remove_punct'</span><span style=\"font-weight: bold\">]]}</span>,\n",
       "            <span style=\"color: #008000\">'GloveFeaturizeTask'</span>: <span style=\"font-weight: bold\">{}</span>,\n",
       "            <span style=\"color: #008000\">'TFIDFFeaturizeTask'</span>: <span style=\"font-weight: bold\">{</span><span style=\"color: #008000\">'min_df'</span>: <span style=\"color: #000080; font-weight: bold\">5</span>, <span style=\"color: #008000\">'max_features'</span>: <span style=\"color: #000080; font-weight: bold\">1000</span><span style=\"font-weight: bold\">}</span>,\n",
       "            <span style=\"color: #008000\">'TrainTask'</span>: <span style=\"font-weight: bold\">{</span><span style=\"color: #008000\">'max_iter'</span>: <span style=\"color: #000080; font-weight: bold\">50</span>, <span style=\"color: #008000\">'balanced'</span>: <span style=\"color: #00ff00; font-style: italic\">True</span><span style=\"font-weight: bold\">}</span>\n",
       "        <span style=\"font-weight: bold\">}</span>\n",
       "    <span style=\"font-weight: bold\">}</span>,\n",
       "    <span style=\"font-weight: bold\">{</span>\n",
       "        <span style=\"color: #008000\">'result'</span>: <span style=\"font-weight: bold\">{</span><span style=\"color: #008000\">'trained_model'</span>: LogisticRegression<span style=\"font-weight: bold\">(</span><span style=\"color: #808000\">max_iter</span>=<span style=\"color: #000080; font-weight: bold\">50</span><span style=\"font-weight: bold\">)}</span>,\n",
       "        <span style=\"color: #008000\">'config'</span>: <span style=\"font-weight: bold\">{</span>\n",
       "            <span style=\"color: #008000\">'DatasetFetchTask'</span>: <span style=\"font-weight: bold\">{}</span>,\n",
       "            <span style=\"color: #008000\">'PreProcessTask'</span>: <span style=\"font-weight: bold\">{</span><span style=\"color: #008000\">'pre_processing_steps'</span>: <span style=\"font-weight: bold\">[[</span><span style=\"color: #008000\">'lower_case'</span>, <span style=\"color: #008000\">'remove_punct'</span><span style=\"font-weight: bold\">]]}</span>,\n",
       "            <span style=\"color: #008000\">'GloveFeaturizeTask'</span>: <span style=\"font-weight: bold\">{}</span>,\n",
       "            <span style=\"color: #008000\">'TFIDFFeaturizeTask'</span>: <span style=\"font-weight: bold\">{</span><span style=\"color: #008000\">'min_df'</span>: <span style=\"color: #000080; font-weight: bold\">5</span>, <span style=\"color: #008000\">'max_features'</span>: <span style=\"color: #000080; font-weight: bold\">1000</span><span style=\"font-weight: bold\">}</span>,\n",
       "            <span style=\"color: #008000\">'TrainTask'</span>: <span style=\"font-weight: bold\">{</span><span style=\"color: #008000\">'max_iter'</span>: <span style=\"color: #000080; font-weight: bold\">50</span>, <span style=\"color: #008000\">'balanced'</span>: <span style=\"color: #ff0000; font-style: italic\">False</span><span style=\"font-weight: bold\">}</span>\n",
       "        <span style=\"font-weight: bold\">}</span>\n",
       "    <span style=\"font-weight: bold\">}</span>,\n",
       "    <span style=\"font-weight: bold\">{</span>\n",
       "        <span style=\"color: #008000\">'result'</span>: <span style=\"font-weight: bold\">{</span><span style=\"color: #008000\">'trained_model'</span>: LogisticRegression<span style=\"font-weight: bold\">(</span><span style=\"color: #808000\">class_weight</span>=<span style=\"color: #008000\">'balanced'</span><span style=\"font-weight: bold\">)}</span>,\n",
       "        <span style=\"color: #008000\">'config'</span>: <span style=\"font-weight: bold\">{</span>\n",
       "            <span style=\"color: #008000\">'DatasetFetchTask'</span>: <span style=\"font-weight: bold\">{}</span>,\n",
       "            <span style=\"color: #008000\">'PreProcessTask'</span>: <span style=\"font-weight: bold\">{</span><span style=\"color: #008000\">'pre_processing_steps'</span>: <span style=\"font-weight: bold\">[[</span><span style=\"color: #008000\">'lower_case'</span>, <span style=\"color: #008000\">'remove_punct'</span><span style=\"font-weight: bold\">]]}</span>,\n",
       "            <span style=\"color: #008000\">'GloveFeaturizeTask'</span>: <span style=\"font-weight: bold\">{}</span>,\n",
       "            <span style=\"color: #008000\">'TFIDFFeaturizeTask'</span>: <span style=\"font-weight: bold\">{</span><span style=\"color: #008000\">'min_df'</span>: <span style=\"color: #000080; font-weight: bold\">5</span>, <span style=\"color: #008000\">'max_features'</span>: <span style=\"color: #000080; font-weight: bold\">1000</span><span style=\"font-weight: bold\">}</span>,\n",
       "            <span style=\"color: #008000\">'TrainTask'</span>: <span style=\"font-weight: bold\">{</span><span style=\"color: #008000\">'max_iter'</span>: <span style=\"color: #000080; font-weight: bold\">100</span>, <span style=\"color: #008000\">'balanced'</span>: <span style=\"color: #00ff00; font-style: italic\">True</span><span style=\"font-weight: bold\">}</span>\n",
       "        <span style=\"font-weight: bold\">}</span>\n",
       "    <span style=\"font-weight: bold\">}</span>,\n",
       "    <span style=\"font-weight: bold\">{</span>\n",
       "        <span style=\"color: #008000\">'result'</span>: <span style=\"font-weight: bold\">{</span><span style=\"color: #008000\">'trained_model'</span>: LogisticRegression<span style=\"font-weight: bold\">()}</span>,\n",
       "        <span style=\"color: #008000\">'config'</span>: <span style=\"font-weight: bold\">{</span>\n",
       "            <span style=\"color: #008000\">'DatasetFetchTask'</span>: <span style=\"font-weight: bold\">{}</span>,\n",
       "            <span style=\"color: #008000\">'PreProcessTask'</span>: <span style=\"font-weight: bold\">{</span><span style=\"color: #008000\">'pre_processing_steps'</span>: <span style=\"font-weight: bold\">[[</span><span style=\"color: #008000\">'lower_case'</span>, <span style=\"color: #008000\">'remove_punct'</span><span style=\"font-weight: bold\">]]}</span>,\n",
       "            <span style=\"color: #008000\">'GloveFeaturizeTask'</span>: <span style=\"font-weight: bold\">{}</span>,\n",
       "            <span style=\"color: #008000\">'TFIDFFeaturizeTask'</span>: <span style=\"font-weight: bold\">{</span><span style=\"color: #008000\">'min_df'</span>: <span style=\"color: #000080; font-weight: bold\">5</span>, <span style=\"color: #008000\">'max_features'</span>: <span style=\"color: #000080; font-weight: bold\">1000</span><span style=\"font-weight: bold\">}</span>,\n",
       "            <span style=\"color: #008000\">'TrainTask'</span>: <span style=\"font-weight: bold\">{</span><span style=\"color: #008000\">'max_iter'</span>: <span style=\"color: #000080; font-weight: bold\">100</span>, <span style=\"color: #008000\">'balanced'</span>: <span style=\"color: #ff0000; font-style: italic\">False</span><span style=\"font-weight: bold\">}</span>\n",
       "        <span style=\"font-weight: bold\">}</span>\n",
       "    <span style=\"font-weight: bold\">}</span>,\n",
       "    <span style=\"font-weight: bold\">{</span>\n",
       "        <span style=\"color: #008000\">'result'</span>: <span style=\"font-weight: bold\">{</span>\n",
       "            <span style=\"color: #008000\">'trained_model'</span>: LogisticRegression<span style=\"font-weight: bold\">(</span><span style=\"color: #808000\">class_weight</span>=<span style=\"color: #008000\">'balanced'</span>, <span style=\"color: #808000\">max_iter</span>=<span style=\"color: #000080; font-weight: bold\">50</span><span style=\"font-weight: bold\">)</span>\n",
       "        <span style=\"font-weight: bold\">}</span>,\n",
       "        <span style=\"color: #008000\">'config'</span>: <span style=\"font-weight: bold\">{</span>\n",
       "            <span style=\"color: #008000\">'DatasetFetchTask'</span>: <span style=\"font-weight: bold\">{}</span>,\n",
       "            <span style=\"color: #008000\">'PreProcessTask'</span>: <span style=\"font-weight: bold\">{</span><span style=\"color: #008000\">'pre_processing_steps'</span>: <span style=\"font-weight: bold\">[[</span><span style=\"color: #008000\">'lower_case'</span>, <span style=\"color: #008000\">'remove_punct'</span><span style=\"font-weight: bold\">]]}</span>,\n",
       "            <span style=\"color: #008000\">'GloveFeaturizeTask'</span>: <span style=\"font-weight: bold\">{}</span>,\n",
       "            <span style=\"color: #008000\">'TFIDFFeaturizeTask'</span>: <span style=\"font-weight: bold\">{</span><span style=\"color: #008000\">'min_df'</span>: <span style=\"color: #000080; font-weight: bold\">5</span>, <span style=\"color: #008000\">'max_features'</span>: <span style=\"color: #000080; font-weight: bold\">2000</span><span style=\"font-weight: bold\">}</span>,\n",
       "            <span style=\"color: #008000\">'TrainTask'</span>: <span style=\"font-weight: bold\">{</span><span style=\"color: #008000\">'max_iter'</span>: <span style=\"color: #000080; font-weight: bold\">50</span>, <span style=\"color: #008000\">'balanced'</span>: <span style=\"color: #00ff00; font-style: italic\">True</span><span style=\"font-weight: bold\">}</span>\n",
       "        <span style=\"font-weight: bold\">}</span>\n",
       "    <span style=\"font-weight: bold\">}</span>,\n",
       "    <span style=\"font-weight: bold\">{</span>\n",
       "        <span style=\"color: #008000\">'result'</span>: <span style=\"font-weight: bold\">{</span><span style=\"color: #008000\">'trained_model'</span>: LogisticRegression<span style=\"font-weight: bold\">(</span><span style=\"color: #808000\">max_iter</span>=<span style=\"color: #000080; font-weight: bold\">50</span><span style=\"font-weight: bold\">)}</span>,\n",
       "        <span style=\"color: #008000\">'config'</span>: <span style=\"font-weight: bold\">{</span>\n",
       "            <span style=\"color: #008000\">'DatasetFetchTask'</span>: <span style=\"font-weight: bold\">{}</span>,\n",
       "            <span style=\"color: #008000\">'PreProcessTask'</span>: <span style=\"font-weight: bold\">{</span><span style=\"color: #008000\">'pre_processing_steps'</span>: <span style=\"font-weight: bold\">[[</span><span style=\"color: #008000\">'lower_case'</span>, <span style=\"color: #008000\">'remove_punct'</span><span style=\"font-weight: bold\">]]}</span>,\n",
       "            <span style=\"color: #008000\">'GloveFeaturizeTask'</span>: <span style=\"font-weight: bold\">{}</span>,\n",
       "            <span style=\"color: #008000\">'TFIDFFeaturizeTask'</span>: <span style=\"font-weight: bold\">{</span><span style=\"color: #008000\">'min_df'</span>: <span style=\"color: #000080; font-weight: bold\">5</span>, <span style=\"color: #008000\">'max_features'</span>: <span style=\"color: #000080; font-weight: bold\">2000</span><span style=\"font-weight: bold\">}</span>,\n",
       "            <span style=\"color: #008000\">'TrainTask'</span>: <span style=\"font-weight: bold\">{</span><span style=\"color: #008000\">'max_iter'</span>: <span style=\"color: #000080; font-weight: bold\">50</span>, <span style=\"color: #008000\">'balanced'</span>: <span style=\"color: #ff0000; font-style: italic\">False</span><span style=\"font-weight: bold\">}</span>\n",
       "        <span style=\"font-weight: bold\">}</span>\n",
       "    <span style=\"font-weight: bold\">}</span>,\n",
       "    <span style=\"font-weight: bold\">{</span>\n",
       "        <span style=\"color: #008000\">'result'</span>: <span style=\"font-weight: bold\">{</span><span style=\"color: #008000\">'trained_model'</span>: LogisticRegression<span style=\"font-weight: bold\">(</span><span style=\"color: #808000\">class_weight</span>=<span style=\"color: #008000\">'balanced'</span><span style=\"font-weight: bold\">)}</span>,\n",
       "        <span style=\"color: #008000\">'config'</span>: <span style=\"font-weight: bold\">{</span>\n",
       "            <span style=\"color: #008000\">'DatasetFetchTask'</span>: <span style=\"font-weight: bold\">{}</span>,\n",
       "            <span style=\"color: #008000\">'PreProcessTask'</span>: <span style=\"font-weight: bold\">{</span><span style=\"color: #008000\">'pre_processing_steps'</span>: <span style=\"font-weight: bold\">[[</span><span style=\"color: #008000\">'lower_case'</span>, <span style=\"color: #008000\">'remove_punct'</span><span style=\"font-weight: bold\">]]}</span>,\n",
       "            <span style=\"color: #008000\">'GloveFeaturizeTask'</span>: <span style=\"font-weight: bold\">{}</span>,\n",
       "            <span style=\"color: #008000\">'TFIDFFeaturizeTask'</span>: <span style=\"font-weight: bold\">{</span><span style=\"color: #008000\">'min_df'</span>: <span style=\"color: #000080; font-weight: bold\">5</span>, <span style=\"color: #008000\">'max_features'</span>: <span style=\"color: #000080; font-weight: bold\">2000</span><span style=\"font-weight: bold\">}</span>,\n",
       "            <span style=\"color: #008000\">'TrainTask'</span>: <span style=\"font-weight: bold\">{</span><span style=\"color: #008000\">'max_iter'</span>: <span style=\"color: #000080; font-weight: bold\">100</span>, <span style=\"color: #008000\">'balanced'</span>: <span style=\"color: #00ff00; font-style: italic\">True</span><span style=\"font-weight: bold\">}</span>\n",
       "        <span style=\"font-weight: bold\">}</span>\n",
       "    <span style=\"font-weight: bold\">}</span>,\n",
       "    <span style=\"font-weight: bold\">{</span>\n",
       "        <span style=\"color: #008000\">'result'</span>: <span style=\"font-weight: bold\">{</span><span style=\"color: #008000\">'trained_model'</span>: LogisticRegression<span style=\"font-weight: bold\">()}</span>,\n",
       "        <span style=\"color: #008000\">'config'</span>: <span style=\"font-weight: bold\">{</span>\n",
       "            <span style=\"color: #008000\">'DatasetFetchTask'</span>: <span style=\"font-weight: bold\">{}</span>,\n",
       "            <span style=\"color: #008000\">'PreProcessTask'</span>: <span style=\"font-weight: bold\">{</span><span style=\"color: #008000\">'pre_processing_steps'</span>: <span style=\"font-weight: bold\">[[</span><span style=\"color: #008000\">'lower_case'</span>, <span style=\"color: #008000\">'remove_punct'</span><span style=\"font-weight: bold\">]]}</span>,\n",
       "            <span style=\"color: #008000\">'GloveFeaturizeTask'</span>: <span style=\"font-weight: bold\">{}</span>,\n",
       "            <span style=\"color: #008000\">'TFIDFFeaturizeTask'</span>: <span style=\"font-weight: bold\">{</span><span style=\"color: #008000\">'min_df'</span>: <span style=\"color: #000080; font-weight: bold\">5</span>, <span style=\"color: #008000\">'max_features'</span>: <span style=\"color: #000080; font-weight: bold\">2000</span><span style=\"font-weight: bold\">}</span>,\n",
       "            <span style=\"color: #008000\">'TrainTask'</span>: <span style=\"font-weight: bold\">{</span><span style=\"color: #008000\">'max_iter'</span>: <span style=\"color: #000080; font-weight: bold\">100</span>, <span style=\"color: #008000\">'balanced'</span>: <span style=\"color: #ff0000; font-style: italic\">False</span><span style=\"font-weight: bold\">}</span>\n",
       "        <span style=\"font-weight: bold\">}</span>\n",
       "    <span style=\"font-weight: bold\">}</span>\n",
       "<span style=\"font-weight: bold\">]</span>\n",
       "</pre>\n"
      ],
      "text/plain": [
       "<rich.jupyter.JupyterRenderable at 0x7f88c486ae50>"
      ]
     },
     "metadata": {},
     "output_type": "display_data"
    }
   ],
   "source": [
    "print(results[\"TrainTask\"])"
   ]
  },
  {
   "cell_type": "markdown",
   "metadata": {},
   "source": [
    "<center><img src=\"https://raw.githubusercontent.com/fluidml/fluidml/main/logo/fluid_ml_logo.png\" width=500 height=500 /></center>"
   ]
  }
 ],
 "metadata": {
  "kernelspec": {
   "display_name": "Python 3",
   "language": "python",
   "name": "python3"
  },
  "language_info": {
   "codemirror_mode": {
    "name": "ipython",
    "version": 3
   },
   "file_extension": ".py",
   "mimetype": "text/x-python",
   "name": "python",
   "nbconvert_exporter": "python",
   "pygments_lexer": "ipython3",
   "version": "3.7.9"
  }
 },
 "nbformat": 4,
 "nbformat_minor": 4
}
